{
 "cells": [
  {
   "cell_type": "code",
   "execution_count": 55,
   "id": "66b73387",
   "metadata": {},
   "outputs": [],
   "source": [
    "import requests\n",
    "import os\n",
    "from selenium import webdriver\n",
    "from bs4 import BeautifulSoup\n",
    "import pandas as pd\n",
    "import time\n",
    "import pickle"
   ]
  },
  {
   "cell_type": "code",
   "execution_count": 3,
   "id": "a4f2e721",
   "metadata": {},
   "outputs": [],
   "source": [
    "chromedriver_path = r'/home/gabriel/Downloads/chromedriver_linux64_98/chromedriver'\n",
    "driver = webdriver.Chrome(chromedriver_path)"
   ]
  },
  {
   "cell_type": "code",
   "execution_count": 7,
   "id": "c9fae56f",
   "metadata": {},
   "outputs": [],
   "source": [
    "cats = pd.read_csv(os.getcwd()+'/.csv/new_category_sample.csv') # DataFrame Informativo das categorias"
   ]
  },
  {
   "cell_type": "code",
   "execution_count": null,
   "id": "73b34992",
   "metadata": {},
   "outputs": [],
   "source": []
  },
  {
   "cell_type": "code",
   "execution_count": 9,
   "id": "e77bd939",
   "metadata": {},
   "outputs": [
    {
     "name": "stdout",
     "output_type": "stream",
     "text": [
      "steamers\n",
      "Ice Cream Makers\n",
      "Ice Cream Makers\n",
      "Home page\n",
      "Home page\n",
      "Home page\n",
      "Hoods\n",
      "kettle\n",
      "kettle\n",
      "Books & Audio Books\n"
     ]
    }
   ],
   "source": [
    "for i in cats.Translate[:10]:\n",
    "    print(i)"
   ]
  },
  {
   "cell_type": "code",
   "execution_count": 35,
   "id": "0e91aecb",
   "metadata": {},
   "outputs": [],
   "source": [
    "lista = []\n",
    "driver = webdriver.Chrome(chromedriver_path)\n",
    "for cat in cats.Translate.unique():\n",
    "    search_url = 'https://www.google.com.br/search?q='+cat+' product item'+'&tbm=isch&ved=2ahUKEwjLponF-JH2AhVTOLkGHSoQDNYQ2-cCegQIABAA&oq=abc&gs_lcp=CgNpbWcQAzIICAAQgAQQsQMyCAgAEIAEELEDMggIABCABBCxAzIICAAQgAQQsQMyBQgAEIAEMggIABCABBCxAzIICAAQgAQQsQMyBQgAEIAEMgUIABCABDILCAAQgAQQsQMQgwE6BwgjEO8DECc6BggAEAcQHjoGCAAQCBAeOggIABCxAxCDAToECAAQQ1CVI1ilJWCpJ2gAcAB4AIABigGIAe0DkgEDMC40mAEAoAEBqgELZ3dzLXdpei1pbWfAAQE&sclient=img&ei=Kx8UYovlMdPw5OUPqqCwsA0&bih=602&biw=1294'\n",
    "    driver.get(search_url)\n",
    "    driver.execute_script(\"window.scrollTo(0,0);\")\n",
    "    image_element = driver.find_element_by_xpath('//*[@id=\"islrg\"]/div[1]/div[1]/a[1]/div[1]/img')\n",
    "    previewing = image_element.get_attribute(\"src\")\n",
    "    time.sleep(2)\n",
    "    lista.append(previewing)\n",
    "\n",
    "# page_html = driver.page_source\n",
    "# pageSoup = BeautifulSoup(page_html, 'html_parser')\n",
    "\n",
    "# containers = pageSoup.findAll('div', {'class':'isv-r PNCib MSM1fd BUooTd'})\n",
    "\n",
    "# len_containers = len(container)"
   ]
  },
  {
   "cell_type": "code",
   "execution_count": 36,
   "id": "195c83e9",
   "metadata": {},
   "outputs": [],
   "source": [
    "cat_imgs = pd.DataFrame(zip(cats.Translate.unique(),lista), columns = ['Category','IMG'])"
   ]
  },
  {
   "cell_type": "code",
   "execution_count": 46,
   "id": "e344b9be",
   "metadata": {},
   "outputs": [],
   "source": [
    "cat_imgs['CatCode'] = cat_imgs.Category.map(dict(zip(cats.Translate, cats.Category)))"
   ]
  },
  {
   "cell_type": "code",
   "execution_count": 39,
   "id": "2d69a1ce",
   "metadata": {},
   "outputs": [],
   "source": [
    "cats['img'] = cats.Translate.map(dict(zip(cat_imgs.Category, cat_imgs.IMG)))"
   ]
  },
  {
   "cell_type": "code",
   "execution_count": 42,
   "id": "c730fdb2",
   "metadata": {
    "scrolled": true
   },
   "outputs": [
    {
     "data": {
      "text/html": [
       "<div>\n",
       "<style scoped>\n",
       "    .dataframe tbody tr th:only-of-type {\n",
       "        vertical-align: middle;\n",
       "    }\n",
       "\n",
       "    .dataframe tbody tr th {\n",
       "        vertical-align: top;\n",
       "    }\n",
       "\n",
       "    .dataframe thead th {\n",
       "        text-align: right;\n",
       "    }\n",
       "</style>\n",
       "<table border=\"1\" class=\"dataframe\">\n",
       "  <thead>\n",
       "    <tr style=\"text-align: right;\">\n",
       "      <th></th>\n",
       "      <th>Category</th>\n",
       "      <th>Category_Name</th>\n",
       "      <th>Country</th>\n",
       "      <th>Translate</th>\n",
       "      <th>Img</th>\n",
       "      <th>Ancestor_ID</th>\n",
       "      <th>filha_1</th>\n",
       "      <th>filha_1_name</th>\n",
       "    </tr>\n",
       "  </thead>\n",
       "  <tbody>\n",
       "    <tr>\n",
       "      <th>0</th>\n",
       "      <td>113</td>\n",
       "      <td>Vaporiere</td>\n",
       "      <td>it</td>\n",
       "      <td>steamers</td>\n",
       "      <td>data:image/jpeg;base64,/9j/4AAQSkZJRgABAQAAAQA...</td>\n",
       "      <td>113 100288923 144601 601</td>\n",
       "      <td>144601.0</td>\n",
       "      <td>Home appliances</td>\n",
       "    </tr>\n",
       "    <tr>\n",
       "      <th>1</th>\n",
       "      <td>313</td>\n",
       "      <td>Gelatiere</td>\n",
       "      <td>it</td>\n",
       "      <td>Ice Cream Makers</td>\n",
       "      <td>data:image/jpeg;base64,/9j/4AAQSkZJRgABAQAAAQA...</td>\n",
       "      <td>313 100288923 144601 601</td>\n",
       "      <td>144601.0</td>\n",
       "      <td>Home appliances</td>\n",
       "    </tr>\n",
       "    <tr>\n",
       "      <th>2</th>\n",
       "      <td>313</td>\n",
       "      <td>Sorbetière &amp; Glacier</td>\n",
       "      <td>fr</td>\n",
       "      <td>Ice Cream Makers</td>\n",
       "      <td>data:image/jpeg;base64,/9j/4AAQSkZJRgABAQAAAQA...</td>\n",
       "      <td>313 100324923 144601 601</td>\n",
       "      <td>144601.0</td>\n",
       "      <td>Home appliances</td>\n",
       "    </tr>\n",
       "    <tr>\n",
       "      <th>3</th>\n",
       "      <td>601</td>\n",
       "      <td>Home Page</td>\n",
       "      <td>it</td>\n",
       "      <td>Home page</td>\n",
       "      <td>data:image/jpeg;base64,/9j/4AAQSkZJRgABAQAAAQA...</td>\n",
       "      <td>601</td>\n",
       "      <td>NaN</td>\n",
       "      <td>NaN</td>\n",
       "    </tr>\n",
       "    <tr>\n",
       "      <th>4</th>\n",
       "      <td>601</td>\n",
       "      <td>Home Page</td>\n",
       "      <td>fr</td>\n",
       "      <td>Home page</td>\n",
       "      <td>data:image/jpeg;base64,/9j/4AAQSkZJRgABAQAAAQA...</td>\n",
       "      <td>601</td>\n",
       "      <td>NaN</td>\n",
       "      <td>NaN</td>\n",
       "    </tr>\n",
       "    <tr>\n",
       "      <th>...</th>\n",
       "      <td>...</td>\n",
       "      <td>...</td>\n",
       "      <td>...</td>\n",
       "      <td>...</td>\n",
       "      <td>...</td>\n",
       "      <td>...</td>\n",
       "      <td>...</td>\n",
       "      <td>...</td>\n",
       "    </tr>\n",
       "    <tr>\n",
       "      <th>1020</th>\n",
       "      <td>100570713</td>\n",
       "      <td>Montre connectée</td>\n",
       "      <td>fr</td>\n",
       "      <td>Smartwatch</td>\n",
       "      <td>data:image/jpeg;base64,/9j/4AAQSkZJRgABAQAAAQA...</td>\n",
       "      <td>100570713 100010713 125301 601</td>\n",
       "      <td>125301.0</td>\n",
       "      <td>Cellphone</td>\n",
       "    </tr>\n",
       "    <tr>\n",
       "      <th>1021</th>\n",
       "      <td>100570713</td>\n",
       "      <td>Smartwatches</td>\n",
       "      <td>de</td>\n",
       "      <td>Smartwatch</td>\n",
       "      <td>data:image/jpeg;base64,/9j/4AAQSkZJRgABAQAAAQA...</td>\n",
       "      <td>100570713 125301 601</td>\n",
       "      <td>125301.0</td>\n",
       "      <td>Cellphone</td>\n",
       "    </tr>\n",
       "    <tr>\n",
       "      <th>1022</th>\n",
       "      <td>100572513</td>\n",
       "      <td>Abbigliamento Sportivo per Bambini</td>\n",
       "      <td>it</td>\n",
       "      <td>Children Sportswear</td>\n",
       "      <td>https://encrypted-tbn0.gstatic.com/images?q=tb...</td>\n",
       "      <td>100572513 164701 163601 601</td>\n",
       "      <td>163601.0</td>\n",
       "      <td>Sports and Fitness</td>\n",
       "    </tr>\n",
       "    <tr>\n",
       "      <th>1023</th>\n",
       "      <td>100572513</td>\n",
       "      <td>Vêtement de sport Enfant</td>\n",
       "      <td>fr</td>\n",
       "      <td>Children Sportswear</td>\n",
       "      <td>https://encrypted-tbn0.gstatic.com/images?q=tb...</td>\n",
       "      <td>100572513 100303423 107301 601</td>\n",
       "      <td>107301.0</td>\n",
       "      <td>Fashion and Accessories</td>\n",
       "    </tr>\n",
       "    <tr>\n",
       "      <th>1024</th>\n",
       "      <td>100572513</td>\n",
       "      <td>Sportbekleidung Kinder</td>\n",
       "      <td>de</td>\n",
       "      <td>Children Sportswear</td>\n",
       "      <td>https://encrypted-tbn0.gstatic.com/images?q=tb...</td>\n",
       "      <td>100572513 164701 163601 601</td>\n",
       "      <td>163601.0</td>\n",
       "      <td>Sports and Fitness</td>\n",
       "    </tr>\n",
       "  </tbody>\n",
       "</table>\n",
       "<p>1025 rows × 8 columns</p>\n",
       "</div>"
      ],
      "text/plain": [
       "       Category                       Category_Name Country  \\\n",
       "0           113                           Vaporiere      it   \n",
       "1           313                           Gelatiere      it   \n",
       "2           313                Sorbetière & Glacier      fr   \n",
       "3           601                           Home Page      it   \n",
       "4           601                           Home Page      fr   \n",
       "...         ...                                 ...     ...   \n",
       "1020  100570713                    Montre connectée      fr   \n",
       "1021  100570713                        Smartwatches      de   \n",
       "1022  100572513  Abbigliamento Sportivo per Bambini      it   \n",
       "1023  100572513            Vêtement de sport Enfant      fr   \n",
       "1024  100572513              Sportbekleidung Kinder      de   \n",
       "\n",
       "                Translate                                                Img  \\\n",
       "0                steamers  data:image/jpeg;base64,/9j/4AAQSkZJRgABAQAAAQA...   \n",
       "1        Ice Cream Makers  data:image/jpeg;base64,/9j/4AAQSkZJRgABAQAAAQA...   \n",
       "2        Ice Cream Makers  data:image/jpeg;base64,/9j/4AAQSkZJRgABAQAAAQA...   \n",
       "3               Home page  data:image/jpeg;base64,/9j/4AAQSkZJRgABAQAAAQA...   \n",
       "4               Home page  data:image/jpeg;base64,/9j/4AAQSkZJRgABAQAAAQA...   \n",
       "...                   ...                                                ...   \n",
       "1020           Smartwatch  data:image/jpeg;base64,/9j/4AAQSkZJRgABAQAAAQA...   \n",
       "1021           Smartwatch  data:image/jpeg;base64,/9j/4AAQSkZJRgABAQAAAQA...   \n",
       "1022  Children Sportswear  https://encrypted-tbn0.gstatic.com/images?q=tb...   \n",
       "1023  Children Sportswear  https://encrypted-tbn0.gstatic.com/images?q=tb...   \n",
       "1024  Children Sportswear  https://encrypted-tbn0.gstatic.com/images?q=tb...   \n",
       "\n",
       "                         Ancestor_ID   filha_1             filha_1_name  \n",
       "0           113 100288923 144601 601  144601.0          Home appliances  \n",
       "1           313 100288923 144601 601  144601.0          Home appliances  \n",
       "2           313 100324923 144601 601  144601.0          Home appliances  \n",
       "3                                601       NaN                      NaN  \n",
       "4                                601       NaN                      NaN  \n",
       "...                              ...       ...                      ...  \n",
       "1020  100570713 100010713 125301 601  125301.0                Cellphone  \n",
       "1021            100570713 125301 601  125301.0                Cellphone  \n",
       "1022     100572513 164701 163601 601  163601.0       Sports and Fitness  \n",
       "1023  100572513 100303423 107301 601  107301.0  Fashion and Accessories  \n",
       "1024     100572513 164701 163601 601  163601.0       Sports and Fitness  \n",
       "\n",
       "[1025 rows x 8 columns]"
      ]
     },
     "execution_count": 42,
     "metadata": {},
     "output_type": "execute_result"
    }
   ],
   "source": [
    "cats.rename({'IMG_SRC':'Img'}, axis = 1)"
   ]
  },
  {
   "cell_type": "code",
   "execution_count": 47,
   "id": "8871e2ee",
   "metadata": {},
   "outputs": [],
   "source": [
    "cat_imgs = cat_imgs[['CatCode','Category','IMG']]"
   ]
  },
  {
   "cell_type": "code",
   "execution_count": 50,
   "id": "ec99052b",
   "metadata": {},
   "outputs": [],
   "source": [
    "cats.to_csv('.csv/new_category_sample.csv')"
   ]
  },
  {
   "cell_type": "code",
   "execution_count": 56,
   "id": "bad3250a",
   "metadata": {},
   "outputs": [],
   "source": [
    "cat_img = dict(zip(cat_imgs.CatCode, cat_imgs.IMG))\n",
    "pickle.dump(cat_img, open('.pkl/cat_img.pkl','wb'))"
   ]
  },
  {
   "cell_type": "code",
   "execution_count": null,
   "id": "f38d585b",
   "metadata": {},
   "outputs": [],
   "source": []
  }
 ],
 "metadata": {
  "kernelspec": {
   "display_name": "Python 3",
   "language": "python",
   "name": "python3"
  },
  "language_info": {
   "codemirror_mode": {
    "name": "ipython",
    "version": 3
   },
   "file_extension": ".py",
   "mimetype": "text/x-python",
   "name": "python",
   "nbconvert_exporter": "python",
   "pygments_lexer": "ipython3",
   "version": "3.9.7"
  }
 },
 "nbformat": 4,
 "nbformat_minor": 5
}
