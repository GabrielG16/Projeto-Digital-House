{
 "cells": [
  {
   "cell_type": "code",
   "execution_count": 109,
   "id": "abce8da2-042b-4257-ad8f-d3c8ff8ccfd3",
   "metadata": {},
   "outputs": [],
   "source": [
    "#IMPORT DE BIBLIOTECAS\n",
    "\n",
    "import pandas as pd\n",
    "import numpy as np\n",
    "\n",
    "from matplotlib import pyplot as plt\n",
    "import seaborn as sns\n",
    "\n",
    "from surprise import Dataset, Reader, SVD\n",
    "from surprise.model_selection import train_test_split, cross_validate\n",
    "from surprise import accuracy\n",
    "from surprise.model_selection import cross_validate\n",
    "\n",
    "from sklearn.decomposition import TruncatedSVD\n",
    "import os"
   ]
  },
  {
   "cell_type": "code",
   "execution_count": 8,
   "id": "58844832-bd7b-4464-8dbe-4352f105e9a4",
   "metadata": {},
   "outputs": [],
   "source": [
    "df_de_cat = pd.read_csv('category_de.txt') # DataFrame Informativo das categorias"
   ]
  },
  {
   "cell_type": "code",
   "execution_count": 3,
   "id": "421a7483-741a-4482-b0b1-8bc150693e80",
   "metadata": {},
   "outputs": [],
   "source": [
    "clicks_de = pd.read_csv('clicks_de_sample_2.txt', sep = ',', header=0) # df de clicks"
   ]
  },
  {
   "cell_type": "code",
   "execution_count": 4,
   "id": "0a6b411c-20f2-4a5a-8570-f7998ec15d59",
   "metadata": {},
   "outputs": [],
   "source": [
    "# CRIAÇÃO DE COLUNA DE CLICKS POR CATEGORIA\n",
    "clicks_de.drop(columns = ['Keywords'], axis = 1, inplace=True)\n",
    "#clicks_de['Category'] = clicks_de['Category'].astype(str)\n",
    "\n",
    "pontuacao_de = pd.DataFrame(clicks_de['Category'].value_counts()).reset_index()\n",
    "pontuacao_de.columns = ['Category', 'Pontuacao']\n",
    "dici = dict(zip(pontuacao_de.Category, pontuacao_de.Pontuacao))\n",
    "\n",
    "clicks_de['Cat_clicks'] = clicks_de['Category'].map(dici)\n",
    "clicks_de.sort_values(by='Cat_clicks', inplace = True)"
   ]
  },
  {
   "cell_type": "code",
   "execution_count": 5,
   "id": "c93d80f0-eaad-4cc0-ab0b-b110f47486c6",
   "metadata": {},
   "outputs": [],
   "source": [
    "## RENOMEANDO OFERTAS E USUÁRIOS\n",
    "clicks_de['#User'] = clicks_de['UserId'].map(dict(zip(clicks_de['UserId'].unique(), \n",
    "                                                                        range(len(clicks_de['UserId']))))) # Redefinindo indices para usuário apenas como numérico\n",
    "\n",
    "clicks_de['#Offer'] = clicks_de['OfferTitle'].map(dict(zip(clicks_de['OfferTitle'].unique(), \n",
    "                                                                        range(len(clicks_de['OfferTitle']))))) #  Redefinindo indices para ofertas apenas como numérico considerando o OfferTitle"
   ]
  },
  {
   "cell_type": "code",
   "execution_count": 9,
   "id": "cae41f70-ba9e-4df6-8487-7e9ef8925640",
   "metadata": {},
   "outputs": [],
   "source": [
    "clicks_de = clicks_de.merge(df_de_cat, left_on = 'Category', right_on = 'ID').drop('ID', axis = 1) "
   ]
  },
  {
   "cell_type": "code",
   "execution_count": 16,
   "id": "3dda34bf-f6e6-4e17-a06f-b2064620739c",
   "metadata": {},
   "outputs": [],
   "source": [
    "abc = clicks_de.groupby(by=['UserId','OfferId']).count()[['Name']].reset_index()"
   ]
  },
  {
   "cell_type": "code",
   "execution_count": 19,
   "id": "af43602a-b604-4f6a-bab0-a31a6fb6b7d5",
   "metadata": {},
   "outputs": [],
   "source": [
    "abc['#User'] = abc['UserId'].map(dict(zip(abc['UserId'].unique(), \n",
    "                                                                        range(len(abc['UserId']))))) # Redefinindo indices para usuário apenas como numérico\n",
    "\n",
    "abc['#Offer'] = abc['OfferId'].map(dict(zip(abc['OfferId'].unique(), \n",
    "                                                                        range(len(abc['OfferId']))))) #  Redefinindo indices para ofertas apenas como numérico considerando o OfferTitle"
   ]
  },
  {
   "cell_type": "code",
   "execution_count": null,
   "id": "8ede43ac-a081-4fb8-b2b4-723223d1c508",
   "metadata": {},
   "outputs": [],
   "source": [
    "##########Problema########\n",
    "abc.pivot_table(index = '#User', columns = 'OfferId', values = 'Name')"
   ]
  },
  {
   "cell_type": "code",
   "execution_count": 29,
   "id": "dbb151cb-58cf-4542-ae81-b89b9de91ea3",
   "metadata": {},
   "outputs": [],
   "source": [
    "clicks_de['UserClicks'] = clicks_de['UserId'].map(dict(zip(clicks_de['UserId'].value_counts().index,\n",
    "                                                           clicks_de['UserId'].value_counts().values))) #Criação de coluna com nº total de cliques do usuário"
   ]
  },
  {
   "cell_type": "code",
   "execution_count": 101,
   "id": "a6ba55ac-2793-44d9-9cbd-2d4ad82165fe",
   "metadata": {},
   "outputs": [
    {
     "ename": "MemoryError",
     "evalue": "Unable to allocate 40.5 GiB for an array with shape (73749, 73749) and data type float64",
     "output_type": "error",
     "traceback": [
      "\u001b[1;31m---------------------------------------------------------------------------\u001b[0m",
      "\u001b[1;31mMemoryError\u001b[0m                               Traceback (most recent call last)",
      "\u001b[1;32m~\\AppData\\Local\\Temp/ipykernel_3716/4191475578.py\u001b[0m in \u001b[0;36m<module>\u001b[1;34m\u001b[0m\n\u001b[1;32m----> 1\u001b[1;33m \u001b[0mu\u001b[0m\u001b[1;33m,\u001b[0m \u001b[0ms\u001b[0m\u001b[1;33m,\u001b[0m \u001b[0mv\u001b[0m \u001b[1;33m=\u001b[0m\u001b[0mnp\u001b[0m\u001b[1;33m.\u001b[0m\u001b[0mlinalg\u001b[0m\u001b[1;33m.\u001b[0m\u001b[0msvd\u001b[0m\u001b[1;33m(\u001b[0m\u001b[0mlog\u001b[0m\u001b[1;33m)\u001b[0m\u001b[1;33m\u001b[0m\u001b[1;33m\u001b[0m\u001b[0m\n\u001b[0m",
      "\u001b[1;32m<__array_function__ internals>\u001b[0m in \u001b[0;36msvd\u001b[1;34m(*args, **kwargs)\u001b[0m\n",
      "\u001b[1;32m~\\anaconda3\\envs\\aulas_dh\\lib\\site-packages\\numpy\\linalg\\linalg.py\u001b[0m in \u001b[0;36msvd\u001b[1;34m(a, full_matrices, compute_uv, hermitian)\u001b[0m\n\u001b[0;32m   1658\u001b[0m \u001b[1;33m\u001b[0m\u001b[0m\n\u001b[0;32m   1659\u001b[0m         \u001b[0msignature\u001b[0m \u001b[1;33m=\u001b[0m \u001b[1;34m'D->DdD'\u001b[0m \u001b[1;32mif\u001b[0m \u001b[0misComplexType\u001b[0m\u001b[1;33m(\u001b[0m\u001b[0mt\u001b[0m\u001b[1;33m)\u001b[0m \u001b[1;32melse\u001b[0m \u001b[1;34m'd->ddd'\u001b[0m\u001b[1;33m\u001b[0m\u001b[1;33m\u001b[0m\u001b[0m\n\u001b[1;32m-> 1660\u001b[1;33m         \u001b[0mu\u001b[0m\u001b[1;33m,\u001b[0m \u001b[0ms\u001b[0m\u001b[1;33m,\u001b[0m \u001b[0mvh\u001b[0m \u001b[1;33m=\u001b[0m \u001b[0mgufunc\u001b[0m\u001b[1;33m(\u001b[0m\u001b[0ma\u001b[0m\u001b[1;33m,\u001b[0m \u001b[0msignature\u001b[0m\u001b[1;33m=\u001b[0m\u001b[0msignature\u001b[0m\u001b[1;33m,\u001b[0m \u001b[0mextobj\u001b[0m\u001b[1;33m=\u001b[0m\u001b[0mextobj\u001b[0m\u001b[1;33m)\u001b[0m\u001b[1;33m\u001b[0m\u001b[1;33m\u001b[0m\u001b[0m\n\u001b[0m\u001b[0;32m   1661\u001b[0m         \u001b[0mu\u001b[0m \u001b[1;33m=\u001b[0m \u001b[0mu\u001b[0m\u001b[1;33m.\u001b[0m\u001b[0mastype\u001b[0m\u001b[1;33m(\u001b[0m\u001b[0mresult_t\u001b[0m\u001b[1;33m,\u001b[0m \u001b[0mcopy\u001b[0m\u001b[1;33m=\u001b[0m\u001b[1;32mFalse\u001b[0m\u001b[1;33m)\u001b[0m\u001b[1;33m\u001b[0m\u001b[1;33m\u001b[0m\u001b[0m\n\u001b[0;32m   1662\u001b[0m         \u001b[0ms\u001b[0m \u001b[1;33m=\u001b[0m \u001b[0ms\u001b[0m\u001b[1;33m.\u001b[0m\u001b[0mastype\u001b[0m\u001b[1;33m(\u001b[0m\u001b[0m_realType\u001b[0m\u001b[1;33m(\u001b[0m\u001b[0mresult_t\u001b[0m\u001b[1;33m)\u001b[0m\u001b[1;33m,\u001b[0m \u001b[0mcopy\u001b[0m\u001b[1;33m=\u001b[0m\u001b[1;32mFalse\u001b[0m\u001b[1;33m)\u001b[0m\u001b[1;33m\u001b[0m\u001b[1;33m\u001b[0m\u001b[0m\n",
      "\u001b[1;31mMemoryError\u001b[0m: Unable to allocate 40.5 GiB for an array with shape (73749, 73749) and data type float64"
     ]
    }
   ],
   "source": [
    "u, s, v =np.linalg.svd(log)"
   ]
  },
  {
   "cell_type": "code",
   "execution_count": 137,
   "id": "359013a2-cc28-4d53-b12b-81aeaa67e859",
   "metadata": {},
   "outputs": [
    {
     "data": {
      "text/html": [
       "<div>\n",
       "<style scoped>\n",
       "    .dataframe tbody tr th:only-of-type {\n",
       "        vertical-align: middle;\n",
       "    }\n",
       "\n",
       "    .dataframe tbody tr th {\n",
       "        vertical-align: top;\n",
       "    }\n",
       "\n",
       "    .dataframe thead th {\n",
       "        text-align: right;\n",
       "    }\n",
       "</style>\n",
       "<table border=\"1\" class=\"dataframe\">\n",
       "  <thead>\n",
       "    <tr style=\"text-align: right;\">\n",
       "      <th></th>\n",
       "      <th>#User</th>\n",
       "      <th>#Offer</th>\n",
       "      <th>UserClicks</th>\n",
       "    </tr>\n",
       "  </thead>\n",
       "  <tbody>\n",
       "    <tr>\n",
       "      <th>95</th>\n",
       "      <td>249</td>\n",
       "      <td>83</td>\n",
       "      <td>75</td>\n",
       "    </tr>\n",
       "    <tr>\n",
       "      <th>131</th>\n",
       "      <td>285</td>\n",
       "      <td>106</td>\n",
       "      <td>16</td>\n",
       "    </tr>\n",
       "    <tr>\n",
       "      <th>143</th>\n",
       "      <td>297</td>\n",
       "      <td>118</td>\n",
       "      <td>27</td>\n",
       "    </tr>\n",
       "    <tr>\n",
       "      <th>173</th>\n",
       "      <td>323</td>\n",
       "      <td>142</td>\n",
       "      <td>14</td>\n",
       "    </tr>\n",
       "    <tr>\n",
       "      <th>175</th>\n",
       "      <td>325</td>\n",
       "      <td>144</td>\n",
       "      <td>21</td>\n",
       "    </tr>\n",
       "  </tbody>\n",
       "</table>\n",
       "</div>"
      ],
      "text/plain": [
       "     #User  #Offer  UserClicks\n",
       "95     249      83          75\n",
       "131    285     106          16\n",
       "143    297     118          27\n",
       "173    323     142          14\n",
       "175    325     144          21"
      ]
     },
     "execution_count": 137,
     "metadata": {},
     "output_type": "execute_result"
    }
   ],
   "source": [
    "user_item_clicks.head()"
   ]
  },
  {
   "cell_type": "code",
   "execution_count": 136,
   "id": "81ee4700-9944-4a7d-a22d-f118f1e7dbfe",
   "metadata": {},
   "outputs": [
    {
     "data": {
      "text/html": [
       "<div>\n",
       "<style scoped>\n",
       "    .dataframe tbody tr th:only-of-type {\n",
       "        vertical-align: middle;\n",
       "    }\n",
       "\n",
       "    .dataframe tbody tr th {\n",
       "        vertical-align: top;\n",
       "    }\n",
       "\n",
       "    .dataframe thead th {\n",
       "        text-align: right;\n",
       "    }\n",
       "</style>\n",
       "<table border=\"1\" class=\"dataframe\">\n",
       "  <thead>\n",
       "    <tr style=\"text-align: right;\">\n",
       "      <th></th>\n",
       "      <th>#User</th>\n",
       "      <th>#Offer</th>\n",
       "      <th>UserClicks</th>\n",
       "    </tr>\n",
       "  </thead>\n",
       "  <tbody>\n",
       "    <tr>\n",
       "      <th>0</th>\n",
       "      <td>15</td>\n",
       "      <td>39249</td>\n",
       "      <td>1</td>\n",
       "    </tr>\n",
       "    <tr>\n",
       "      <th>1</th>\n",
       "      <td>15</td>\n",
       "      <td>40512</td>\n",
       "      <td>1</td>\n",
       "    </tr>\n",
       "    <tr>\n",
       "      <th>2</th>\n",
       "      <td>15</td>\n",
       "      <td>197414</td>\n",
       "      <td>1</td>\n",
       "    </tr>\n",
       "    <tr>\n",
       "      <th>3</th>\n",
       "      <td>15</td>\n",
       "      <td>282037</td>\n",
       "      <td>1</td>\n",
       "    </tr>\n",
       "    <tr>\n",
       "      <th>4</th>\n",
       "      <td>15</td>\n",
       "      <td>282096</td>\n",
       "      <td>1</td>\n",
       "    </tr>\n",
       "  </tbody>\n",
       "</table>\n",
       "</div>"
      ],
      "text/plain": [
       "   #User  #Offer  UserClicks\n",
       "0     15   39249           1\n",
       "1     15   40512           1\n",
       "2     15  197414           1\n",
       "3     15  282037           1\n",
       "4     15  282096           1"
      ]
     },
     "metadata": {},
     "output_type": "display_data"
    }
   ],
   "source": [
    "log = user_item_clicks.groupby(by=['#User','#Offer']).count().reset_index()\n",
    "log['UserClicks'] = 1\n",
    "display(log.head())"
   ]
  },
  {
   "cell_type": "code",
   "execution_count": 98,
   "id": "c3299673-4d74-49d0-b77c-470baec538be",
   "metadata": {},
   "outputs": [],
   "source": [
    "pivo_log = log.pivot_table(columns = '#Offer', index = '#User', values = 'UserClicks')"
   ]
  },
  {
   "cell_type": "raw",
   "id": "c6779a4c",
   "metadata": {},
   "source": [
    "user_item_clicks"
   ]
  },
  {
   "cell_type": "code",
   "execution_count": 152,
   "id": "9f5bd521-fe97-4da6-9db3-35d9283ab39f",
   "metadata": {},
   "outputs": [],
   "source": [
    "reader = Reader(line_format='user item rating', sep=',', rating_scale = (0,1))\n",
    "data = Dataset.load_from_df(df = log, reader=reader)"
   ]
  },
  {
   "cell_type": "code",
   "execution_count": null,
   "id": "cceec2f4-08c9-4b1f-96c0-9dfe09500cf4",
   "metadata": {},
   "outputs": [],
   "source": [
    "svd = SVD()\n",
    "cross_validate(svd, data, measures = ['RMSE','MAE'], cv = 5)"
   ]
  },
  {
   "cell_type": "code",
   "execution_count": 24,
   "id": "070c2119",
   "metadata": {},
   "outputs": [],
   "source": [
    "reader = Reader(line_format='user item rating', sep=',')\n",
    "data = Dataset.load_from_df(df = log, reader=reader)"
   ]
  },
  {
   "cell_type": "code",
   "execution_count": null,
   "id": "3d3ba085-ca36-4746-82ef-61cfb5fbfc18",
   "metadata": {},
   "outputs": [],
   "source": [
    "#trainset, testset = train_test_split(data, test_size=0.2)\n",
    "trainsetfull = data.build_full_trainset()\n",
    "svd.fit(trainsetfull)"
   ]
  },
  {
   "cell_type": "code",
   "execution_count": 39,
   "id": "6e70e93f",
   "metadata": {},
   "outputs": [],
   "source": [
    "trainset_iids = list(trainset.all_items())\n",
    "iid_converter = lambda x: trainset.to_raw_iid(x)\n",
    "trainset_raw_iids = list(map(iid_converter, trainset_iids))"
   ]
  },
  {
   "cell_type": "code",
   "execution_count": 145,
   "id": "2e72cefb-634f-4ea7-8c65-588dc1be60d7",
   "metadata": {},
   "outputs": [
    {
     "data": {
      "text/html": [
       "<div>\n",
       "<style scoped>\n",
       "    .dataframe tbody tr th:only-of-type {\n",
       "        vertical-align: middle;\n",
       "    }\n",
       "\n",
       "    .dataframe tbody tr th {\n",
       "        vertical-align: top;\n",
       "    }\n",
       "\n",
       "    .dataframe thead th {\n",
       "        text-align: right;\n",
       "    }\n",
       "</style>\n",
       "<table border=\"1\" class=\"dataframe\">\n",
       "  <thead>\n",
       "    <tr style=\"text-align: right;\">\n",
       "      <th></th>\n",
       "      <th>#User</th>\n",
       "      <th>#Offer</th>\n",
       "      <th>UserClicks</th>\n",
       "    </tr>\n",
       "  </thead>\n",
       "  <tbody>\n",
       "    <tr>\n",
       "      <th>0</th>\n",
       "      <td>15</td>\n",
       "      <td>39249</td>\n",
       "      <td>1</td>\n",
       "    </tr>\n",
       "    <tr>\n",
       "      <th>1</th>\n",
       "      <td>15</td>\n",
       "      <td>40512</td>\n",
       "      <td>1</td>\n",
       "    </tr>\n",
       "    <tr>\n",
       "      <th>2</th>\n",
       "      <td>15</td>\n",
       "      <td>197414</td>\n",
       "      <td>1</td>\n",
       "    </tr>\n",
       "    <tr>\n",
       "      <th>3</th>\n",
       "      <td>15</td>\n",
       "      <td>282037</td>\n",
       "      <td>1</td>\n",
       "    </tr>\n",
       "    <tr>\n",
       "      <th>4</th>\n",
       "      <td>15</td>\n",
       "      <td>282096</td>\n",
       "      <td>1</td>\n",
       "    </tr>\n",
       "    <tr>\n",
       "      <th>5</th>\n",
       "      <td>15</td>\n",
       "      <td>282104</td>\n",
       "      <td>1</td>\n",
       "    </tr>\n",
       "    <tr>\n",
       "      <th>6</th>\n",
       "      <td>15</td>\n",
       "      <td>282141</td>\n",
       "      <td>1</td>\n",
       "    </tr>\n",
       "    <tr>\n",
       "      <th>7</th>\n",
       "      <td>15</td>\n",
       "      <td>282275</td>\n",
       "      <td>1</td>\n",
       "    </tr>\n",
       "    <tr>\n",
       "      <th>8</th>\n",
       "      <td>15</td>\n",
       "      <td>282282</td>\n",
       "      <td>1</td>\n",
       "    </tr>\n",
       "    <tr>\n",
       "      <th>9</th>\n",
       "      <td>15</td>\n",
       "      <td>282581</td>\n",
       "      <td>1</td>\n",
       "    </tr>\n",
       "    <tr>\n",
       "      <th>10</th>\n",
       "      <td>15</td>\n",
       "      <td>282632</td>\n",
       "      <td>1</td>\n",
       "    </tr>\n",
       "    <tr>\n",
       "      <th>11</th>\n",
       "      <td>15</td>\n",
       "      <td>283571</td>\n",
       "      <td>1</td>\n",
       "    </tr>\n",
       "    <tr>\n",
       "      <th>12</th>\n",
       "      <td>15</td>\n",
       "      <td>287709</td>\n",
       "      <td>1</td>\n",
       "    </tr>\n",
       "    <tr>\n",
       "      <th>13</th>\n",
       "      <td>15</td>\n",
       "      <td>287990</td>\n",
       "      <td>1</td>\n",
       "    </tr>\n",
       "  </tbody>\n",
       "</table>\n",
       "</div>"
      ],
      "text/plain": [
       "    #User  #Offer  UserClicks\n",
       "0      15   39249           1\n",
       "1      15   40512           1\n",
       "2      15  197414           1\n",
       "3      15  282037           1\n",
       "4      15  282096           1\n",
       "5      15  282104           1\n",
       "6      15  282141           1\n",
       "7      15  282275           1\n",
       "8      15  282282           1\n",
       "9      15  282581           1\n",
       "10     15  282632           1\n",
       "11     15  283571           1\n",
       "12     15  287709           1\n",
       "13     15  287990           1"
      ]
     },
     "execution_count": 145,
     "metadata": {},
     "output_type": "execute_result"
    }
   ],
   "source": [
    "log[log['#User']==15]"
   ]
  },
  {
   "cell_type": "code",
   "execution_count": null,
   "id": "a1f202c9-27aa-4074-9e21-15f1930577e8",
   "metadata": {},
   "outputs": [],
   "source": [
    "## Verificar\n",
    "SVD_model = SVD()\n",
    "SVD_model.fit(trainset)\n",
    "predictions = SVD_model.test(testset)\n",
    "accuracy.rmse(predictions)"
   ]
  },
  {
   "cell_type": "code",
   "execution_count": 151,
   "id": "433796fe-a84e-4432-b8b7-89ad26f38549",
   "metadata": {},
   "outputs": [
    {
     "ename": "ValueError",
     "evalue": "DataFrame constructor not properly called!",
     "output_type": "error",
     "traceback": [
      "\u001b[1;31m---------------------------------------------------------------------------\u001b[0m",
      "\u001b[1;31mValueError\u001b[0m                                Traceback (most recent call last)",
      "\u001b[1;32m~\\AppData\\Local\\Temp/ipykernel_3716/4294668947.py\u001b[0m in \u001b[0;36m<module>\u001b[1;34m\u001b[0m\n\u001b[1;32m----> 1\u001b[1;33m \u001b[0mpd\u001b[0m\u001b[1;33m.\u001b[0m\u001b[0mDataFrame\u001b[0m\u001b[1;33m(\u001b[0m\u001b[0mReader\u001b[0m\u001b[1;33m(\u001b[0m\u001b[0mname\u001b[0m \u001b[1;33m=\u001b[0m \u001b[1;34m'jester'\u001b[0m\u001b[1;33m)\u001b[0m\u001b[1;33m)\u001b[0m\u001b[1;33m\u001b[0m\u001b[1;33m\u001b[0m\u001b[0m\n\u001b[0m",
      "\u001b[1;32m~\\anaconda3\\envs\\aulas_dh\\lib\\site-packages\\pandas\\core\\frame.py\u001b[0m in \u001b[0;36m__init__\u001b[1;34m(self, data, index, columns, dtype, copy)\u001b[0m\n\u001b[0;32m    728\u001b[0m         \u001b[1;32melse\u001b[0m\u001b[1;33m:\u001b[0m\u001b[1;33m\u001b[0m\u001b[1;33m\u001b[0m\u001b[0m\n\u001b[0;32m    729\u001b[0m             \u001b[1;32mif\u001b[0m \u001b[0mindex\u001b[0m \u001b[1;32mis\u001b[0m \u001b[1;32mNone\u001b[0m \u001b[1;32mor\u001b[0m \u001b[0mcolumns\u001b[0m \u001b[1;32mis\u001b[0m \u001b[1;32mNone\u001b[0m\u001b[1;33m:\u001b[0m\u001b[1;33m\u001b[0m\u001b[1;33m\u001b[0m\u001b[0m\n\u001b[1;32m--> 730\u001b[1;33m                 \u001b[1;32mraise\u001b[0m \u001b[0mValueError\u001b[0m\u001b[1;33m(\u001b[0m\u001b[1;34m\"DataFrame constructor not properly called!\"\u001b[0m\u001b[1;33m)\u001b[0m\u001b[1;33m\u001b[0m\u001b[1;33m\u001b[0m\u001b[0m\n\u001b[0m\u001b[0;32m    731\u001b[0m \u001b[1;33m\u001b[0m\u001b[0m\n\u001b[0;32m    732\u001b[0m             \u001b[1;31m# Argument 1 to \"ensure_index\" has incompatible type \"Collection[Any]\";\u001b[0m\u001b[1;33m\u001b[0m\u001b[1;33m\u001b[0m\u001b[0m\n",
      "\u001b[1;31mValueError\u001b[0m: DataFrame constructor not properly called!"
     ]
    }
   ],
   "source": [
    "pd.DataFrame(Reader(name = 'jester')"
   ]
  },
  {
   "cell_type": "code",
   "execution_count": 149,
   "id": "2292f2f7-cf8d-48d5-bac5-050972332697",
   "metadata": {},
   "outputs": [
    {
     "data": {
      "text/plain": [
       "Prediction(uid=15, iid=50000, r_ui=None, est=1, details={'was_impossible': False})"
      ]
     },
     "execution_count": 149,
     "metadata": {},
     "output_type": "execute_result"
    }
   ],
   "source": [
    "svd.predict(uid = 15, iid = 50000)"
   ]
  },
  {
   "cell_type": "markdown",
   "id": "4f99f400-5b57-4c2e-b9cf-1259a8fd9ba7",
   "metadata": {},
   "source": [
    "# TESTE 2"
   ]
  },
  {
   "cell_type": "code",
   "execution_count": 35,
   "id": "ceb237e2-ebfb-4012-8f83-942851166c57",
   "metadata": {},
   "outputs": [],
   "source": [
    "trun_svd =  TruncatedSVD(n_components = 2)\n",
    "A_transformed = trun_svd.fit_transform(user_item_clicks)"
   ]
  },
  {
   "cell_type": "code",
   "execution_count": 36,
   "id": "d863eece-9c05-4374-a3cd-4e6738160b37",
   "metadata": {},
   "outputs": [
    {
     "data": {
      "text/plain": [
       "array([[ 1.83670207e+02,  1.87501184e+02],\n",
       "       [ 2.20107216e+02,  2.09795620e+02],\n",
       "       [ 2.36151573e+02,  2.15328033e+02],\n",
       "       ...,\n",
       "       [ 2.66353324e+05, -9.78399244e+04],\n",
       "       [ 3.19096302e+05,  1.11136679e+04],\n",
       "       [ 3.20770642e+05,  1.37607552e+04]])"
      ]
     },
     "execution_count": 36,
     "metadata": {},
     "output_type": "execute_result"
    }
   ],
   "source": [
    "A_transformed"
   ]
  },
  {
   "cell_type": "code",
   "execution_count": null,
   "id": "0c23588f-2af4-4890-9b89-be62db3549c1",
   "metadata": {},
   "outputs": [],
   "source": []
  }
 ],
 "metadata": {
  "kernelspec": {
   "display_name": "Python 3 (ipykernel)",
   "language": "python",
   "name": "python3"
  },
  "language_info": {
   "codemirror_mode": {
    "name": "ipython",
    "version": 3
   },
   "file_extension": ".py",
   "mimetype": "text/x-python",
   "name": "python",
   "nbconvert_exporter": "python",
   "pygments_lexer": "ipython3",
   "version": "3.10.1"
  }
 },
 "nbformat": 4,
 "nbformat_minor": 5
}
