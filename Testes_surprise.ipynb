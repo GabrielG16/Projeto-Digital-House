{
 "cells": [
  {
   "cell_type": "code",
   "execution_count": 1,
   "id": "abce8da2-042b-4257-ad8f-d3c8ff8ccfd3",
   "metadata": {},
   "outputs": [],
   "source": [
    "#IMPORT DE BIBLIOTECAS\n",
    "\n",
    "import pandas as pd\n",
    "import numpy as np\n",
    "from scipy.sparse import csr_matrix\n",
    "\n",
    "from matplotlib import pyplot as plt\n",
    "import seaborn as sns\n",
    "\n",
    "from surprise import Dataset, Reader, SVD\n",
    "from surprise.model_selection import train_test_split, cross_validate\n",
    "from surprise import accuracy\n",
    "from surprise.model_selection import cross_validate\n",
    "\n",
    "from sklearn.decomposition import TruncatedSVD\n",
    "import os"
   ]
  },
  {
   "cell_type": "code",
   "execution_count": 2,
   "id": "58844832-bd7b-4464-8dbe-4352f105e9a4",
   "metadata": {},
   "outputs": [],
   "source": [
    "df_de_cat = pd.read_csv('category_de.txt') # DataFrame Informativo das categorias"
   ]
  },
  {
   "cell_type": "code",
   "execution_count": 3,
   "id": "421a7483-741a-4482-b0b1-8bc150693e80",
   "metadata": {},
   "outputs": [],
   "source": [
    "clicks_de = pd.read_csv('clicks_de_sample_2.txt', sep = ',', header=0) # df de clicks"
   ]
  },
  {
   "cell_type": "code",
   "execution_count": 4,
   "id": "0a6b411c-20f2-4a5a-8570-f7998ec15d59",
   "metadata": {},
   "outputs": [],
   "source": [
    "# CRIAÇÃO DE COLUNA DE CLICKS POR CATEGORIA\n",
    "clicks_de.drop(columns = ['Keywords'], axis = 1, inplace=True)\n",
    "#clicks_de['Category'] = clicks_de['Category'].astype(str)\n",
    "\n",
    "pontuacao_de = pd.DataFrame(clicks_de['Category'].value_counts()).reset_index()\n",
    "pontuacao_de.columns = ['Category', 'Pontuacao']\n",
    "dici = dict(zip(pontuacao_de.Category, pontuacao_de.Pontuacao))\n",
    "\n",
    "clicks_de['Cat_clicks'] = clicks_de['Category'].map(dici)\n",
    "clicks_de.sort_values(by='Cat_clicks', inplace = True)"
   ]
  },
  {
   "cell_type": "code",
   "execution_count": 5,
   "id": "c93d80f0-eaad-4cc0-ab0b-b110f47486c6",
   "metadata": {},
   "outputs": [],
   "source": [
    "## RENOMEANDO OFERTAS E USUÁRIOS\n",
    "clicks_de['User'] = clicks_de['UserId'].map(dict(zip(clicks_de['UserId'].unique(), \n",
    "                                                                        range(len(clicks_de['UserId']))))) # Redefinindo indices para usuário apenas como numérico\n",
    "\n",
    "clicks_de['Offer'] = clicks_de['OfferTitle'].map(dict(zip(clicks_de['OfferTitle'].unique(), \n",
    "                                                                        range(len(clicks_de['OfferTitle']))))) #  Redefinindo indices para ofertas apenas como numérico considerando o OfferTitle"
   ]
  },
  {
   "cell_type": "code",
   "execution_count": 6,
   "id": "cae41f70-ba9e-4df6-8487-7e9ef8925640",
   "metadata": {},
   "outputs": [],
   "source": [
    "clicks_de = clicks_de.merge(df_de_cat, left_on = 'Category', right_on = 'ID').drop('ID', axis = 1) "
   ]
  },
  {
   "cell_type": "code",
   "execution_count": 7,
   "id": "3dda34bf-f6e6-4e17-a06f-b2064620739c",
   "metadata": {},
   "outputs": [],
   "source": [
    "clicks_per_user_product = clicks_de.groupby(by=['UserId','OfferId']).count()[['Name']].reset_index()"
   ]
  },
  {
   "cell_type": "code",
   "execution_count": 8,
   "id": "af43602a-b604-4f6a-bab0-a31a6fb6b7d5",
   "metadata": {},
   "outputs": [],
   "source": [
    "clicks_per_user_product['User'] = clicks_per_user_product['UserId'].map(dict(zip(clicks_per_user_product['UserId'].unique(), \n",
    "                                                                        range(len(clicks_per_user_product['UserId']))))) # Redefinindo indices para usuário apenas como numérico\n",
    "\n",
    "\n",
    "clicks_per_user_product['Offer'] = clicks_per_user_product['OfferId'].map(dict(zip(clicks_per_user_product['OfferId'].unique(), \n",
    "                                                                        range(len(clicks_per_user_product['OfferId']))))) #  Redefinindo indices para ofertas apenas como numérico considerando o OfferTitle"
   ]
  },
  {
   "cell_type": "code",
   "execution_count": 9,
   "id": "dbb151cb-58cf-4542-ae81-b89b9de91ea3",
   "metadata": {},
   "outputs": [],
   "source": [
    "clicks_de['UserClicks'] = clicks_de['UserId'].map(dict(zip(clicks_de['UserId'].value_counts().index,\n",
    "                                                           clicks_de['UserId'].value_counts().values))) #Criação de coluna com nº total de cliques do usuário"
   ]
  },
  {
   "cell_type": "code",
   "execution_count": 10,
   "id": "759a06f2-5628-49c2-8ef6-89ff50307207",
   "metadata": {},
   "outputs": [],
   "source": [
    "#Cap minimo de clicks para integrar o sistema de recomendação\n",
    "clicks_de_filtered = clicks_de[(clicks_de.UserClicks > 40)]\n",
    "\n",
    "#DataFrame de base para utilização no Surprise\n",
    "user_item_clicks = clicks_de_filtered[['User','Offer','UserClicks']]"
   ]
  },
  {
   "cell_type": "code",
   "execution_count": 11,
   "id": "81ee4700-9944-4a7d-a22d-f118f1e7dbfe",
   "metadata": {},
   "outputs": [
    {
     "data": {
      "text/html": [
       "<div>\n",
       "<style scoped>\n",
       "    .dataframe tbody tr th:only-of-type {\n",
       "        vertical-align: middle;\n",
       "    }\n",
       "\n",
       "    .dataframe tbody tr th {\n",
       "        vertical-align: top;\n",
       "    }\n",
       "\n",
       "    .dataframe thead th {\n",
       "        text-align: right;\n",
       "    }\n",
       "</style>\n",
       "<table border=\"1\" class=\"dataframe\">\n",
       "  <thead>\n",
       "    <tr style=\"text-align: right;\">\n",
       "      <th></th>\n",
       "      <th>User</th>\n",
       "      <th>Offer</th>\n",
       "      <th>UserClicks</th>\n",
       "    </tr>\n",
       "  </thead>\n",
       "  <tbody>\n",
       "    <tr>\n",
       "      <th>0</th>\n",
       "      <td>249</td>\n",
       "      <td>83</td>\n",
       "      <td>1</td>\n",
       "    </tr>\n",
       "    <tr>\n",
       "      <th>1</th>\n",
       "      <td>249</td>\n",
       "      <td>3481</td>\n",
       "      <td>1</td>\n",
       "    </tr>\n",
       "    <tr>\n",
       "      <th>2</th>\n",
       "      <td>249</td>\n",
       "      <td>7628</td>\n",
       "      <td>1</td>\n",
       "    </tr>\n",
       "    <tr>\n",
       "      <th>3</th>\n",
       "      <td>249</td>\n",
       "      <td>7708</td>\n",
       "      <td>1</td>\n",
       "    </tr>\n",
       "    <tr>\n",
       "      <th>4</th>\n",
       "      <td>249</td>\n",
       "      <td>9575</td>\n",
       "      <td>1</td>\n",
       "    </tr>\n",
       "  </tbody>\n",
       "</table>\n",
       "</div>"
      ],
      "text/plain": [
       "   User  Offer  UserClicks\n",
       "0   249     83           1\n",
       "1   249   3481           1\n",
       "2   249   7628           1\n",
       "3   249   7708           1\n",
       "4   249   9575           1"
      ]
     },
     "metadata": {},
     "output_type": "display_data"
    }
   ],
   "source": [
    "log = user_item_clicks.groupby(by=['User','Offer']).count().reset_index()\n",
    "log['UserClicks'] = 1\n",
    "display(log.head())"
   ]
  },
  {
   "cell_type": "code",
   "execution_count": 12,
   "id": "c3299673-4d74-49d0-b77c-470baec538be",
   "metadata": {},
   "outputs": [],
   "source": [
    "#Matriz esparsa\n",
    "pivo_log = log.pivot_table(columns = 'Offer', index = 'User', values = 'UserClicks').fillna(0)"
   ]
  },
  {
   "cell_type": "code",
   "execution_count": 13,
   "id": "2dd3b2eb-89b6-481b-a2a9-0ceba73a63cd",
   "metadata": {},
   "outputs": [],
   "source": [
    "#Nova relação de clicks em cada produto por usuário a partir da matriz esparsa para uso no Surprise\n",
    "pivo_log_melted = pd.melt(frame = pivo_log, var_name = 'Products', value_name = 'Clicked?', ignore_index = False).reset_index()"
   ]
  },
  {
   "cell_type": "markdown",
   "id": "5cbbcf6a-a894-4284-989d-f2f3870680c7",
   "metadata": {},
   "source": [
    "## TESTES SURPRISE"
   ]
  },
  {
   "cell_type": "code",
   "execution_count": 15,
   "id": "9f5bd521-fe97-4da6-9db3-35d9283ab39f",
   "metadata": {},
   "outputs": [],
   "source": [
    "#Escala de avaliação\n",
    "reader = Reader(rating_scale = (0,1))\n",
    "\n",
    "#Criação de objeto Dataset do Surprise\n",
    "data = Dataset.load_from_df(df = pivo_log_melted, reader=reader)"
   ]
  },
  {
   "cell_type": "code",
   "execution_count": 16,
   "id": "cceec2f4-08c9-4b1f-96c0-9dfe09500cf4",
   "metadata": {},
   "outputs": [
    {
     "data": {
      "text/plain": [
       "{'test_rmse': array([0.13086859, 0.13328266, 0.13356066]),\n",
       " 'test_mae': array([0.03479759, 0.03536657, 0.03674502]),\n",
       " 'fit_time': (8.72905683517456, 8.114208698272705, 8.654720544815063),\n",
       " 'test_time': (0.6122486591339111, 0.6173496246337891, 0.6891317367553711)}"
      ]
     },
     "execution_count": 16,
     "metadata": {},
     "output_type": "execute_result"
    }
   ],
   "source": [
    "#Criação do modelo e teste por validação cruzada\n",
    "svd = SVD() # Falta otimização de parametros e testagem de outros modelos\n",
    "cross_validate(svd, data, measures = ['RMSE','MAE'], cv = 3)"
   ]
  },
  {
   "cell_type": "code",
   "execution_count": 17,
   "id": "3d3ba085-ca36-4746-82ef-61cfb5fbfc18",
   "metadata": {},
   "outputs": [
    {
     "data": {
      "text/plain": [
       "<surprise.prediction_algorithms.matrix_factorization.SVD at 0x1b3577caa10>"
      ]
     },
     "execution_count": 17,
     "metadata": {},
     "output_type": "execute_result"
    }
   ],
   "source": [
    "#Criação do set de treino com o dataset completo\n",
    "trainsetfull = data.build_full_trainset()\n",
    "\n",
    "#Fit do modelo com o set de treino\n",
    "svd.fit(trainsetfull)"
   ]
  },
  {
   "cell_type": "code",
   "execution_count": null,
   "id": "e6b67188",
   "metadata": {},
   "outputs": [],
   "source": [
    "#trainset_iids = list(trainset.all_items())\n",
    "#iid_converter = lambda x: trainset.to_raw_iid(x)\n",
    "#trainset_raw_iids = list(map(iid_converter, trainset_iids))"
   ]
  },
  {
   "cell_type": "code",
   "execution_count": null,
   "id": "2e72cefb-634f-4ea7-8c65-588dc1be60d7",
   "metadata": {},
   "outputs": [],
   "source": [
    "#Fetch de informação de usuários pra teste\n",
    "pivo_log_melted[(pivo_log_melted['User']==815) & (pivo_log_melted['Clicked?']==1)]"
   ]
  },
  {
   "cell_type": "code",
   "execution_count": 60,
   "id": "2292f2f7-cf8d-48d5-bac5-050972332697",
   "metadata": {},
   "outputs": [
    {
     "data": {
      "text/plain": [
       "Prediction(uid=815, iid=282283, r_ui=None, est=0.17134022028105783, details={'was_impossible': False})"
      ]
     },
     "execution_count": 60,
     "metadata": {},
     "output_type": "execute_result"
    }
   ],
   "source": [
    "#Teste de predição com usuário específico frente a um produto específico\n",
    "svd.predict(uid = 815, iid = 282283)"
   ]
  },
  {
   "cell_type": "markdown",
   "id": "7f09e33b-7f92-49e7-a5f6-19b335a2a8a2",
   "metadata": {},
   "source": [
    "# TO DO:\n",
    "* SIMILARIDADE DE USUARIOS E ITENS\n",
    "* TUNAGEM DE HIPERPARAMETROS\n",
    "* LISTAS DE RECOMENDAÇÕES\n",
    "* DEPLOY\n"
   ]
  },
  {
   "cell_type": "code",
   "execution_count": null,
   "id": "5ae5b655-dd37-4d3f-88aa-282c0895c622",
   "metadata": {},
   "outputs": [],
   "source": []
  }
 ],
 "metadata": {
  "kernelspec": {
   "display_name": "Python 3 (ipykernel)",
   "language": "python",
   "name": "python3"
  },
  "language_info": {
   "codemirror_mode": {
    "name": "ipython",
    "version": 3
   },
   "file_extension": ".py",
   "mimetype": "text/x-python",
   "name": "python",
   "nbconvert_exporter": "python",
   "pygments_lexer": "ipython3",
   "version": "3.10.1"
  }
 },
 "nbformat": 4,
 "nbformat_minor": 5
}
