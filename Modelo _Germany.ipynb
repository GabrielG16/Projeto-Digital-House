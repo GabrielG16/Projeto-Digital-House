{
 "cells": [
  {
   "cell_type": "markdown",
   "id": "4e98dcb8",
   "metadata": {},
   "source": [
    "### IMPORT DE BIBLIOTECAS"
   ]
  },
  {
   "cell_type": "code",
   "execution_count": 1,
   "id": "61a00830",
   "metadata": {},
   "outputs": [],
   "source": [
    "from collections import defaultdict\n",
    "import pandas as pd\n",
    "import numpy as np\n",
    "import os\n",
    "\n",
    "import implicit\n",
    "from implicit.evaluation import (train_test_split, \n",
    "                                 ndcg_at_k, \n",
    "                                 AUC_at_k,\n",
    "                                 mean_average_precision_at_k, \n",
    "                                 precision_at_k)\n",
    "\n",
    "from implicit.nearest_neighbours import bm25_weight\n",
    "\n",
    "from scipy.sparse import (csr_matrix, \n",
    "                          save_npz, \n",
    "                          load_npz)\n",
    "import scipy.stats\n",
    "import scipy\n",
    "\n",
    "from matplotlib import pyplot as plt\n",
    "import seaborn as sns\n",
    "\n",
    "# from surprise import Dataset, Reader, SVD, SVDpp, KNNWithMeans\n",
    "# from surprise.model_selection import train_test_split, cross_validate\n",
    "# from surprise import accuracy\n",
    "# from surprise.model_selection import cross_validate\n",
    "\n",
    "# from sklearn.neighbors import NearestNeighbors\n",
    "# from sklearn.metrics.pairwise import cosine_similarity, pairwise_distances\n",
    "import pickle\n",
    "from tqdm import tqdm\n",
    "import warnings"
   ]
  },
  {
   "cell_type": "code",
   "execution_count": 2,
   "id": "2da7ba6c",
   "metadata": {},
   "outputs": [],
   "source": [
    "warnings.filterwarnings('ignore')"
   ]
  },
  {
   "cell_type": "markdown",
   "id": "dfec4720",
   "metadata": {},
   "source": [
    "### Carregamento de dados de categorias e histórico de clicks"
   ]
  },
  {
   "cell_type": "code",
   "execution_count": 3,
   "id": "a8609c08",
   "metadata": {},
   "outputs": [],
   "source": [
    "df_de_cat = pd.read_csv(os.getcwd()+'/.csv/new_category_sample.csv') # DataFrame Informativo das categorias"
   ]
  },
  {
   "cell_type": "code",
   "execution_count": 4,
   "id": "02baf29c",
   "metadata": {},
   "outputs": [],
   "source": [
    "clicks_de = pd.read_csv(os.getcwd()+'\\.txt\\clicks_de_sample_2.txt', sep = ',', header=0) # df de histórico de clicks"
   ]
  },
  {
   "cell_type": "markdown",
   "id": "26a075b4",
   "metadata": {},
   "source": [
    "Valores missing na coluna de OfferTitle que serão excluídos."
   ]
  },
  {
   "cell_type": "code",
   "execution_count": 5,
   "id": "3837de18",
   "metadata": {},
   "outputs": [],
   "source": [
    "clicks_de = clicks_de[clicks_de.OfferTitle.isna() == False]"
   ]
  },
  {
   "cell_type": "markdown",
   "id": "038d7ed7",
   "metadata": {},
   "source": [
    "### Conversão das colunas de usuário e oferta em categórica e criando novas colunas com os códigos adotados "
   ]
  },
  {
   "cell_type": "code",
   "execution_count": 6,
   "id": "8ffa55ba",
   "metadata": {},
   "outputs": [],
   "source": [
    "clicks_de.UserId = clicks_de.UserId.astype('category')\n",
    "clicks_de.OfferId = clicks_de.OfferId.astype('category')"
   ]
  },
  {
   "cell_type": "code",
   "execution_count": 7,
   "id": "44cedc28",
   "metadata": {},
   "outputs": [],
   "source": [
    "clicks_de['User'] = clicks_de.UserId.cat.codes\n",
    "clicks_de['Offer'] = clicks_de.OfferId.cat.codes"
   ]
  },
  {
   "cell_type": "markdown",
   "id": "ed6cf20c",
   "metadata": {},
   "source": [
    "### CRIAÇÃO DE COLUNA DE CLICKS POR CATEGORIA"
   ]
  },
  {
   "cell_type": "code",
   "execution_count": 8,
   "id": "0445533d",
   "metadata": {},
   "outputs": [],
   "source": [
    "clicks_de.drop(columns = ['Keywords'], axis = 1, inplace=True)  # DROP DAS KEYWORDS\n",
    "\n",
    "#df_de_cat.rename({'Ancertor_ID':'Ancestor_ID'}, axis = 1, inplace = True) # RENAME DO ANCESTOR_ID\n",
    "\n",
    "#df_de_cat.drop('Unnamed: 0', axis =1, inplace = True) # Remoção de coluna Unnamed\n",
    "\n",
    "clicks_de['Cat_clicks'] = clicks_de.groupby('Category')['OfferId'].transform('count') # Criação de coluna de clicks por categoria"
   ]
  },
  {
   "cell_type": "code",
   "execution_count": 9,
   "id": "e6baf627",
   "metadata": {},
   "outputs": [],
   "source": [
    "df_de_cat = df_de_cat[df_de_cat.Country == 'de'].drop('Country',axis =1)"
   ]
  },
  {
   "cell_type": "markdown",
   "id": "63777905",
   "metadata": {},
   "source": [
    "### Merge do Dataframe de categorias com o dataframe de clicks "
   ]
  },
  {
   "cell_type": "code",
   "execution_count": 10,
   "id": "06cfafe9",
   "metadata": {},
   "outputs": [],
   "source": [
    "clicks_de = clicks_de.merge(df_de_cat, on = 'Category')"
   ]
  },
  {
   "cell_type": "markdown",
   "id": "4dc9d5a2",
   "metadata": {},
   "source": [
    "### Criação de coluna com o nº total de clicks do usuário e nº total de clicks do produto"
   ]
  },
  {
   "cell_type": "code",
   "execution_count": 11,
   "id": "7e7e646d",
   "metadata": {},
   "outputs": [],
   "source": [
    "clicks_de['UserTotalClicks'] = clicks_de.groupby(by=['UserId'])['OfferId'].transform('count')"
   ]
  },
  {
   "cell_type": "code",
   "execution_count": 12,
   "id": "3e8273fa",
   "metadata": {},
   "outputs": [],
   "source": [
    "clicks_de['ProductClicks'] = clicks_de.groupby(by='OfferId')['UserId'].transform('count')"
   ]
  },
  {
   "cell_type": "code",
   "execution_count": 13,
   "id": "66368797",
   "metadata": {},
   "outputs": [
    {
     "data": {
      "text/html": [
       "<div>\n",
       "<style scoped>\n",
       "    .dataframe tbody tr th:only-of-type {\n",
       "        vertical-align: middle;\n",
       "    }\n",
       "\n",
       "    .dataframe tbody tr th {\n",
       "        vertical-align: top;\n",
       "    }\n",
       "\n",
       "    .dataframe thead th {\n",
       "        text-align: right;\n",
       "    }\n",
       "</style>\n",
       "<table border=\"1\" class=\"dataframe\">\n",
       "  <thead>\n",
       "    <tr style=\"text-align: right;\">\n",
       "      <th></th>\n",
       "      <th>UserId</th>\n",
       "      <th>OfferId</th>\n",
       "      <th>OfferViewId</th>\n",
       "      <th>CountryCode</th>\n",
       "      <th>Category</th>\n",
       "      <th>Source</th>\n",
       "      <th>UtcDate</th>\n",
       "      <th>OfferTitle</th>\n",
       "      <th>User</th>\n",
       "      <th>Offer</th>\n",
       "      <th>Cat_clicks</th>\n",
       "      <th>Category_Name</th>\n",
       "      <th>Translate</th>\n",
       "      <th>Ancestor_ID</th>\n",
       "      <th>filha_1</th>\n",
       "      <th>filha_1_name</th>\n",
       "      <th>UserTotalClicks</th>\n",
       "      <th>ProductClicks</th>\n",
       "    </tr>\n",
       "  </thead>\n",
       "  <tbody>\n",
       "    <tr>\n",
       "      <th>0</th>\n",
       "      <td>23d8fe04a6c1ca67e06376bacf2390f8863e86d75717b4...</td>\n",
       "      <td>8b4fbb7e4ef2dc46326861f4f42c7899</td>\n",
       "      <td>8b4fbb7e4ef2dc46326861f4f42c7899-1076982529341...</td>\n",
       "      <td>de</td>\n",
       "      <td>173701</td>\n",
       "      <td>32ff3ac0aba4118d1eb30f5eb6cc58a32c262b5eb0f7be...</td>\n",
       "      <td>2016-06-02 00:26:02.0</td>\n",
       "      <td>Nova Motors Motorroller - Grido 49ccm² 2 Takt</td>\n",
       "      <td>58085</td>\n",
       "      <td>176956</td>\n",
       "      <td>25</td>\n",
       "      <td>Motorräder Roller &amp; Quads</td>\n",
       "      <td>Motorcycle</td>\n",
       "      <td>173701 172601 601</td>\n",
       "      <td>172601.0</td>\n",
       "      <td>Cars and Motorcycles</td>\n",
       "      <td>1</td>\n",
       "      <td>3</td>\n",
       "    </tr>\n",
       "    <tr>\n",
       "      <th>1</th>\n",
       "      <td>81f727a6a6e069ac685412c70c0547c14962519d06ec6b...</td>\n",
       "      <td>8b4fbb7e4ef2dc46326861f4f42c7899</td>\n",
       "      <td>8b4fbb7e4ef2dc46326861f4f42c7899-1076982529341...</td>\n",
       "      <td>de</td>\n",
       "      <td>173701</td>\n",
       "      <td>7ffbeedfb14f46f259001cefc4d79048ccef25b9e87207...</td>\n",
       "      <td>2016-06-01 08:26:13.0</td>\n",
       "      <td>Nova Motors Motorroller - Grido 49ccm² 2 Takt</td>\n",
       "      <td>211356</td>\n",
       "      <td>176956</td>\n",
       "      <td>25</td>\n",
       "      <td>Motorräder Roller &amp; Quads</td>\n",
       "      <td>Motorcycle</td>\n",
       "      <td>173701 172601 601</td>\n",
       "      <td>172601.0</td>\n",
       "      <td>Cars and Motorcycles</td>\n",
       "      <td>1</td>\n",
       "      <td>3</td>\n",
       "    </tr>\n",
       "    <tr>\n",
       "      <th>2</th>\n",
       "      <td>fc2ed6a74ab7f9de7b991a860bfdbe84723c258dfb6400...</td>\n",
       "      <td>8b4fbb7e4ef2dc46326861f4f42c7899</td>\n",
       "      <td>8b4fbb7e4ef2dc46326861f4f42c7899-1076981212888...</td>\n",
       "      <td>de</td>\n",
       "      <td>173701</td>\n",
       "      <td>7ffbeedfb14f46f259001cefc4d79048ccef25b9e87207...</td>\n",
       "      <td>2016-06-02 09:45:31.0</td>\n",
       "      <td>Nova Motors Motorroller - Grido 49ccm² 2 Takt</td>\n",
       "      <td>410290</td>\n",
       "      <td>176956</td>\n",
       "      <td>25</td>\n",
       "      <td>Motorräder Roller &amp; Quads</td>\n",
       "      <td>Motorcycle</td>\n",
       "      <td>173701 172601 601</td>\n",
       "      <td>172601.0</td>\n",
       "      <td>Cars and Motorcycles</td>\n",
       "      <td>1</td>\n",
       "      <td>3</td>\n",
       "    </tr>\n",
       "    <tr>\n",
       "      <th>3</th>\n",
       "      <td>89005d39d61f62c6e34cb410e3fb494b16b351be2c1372...</td>\n",
       "      <td>f354f4249a8e2db2b619d4be05e060f0</td>\n",
       "      <td>f354f4249a8e2db2b619d4be05e060f0-107698413815_...</td>\n",
       "      <td>de</td>\n",
       "      <td>173701</td>\n",
       "      <td>7ffbeedfb14f46f259001cefc4d79048ccef25b9e87207...</td>\n",
       "      <td>2016-06-02 11:04:50.0</td>\n",
       "      <td>Nova Motors Motorroller - GT3</td>\n",
       "      <td>222747</td>\n",
       "      <td>309575</td>\n",
       "      <td>25</td>\n",
       "      <td>Motorräder Roller &amp; Quads</td>\n",
       "      <td>Motorcycle</td>\n",
       "      <td>173701 172601 601</td>\n",
       "      <td>172601.0</td>\n",
       "      <td>Cars and Motorcycles</td>\n",
       "      <td>1</td>\n",
       "      <td>3</td>\n",
       "    </tr>\n",
       "    <tr>\n",
       "      <th>4</th>\n",
       "      <td>36e7dcee7ebf6d564c5b0a81785293f36dfcebaf8778c7...</td>\n",
       "      <td>f354f4249a8e2db2b619d4be05e060f0</td>\n",
       "      <td>f354f4249a8e2db2b619d4be05e060f0-1076981391636...</td>\n",
       "      <td>de</td>\n",
       "      <td>173701</td>\n",
       "      <td>7ffbeedfb14f46f259001cefc4d79048ccef25b9e87207...</td>\n",
       "      <td>2016-06-02 09:44:08.0</td>\n",
       "      <td>Nova Motors Motorroller - GT3</td>\n",
       "      <td>89230</td>\n",
       "      <td>309575</td>\n",
       "      <td>25</td>\n",
       "      <td>Motorräder Roller &amp; Quads</td>\n",
       "      <td>Motorcycle</td>\n",
       "      <td>173701 172601 601</td>\n",
       "      <td>172601.0</td>\n",
       "      <td>Cars and Motorcycles</td>\n",
       "      <td>1</td>\n",
       "      <td>3</td>\n",
       "    </tr>\n",
       "    <tr>\n",
       "      <th>...</th>\n",
       "      <td>...</td>\n",
       "      <td>...</td>\n",
       "      <td>...</td>\n",
       "      <td>...</td>\n",
       "      <td>...</td>\n",
       "      <td>...</td>\n",
       "      <td>...</td>\n",
       "      <td>...</td>\n",
       "      <td>...</td>\n",
       "      <td>...</td>\n",
       "      <td>...</td>\n",
       "      <td>...</td>\n",
       "      <td>...</td>\n",
       "      <td>...</td>\n",
       "      <td>...</td>\n",
       "      <td>...</td>\n",
       "      <td>...</td>\n",
       "      <td>...</td>\n",
       "    </tr>\n",
       "    <tr>\n",
       "      <th>692668</th>\n",
       "      <td>698b15c28bb7f3c5250c67a489a63b828effe723046aaf...</td>\n",
       "      <td>19827e02f9a5637923d977bc7abfc6fa</td>\n",
       "      <td>19827e02f9a5637923d977bc7abfc6fa-1076982536503...</td>\n",
       "      <td>de</td>\n",
       "      <td>172301</td>\n",
       "      <td>a4163e1501c4e3fc5fef534c7fd15fc9df5802659acc01...</td>\n",
       "      <td>2016-06-30 12:50:17.0</td>\n",
       "      <td>Kia Rio or similar IN THUNDER BAY</td>\n",
       "      <td>171470</td>\n",
       "      <td>32773</td>\n",
       "      <td>194</td>\n",
       "      <td>Mietwagen</td>\n",
       "      <td>Car Rent</td>\n",
       "      <td>172301 169901 601</td>\n",
       "      <td>169901.0</td>\n",
       "      <td>Travel and Holidays</td>\n",
       "      <td>1</td>\n",
       "      <td>1</td>\n",
       "    </tr>\n",
       "    <tr>\n",
       "      <th>692669</th>\n",
       "      <td>0a18d07ba252ea7cb9bd0d7dda61e3745562a083ae224a...</td>\n",
       "      <td>c93411f16814dcbeef9cb09d365080e8</td>\n",
       "      <td>c93411f16814dcbeef9cb09d365080e8-107698411522_...</td>\n",
       "      <td>de</td>\n",
       "      <td>172301</td>\n",
       "      <td>1ca75349ae407fc232ac2c9f34da04f899e78f73a81292...</td>\n",
       "      <td>2016-06-30 14:05:20.0</td>\n",
       "      <td>Ford Fiesta IN MO I RANA</td>\n",
       "      <td>16372</td>\n",
       "      <td>255891</td>\n",
       "      <td>194</td>\n",
       "      <td>Mietwagen</td>\n",
       "      <td>Car Rent</td>\n",
       "      <td>172301 169901 601</td>\n",
       "      <td>169901.0</td>\n",
       "      <td>Travel and Holidays</td>\n",
       "      <td>1</td>\n",
       "      <td>1</td>\n",
       "    </tr>\n",
       "    <tr>\n",
       "      <th>692670</th>\n",
       "      <td>39c07b4a3e5d25a5414e33e29dba907314b5122522a6e9...</td>\n",
       "      <td>be6f3224ae550e4c8329c7b24e0f832d</td>\n",
       "      <td>be6f3224ae550e4c8329c7b24e0f832d-107698411522_...</td>\n",
       "      <td>de</td>\n",
       "      <td>172301</td>\n",
       "      <td>1ca75349ae407fc232ac2c9f34da04f899e78f73a81292...</td>\n",
       "      <td>2016-06-30 15:45:01.0</td>\n",
       "      <td>Dacia Logan IN SIBIU</td>\n",
       "      <td>93943</td>\n",
       "      <td>242240</td>\n",
       "      <td>194</td>\n",
       "      <td>Mietwagen</td>\n",
       "      <td>Car Rent</td>\n",
       "      <td>172301 169901 601</td>\n",
       "      <td>169901.0</td>\n",
       "      <td>Travel and Holidays</td>\n",
       "      <td>3</td>\n",
       "      <td>6</td>\n",
       "    </tr>\n",
       "    <tr>\n",
       "      <th>692671</th>\n",
       "      <td>bf2bc8d8e2e8496eee59a6379619f2c444b47b6b83c257...</td>\n",
       "      <td>8a98e1e6bbbb6e1054a85e93a4cfe023</td>\n",
       "      <td>8a98e1e6bbbb6e1054a85e93a4cfe023-1076982533033...</td>\n",
       "      <td>de</td>\n",
       "      <td>172301</td>\n",
       "      <td>f6ea7dbba25ddf071177cb05b92679fe7ca1a8b00d770f...</td>\n",
       "      <td>2016-06-30 10:12:58.0</td>\n",
       "      <td>Ford Focus IN HOUSTON</td>\n",
       "      <td>310693</td>\n",
       "      <td>176049</td>\n",
       "      <td>194</td>\n",
       "      <td>Mietwagen</td>\n",
       "      <td>Car Rent</td>\n",
       "      <td>172301 169901 601</td>\n",
       "      <td>169901.0</td>\n",
       "      <td>Travel and Holidays</td>\n",
       "      <td>1</td>\n",
       "      <td>1</td>\n",
       "    </tr>\n",
       "    <tr>\n",
       "      <th>692672</th>\n",
       "      <td>0ae2769fc2449a494822aea0a98a11c1c48bc91f329dd3...</td>\n",
       "      <td>3d2b7651502fc1383c7eaa36946f3585</td>\n",
       "      <td>3d2b7651502fc1383c7eaa36946f3585-1076982041178...</td>\n",
       "      <td>de</td>\n",
       "      <td>172301</td>\n",
       "      <td>1ca75349ae407fc232ac2c9f34da04f899e78f73a81292...</td>\n",
       "      <td>2016-06-30 18:15:00.0</td>\n",
       "      <td>Renault Twingo IN BRIVE-LA-GAILLARDE</td>\n",
       "      <td>17705</td>\n",
       "      <td>77999</td>\n",
       "      <td>194</td>\n",
       "      <td>Mietwagen</td>\n",
       "      <td>Car Rent</td>\n",
       "      <td>172301 169901 601</td>\n",
       "      <td>169901.0</td>\n",
       "      <td>Travel and Holidays</td>\n",
       "      <td>1</td>\n",
       "      <td>1</td>\n",
       "    </tr>\n",
       "  </tbody>\n",
       "</table>\n",
       "<p>692673 rows × 18 columns</p>\n",
       "</div>"
      ],
      "text/plain": [
       "                                                   UserId  \\\n",
       "0       23d8fe04a6c1ca67e06376bacf2390f8863e86d75717b4...   \n",
       "1       81f727a6a6e069ac685412c70c0547c14962519d06ec6b...   \n",
       "2       fc2ed6a74ab7f9de7b991a860bfdbe84723c258dfb6400...   \n",
       "3       89005d39d61f62c6e34cb410e3fb494b16b351be2c1372...   \n",
       "4       36e7dcee7ebf6d564c5b0a81785293f36dfcebaf8778c7...   \n",
       "...                                                   ...   \n",
       "692668  698b15c28bb7f3c5250c67a489a63b828effe723046aaf...   \n",
       "692669  0a18d07ba252ea7cb9bd0d7dda61e3745562a083ae224a...   \n",
       "692670  39c07b4a3e5d25a5414e33e29dba907314b5122522a6e9...   \n",
       "692671  bf2bc8d8e2e8496eee59a6379619f2c444b47b6b83c257...   \n",
       "692672  0ae2769fc2449a494822aea0a98a11c1c48bc91f329dd3...   \n",
       "\n",
       "                                 OfferId  \\\n",
       "0       8b4fbb7e4ef2dc46326861f4f42c7899   \n",
       "1       8b4fbb7e4ef2dc46326861f4f42c7899   \n",
       "2       8b4fbb7e4ef2dc46326861f4f42c7899   \n",
       "3       f354f4249a8e2db2b619d4be05e060f0   \n",
       "4       f354f4249a8e2db2b619d4be05e060f0   \n",
       "...                                  ...   \n",
       "692668  19827e02f9a5637923d977bc7abfc6fa   \n",
       "692669  c93411f16814dcbeef9cb09d365080e8   \n",
       "692670  be6f3224ae550e4c8329c7b24e0f832d   \n",
       "692671  8a98e1e6bbbb6e1054a85e93a4cfe023   \n",
       "692672  3d2b7651502fc1383c7eaa36946f3585   \n",
       "\n",
       "                                              OfferViewId CountryCode  \\\n",
       "0       8b4fbb7e4ef2dc46326861f4f42c7899-1076982529341...          de   \n",
       "1       8b4fbb7e4ef2dc46326861f4f42c7899-1076982529341...          de   \n",
       "2       8b4fbb7e4ef2dc46326861f4f42c7899-1076981212888...          de   \n",
       "3       f354f4249a8e2db2b619d4be05e060f0-107698413815_...          de   \n",
       "4       f354f4249a8e2db2b619d4be05e060f0-1076981391636...          de   \n",
       "...                                                   ...         ...   \n",
       "692668  19827e02f9a5637923d977bc7abfc6fa-1076982536503...          de   \n",
       "692669  c93411f16814dcbeef9cb09d365080e8-107698411522_...          de   \n",
       "692670  be6f3224ae550e4c8329c7b24e0f832d-107698411522_...          de   \n",
       "692671  8a98e1e6bbbb6e1054a85e93a4cfe023-1076982533033...          de   \n",
       "692672  3d2b7651502fc1383c7eaa36946f3585-1076982041178...          de   \n",
       "\n",
       "        Category                                             Source  \\\n",
       "0         173701  32ff3ac0aba4118d1eb30f5eb6cc58a32c262b5eb0f7be...   \n",
       "1         173701  7ffbeedfb14f46f259001cefc4d79048ccef25b9e87207...   \n",
       "2         173701  7ffbeedfb14f46f259001cefc4d79048ccef25b9e87207...   \n",
       "3         173701  7ffbeedfb14f46f259001cefc4d79048ccef25b9e87207...   \n",
       "4         173701  7ffbeedfb14f46f259001cefc4d79048ccef25b9e87207...   \n",
       "...          ...                                                ...   \n",
       "692668    172301  a4163e1501c4e3fc5fef534c7fd15fc9df5802659acc01...   \n",
       "692669    172301  1ca75349ae407fc232ac2c9f34da04f899e78f73a81292...   \n",
       "692670    172301  1ca75349ae407fc232ac2c9f34da04f899e78f73a81292...   \n",
       "692671    172301  f6ea7dbba25ddf071177cb05b92679fe7ca1a8b00d770f...   \n",
       "692672    172301  1ca75349ae407fc232ac2c9f34da04f899e78f73a81292...   \n",
       "\n",
       "                      UtcDate                                     OfferTitle  \\\n",
       "0       2016-06-02 00:26:02.0  Nova Motors Motorroller - Grido 49ccm² 2 Takt   \n",
       "1       2016-06-01 08:26:13.0  Nova Motors Motorroller - Grido 49ccm² 2 Takt   \n",
       "2       2016-06-02 09:45:31.0  Nova Motors Motorroller - Grido 49ccm² 2 Takt   \n",
       "3       2016-06-02 11:04:50.0                  Nova Motors Motorroller - GT3   \n",
       "4       2016-06-02 09:44:08.0                  Nova Motors Motorroller - GT3   \n",
       "...                       ...                                            ...   \n",
       "692668  2016-06-30 12:50:17.0              Kia Rio or similar IN THUNDER BAY   \n",
       "692669  2016-06-30 14:05:20.0                       Ford Fiesta IN MO I RANA   \n",
       "692670  2016-06-30 15:45:01.0                           Dacia Logan IN SIBIU   \n",
       "692671  2016-06-30 10:12:58.0                          Ford Focus IN HOUSTON   \n",
       "692672  2016-06-30 18:15:00.0           Renault Twingo IN BRIVE-LA-GAILLARDE   \n",
       "\n",
       "          User   Offer  Cat_clicks              Category_Name   Translate  \\\n",
       "0        58085  176956          25  Motorräder Roller & Quads  Motorcycle   \n",
       "1       211356  176956          25  Motorräder Roller & Quads  Motorcycle   \n",
       "2       410290  176956          25  Motorräder Roller & Quads  Motorcycle   \n",
       "3       222747  309575          25  Motorräder Roller & Quads  Motorcycle   \n",
       "4        89230  309575          25  Motorräder Roller & Quads  Motorcycle   \n",
       "...        ...     ...         ...                        ...         ...   \n",
       "692668  171470   32773         194                  Mietwagen    Car Rent   \n",
       "692669   16372  255891         194                  Mietwagen    Car Rent   \n",
       "692670   93943  242240         194                  Mietwagen    Car Rent   \n",
       "692671  310693  176049         194                  Mietwagen    Car Rent   \n",
       "692672   17705   77999         194                  Mietwagen    Car Rent   \n",
       "\n",
       "              Ancestor_ID   filha_1          filha_1_name  UserTotalClicks  \\\n",
       "0       173701 172601 601  172601.0  Cars and Motorcycles                1   \n",
       "1       173701 172601 601  172601.0  Cars and Motorcycles                1   \n",
       "2       173701 172601 601  172601.0  Cars and Motorcycles                1   \n",
       "3       173701 172601 601  172601.0  Cars and Motorcycles                1   \n",
       "4       173701 172601 601  172601.0  Cars and Motorcycles                1   \n",
       "...                   ...       ...                   ...              ...   \n",
       "692668  172301 169901 601  169901.0   Travel and Holidays                1   \n",
       "692669  172301 169901 601  169901.0   Travel and Holidays                1   \n",
       "692670  172301 169901 601  169901.0   Travel and Holidays                3   \n",
       "692671  172301 169901 601  169901.0   Travel and Holidays                1   \n",
       "692672  172301 169901 601  169901.0   Travel and Holidays                1   \n",
       "\n",
       "        ProductClicks  \n",
       "0                   3  \n",
       "1                   3  \n",
       "2                   3  \n",
       "3                   3  \n",
       "4                   3  \n",
       "...               ...  \n",
       "692668              1  \n",
       "692669              1  \n",
       "692670              6  \n",
       "692671              1  \n",
       "692672              1  \n",
       "\n",
       "[692673 rows x 18 columns]"
      ]
     },
     "execution_count": 13,
     "metadata": {},
     "output_type": "execute_result"
    }
   ],
   "source": [
    "clicks_de"
   ]
  },
  {
   "cell_type": "code",
   "execution_count": 14,
   "id": "ad7f5728",
   "metadata": {},
   "outputs": [],
   "source": [
    "#clicks_de_filtered.UserId = clicks_de_filtered.UserId.astype('category')\n",
    "# clicks_de_filtered.OfferId = clicks_de_filtered.OfferId.astype('category')\n",
    "\n",
    "\n",
    "# clicks_de_filtered['User'] = clicks_de_filtered.UserId.cat.codes\n",
    "# clicks_de_filtered['Offer'] = clicks_de_filtered.OfferId.cat.codes#Cap minimo de clicks para integrar o sistema de recomendação\n",
    "clicks_de_filtered = clicks_de[(clicks_de.ProductClicks > 17) & (clicks_de.ProductClicks < (clicks_de.ProductClicks.mean() + 2*clicks_de.ProductClicks.std()))]"
   ]
  },
  {
   "cell_type": "code",
   "execution_count": 15,
   "id": "504b3c12",
   "metadata": {},
   "outputs": [],
   "source": [
    "clicks_de_filtered['UserTotalClicks'] = clicks_de_filtered.groupby(by=['UserId'])['OfferId'].transform('count')\n",
    "clicks_de_filtered = clicks_de_filtered[(clicks_de_filtered.UserTotalClicks > 7)]"
   ]
  },
  {
   "cell_type": "code",
   "execution_count": 16,
   "id": "3273d3b2",
   "metadata": {},
   "outputs": [
    {
     "data": {
      "text/plain": [
       "1986       8\n",
       "2037       8\n",
       "2038       8\n",
       "2181       8\n",
       "3210       8\n",
       "          ..\n",
       "690964     8\n",
       "691311    10\n",
       "691313    10\n",
       "691499    12\n",
       "691568     8\n",
       "Name: UserTotalClicks, Length: 6193, dtype: int64"
      ]
     },
     "execution_count": 16,
     "metadata": {},
     "output_type": "execute_result"
    }
   ],
   "source": [
    "clicks_de_filtered.UserTotalClicks"
   ]
  },
  {
   "cell_type": "code",
   "execution_count": 17,
   "id": "234b93e5",
   "metadata": {},
   "outputs": [],
   "source": [
    "clicks_de_filtered.to_csv('de_model_sample.csv')"
   ]
  },
  {
   "cell_type": "markdown",
   "id": "303b1e9e",
   "metadata": {},
   "source": [
    "\n",
    "### Agrupamento de dos clicks de usuário em ofertas únicas para termos a quantidade de cada usuário em cada oferta.\n"
   ]
  },
  {
   "cell_type": "code",
   "execution_count": 18,
   "id": "7c1d1450",
   "metadata": {},
   "outputs": [],
   "source": [
    "clicks_per_user_product = clicks_de_filtered.groupby(by=['User','Offer']).count()['UserTotalClicks'].reset_index().rename({'UserTotalClicks':'UserClicks'}, axis = 1)"
   ]
  },
  {
   "cell_type": "markdown",
   "id": "b752ac77",
   "metadata": {},
   "source": [
    "### Criação de matrizes esparsas Usuário-item e item-usuário"
   ]
  },
  {
   "cell_type": "code",
   "execution_count": 19,
   "id": "612b391d",
   "metadata": {},
   "outputs": [],
   "source": [
    "alpha = 40\n",
    "sparse_item_user = csr_matrix((clicks_per_user_product['UserClicks'], (clicks_per_user_product['Offer'], clicks_per_user_product['User'])))\n",
    "sparse_user_item = csr_matrix((clicks_per_user_product['UserClicks'], (clicks_per_user_product['User'], clicks_per_user_product['Offer'])))\n",
    "\n",
    "sparse_user_item = (sparse_user_item).astype('double') # Conversão de tipo para que o modelo ALS funcione corretamente\n",
    "data = (sparse_item_user).astype('double') # Conversão de tipo para que o modelo ALS funcione corretamente"
   ]
  },
  {
   "cell_type": "code",
   "execution_count": 20,
   "id": "84ed7b8a",
   "metadata": {},
   "outputs": [],
   "source": [
    "# weight the matrix, both to reduce impact of users that have played the same artist thousands of times\n",
    "# and to reduce the weight given to popular items\n",
    "item_user_clicks = bm25_weight(data, K1=100, B=0.8)\n",
    "# get the transpose since the most of the functions in implicit expect (user, item) sparse matrices instead of (item, user)\n",
    "user_clicks = item_user_clicks.T.tocsr()"
   ]
  },
  {
   "cell_type": "code",
   "execution_count": 21,
   "id": "23beede9",
   "metadata": {},
   "outputs": [
    {
     "data": {
      "text/plain": [
       "0.9999999644388504"
      ]
     },
     "execution_count": 21,
     "metadata": {},
     "output_type": "execute_result"
    }
   ],
   "source": [
    "#Esparsidade de matriz\n",
    "possible_interactions = sparse_item_user.shape[0]*sparse_item_user.shape[1]\n",
    "interacted = len(sparse_item_user.nonzero()[0])\n",
    "sparsity = 1 - interacted/possible_interactions\n",
    "sparsity"
   ]
  },
  {
   "cell_type": "markdown",
   "id": "cb9e5fae",
   "metadata": {},
   "source": [
    " Mais de 99.99% das interações possíveis entre usuários e produtos na atual base dados não foi ainda realizada. Segundo artigo: For collaborative filtering to work, the maximum sparsity you could get away with would probably be about 99.5% or so. Devemos reavaliar a matriz?"
   ]
  },
  {
   "cell_type": "code",
   "execution_count": 22,
   "id": "44cda5d0",
   "metadata": {},
   "outputs": [],
   "source": [
    "save_npz(os.getcwd()+\"/.npz/de/sparse_user_item.npz\", sparse_user_item)\n",
    "save_npz(os.getcwd()+\"/.npz/de/sparse_item_user.npz\", sparse_item_user)"
   ]
  },
  {
   "cell_type": "code",
   "execution_count": 23,
   "id": "bceb6201",
   "metadata": {},
   "outputs": [],
   "source": [
    "model_path = os.getcwd()+'/.pkl/de/de_als_model.pkl'"
   ]
  },
  {
   "cell_type": "markdown",
   "id": "2fd20987",
   "metadata": {},
   "source": [
    "* Criação de diferentes matrizes esparsas para operar com o algoritmo. Usuário-item e item-usuário. Cada uma deve ser usada no momento preciso\n",
    "* O alfa é o coeficiente de confiabilidade da interação do usuário com um item específico. Valor utilizado fi adotado com base no artigo: https://towardsdatascience.com/alternating-least-square-for-implicit-dataset-with-code-8e7999277f4b. Mas, podemos testar outros valores na validação do modelo.\n",
    "* Outro artigo de base pra elaboração do modelo: https://medium.com/analytics-vidhya/implementation-of-a-movies-recommender-from-implicit-feedback-6a810de173ac"
   ]
  },
  {
   "cell_type": "markdown",
   "id": "8565128d",
   "metadata": {},
   "source": [
    "# FUNÇÃO DE RECOMENDAÇÕES - IMPLICIT"
   ]
  },
  {
   "cell_type": "markdown",
   "id": "8339b26e",
   "metadata": {},
   "source": [
    "## Treinamento de modelos"
   ]
  },
  {
   "cell_type": "code",
   "execution_count": 24,
   "id": "aa545f30",
   "metadata": {},
   "outputs": [],
   "source": [
    "offers = pickle.load(open(os.getcwd()+\"/.pkl/de/offers.pkl\", \"rb\"))"
   ]
  },
  {
   "cell_type": "markdown",
   "id": "184a012c",
   "metadata": {},
   "source": [
    "Carregamentodo dicionário que converte os códigos de ofertas para o seu título de oferta. Ainda falta traduzir do alemão para o inglês para tirar mais significado dos resultados"
   ]
  },
  {
   "cell_type": "code",
   "execution_count": 25,
   "id": "4e17589b",
   "metadata": {},
   "outputs": [],
   "source": [
    "def als_model():\n",
    "    \n",
    "    '''computes p@k and map@k evaluation metrics and saves model'''\n",
    "    \n",
    "    #sparse_item_user = load_npz(os.getcwd()+\"/.npz/sparse_item_user.npz\")\n",
    "      \n",
    "    train, test = implicit.evaluation.train_test_split(sparse_user_item, train_percentage=0.8)\n",
    "\n",
    "    model = implicit.als.AlternatingLeastSquares(factors=10, \n",
    "                                                 regularization=1, \n",
    "                                                 iterations=50,\n",
    "                                                 calculate_training_loss=False)\n",
    "    alpha=15\n",
    "    model.fit(train*alpha)\n",
    "\n",
    "    with open(model_path, 'wb') as pickle_out:\n",
    "        pickle.dump(model, pickle_out)\n",
    "    \n",
    "    return train, test, model"
   ]
  },
  {
   "cell_type": "code",
   "execution_count": 26,
   "id": "578d461a",
   "metadata": {},
   "outputs": [
    {
     "data": {
      "application/vnd.jupyter.widget-view+json": {
       "model_id": "2dac136c5c0141eb80ab1de30186bfe0",
       "version_major": 2,
       "version_minor": 0
      },
      "text/plain": [
       "  0%|          | 0/50 [00:00<?, ?it/s]"
      ]
     },
     "metadata": {},
     "output_type": "display_data"
    },
    {
     "data": {
      "application/vnd.jupyter.widget-view+json": {
       "model_id": "a5395bf962994cf28f4a303b0f90a6c4",
       "version_major": 2,
       "version_minor": 0
      },
      "text/plain": [
       "  0%|          | 0/408 [00:00<?, ?it/s]"
      ]
     },
     "metadata": {},
     "output_type": "display_data"
    },
    {
     "data": {
      "text/plain": [
       "0.3658787255909558"
      ]
     },
     "execution_count": 26,
     "metadata": {},
     "output_type": "execute_result"
    }
   ],
   "source": [
    "train, test, model = als_model()\n",
    "implicit.evaluation.precision_at_k(model,train,test)"
   ]
  },
  {
   "cell_type": "markdown",
   "id": "9c316f76",
   "metadata": {},
   "source": [
    "# Avaliação Baseline"
   ]
  },
  {
   "cell_type": "code",
   "execution_count": 201,
   "id": "46a7974e",
   "metadata": {},
   "outputs": [],
   "source": [
    "def get_k_most_popular(sparse_item_user, k):\n",
    "    \n",
    "    \"\"\"Retorna um array com os códigos dos itens clicados por mais clientes da base de dados\"\"\"\n",
    "    \n",
    "    new_sparse = sparse_item_user.copy() # Nova esparsa para não modificar a original\n",
    "    interaction = np.ones_like(new_sparse.data) # Altera os valores da matriz esparsa para '1' se houve interação para que não sejam contadas múltiplas interações do mesmo cliente com o mesmo produto\n",
    "    new_sparse.data = interaction # Assimila o array de interações de 1's aos dados da matriz esparsa\n",
    "    pop_items = np.array((new_sparse).sum(axis = 1)).reshape(-1) # Aqui é feita a soma de interações que ocorreram em cada uma das linhas, que correspondem a cada um dos produtos\n",
    "    most_popular = pd.Series(pop_items).sort_values(ascending = False)[:k] # Os itens são convertidos em série para que possam ser ordenados e então captados os deus com maior incidência para que sejam retornados seus indices(código do produto)\n",
    "    \n",
    "    return most_popular.index"
   ]
  },
  {
   "cell_type": "markdown",
   "id": "d20c97a7",
   "metadata": {},
   "source": [
    " O modelo de baseline considerará como sugestão os produtos mais populares de todo o dataframe como recomendação para todos os clientes"
   ]
  },
  {
   "cell_type": "code",
   "execution_count": 202,
   "id": "0c8a850a",
   "metadata": {},
   "outputs": [],
   "source": [
    "def get_top_k(userid, sparse_user_item, k=10):\n",
    "    \n",
    "    '''Retorna os top-K produtos clicados por um usuário de acordo \n",
    "    com o nível de confiança obtido através das suas interações'''\n",
    "    \n",
    "    top_K =pd.Series(sparse_user_item[userid].data, index = sparse_user_item[userid].indices).sort_values(ascending = False)[:k]\n",
    "    return top_K.index"
   ]
  },
  {
   "cell_type": "code",
   "execution_count": 139,
   "id": "c5b30ee8",
   "metadata": {},
   "outputs": [],
   "source": [
    "def baseline_precision_at_k(sparse_item_user, k=10, test_pct=0.2):\n",
    "\n",
    "    \"\"\"Avalia a precisão caso o modelo recomendasse apenas os itens mais populares a todos os clientes.\n",
    "    A métrica é calculada com base em uma seleção aleatória de 20% dos clientes.\"\"\"\n",
    "    \n",
    "    # Seleção aleatória de 20% dos usuários para testagem por popularidade\n",
    "    test_sample = np.random.choice(sparse_item_user.indices,\n",
    "                                   size = int(test_pct*len(sparse_item_user.indices)), \n",
    "                                   replace = False) \n",
    "    \n",
    "    most_popular = (get_k_most_popular(sparse_item_user, k)) # lista de 10 itens mais populares\n",
    "    \n",
    "    total_precision = 0 \n",
    "    sparse_user_item = sparse_item_user.T.tocsr()\n",
    "    \n",
    "    for user in test_sample:\n",
    "        relevance = 0\n",
    "        top_K = get_top_k(user, sparse_user_item, k)\n",
    "        \n",
    "        for item in most_popular:\n",
    "            if item in top_K: # Alteração do pesoa das interações para 0 e 1. Assim, será contabilizado apenas se o usuário interagiu com o item ou não.\n",
    "                interact = 1\n",
    "            else:\n",
    "                interact = 0\n",
    "            relevance+= interact\n",
    "            \n",
    "        relevance/=k\n",
    "        total_precision+=relevance\n",
    "        \n",
    "    total_precision/=len(test_sample)\n",
    "    \n",
    "    return total_precision"
   ]
  },
  {
   "cell_type": "code",
   "execution_count": 308,
   "id": "1bfdc186",
   "metadata": {},
   "outputs": [
    {
     "data": {
      "text/plain": [
       "0.1477638640429337"
      ]
     },
     "execution_count": 308,
     "metadata": {},
     "output_type": "execute_result"
    }
   ],
   "source": [
    "baseline_precision_at_k(sparse_user_item.T.tocsr())"
   ]
  },
  {
   "cell_type": "markdown",
   "id": "1e2f255b",
   "metadata": {},
   "source": [
    "### Avaliação do modelo"
   ]
  },
  {
   "cell_type": "code",
   "execution_count": 31,
   "id": "2fab6fdc",
   "metadata": {},
   "outputs": [],
   "source": [
    "def model_evaluation(train, test, model, k=10): \n",
    "    \n",
    "    '''Avaliação do modelo treinado com as funções da biblioteca Implicit.\n",
    "    Retorna dicionário com p@k, map@k, ndcg@k e auc@k.'''\n",
    "\n",
    "    \n",
    "    p_at_k = implicit.evaluation.precision_at_k(model, train_user_items=train, \n",
    "                                                test_user_items=test,\n",
    "                                                K=k, \n",
    "                                                show_progress = False)\n",
    "    \n",
    "    m_at_k = implicit.evaluation.mean_average_precision_at_k(model, \n",
    "                                                             train_user_items = train, \n",
    "                                                             test_user_items = test, \n",
    "                                                             K=k, \n",
    "                                                             show_progress = False)\n",
    "\n",
    "    ndcg_at_k = implicit.evaluation.ndcg_at_k(model, \n",
    "                                              train_user_items = train,\n",
    "                                              test_user_items = test, \n",
    "                                              K=k, \n",
    "                                              show_progress = False)\n",
    "\n",
    "    auc_at_k = implicit.evaluation.AUC_at_k(model, \n",
    "                                            train_user_items = train, \n",
    "                                            test_user_items = test, \n",
    "                                            K=k, \n",
    "                                            show_progress = False)\n",
    "    metrics = {'p@K':p_at_k, \n",
    "               'map@K': m_at_k, \n",
    "               'ndcg@K':ndcg_at_k, \n",
    "               'auc@K':auc_at_k}\n",
    "    \n",
    "    return metrics"
   ]
  },
  {
   "cell_type": "code",
   "execution_count": 32,
   "id": "b1a939d6",
   "metadata": {},
   "outputs": [],
   "source": [
    "metrics = model_evaluation(train, test, model, k = 10)"
   ]
  },
  {
   "cell_type": "code",
   "execution_count": 33,
   "id": "c1b697f9",
   "metadata": {},
   "outputs": [
    {
     "data": {
      "text/plain": [
       "{'p@K': 0.361863488624052,\n",
       " 'map@K': 0.1743745088794595,\n",
       " 'ndcg@K': 0.23899339127583177,\n",
       " 'auc@K': 0.672037884709014}"
      ]
     },
     "execution_count": 33,
     "metadata": {},
     "output_type": "execute_result"
    }
   ],
   "source": [
    "metrics"
   ]
  },
  {
   "cell_type": "code",
   "execution_count": 323,
   "id": "83edd5f5",
   "metadata": {},
   "outputs": [
    {
     "data": {
      "text/plain": [
       "(3821,)"
      ]
     },
     "execution_count": 323,
     "metadata": {},
     "output_type": "execute_result"
    }
   ],
   "source": [
    "clicks_de_filtered.UserTotalClicks.shape"
   ]
  },
  {
   "cell_type": "markdown",
   "id": "195bd09e",
   "metadata": {},
   "source": [
    "* Sobre metricas de precisão @k: https://medium.com/@m_n_malaeb/recall-and-precision-at-k-for-recommender-systems-618483226c54\n",
    "* Sobre NDCG: https://towardsdatascience.com/evaluate-your-recommendation-engine-using-ndcg-759a851452d1\n",
    "* Sobre Mean Average Precision: https://towardsdatascience.com/breaking-down-mean-average-precision-map-ae462f623a52"
   ]
  },
  {
   "cell_type": "markdown",
   "id": "4b12f983",
   "metadata": {},
   "source": [
    "Ainda não foi realizada qualquer tunagem de hiperaparâmetros. Podemos pegar alguns valores de referencia para rodar um gridsearch"
   ]
  },
  {
   "cell_type": "markdown",
   "id": "a3cdcd52",
   "metadata": {},
   "source": [
    "## Funções de recomendações"
   ]
  },
  {
   "cell_type": "code",
   "execution_count": 143,
   "id": "00369e37",
   "metadata": {
    "scrolled": true
   },
   "outputs": [],
   "source": [
    "def recommend(user, K=10):\n",
    "    \n",
    "    ''' Retorna uma lista de itens recomendados para o usuário dado de acordo com a biblioteca Implicit.\n",
    "        Também é retornado uma lista com os itens já clicados por esse usuário'''\n",
    "    \n",
    "    #sparse_user_item = load_npz(\"/.npz/sparse_user_item.npz\")\n",
    "    \n",
    "    with open(model_path, 'rb') as pickle_in:\n",
    "        model = pickle.load(pickle_in)\n",
    "    \n",
    "    if user not in sparse_user_item.T.tocsr().indices:\n",
    "        return \"Invalid User\"\n",
    "        \n",
    "    recommended, scores = (model.recommend(user, sparse_user_item[user], K))\n",
    "\n",
    "    original_user_items = list(sparse_user_item[user].indices)\n",
    "\n",
    "    return recommended, original_user_items"
   ]
  },
  {
   "cell_type": "code",
   "execution_count": 144,
   "id": "a5d7bb00",
   "metadata": {},
   "outputs": [],
   "source": [
    "x = recommend(402990)"
   ]
  },
  {
   "cell_type": "code",
   "execution_count": 440,
   "id": "9c9ed978",
   "metadata": {},
   "outputs": [
    {
     "data": {
      "text/html": [
       "<div>\n",
       "<style scoped>\n",
       "    .dataframe tbody tr th:only-of-type {\n",
       "        vertical-align: middle;\n",
       "    }\n",
       "\n",
       "    .dataframe tbody tr th {\n",
       "        vertical-align: top;\n",
       "    }\n",
       "\n",
       "    .dataframe thead th {\n",
       "        text-align: right;\n",
       "    }\n",
       "</style>\n",
       "<table border=\"1\" class=\"dataframe\">\n",
       "  <thead>\n",
       "    <tr style=\"text-align: right;\">\n",
       "      <th></th>\n",
       "      <th>Offer</th>\n",
       "      <th>OfferTitle</th>\n",
       "      <th>Category</th>\n",
       "      <th>Filha_1</th>\n",
       "    </tr>\n",
       "  </thead>\n",
       "  <tbody>\n",
       "    <tr>\n",
       "      <th>0</th>\n",
       "      <td>67419</td>\n",
       "      <td>Apple MacBook Pro 15 Retina 2015 (MJLT2D/A)</td>\n",
       "      <td>113501</td>\n",
       "      <td>110001</td>\n",
       "    </tr>\n",
       "    <tr>\n",
       "      <th>1</th>\n",
       "      <td>58395</td>\n",
       "      <td>Fellowes PrivaScreen privacy filter</td>\n",
       "      <td>113501</td>\n",
       "      <td>110001</td>\n",
       "    </tr>\n",
       "    <tr>\n",
       "      <th>2</th>\n",
       "      <td>53742</td>\n",
       "      <td>Fellowes PrivaScreen privacy filter</td>\n",
       "      <td>113501</td>\n",
       "      <td>110001</td>\n",
       "    </tr>\n",
       "    <tr>\n",
       "      <th>3</th>\n",
       "      <td>318377</td>\n",
       "      <td>Vogel´s PTS 1214 TabLock protective case for i...</td>\n",
       "      <td>113501</td>\n",
       "      <td>110001</td>\n",
       "    </tr>\n",
       "    <tr>\n",
       "      <th>4</th>\n",
       "      <td>104160</td>\n",
       "      <td>Vogel´s PTS 1216 TabLock protective case for i...</td>\n",
       "      <td>113501</td>\n",
       "      <td>110001</td>\n",
       "    </tr>\n",
       "    <tr>\n",
       "      <th>5</th>\n",
       "      <td>74523</td>\n",
       "      <td>4You pencil case XXL Shades Purple pencil case</td>\n",
       "      <td>100360623</td>\n",
       "      <td>117901</td>\n",
       "    </tr>\n",
       "    <tr>\n",
       "      <th>6</th>\n",
       "      <td>18291</td>\n",
       "      <td>Longoni Cue Wax - Original LONGONI</td>\n",
       "      <td>100014313</td>\n",
       "      <td>163601</td>\n",
       "    </tr>\n",
       "    <tr>\n",
       "      <th>7</th>\n",
       "      <td>19258</td>\n",
       "      <td>BARTS Wildbert Beanie</td>\n",
       "      <td>107401</td>\n",
       "      <td>107301</td>\n",
       "    </tr>\n",
       "    <tr>\n",
       "      <th>8</th>\n",
       "      <td>77282</td>\n",
       "      <td>MYDAY fleece jacket LORD</td>\n",
       "      <td>108101</td>\n",
       "      <td>107301</td>\n",
       "    </tr>\n",
       "    <tr>\n",
       "      <th>9</th>\n",
       "      <td>200362</td>\n",
       "      <td>HP EliteBook 8460p</td>\n",
       "      <td>113501</td>\n",
       "      <td>110001</td>\n",
       "    </tr>\n",
       "  </tbody>\n",
       "</table>\n",
       "</div>"
      ],
      "text/plain": [
       "    Offer                                         OfferTitle   Category  \\\n",
       "0   67419        Apple MacBook Pro 15 Retina 2015 (MJLT2D/A)     113501   \n",
       "1   58395                Fellowes PrivaScreen privacy filter     113501   \n",
       "2   53742                Fellowes PrivaScreen privacy filter     113501   \n",
       "3  318377  Vogel´s PTS 1214 TabLock protective case for i...     113501   \n",
       "4  104160  Vogel´s PTS 1216 TabLock protective case for i...     113501   \n",
       "5   74523     4You pencil case XXL Shades Purple pencil case  100360623   \n",
       "6   18291                 Longoni Cue Wax - Original LONGONI  100014313   \n",
       "7   19258                              BARTS Wildbert Beanie     107401   \n",
       "8   77282                           MYDAY fleece jacket LORD     108101   \n",
       "9  200362                                 HP EliteBook 8460p     113501   \n",
       "\n",
       "   Filha_1  \n",
       "0   110001  \n",
       "1   110001  \n",
       "2   110001  \n",
       "3   110001  \n",
       "4   110001  \n",
       "5   117901  \n",
       "6   163601  \n",
       "7   107301  \n",
       "8   107301  \n",
       "9   110001  "
      ]
     },
     "execution_count": 440,
     "metadata": {},
     "output_type": "execute_result"
    }
   ],
   "source": [
    "recs= []\n",
    "for item in x[0]:\n",
    "    recs.append([item, offers[item], offer_cat[item], offer_filha1[item]])\n",
    "pd.DataFrame(recs, columns = ['Offer','OfferTitle','Category','Filha_1'])"
   ]
  },
  {
   "cell_type": "code",
   "execution_count": 361,
   "id": "e8d13171",
   "metadata": {},
   "outputs": [
    {
     "data": {
      "text/html": [
       "<div>\n",
       "<style scoped>\n",
       "    .dataframe tbody tr th:only-of-type {\n",
       "        vertical-align: middle;\n",
       "    }\n",
       "\n",
       "    .dataframe tbody tr th {\n",
       "        vertical-align: top;\n",
       "    }\n",
       "\n",
       "    .dataframe thead th {\n",
       "        text-align: right;\n",
       "    }\n",
       "</style>\n",
       "<table border=\"1\" class=\"dataframe\">\n",
       "  <thead>\n",
       "    <tr style=\"text-align: right;\">\n",
       "      <th></th>\n",
       "      <th>Offer</th>\n",
       "      <th>OfferTitle</th>\n",
       "      <th>Category</th>\n",
       "      <th>Filha_1</th>\n",
       "    </tr>\n",
       "  </thead>\n",
       "  <tbody>\n",
       "    <tr>\n",
       "      <th>0</th>\n",
       "      <td>68</td>\n",
       "      <td>VOGGENREITER THE BIG BOOK FOR SAXOPHONE</td>\n",
       "      <td>100434023</td>\n",
       "      <td>117901</td>\n",
       "    </tr>\n",
       "    <tr>\n",
       "      <th>1</th>\n",
       "      <td>7190</td>\n",
       "      <td>PPV Media Self-promotion for musicians</td>\n",
       "      <td>100434023</td>\n",
       "      <td>117901</td>\n",
       "    </tr>\n",
       "    <tr>\n",
       "      <th>2</th>\n",
       "      <td>89779</td>\n",
       "      <td>Tipard YouTube Converter</td>\n",
       "      <td>117001</td>\n",
       "      <td>110001</td>\n",
       "    </tr>\n",
       "    <tr>\n",
       "      <th>3</th>\n",
       "      <td>228812</td>\n",
       "      <td>HP &amp;quot;15-ac101ng (N9R55EA) 39</td>\n",
       "      <td>113501</td>\n",
       "      <td>110001</td>\n",
       "    </tr>\n",
       "  </tbody>\n",
       "</table>\n",
       "</div>"
      ],
      "text/plain": [
       "    Offer                               OfferTitle   Category  Filha_1\n",
       "0      68  VOGGENREITER THE BIG BOOK FOR SAXOPHONE  100434023   117901\n",
       "1    7190   PPV Media Self-promotion for musicians  100434023   117901\n",
       "2   89779                 Tipard YouTube Converter     117001   110001\n",
       "3  228812         HP &quot;15-ac101ng (N9R55EA) 39     113501   110001"
      ]
     },
     "execution_count": 361,
     "metadata": {},
     "output_type": "execute_result"
    }
   ],
   "source": [
    "recs= []\n",
    "for item in x[1]:\n",
    "    recs.append([item, offers[item], offer_cat[item], offer_filha1[item]])\n",
    "pd.DataFrame(recs, columns = ['Offer','OfferTitle','Category','Filha_1'])"
   ]
  },
  {
   "cell_type": "code",
   "execution_count": 127,
   "id": "97ed235a",
   "metadata": {},
   "outputs": [],
   "source": [
    "def most_similar_items(item_id, n_similar=10):\n",
    "    '''computes the most similar items'''\n",
    "    \n",
    "    with open(model_path, 'rb') as pickle_in:\n",
    "        model = pickle.load(pickle_in)\n",
    "\n",
    "    similar, score = model.similar_items(item_id, n_similar, filter_items = [item_id])\n",
    "\n",
    "    return similar"
   ]
  },
  {
   "cell_type": "code",
   "execution_count": 128,
   "id": "6aed1935",
   "metadata": {},
   "outputs": [],
   "source": [
    "a = most_similar_items(32335)"
   ]
  },
  {
   "cell_type": "code",
   "execution_count": 129,
   "id": "6d69534a",
   "metadata": {},
   "outputs": [
    {
     "name": "stdout",
     "output_type": "stream",
     "text": [
      "Samsung Galaxy S5 mini white\n"
     ]
    },
    {
     "data": {
      "text/plain": [
       "['Samsung Galaxy S6 edge Black 64GB',\n",
       " 'Huawei P8lite black',\n",
       " 'Apple iPhone 5s 16GB Silver',\n",
       " 'Samsung Galaxy S5 neo black',\n",
       " 'Ssangyong REXTON W SAPPHIRE 2.0 D Automat.',\n",
       " 'Ford Kuga Titanium 4x4 Auto.Leather Navi Panorama',\n",
       " 'Volkswagen Touareg V10 TDI fully equipped',\n",
       " 'Skoda Fabia 1.6 TDI DPF Ambition 1.HAND CLIMATE SHZ EU-5',\n",
       " 'HP EliteBook 8460p',\n",
       " \"BMW M3 E30 Cabrio collector's item rarity\"]"
      ]
     },
     "execution_count": 129,
     "metadata": {},
     "output_type": "execute_result"
    }
   ],
   "source": [
    "print(offers[32335])\n",
    "[offers[x] for x in a]"
   ]
  },
  {
   "cell_type": "code",
   "execution_count": 84,
   "id": "6749753c",
   "metadata": {},
   "outputs": [],
   "source": [
    "def most_similar_users(user_id, n_similar=10):\n",
    "    \n",
    "    '''computes the most similar users and which items they have in common with the user'''\n",
    "    \n",
    "    sparse_user_item = load_npz(os.getcwd()+\"/.npz/sparse_user_item.npz\")\n",
    "    \n",
    "    with open(model_path, 'rb') as pickle_in:\n",
    "        model = pickle.load(pickle_in)\n",
    "\n",
    "    similar, scores = model.similar_users(user_id, n_similar, filter_users = [user_id])\n",
    "\n",
    "    # original users items\n",
    "    original_user_items = list(sparse_user_item[user_id].indices)\n",
    "    common_items_users = {}\n",
    "\n",
    "    # now we want to add the items that a similar user has rated\n",
    "    for user in similar:\n",
    "        # Verifica em cada usuário considerado similar quais são os itens que estes\n",
    "        # tem em comum com o usuário selecionado\n",
    "        common_items_users[user] = set(list(sparse_user_item[user].indices)) & set(original_user_items)\n",
    "    \n",
    "    # retorna usuários similares, e quais são os itens comuns correspondentes a cada um desses usuários\n",
    "    return similar, common_items_users"
   ]
  },
  {
   "cell_type": "code",
   "execution_count": 87,
   "id": "bb081126",
   "metadata": {
    "scrolled": true
   },
   "outputs": [
    {
     "data": {
      "text/plain": [
       "(array([136070, 341180, 210811, 386973, 281488, 315187, 404675,  37545,\n",
       "        212047, 125358]),\n",
       " {136070: {65099, 134925, 276934},\n",
       "  341180: {87420, 174710},\n",
       "  210811: {174710, 206133, 323181},\n",
       "  386973: set(),\n",
       "  281488: {49585, 87420, 173209, 174710},\n",
       "  315187: set(),\n",
       "  404675: set(),\n",
       "  37545: set(),\n",
       "  212047: {268885},\n",
       "  125358: set()})"
      ]
     },
     "execution_count": 87,
     "metadata": {},
     "output_type": "execute_result"
    }
   ],
   "source": [
    "most_similar_users(185847)"
   ]
  },
  {
   "cell_type": "code",
   "execution_count": 88,
   "id": "da77d2b3",
   "metadata": {},
   "outputs": [],
   "source": [
    "def recalculate_user(user_ratings):\n",
    "    \n",
    "    '''adds new user and its liked items to sparse matrix and returns recalculated recommendations\n",
    "       Receives the user clicked products vector (user_ratings)''' \n",
    "\n",
    "    m = load_npz('sparse_user_item.npz')\n",
    "    n_users, n_movies = m.shape\n",
    "\n",
    "    ratings = [alpha for i in range(len(user_ratings))]\n",
    "\n",
    "    m.data = np.hstack((m.data, ratings))\n",
    "    m.indices = np.hstack((m.indices, user_ratings))\n",
    "    m.indptr = np.hstack((m.indptr, len(m.data)))\n",
    "    m._shape = (n_users+1, n_movies)\n",
    "\n",
    "    # recommend N items to new user\n",
    "    with open(model_path, 'rb') as pickle_in:\n",
    "        model = pickle.load(pickle_in)\n",
    "        \n",
    "    recommended, _ =  zip(*model.recommend(n_users, m, recalculate_user=True))\n",
    "    \n",
    "    return recommended"
   ]
  },
  {
   "cell_type": "code",
   "execution_count": 345,
   "id": "39041824",
   "metadata": {},
   "outputs": [],
   "source": [
    "import random\n",
    "\n",
    "def suggestions(user_id, K=500, n_best_seller=2):\n",
    "    \n",
    "    '''\n",
    "    Retorna recomendações segmentadas de acordo com as categorias clicadas pelo usuário passado. \n",
    "    À lista de recomendações são adicionados dois top 10 best-sellers da categoria em questão\n",
    "      \n",
    "      Inputs: \n",
    "       \n",
    "       user_id -> ID categórico do usuário\n",
    "       \n",
    "       K -> Quantidade de sugestões que serão retornadas somente pelo modelo\n",
    "       \n",
    "       n_best_seller -> Quantidade de sugestões que serão retornadas por popularidade em cada categoria considerada\n",
    "       \n",
    "       Output:\n",
    "       \n",
    "       cat_suggestions -> Dicionário com as sugestões agrupadas por categoria já clicada pelo usuário\n",
    "       \n",
    "       original -> Array com os clicks originais do usuário selecionado\n",
    "    '''      \n",
    "        \n",
    "    if len(sparse_user_item[user_id].indices) == False:\n",
    "        return \"Invalid User\"\n",
    "    \n",
    "    \n",
    "    cat_suggestions = {} ### Dicionario de sugestões agrupadas por categoria. Retornoda função\n",
    "    recs, original  = recommend(user_id, K) # Resposta original do modelo de recomendações e clicks originais\n",
    "    pd_recs = (pd.DataFrame((recs, [offer_cat.get(key) for key in recs])).T).rename({0:'Offer', 1:'Category'}, axis = 1) # Dataframe p rastrear a categoria da oferta\n",
    "    \n",
    "    \n",
    "    best_cat = pd.Series(offer_cat[cat] for cat in original).value_counts().index # Filtra as categorias mais clicadadas pelo usuário\n",
    "    \n",
    "    for i in range(len(best_cat)): # percorrer as categorias de acordo com os clicks do usuários\n",
    "        \n",
    "        if len(pd_recs[pd_recs.Category == best_cat[i]]) != 0: ## Se não houver nenhuma recomendação da categoria em questão, não adicionar à lista\n",
    "\n",
    "            pop_recs = products_info[products_info.Category==best_cat[i]][:20] # seleciona os 10 itens mais populares\n",
    "            pop_recs = pop_recs[pop_recs.Offer.isin(original) == False] # Filtra para manter apenas os que ainda não foram clicados\n",
    "\n",
    "            pop_recs = random.sample(pop_recs.Offer.values.tolist(), pop_recs.shape[0])[:n_best_seller]  # Seleciona 2 ofertas mais populares da categoria\n",
    "\n",
    "            pop_recs.extend(pd_recs[pd_recs.Category == best_cat[i]].Offer.values[:3].tolist()) #Soma aos best sellers as sugestões do modelo de acordo com a categoria\n",
    "            cat_suggestions[best_cat[i]] = pop_recs\n",
    "    \n",
    "    others = []                     #Verificar sugestões de categorias que nunca foram clicadas pelo usuário\n",
    "    for row in pd_recs.index[:15]:\n",
    "        if pd_recs.Category.values[row] not in best_cat.values:\n",
    "            #print(cat_name[pd_recs.Category.values[row]]) #Ver quais são as categorias que não se encaixaram\n",
    "            others.append(pd_recs.Offer.values[row])\n",
    "    random.shuffle(others)\n",
    "    others = others[:5]\n",
    "    \n",
    "    cat_suggestions['Others'] = others\n",
    "    \n",
    "    return cat_suggestions, original"
   ]
  },
  {
   "cell_type": "code",
   "execution_count": 349,
   "id": "fb41ac06",
   "metadata": {},
   "outputs": [],
   "source": [
    "a = suggestions(384302, 300, 2)"
   ]
  },
  {
   "cell_type": "code",
   "execution_count": 350,
   "id": "e5c2593e",
   "metadata": {},
   "outputs": [
    {
     "name": "stdout",
     "output_type": "stream",
     "text": [
      "\n",
      "Porque você clicou na seção Garden furniture em: \n",
      "\n",
      "Grizzly Battery 40V\n",
      "FLORABEST® braided chaise longue\n",
      "FLORABEST® aluminum pruning shears\n",
      "\n",
      "Sugerimos:\n",
      "\n",
      "4rain underground rainwater tank 6800 L\n",
      "El Fuego Dutch Oven Set 7 pieces\n",
      "TIP Pumps indoor fountain pump for indoor use WPZ 450 R\n",
      "4rain underground rainwater tank 6800 L\n",
      "FLORABEST® long-handle hedge trimmer / pole pruner FHEHS 900 A1\n",
      "\n",
      "\n",
      "\n",
      "Porque você clicou na seção Power tools em: \n",
      "\n",
      "ULTIMATE SPEED® 4 wheel covers\n",
      "Burg Wächter laser range finder LASER METER 50 PS 7550\n",
      "\n",
      "Sugerimos:\n",
      "\n",
      "BAUFIX facade paint\n",
      "SILVERCREST® Raclette Grill SRG 1200 B2 / SRGL 1200 A1\n",
      "BM solid wood workbench\n",
      "Holzmann Maschinen small parts chute rack KSR 94D\n",
      "Westfalia grinding wheel for chain sharpeners\n",
      "\n",
      "\n",
      "\n",
      "Porque você clicou na seção drugstore em: \n",
      "\n",
      "Spontex floor wiper Easy Max\n",
      "BAUFIX teak care set\n",
      "\n",
      "Sugerimos:\n",
      "\n",
      "Hydrofugal Classic Roll-On\n",
      "Sonax XTREME rim cleaner PLUS 400 milliliter spray can\n",
      "Frosch All-Purpose Cleaner Frosch Soda organic quality\n",
      "\n",
      "\n",
      "\n",
      "Porque você clicou na seção Garden Decorations em: \n",
      "\n",
      "Promadino lighthouse Norderney small\n",
      "\n",
      "Sugerimos:\n",
      "\n",
      "Esschert design fire bowl SAN DIEGO cast iron\n",
      "ACTIVA fire bowl MADRID\n",
      "TIP Pumps Indoor fountain pump WP 500 Plus\n",
      "Promadino flower trough Welcome small\n",
      "\n",
      "\n",
      "\n",
      "Porque você clicou na seção Fitness and Athletics em: \n",
      "\n",
      "EVERLAST adult boxing gloves 6000L\n",
      "\n",
      "Sugerimos:\n",
      "\n",
      "Garmin Edge 800 + TOPO Germany V6 PRO Bundle heart rate monitor unisex\n",
      "HUDORA Scooter Big Wheel Bold 125\n",
      "Christopeit ergometer AL 2\n",
      "Reebok exercise bike i-Bike se - RE0-14101WH\n",
      "\n",
      "\n",
      "\n",
      "Porque você clicou na seção Pets Products em: \n",
      "\n",
      "Promadino aviary hexagonal with bitumen roof\n",
      "\n",
      "Sugerimos:\n",
      "\n",
      "Dennerle CO2 Perler Micro Perler\n",
      "Astra Fish Food Flakes\n",
      "Trixie Laser pointer Catch the Light - 1 piece\n",
      "Karlie Flamingo Karlie LIND-ART Floorwoods Tricky Timber\n",
      "Astra pond fish food mix\n",
      "\n",
      "\n",
      "\n",
      " Achamos que você talvez também goste: \n",
      "\n",
      "Esmeyer Gourmet 3-Piece Cheese Prep/Serving Set\n",
      "Cadillac Performace 5.0 ball bearings in black\n",
      "Melitta coffee machine aromaboy 1015\n",
      "Link&#39;s Stool Relaxar\n",
      "Bula Allie bobble hat multicolored\n",
      "\n",
      "\n"
     ]
    }
   ],
   "source": [
    "# Criação de dataframe com as categorias dos produtos recomendados\n",
    "pd_originals = (pd.DataFrame((a[1], [offer_cat.get(key) for key in a[1]])).T).rename({0:'Offer',1:'Category'}, axis =1) \n",
    " \n",
    "\n",
    "for category in a[0].keys():\n",
    "    \n",
    "    if category == 'Others':\n",
    "        print(\"\\n\",'Achamos que você talvez também goste:',\"\\n\")\n",
    "        for item in a[0][category]:\n",
    "            print(offers[item])\n",
    "        print('\\n')\n",
    "        continue\n",
    "        \n",
    "    print('\\nPorque você clicou na seção',cat_name[category],\"em: \\n\")\n",
    "    \n",
    "    for item in pd_originals[pd_originals.Category == category][:5].Offer.values:\n",
    "        print(offers[item])\n",
    "        \n",
    "    print('\\nSugerimos:\\n')        \n",
    "   #print(\"\\n\",'#'*5,'Sugestões:','#'*5,\"\\n\")\n",
    "    \n",
    "    for item in a[0][category]:\n",
    "        print(offers[item])\n",
    "    print('\\n')"
   ]
  },
  {
   "cell_type": "markdown",
   "id": "13c024a4",
   "metadata": {},
   "source": [
    "* A matriz m passa a ser a matriz com o novo usuário atualizado e é levada em consideração no para o cálculo de novos vetores."
   ]
  },
  {
   "cell_type": "markdown",
   "id": "bc1bb0f6",
   "metadata": {},
   "source": [
    "Nota: \n",
    "* Após os ajustes na organização das matrizes esparsas, o modelo parece não mais repetir recomendações de itens que já foram clicados pelo usuário\n",
    "* O modelo parece também não mais necessitar de tradução dos códigos de ofertas e usuário adotados na matriz esparsa para os códigos da matriz original"
   ]
  },
  {
   "cell_type": "markdown",
   "id": "c983dd22",
   "metadata": {},
   "source": [
    "### Criação e armazenamento do dicionário código-titulo de oferta (carregado na parte de cima do código)."
   ]
  },
  {
   "cell_type": "code",
   "execution_count": 92,
   "id": "939df340",
   "metadata": {},
   "outputs": [],
   "source": [
    "df_temp = clicks_de[['Offer','OfferTitle']]"
   ]
  },
  {
   "cell_type": "code",
   "execution_count": 93,
   "id": "84766b5d",
   "metadata": {},
   "outputs": [],
   "source": [
    "df_temp = df_temp.drop_duplicates(['Offer','OfferTitle'])"
   ]
  },
  {
   "cell_type": "code",
   "execution_count": 94,
   "id": "f1cf387a",
   "metadata": {},
   "outputs": [],
   "source": [
    "teste_dicio = dict(zip(df_temp['Offer'], df_temp['OfferTitle']))"
   ]
  },
  {
   "cell_type": "code",
   "execution_count": 95,
   "id": "b4c439c7",
   "metadata": {},
   "outputs": [],
   "source": [
    "#dic = pd.read_csv('de_traduzido.csv')\n",
    "#dic['Offer2'] = dic['OfferTitle'].map(dict(zip(clicks_de.OfferTitle, clicks_de.Offer)))"
   ]
  },
  {
   "cell_type": "code",
   "execution_count": 96,
   "id": "6bc4e3de",
   "metadata": {},
   "outputs": [],
   "source": [
    "pickle.dump(offers, open('.pkl/offers.pkl', 'wb'))"
   ]
  },
  {
   "cell_type": "markdown",
   "id": "6ab16d90",
   "metadata": {},
   "source": [
    "### Criação e armazenamento do dicionário código_oferta -> Filha_1 e código_oferta -> Categoria (carregado na parte de cima do código)."
   ]
  },
  {
   "cell_type": "code",
   "execution_count": 97,
   "id": "d0655108",
   "metadata": {},
   "outputs": [],
   "source": [
    "clicks_de.filha_1 = clicks_de.filha_1.astype('int32')"
   ]
  },
  {
   "cell_type": "code",
   "execution_count": 98,
   "id": "123f25ce",
   "metadata": {},
   "outputs": [],
   "source": [
    "df_temp = clicks_de[['Offer','filha_1', 'Category']]"
   ]
  },
  {
   "cell_type": "code",
   "execution_count": 99,
   "id": "8402b7b5",
   "metadata": {},
   "outputs": [],
   "source": [
    "df_temp = df_temp.drop_duplicates(['Offer','filha_1', 'Category'])"
   ]
  },
  {
   "cell_type": "code",
   "execution_count": 100,
   "id": "571a77fe",
   "metadata": {},
   "outputs": [],
   "source": [
    "offer_filha1 = dict(zip(df_temp['Offer'], df_temp['filha_1']))\n",
    "pickle.dump(offer_filha1, open('.pkl/offer_sub1.pkl', 'wb'))"
   ]
  },
  {
   "cell_type": "code",
   "execution_count": 101,
   "id": "da7a51e5",
   "metadata": {},
   "outputs": [],
   "source": [
    "offer_cat = dict(zip(df_temp['Offer'], df_temp['Category']))\n",
    "pickle.dump(offer_filha1, open('.pkl/offer_cat.pkl', 'wb'))"
   ]
  },
  {
   "cell_type": "markdown",
   "id": "6d006532",
   "metadata": {},
   "source": [
    "### Tabela de info dos produtos"
   ]
  },
  {
   "cell_type": "code",
   "execution_count": 102,
   "id": "12c908cb",
   "metadata": {},
   "outputs": [],
   "source": [
    "products_info = clicks_de[['Offer','Category','filha_1', 'ProductClicks']]"
   ]
  },
  {
   "cell_type": "code",
   "execution_count": 103,
   "id": "a55e2dd8",
   "metadata": {},
   "outputs": [],
   "source": [
    "products_info.filha_1 = products_info.filha_1.astype('int32')"
   ]
  },
  {
   "cell_type": "code",
   "execution_count": 104,
   "id": "32d22bc9",
   "metadata": {},
   "outputs": [],
   "source": [
    "products_info = products_info.drop_duplicates().reset_index().drop('index', axis = 1)"
   ]
  },
  {
   "cell_type": "code",
   "execution_count": 105,
   "id": "999a29f5",
   "metadata": {},
   "outputs": [],
   "source": [
    "products_info.rename({'filha_1':'SuperCat'}, axis = 1, inplace = True)"
   ]
  },
  {
   "cell_type": "code",
   "execution_count": 106,
   "id": "80ac5526",
   "metadata": {
    "scrolled": true
   },
   "outputs": [],
   "source": [
    "products_info.sort_values(by=['SuperCat','ProductClicks'], ascending = False, inplace = True)"
   ]
  },
  {
   "cell_type": "code",
   "execution_count": 107,
   "id": "6e24e1a7",
   "metadata": {},
   "outputs": [],
   "source": [
    "products_info.to_csv('products_info.csv')"
   ]
  },
  {
   "cell_type": "code",
   "execution_count": 108,
   "id": "29225295",
   "metadata": {},
   "outputs": [
    {
     "data": {
      "text/html": [
       "<div>\n",
       "<style scoped>\n",
       "    .dataframe tbody tr th:only-of-type {\n",
       "        vertical-align: middle;\n",
       "    }\n",
       "\n",
       "    .dataframe tbody tr th {\n",
       "        vertical-align: top;\n",
       "    }\n",
       "\n",
       "    .dataframe thead th {\n",
       "        text-align: right;\n",
       "    }\n",
       "</style>\n",
       "<table border=\"1\" class=\"dataframe\">\n",
       "  <thead>\n",
       "    <tr style=\"text-align: right;\">\n",
       "      <th></th>\n",
       "      <th>Offer</th>\n",
       "      <th>Category</th>\n",
       "      <th>SuperCat</th>\n",
       "      <th>ProductClicks</th>\n",
       "    </tr>\n",
       "  </thead>\n",
       "  <tbody>\n",
       "    <tr>\n",
       "      <th>273416</th>\n",
       "      <td>244858</td>\n",
       "      <td>6513</td>\n",
       "      <td>100471423</td>\n",
       "      <td>76</td>\n",
       "    </tr>\n",
       "    <tr>\n",
       "      <th>128250</th>\n",
       "      <td>27702</td>\n",
       "      <td>5101</td>\n",
       "      <td>100471423</td>\n",
       "      <td>61</td>\n",
       "    </tr>\n",
       "    <tr>\n",
       "      <th>128358</th>\n",
       "      <td>238298</td>\n",
       "      <td>5101</td>\n",
       "      <td>100471423</td>\n",
       "      <td>53</td>\n",
       "    </tr>\n",
       "    <tr>\n",
       "      <th>128034</th>\n",
       "      <td>321905</td>\n",
       "      <td>5101</td>\n",
       "      <td>100471423</td>\n",
       "      <td>46</td>\n",
       "    </tr>\n",
       "    <tr>\n",
       "      <th>128654</th>\n",
       "      <td>48922</td>\n",
       "      <td>5101</td>\n",
       "      <td>100471423</td>\n",
       "      <td>43</td>\n",
       "    </tr>\n",
       "  </tbody>\n",
       "</table>\n",
       "</div>"
      ],
      "text/plain": [
       "         Offer  Category   SuperCat  ProductClicks\n",
       "273416  244858      6513  100471423             76\n",
       "128250   27702      5101  100471423             61\n",
       "128358  238298      5101  100471423             53\n",
       "128034  321905      5101  100471423             46\n",
       "128654   48922      5101  100471423             43"
      ]
     },
     "execution_count": 108,
     "metadata": {},
     "output_type": "execute_result"
    }
   ],
   "source": [
    "products_info.head()"
   ]
  },
  {
   "cell_type": "markdown",
   "id": "81d80bd9",
   "metadata": {},
   "source": [
    "### Dicionário Nome Sub1"
   ]
  },
  {
   "cell_type": "code",
   "execution_count": 109,
   "id": "adeb9f3c",
   "metadata": {},
   "outputs": [
    {
     "data": {
      "text/plain": [
       "'Entertainment'"
      ]
     },
     "execution_count": 109,
     "metadata": {},
     "output_type": "execute_result"
    }
   ],
   "source": [
    "df = clicks_de[['filha_1','filha_1_name']].drop_duplicates()\n",
    "sub1_name = dict(zip(df.filha_1, df.filha_1_name))\n",
    "pickle.dump(sub1_name, open('.pkl/sub1_name.pkl', 'wb'))\n",
    "sub1_name[100471423]"
   ]
  },
  {
   "cell_type": "markdown",
   "id": "394ca971",
   "metadata": {},
   "source": [
    "### Dicionário Nome Cat"
   ]
  },
  {
   "cell_type": "code",
   "execution_count": 110,
   "id": "220c70f4",
   "metadata": {},
   "outputs": [
    {
     "data": {
      "text/plain": [
       "'Video Games'"
      ]
     },
     "execution_count": 110,
     "metadata": {},
     "output_type": "execute_result"
    }
   ],
   "source": [
    "df = clicks_de[['Category','Translate']].drop_duplicates()\n",
    "cat_name = dict(zip(df.Category, df.Translate))\n",
    "pickle.dump(cat_name, open('.pkl/cat_name.pkl', 'wb'))\n",
    "cat_name[6513]"
   ]
  },
  {
   "cell_type": "markdown",
   "id": "c1f97314",
   "metadata": {},
   "source": [
    "## Tunagem de hiperparametros"
   ]
  },
  {
   "cell_type": "code",
   "execution_count": 214,
   "id": "eceb0a58",
   "metadata": {},
   "outputs": [],
   "source": [
    "grid = {'factors': [10,50,100,200],\n",
    "       'regularization':[1,0.5, 0.1, 0.01],\n",
    "        'iterations':[10,30,50, 100], \n",
    "        'alphas':[1,15,40,60, 100]}"
   ]
  },
  {
   "cell_type": "code",
   "execution_count": 215,
   "id": "62ba6940",
   "metadata": {},
   "outputs": [],
   "source": [
    "model = implicit.als.AlternatingLeastSquares()"
   ]
  },
  {
   "cell_type": "code",
   "execution_count": 246,
   "id": "d27393ae",
   "metadata": {},
   "outputs": [],
   "source": [
    "def gridsearch_als(grid):\n",
    "    results = []\n",
    "    for factor in grid['factors']:\n",
    "        for regularization in grid['regularization']:\n",
    "            for iteration in grid['iterations']:\n",
    "                for alpha in grid['alphas']:\n",
    "            \n",
    "                    model = implicit.als.AlternatingLeastSquares(factors = factor, \n",
    "                                                                 regularization = regularization, \n",
    "                                                                 iterations = iteration)\n",
    "                    model.fit(train*alpha)\n",
    "\n",
    "                    partial = model_evaluation(train, test, model, )\n",
    "                    results.append([factor, regularization, iteration, alpha, partial['p@K'],partial['map@K'], partial['ndcg@K'], partial['auc@K']])\n",
    "                \n",
    "    final = pd.DataFrame(results, columns = ['Factors','Regularization','Iteration','alpha','P@K','MAP@K','NDCG@K','AUC@K'])\n",
    "    return final\n",
    "                "
   ]
  },
  {
   "cell_type": "code",
   "execution_count": null,
   "id": "7b95579a",
   "metadata": {
    "scrolled": true
   },
   "outputs": [],
   "source": [
    "grid_results = gridsearch_als(grid)"
   ]
  },
  {
   "cell_type": "code",
   "execution_count": 248,
   "id": "ba636b84",
   "metadata": {},
   "outputs": [],
   "source": [
    "grid_results.to_csv('params.csv')"
   ]
  },
  {
   "cell_type": "code",
   "execution_count": 249,
   "id": "86323de5",
   "metadata": {
    "scrolled": true
   },
   "outputs": [
    {
     "data": {
      "text/html": [
       "<div>\n",
       "<style scoped>\n",
       "    .dataframe tbody tr th:only-of-type {\n",
       "        vertical-align: middle;\n",
       "    }\n",
       "\n",
       "    .dataframe tbody tr th {\n",
       "        vertical-align: top;\n",
       "    }\n",
       "\n",
       "    .dataframe thead th {\n",
       "        text-align: right;\n",
       "    }\n",
       "</style>\n",
       "<table border=\"1\" class=\"dataframe\">\n",
       "  <thead>\n",
       "    <tr style=\"text-align: right;\">\n",
       "      <th></th>\n",
       "      <th>Factors</th>\n",
       "      <th>Regularization</th>\n",
       "      <th>Iteration</th>\n",
       "      <th>alpha</th>\n",
       "      <th>P@K</th>\n",
       "      <th>MAP@K</th>\n",
       "      <th>NDCG@K</th>\n",
       "      <th>AUC@K</th>\n",
       "    </tr>\n",
       "  </thead>\n",
       "  <tbody>\n",
       "    <tr>\n",
       "      <th>10</th>\n",
       "      <td>10</td>\n",
       "      <td>1.00</td>\n",
       "      <td>50</td>\n",
       "      <td>1</td>\n",
       "      <td>0.277019</td>\n",
       "      <td>0.118268</td>\n",
       "      <td>0.161464</td>\n",
       "      <td>0.625906</td>\n",
       "    </tr>\n",
       "    <tr>\n",
       "      <th>75</th>\n",
       "      <td>10</td>\n",
       "      <td>0.01</td>\n",
       "      <td>100</td>\n",
       "      <td>1</td>\n",
       "      <td>0.277019</td>\n",
       "      <td>0.112387</td>\n",
       "      <td>0.157666</td>\n",
       "      <td>0.626029</td>\n",
       "    </tr>\n",
       "    <tr>\n",
       "      <th>30</th>\n",
       "      <td>10</td>\n",
       "      <td>0.50</td>\n",
       "      <td>50</td>\n",
       "      <td>1</td>\n",
       "      <td>0.276451</td>\n",
       "      <td>0.115258</td>\n",
       "      <td>0.158532</td>\n",
       "      <td>0.624036</td>\n",
       "    </tr>\n",
       "    <tr>\n",
       "      <th>50</th>\n",
       "      <td>10</td>\n",
       "      <td>0.10</td>\n",
       "      <td>50</td>\n",
       "      <td>1</td>\n",
       "      <td>0.275882</td>\n",
       "      <td>0.117437</td>\n",
       "      <td>0.161001</td>\n",
       "      <td>0.626247</td>\n",
       "    </tr>\n",
       "    <tr>\n",
       "      <th>55</th>\n",
       "      <td>10</td>\n",
       "      <td>0.10</td>\n",
       "      <td>100</td>\n",
       "      <td>1</td>\n",
       "      <td>0.270762</td>\n",
       "      <td>0.113639</td>\n",
       "      <td>0.156124</td>\n",
       "      <td>0.623370</td>\n",
       "    </tr>\n",
       "    <tr>\n",
       "      <th>...</th>\n",
       "      <td>...</td>\n",
       "      <td>...</td>\n",
       "      <td>...</td>\n",
       "      <td>...</td>\n",
       "      <td>...</td>\n",
       "      <td>...</td>\n",
       "      <td>...</td>\n",
       "      <td>...</td>\n",
       "    </tr>\n",
       "    <tr>\n",
       "      <th>4</th>\n",
       "      <td>10</td>\n",
       "      <td>1.00</td>\n",
       "      <td>10</td>\n",
       "      <td>100</td>\n",
       "      <td>0.088168</td>\n",
       "      <td>0.017550</td>\n",
       "      <td>0.035890</td>\n",
       "      <td>0.538423</td>\n",
       "    </tr>\n",
       "    <tr>\n",
       "      <th>304</th>\n",
       "      <td>200</td>\n",
       "      <td>0.01</td>\n",
       "      <td>10</td>\n",
       "      <td>100</td>\n",
       "      <td>0.072241</td>\n",
       "      <td>0.019690</td>\n",
       "      <td>0.034520</td>\n",
       "      <td>0.530543</td>\n",
       "    </tr>\n",
       "    <tr>\n",
       "      <th>64</th>\n",
       "      <td>10</td>\n",
       "      <td>0.01</td>\n",
       "      <td>10</td>\n",
       "      <td>100</td>\n",
       "      <td>0.072241</td>\n",
       "      <td>0.010721</td>\n",
       "      <td>0.025446</td>\n",
       "      <td>0.530581</td>\n",
       "    </tr>\n",
       "    <tr>\n",
       "      <th>144</th>\n",
       "      <td>50</td>\n",
       "      <td>0.01</td>\n",
       "      <td>10</td>\n",
       "      <td>100</td>\n",
       "      <td>0.070535</td>\n",
       "      <td>0.020357</td>\n",
       "      <td>0.033903</td>\n",
       "      <td>0.528062</td>\n",
       "    </tr>\n",
       "    <tr>\n",
       "      <th>44</th>\n",
       "      <td>10</td>\n",
       "      <td>0.10</td>\n",
       "      <td>10</td>\n",
       "      <td>100</td>\n",
       "      <td>0.060865</td>\n",
       "      <td>0.013594</td>\n",
       "      <td>0.026320</td>\n",
       "      <td>0.527140</td>\n",
       "    </tr>\n",
       "  </tbody>\n",
       "</table>\n",
       "<p>320 rows × 8 columns</p>\n",
       "</div>"
      ],
      "text/plain": [
       "     Factors  Regularization  Iteration  alpha       P@K     MAP@K    NDCG@K  \\\n",
       "10        10            1.00         50      1  0.277019  0.118268  0.161464   \n",
       "75        10            0.01        100      1  0.277019  0.112387  0.157666   \n",
       "30        10            0.50         50      1  0.276451  0.115258  0.158532   \n",
       "50        10            0.10         50      1  0.275882  0.117437  0.161001   \n",
       "55        10            0.10        100      1  0.270762  0.113639  0.156124   \n",
       "..       ...             ...        ...    ...       ...       ...       ...   \n",
       "4         10            1.00         10    100  0.088168  0.017550  0.035890   \n",
       "304      200            0.01         10    100  0.072241  0.019690  0.034520   \n",
       "64        10            0.01         10    100  0.072241  0.010721  0.025446   \n",
       "144       50            0.01         10    100  0.070535  0.020357  0.033903   \n",
       "44        10            0.10         10    100  0.060865  0.013594  0.026320   \n",
       "\n",
       "        AUC@K  \n",
       "10   0.625906  \n",
       "75   0.626029  \n",
       "30   0.624036  \n",
       "50   0.626247  \n",
       "55   0.623370  \n",
       "..        ...  \n",
       "4    0.538423  \n",
       "304  0.530543  \n",
       "64   0.530581  \n",
       "144  0.528062  \n",
       "44   0.527140  \n",
       "\n",
       "[320 rows x 8 columns]"
      ]
     },
     "execution_count": 249,
     "metadata": {},
     "output_type": "execute_result"
    }
   ],
   "source": [
    "grid_results.sort_values(by=['P@K','NDCG@K'], ascending = False)"
   ]
  }
 ],
 "metadata": {
  "kernelspec": {
   "display_name": "Python 3 (ipykernel)",
   "language": "python",
   "name": "python3"
  },
  "language_info": {
   "codemirror_mode": {
    "name": "ipython",
    "version": 3
   },
   "file_extension": ".py",
   "mimetype": "text/x-python",
   "name": "python",
   "nbconvert_exporter": "python",
   "pygments_lexer": "ipython3",
   "version": "3.9.9"
  },
  "toc": {
   "base_numbering": 1,
   "nav_menu": {
    "height": "315.996px",
    "width": "597.988px"
   },
   "number_sections": true,
   "sideBar": true,
   "skip_h1_title": false,
   "title_cell": "Table of Contents",
   "title_sidebar": "Contents",
   "toc_cell": false,
   "toc_position": {},
   "toc_section_display": true,
   "toc_window_display": false
  }
 },
 "nbformat": 4,
 "nbformat_minor": 5
}
