{
 "cells": [
  {
   "cell_type": "markdown",
   "id": "803f4e5c",
   "metadata": {},
   "source": [
    "### IMPORT DE BIBLIOTECAS"
   ]
  },
  {
   "cell_type": "code",
   "execution_count": 5,
   "id": "6ea11a67",
   "metadata": {},
   "outputs": [],
   "source": [
    "from collections import defaultdict\n",
    "import pandas as pd\n",
    "import numpy as np\n",
    "import os\n",
    "\n",
    "import implicit\n",
    "from implicit.evaluation import (train_test_split, \n",
    "                                 ndcg_at_k, AUC_at_k,\n",
    "                                 mean_average_precision_at_k, \n",
    "                                 precision_at_k)\n",
    "\n",
    "from implicit.nearest_neighbours import bm25_weight\n",
    "\n",
    "from scipy.sparse import (csr_matrix, \n",
    "                          save_npz, \n",
    "                          load_npz)\n",
    "import scipy.stats\n",
    "\n",
    "from matplotlib import pyplot as plt\n",
    "import seaborn as sns\n",
    "\n",
    "# from surprise import Dataset, Reader, SVD, SVDpp, KNNWithMeans\n",
    "# from surprise.model_selection import train_test_split, cross_validate\n",
    "# from surprise import accuracy\n",
    "# from surprise.model_selection import cross_validate\n",
    "\n",
    "# from sklearn.neighbors import NearestNeighbors\n",
    "# from sklearn.metrics.pairwise import cosine_similarity, pairwise_distances\n",
    "import pickle\n",
    "from tqdm import tqdm\n",
    "import warnings"
   ]
  },
  {
   "cell_type": "code",
   "execution_count": 6,
   "id": "c2f63d92",
   "metadata": {},
   "outputs": [],
   "source": [
    "warnings.filterwarnings('ignore')"
   ]
  },
  {
   "cell_type": "markdown",
   "id": "acc40778",
   "metadata": {},
   "source": [
    "### Carregamento de dados de categorias e histórico de clicks"
   ]
  },
  {
   "cell_type": "code",
   "execution_count": 7,
   "id": "d69a58f5",
   "metadata": {},
   "outputs": [],
   "source": [
    "df_de_cat = pd.read_csv(os.getcwd()+'\\.txt\\category_de.txt') # DataFrame Informativo das categorias"
   ]
  },
  {
   "cell_type": "code",
   "execution_count": 8,
   "id": "8d8c4120",
   "metadata": {},
   "outputs": [
    {
     "data": {
      "text/plain": [
       "Index(['UserId', 'OfferId', 'OfferViewId', 'CountryCode', 'Category', 'Source',\n",
       "       'UtcDate', 'Keywords', 'OfferTitle'],\n",
       "      dtype='object')"
      ]
     },
     "execution_count": 8,
     "metadata": {},
     "output_type": "execute_result"
    }
   ],
   "source": [
    "clicks_de = pd.read_csv(os.getcwd()+'\\.txt\\clicks_de_sample_2.txt', sep = ',', header=0) # df de histórico de clicks\n",
    "clicks_de.columns"
   ]
  },
  {
   "cell_type": "markdown",
   "id": "cc088fad",
   "metadata": {},
   "source": [
    "Valores missing na coluna de OfferTitle que serão excluídos."
   ]
  },
  {
   "cell_type": "code",
   "execution_count": 9,
   "id": "e3c94c6d",
   "metadata": {},
   "outputs": [],
   "source": [
    "clicks_de = clicks_de[clicks_de.OfferTitle.isna() == False]"
   ]
  },
  {
   "cell_type": "markdown",
   "id": "b558264b",
   "metadata": {},
   "source": [
    "### Conversão das colunas de usuário e oferta em categórica e criando novas colunas com os códigos adotados "
   ]
  },
  {
   "cell_type": "code",
   "execution_count": 10,
   "id": "632e26aa",
   "metadata": {},
   "outputs": [],
   "source": [
    "clicks_de.UserId = clicks_de.UserId.astype('category')\n",
    "clicks_de.OfferId = clicks_de.OfferId.astype('category')"
   ]
  },
  {
   "cell_type": "code",
   "execution_count": 11,
   "id": "32734c32",
   "metadata": {},
   "outputs": [],
   "source": [
    "clicks_de['User'] = clicks_de.UserId.cat.codes\n",
    "clicks_de['Offer'] = clicks_de.OfferId.cat.codes"
   ]
  },
  {
   "cell_type": "markdown",
   "id": "b7192b53",
   "metadata": {},
   "source": [
    "### CRIAÇÃO DE COLUNA DE CLICKS POR CATEGORIA"
   ]
  },
  {
   "cell_type": "code",
   "execution_count": 12,
   "id": "d4275ac3",
   "metadata": {},
   "outputs": [],
   "source": [
    "#clicks_de.drop(columns = ['Keywords'], axis = 1, inplace=True)  # DROP DAS KEYWORDS\n",
    "\n",
    "#df_de_cat.rename({'Ancertor_ID':'Ancestor_ID'}, axis = 1, inplace = True) # RENAME DO ANCESTOR_ID\n",
    "\n",
    "#df_de_cat.drop('Unnamed: 0', axis =1, inplace = True) # Remoção de coluna Unnamed\n",
    "\n",
    "clicks_de['Cat_clicks'] = clicks_de.groupby('Category')['OfferId'].transform('count') # Criação de coluna de clicks por categoria"
   ]
  },
  {
   "cell_type": "markdown",
   "id": "015a5cce",
   "metadata": {},
   "source": [
    "### Merge do Dataframe de categorias com o dataframe de clicks "
   ]
  },
  {
   "cell_type": "code",
   "execution_count": 14,
   "id": "7e98b680",
   "metadata": {},
   "outputs": [],
   "source": [
    "clicks_de = clicks_de.merge(df_de_cat, left_on = 'Category', right_on = 'ID').drop(['ID'], axis = 1) "
   ]
  },
  {
   "cell_type": "markdown",
   "id": "bc388959",
   "metadata": {},
   "source": [
    "### Criação de coluna com o nº total de clicks do usuário e nº total de clicks do produto"
   ]
  },
  {
   "cell_type": "code",
   "execution_count": 15,
   "id": "3be215c0",
   "metadata": {},
   "outputs": [],
   "source": [
    "clicks_de['UserTotalClicks'] = clicks_de.groupby(by=['UserId'])['OfferId'].transform('count')"
   ]
  },
  {
   "cell_type": "code",
   "execution_count": 16,
   "id": "0d93ec44",
   "metadata": {},
   "outputs": [],
   "source": [
    "clicks_de['ProductClicks'] = clicks_de.groupby(by='OfferId')['UserId'].transform('count')"
   ]
  },
  {
   "cell_type": "code",
   "execution_count": 21,
   "id": "705b6de8",
   "metadata": {},
   "outputs": [],
   "source": [
    "#clicks_de_filtered.UserId = clicks_de_filtered.UserId.astype('category')\n",
    "# clicks_de_filtered.OfferId = clicks_de_filtered.OfferId.astype('category')\n",
    "\n",
    "\n",
    "# clicks_de_filtered['User'] = clicks_de_filtered.UserId.cat.codes\n",
    "# clicks_de_filtered['Offer'] = clicks_de_filtered.OfferId.cat.codes#Cap minimo de clicks para integrar o sistema de recomendação"
   ]
  },
  {
   "cell_type": "code",
   "execution_count": 22,
   "id": "0fece00c",
   "metadata": {},
   "outputs": [],
   "source": [
    "clicks_de_filtered = clicks_de[(clicks_de.UserTotalClicks > 10) & (clicks_de.ProductClicks > 50) & (clicks_de.ProductClicks < (clicks_de.ProductClicks.mean() + clicks_de.ProductClicks.std()))]"
   ]
  },
  {
   "cell_type": "code",
   "execution_count": 23,
   "id": "c28dd997",
   "metadata": {},
   "outputs": [],
   "source": [
    "# clicks_de_filtered.UserId = clicks_de_filtered.UserId.astype('category')\n",
    "# clicks_de_filtered.OfferId = clicks_de_filtered.OfferId.astype('category')\n",
    "\n",
    "\n",
    "# clicks_de_filtered['User'] = clicks_de_filtered.UserId.cat.codes\n",
    "# clicks_de_filtered['Offer'] = clicks_de_filtered.OfferId.cat.codes"
   ]
  },
  {
   "cell_type": "markdown",
   "id": "c1f6900b",
   "metadata": {},
   "source": [
    "\n",
    "### Agrupamento de dos clicks de usuário em ofertas únicas para termos a quantidade de cada usuário em cada oferta.\n"
   ]
  },
  {
   "cell_type": "code",
   "execution_count": 24,
   "id": "6be36304",
   "metadata": {},
   "outputs": [],
   "source": [
    "clicks_per_user_product = clicks_de_filtered.groupby(by=['User','Offer']).count()['UserTotalClicks'].reset_index().rename({'UserTotalClicks':'UserClicks'}, axis = 1)"
   ]
  },
  {
   "cell_type": "code",
   "execution_count": 25,
   "id": "c1925eaf",
   "metadata": {},
   "outputs": [],
   "source": [
    "#clicks_per_user_product.UserClicks = 1"
   ]
  },
  {
   "cell_type": "markdown",
   "id": "c77e4b99",
   "metadata": {},
   "source": [
    "### Criação de matrizes esparsas Usuário-item e item-usuário"
   ]
  },
  {
   "cell_type": "code",
   "execution_count": 26,
   "id": "0643411f",
   "metadata": {},
   "outputs": [],
   "source": [
    "alpha = 40\n",
    "sparse_item_user = csr_matrix((clicks_per_user_product['UserClicks'], (clicks_per_user_product['Offer'], clicks_per_user_product['User'])))\n",
    "sparse_user_item = csr_matrix((clicks_per_user_product['UserClicks'], (clicks_per_user_product['User'], clicks_per_user_product['Offer'])))\n",
    "\n",
    "sparse_user_item = (sparse_user_item).astype('double') # Conversão de tipo para que o modelo ALS funcione corretamente\n",
    "data = (sparse_item_user).astype('double') # Conversão de tipo para que o modelo ALS funcione corretamente"
   ]
  },
  {
   "cell_type": "code",
   "execution_count": 27,
   "id": "7adee020",
   "metadata": {},
   "outputs": [],
   "source": [
    "# weight the matrix, both to reduce impact of users that have played the same artist thousands of times\n",
    "# and to reduce the weight given to popular items\n",
    "item_user_clicks = bm25_weight(data, K1=100, B=0.8)\n",
    "# get the transpose since the most of the functions in implicit expect (user, item) sparse matrices instead of (item, user)\n",
    "user_clicks = item_user_clicks.T.tocsr()"
   ]
  },
  {
   "cell_type": "code",
   "execution_count": 28,
   "id": "a5b1fd71",
   "metadata": {},
   "outputs": [
    {
     "data": {
      "text/plain": [
       "0.9999999722688098"
      ]
     },
     "execution_count": 28,
     "metadata": {},
     "output_type": "execute_result"
    }
   ],
   "source": [
    "#Esparsidade de matriz\n",
    "possible_interactions = sparse_item_user.shape[0]*sparse_item_user.shape[1]\n",
    "interacted = len(sparse_item_user.nonzero()[0])\n",
    "sparsity = 1 - interacted/possible_interactions\n",
    "sparsity"
   ]
  },
  {
   "cell_type": "markdown",
   "id": "3b4d3569",
   "metadata": {},
   "source": [
    " Mais de 99.99% das interações possíveis entre usuários e produtos na atual base dados não foi ainda realizada. Segundo artigo: For collaborative filtering to work, the maximum sparsity you could get away with would probably be about 99.5% or so. Devemos reavaliar a matriz?"
   ]
  },
  {
   "cell_type": "code",
   "execution_count": 29,
   "id": "fd0bc0f1",
   "metadata": {},
   "outputs": [],
   "source": [
    "save_npz(os.getcwd()+\"/.npz/sparse_user_item.npz\", sparse_user_item)\n",
    "save_npz(os.getcwd()+\"/.npz/sparse_item_user.npz\", sparse_item_user)"
   ]
  },
  {
   "cell_type": "code",
   "execution_count": 30,
   "id": "19f0d5fc",
   "metadata": {},
   "outputs": [],
   "source": [
    "model_path = os.getcwd()+'/.pkl/de_als_model.pkl'"
   ]
  },
  {
   "cell_type": "markdown",
   "id": "7ac05751",
   "metadata": {},
   "source": [
    "* Criação de diferentes matrizes esparsas para operar com o algoritmo. Usuário-item e item-usuário. Cada uma deve ser usada no momento preciso\n",
    "* O alfa é o coeficiente de confiabilidade da interação do usuário com um item específico. Valor utilizado fi adotado com base no artigo: https://towardsdatascience.com/alternating-least-square-for-implicit-dataset-with-code-8e7999277f4b. Mas, podemos testar outros valores na validação do modelo.\n",
    "* Outro artigo de base pra elaboração do modelo: https://medium.com/analytics-vidhya/implementation-of-a-movies-recommender-from-implicit-feedback-6a810de173ac"
   ]
  },
  {
   "cell_type": "markdown",
   "id": "1119b405",
   "metadata": {},
   "source": [
    "# FUNÇÃO DE RECOMENDAÇÕES - IMPLICIT"
   ]
  },
  {
   "cell_type": "markdown",
   "id": "1df72e48",
   "metadata": {},
   "source": [
    "## Treinamento de modelos"
   ]
  },
  {
   "cell_type": "code",
   "execution_count": 31,
   "id": "ca8cf7cc",
   "metadata": {},
   "outputs": [],
   "source": [
    "offers = pickle.load(open(os.getcwd()+\"/.pkl/offers.pkl\", \"rb\"))"
   ]
  },
  {
   "cell_type": "markdown",
   "id": "ae0a1131",
   "metadata": {},
   "source": [
    "Carregamentodo dicionário que converte os códigos de ofertas para o seu título de oferta. Ainda falta traduzir do alemão para o inglês para tirar mais significado dos resultados"
   ]
  },
  {
   "cell_type": "code",
   "execution_count": 48,
   "id": "fc8e21ec",
   "metadata": {},
   "outputs": [],
   "source": [
    "def als_model():\n",
    "    \n",
    "    '''computes p@k and map@k evaluation metrics and saves model'''\n",
    "    \n",
    "    #sparse_item_user = load_npz(os.getcwd()+\"/.npz/sparse_item_user.npz\")\n",
    "      \n",
    "    train, test = implicit.evaluation.train_test_split(sparse_user_item, train_percentage=0.9)\n",
    "\n",
    "    model = implicit.als.AlternatingLeastSquares(factors=10, \n",
    "                                                 regularization=1, \n",
    "                                                 iterations=50,\n",
    "                                                 calculate_training_loss=False)\n",
    "    alpha=15\n",
    "    model.fit(train*alpha)\n",
    "\n",
    "    with open(model_path, 'wb') as pickle_out:\n",
    "        pickle.dump(model, pickle_out)\n",
    "    \n",
    "    return train, test, model"
   ]
  },
  {
   "cell_type": "code",
   "execution_count": 49,
   "id": "7c6cfd2a",
   "metadata": {},
   "outputs": [
    {
     "data": {
      "application/vnd.jupyter.widget-view+json": {
       "model_id": "d0bbfcd87207407498a39d1a8d349959",
       "version_major": 2,
       "version_minor": 0
      },
      "text/plain": [
       "  0%|          | 0/50 [00:00<?, ?it/s]"
      ]
     },
     "metadata": {},
     "output_type": "display_data"
    },
    {
     "data": {
      "application/vnd.jupyter.widget-view+json": {
       "model_id": "06020543f8d849c78689a96bcfd0f35d",
       "version_major": 2,
       "version_minor": 0
      },
      "text/plain": [
       "  0%|          | 0/340 [00:00<?, ?it/s]"
      ]
     },
     "metadata": {},
     "output_type": "display_data"
    },
    {
     "data": {
      "text/plain": [
       "0.4153846153846154"
      ]
     },
     "execution_count": 49,
     "metadata": {},
     "output_type": "execute_result"
    }
   ],
   "source": [
    "train, test, model = als_model()\n",
    "implicit.evaluation.precision_at_k(model,train,test)"
   ]
  },
  {
   "cell_type": "markdown",
   "id": "46dc9eb0",
   "metadata": {},
   "source": [
    "# Avaliação Baseline"
   ]
  },
  {
   "cell_type": "code",
   "execution_count": 128,
   "id": "63c8b30e",
   "metadata": {},
   "outputs": [],
   "source": [
    "def get_k_most_popular(sparse_item_user, k):\n",
    "    \n",
    "    \"\"\"Retorna um array com os códigos dos itens clicados por mais clientes da base de dados\"\"\"\n",
    "    \n",
    "    new_sparse = sparse_item_user.copy() # Nova esparsa para não modificar a original\n",
    "    interaction = np.ones_like(new_sparse.data) # Altera os valores da matriz esparsa para '1' se houve interação para que não sejam contadas múltiplas interações do mesmo cliente com o mesmo produto\n",
    "    new_sparse.data = interaction # Assimila o array de interações de 1's aos dados da matriz esparsa\n",
    "    pop_items = np.array((new_sparse).sum(axis = 1)).reshape(-1) # Aqui é feita a soma de interações que ocorreram em cada uma das linhas, que correspondem a cada um dos produtos\n",
    "    most_popular = pd.Series(pop_items).sort_values(ascending = False)[:k] # Os itens são convertidos em série para que possam ser ordenados e então captados os deus com maior incidência para que sejam retornados seus indices(código do produto)\n",
    "    \n",
    "    return most_popular.index"
   ]
  },
  {
   "cell_type": "markdown",
   "id": "30edc742",
   "metadata": {},
   "source": [
    " O modelo de baseline considerará como sugestão os produtos mais populares de todo o dataframe como recomendação para todos os clientes"
   ]
  },
  {
   "cell_type": "code",
   "execution_count": 263,
   "id": "24ad4f9f",
   "metadata": {},
   "outputs": [],
   "source": [
    "def get_top_k(userid, sparse_user_item, k=10):\n",
    "    \n",
    "    '''Retorna os top-K produtos clicados por um usuário de acordo \n",
    "    com o nível de confiança obtido através das suas interações'''\n",
    "    top_K =pd.Series(sparse_user_item[userid].data, index = sparse_user_item[userid].indices).sort_values(ascending = False)[:k]\n",
    "    return top_K.index"
   ]
  },
  {
   "cell_type": "code",
   "execution_count": 264,
   "id": "b0bb4685",
   "metadata": {},
   "outputs": [
    {
     "data": {
      "text/plain": [
       "Int64Index([200549], dtype='int64')"
      ]
     },
     "execution_count": 264,
     "metadata": {},
     "output_type": "execute_result"
    }
   ],
   "source": [
    "get_top_k(8, sparse_user_item)"
   ]
  },
  {
   "cell_type": "code",
   "execution_count": 50,
   "id": "86a5a9cf",
   "metadata": {},
   "outputs": [],
   "source": [
    "def baseline_precision_at_k(sparse_item_user, k=10, test_pct=0.2):\n",
    "\n",
    "    \"\"\"Avalia a precisão caso o modelo recomendasse apenas os itens mais populares a todos os clientes.\n",
    "    A métrica é calculada com base em uma seleção aleatória de 20% dos clientes.\"\"\"\n",
    "    \n",
    "    # Seleção aleatória de 20% dos usuários para testagem por popularidade\n",
    "    test_sample = np.random.choice(sparse_item_user.indices,\n",
    "                                   size = int(test_pct*len(sparse_item_user.indices)), \n",
    "                                   replace = False) \n",
    "    \n",
    "    most_popular = (get_k_most_popular(sparse_item_user, k)) # lista de 10 itens mais populares\n",
    "    \n",
    "    total_precision = 0 \n",
    "    sparse_user_item = sparse_item_user.T.tocsr()\n",
    "    \n",
    "    for user in test_sample:\n",
    "        relevance = 0\n",
    "        top_K = get_top_k(user, sparse_user_item, k)\n",
    "        \n",
    "        for item in most_popular:\n",
    "            if item in top_K: # Alteração do pesoa das interações para 0 e 1. Assim, será contabilizado apenas se o usuário interagiu com o item ou não.\n",
    "                interact = 1\n",
    "            else:\n",
    "                interact = 0\n",
    "            relevance+= interact\n",
    "            \n",
    "        relevance/=k\n",
    "        total_precision+=relevance\n",
    "        \n",
    "    total_precision/=len(test_sample)\n",
    "    \n",
    "    return total_precision"
   ]
  },
  {
   "cell_type": "code",
   "execution_count": 51,
   "id": "2c6ae8ed",
   "metadata": {},
   "outputs": [
    {
     "ename": "NameError",
     "evalue": "name 'get_k_most_popular' is not defined",
     "output_type": "error",
     "traceback": [
      "\u001b[1;31m---------------------------------------------------------------------------\u001b[0m",
      "\u001b[1;31mNameError\u001b[0m                                 Traceback (most recent call last)",
      "Input \u001b[1;32mIn [51]\u001b[0m, in \u001b[0;36m<module>\u001b[1;34m\u001b[0m\n\u001b[1;32m----> 1\u001b[0m \u001b[43mbaseline_precision_at_k\u001b[49m\u001b[43m(\u001b[49m\u001b[43msparse_user_item\u001b[49m\u001b[38;5;241;43m.\u001b[39;49m\u001b[43mT\u001b[49m\u001b[38;5;241;43m.\u001b[39;49m\u001b[43mtocsr\u001b[49m\u001b[43m(\u001b[49m\u001b[43m)\u001b[49m\u001b[43m)\u001b[49m\n",
      "Input \u001b[1;32mIn [50]\u001b[0m, in \u001b[0;36mbaseline_precision_at_k\u001b[1;34m(sparse_item_user, k, test_pct)\u001b[0m\n\u001b[0;32m      6\u001b[0m \u001b[38;5;66;03m# Seleção aleatória de 20% dos usuários para testagem por popularidade\u001b[39;00m\n\u001b[0;32m      7\u001b[0m test_sample \u001b[38;5;241m=\u001b[39m np\u001b[38;5;241m.\u001b[39mrandom\u001b[38;5;241m.\u001b[39mchoice(sparse_item_user\u001b[38;5;241m.\u001b[39mindices,\n\u001b[0;32m      8\u001b[0m                                size \u001b[38;5;241m=\u001b[39m \u001b[38;5;28mint\u001b[39m(test_pct\u001b[38;5;241m*\u001b[39m\u001b[38;5;28mlen\u001b[39m(sparse_item_user\u001b[38;5;241m.\u001b[39mindices)), \n\u001b[0;32m      9\u001b[0m                                replace \u001b[38;5;241m=\u001b[39m \u001b[38;5;28;01mFalse\u001b[39;00m) \n\u001b[1;32m---> 11\u001b[0m most_popular \u001b[38;5;241m=\u001b[39m (\u001b[43mget_k_most_popular\u001b[49m(sparse_item_user, k)) \u001b[38;5;66;03m# lista de 10 itens mais populares\u001b[39;00m\n\u001b[0;32m     13\u001b[0m total_precision \u001b[38;5;241m=\u001b[39m \u001b[38;5;241m0\u001b[39m \n\u001b[0;32m     14\u001b[0m sparse_user_item \u001b[38;5;241m=\u001b[39m sparse_item_user\u001b[38;5;241m.\u001b[39mT\u001b[38;5;241m.\u001b[39mtocsr()\n",
      "\u001b[1;31mNameError\u001b[0m: name 'get_k_most_popular' is not defined"
     ]
    }
   ],
   "source": [
    "baseline_precision_at_k(sparse_user_item.T.tocsr())"
   ]
  },
  {
   "cell_type": "markdown",
   "id": "ce8464be",
   "metadata": {},
   "source": [
    "### Avaliação do modelo"
   ]
  },
  {
   "cell_type": "code",
   "execution_count": 131,
   "id": "b938c466",
   "metadata": {},
   "outputs": [
    {
     "ename": "NameError",
     "evalue": "name 'get_top_k' is not defined",
     "output_type": "error",
     "traceback": [
      "\u001b[1;31m---------------------------------------------------------------------------\u001b[0m",
      "\u001b[1;31mNameError\u001b[0m                                 Traceback (most recent call last)",
      "Input \u001b[1;32mIn [131]\u001b[0m, in \u001b[0;36m<module>\u001b[1;34m\u001b[0m\n\u001b[1;32m----> 1\u001b[0m \u001b[43mbaseline_precision_at_k\u001b[49m\u001b[43m(\u001b[49m\u001b[43msparse_item_user\u001b[49m\u001b[43m,\u001b[49m\u001b[43m \u001b[49m\u001b[43mk\u001b[49m\u001b[38;5;241;43m=\u001b[39;49m\u001b[38;5;241;43m10\u001b[39;49m\u001b[43m)\u001b[49m\n",
      "Input \u001b[1;32mIn [130]\u001b[0m, in \u001b[0;36mbaseline_precision_at_k\u001b[1;34m(sparse_item_user, k, test_pct)\u001b[0m\n\u001b[0;32m     16\u001b[0m \u001b[38;5;28;01mfor\u001b[39;00m user \u001b[38;5;129;01min\u001b[39;00m test_sample:\n\u001b[0;32m     17\u001b[0m     relevance \u001b[38;5;241m=\u001b[39m \u001b[38;5;241m0\u001b[39m\n\u001b[1;32m---> 18\u001b[0m     top_K \u001b[38;5;241m=\u001b[39m \u001b[43mget_top_k\u001b[49m(user, sparse_user_item, k)\n\u001b[0;32m     20\u001b[0m     \u001b[38;5;28;01mfor\u001b[39;00m item \u001b[38;5;129;01min\u001b[39;00m most_popular:\n\u001b[0;32m     21\u001b[0m         \u001b[38;5;28;01mif\u001b[39;00m item \u001b[38;5;129;01min\u001b[39;00m top_K: \u001b[38;5;66;03m# Alteração do pesoa das interações para 0 e 1. Assim, será contabilizado apenas se o usuário interagiu com o item ou não.\u001b[39;00m\n",
      "\u001b[1;31mNameError\u001b[0m: name 'get_top_k' is not defined"
     ]
    }
   ],
   "source": [
    "baseline_precision_at_k(sparse_item_user, k=10)"
   ]
  },
  {
   "cell_type": "code",
   "execution_count": 52,
   "id": "ed624cfe",
   "metadata": {},
   "outputs": [],
   "source": [
    "def model_evaluation(train, test, model, k=10): \n",
    "    \n",
    "    '''Avaliação do modelo treinado com as funções da biblioteca Implicit.\n",
    "    Retorna dicionário com p@k, map@k, ndcg@k e auc@k.'''\n",
    "\n",
    "    \n",
    "    p_at_k = implicit.evaluation.precision_at_k(model, train_user_items=train, \n",
    "                                                test_user_items=test,\n",
    "                                                K=k, \n",
    "                                                show_progress = False)\n",
    "    \n",
    "    m_at_k = implicit.evaluation.mean_average_precision_at_k(model, \n",
    "                                                             train_user_items = train, \n",
    "                                                             test_user_items = test, \n",
    "                                                             K=k, \n",
    "                                                             show_progress = False)\n",
    "\n",
    "    ndcg_at_k = implicit.evaluation.ndcg_at_k(model, \n",
    "                                              train_user_items = train,\n",
    "                                              test_user_items = test, \n",
    "                                              K=k, \n",
    "                                              show_progress = False)\n",
    "\n",
    "    auc_at_k = implicit.evaluation.AUC_at_k(model, \n",
    "                                            train_user_items = train, \n",
    "                                            test_user_items = test, \n",
    "                                            K=k, \n",
    "                                            show_progress = False)\n",
    "    metrics = {'p@K':p_at_k, \n",
    "               'map@K': m_at_k, \n",
    "               'ndcg@K':ndcg_at_k, \n",
    "               'auc@K':auc_at_k}\n",
    "    \n",
    "    return metrics"
   ]
  },
  {
   "cell_type": "code",
   "execution_count": 53,
   "id": "0d6b7059",
   "metadata": {},
   "outputs": [],
   "source": [
    "metrics = model_evaluation(train, test, model)"
   ]
  },
  {
   "cell_type": "code",
   "execution_count": 54,
   "id": "f861e304",
   "metadata": {},
   "outputs": [
    {
     "data": {
      "text/plain": [
       "{'p@K': 0.4153846153846154,\n",
       " 'map@K': 0.1996994631185809,\n",
       " 'ndcg@K': 0.24583050569216344,\n",
       " 'auc@K': 0.6921442264252101}"
      ]
     },
     "execution_count": 54,
     "metadata": {},
     "output_type": "execute_result"
    }
   ],
   "source": [
    "metrics"
   ]
  },
  {
   "cell_type": "markdown",
   "id": "ad9d9f7d",
   "metadata": {},
   "source": [
    "* Sobre metricas de precisão @k: https://medium.com/@m_n_malaeb/recall-and-precision-at-k-for-recommender-systems-618483226c54\n",
    "* Sobre NDCG: https://towardsdatascience.com/evaluate-your-recommendation-engine-using-ndcg-759a851452d1\n",
    "* Sobre Mean Average Precision: https://towardsdatascience.com/breaking-down-mean-average-precision-map-ae462f623a52"
   ]
  },
  {
   "cell_type": "markdown",
   "id": "0d6eb80b",
   "metadata": {},
   "source": [
    "Ainda não foi realizada qualquer tunagem de hiperaparâmetros. Podemos pegar alguns valores de referencia para rodar um gridsearch"
   ]
  },
  {
   "cell_type": "markdown",
   "id": "2e087ad3",
   "metadata": {},
   "source": [
    "## Funções de recomendações"
   ]
  },
  {
   "cell_type": "code",
   "execution_count": 193,
   "id": "cf1e5a71",
   "metadata": {
    "scrolled": true
   },
   "outputs": [],
   "source": [
    "def recommend(user):\n",
    "    \n",
    "    ''' Retorna uma lista de itens recomendados para o usuário dado de acordo com a biblioteca Implicit.\n",
    "        Também é retornado uma lista com os itens já clicados por esse usuário'''\n",
    "    \n",
    "    #sparse_user_item = load_npz(\"/.npz/sparse_user_item.npz\")\n",
    "    \n",
    "    with open(model_path, 'rb') as pickle_in:\n",
    "        model = pickle.load(pickle_in)\n",
    "    \n",
    "    if user not in sparse_user_item.T.tocsr().indices:\n",
    "        return \"Invalid User\"\n",
    "        \n",
    "    recommended, _ = (model.recommend(user, sparse_user_item[user]))\n",
    "\n",
    "    original_user_items = list(sparse_user_item[user].indices)\n",
    "\n",
    "    return recommended, original_user_items"
   ]
  },
  {
   "cell_type": "code",
   "execution_count": 196,
   "id": "5b284ac4",
   "metadata": {},
   "outputs": [
    {
     "data": {
      "text/plain": [
       "array([ 39584,  42561,  58749, ..., 363287, 369503, 408904], dtype=int32)"
      ]
     },
     "execution_count": 196,
     "metadata": {},
     "output_type": "execute_result"
    }
   ],
   "source": [
    "sparse_user_item.T.tocsr().indices"
   ]
  },
  {
   "cell_type": "code",
   "execution_count": 194,
   "id": "651bf52f",
   "metadata": {},
   "outputs": [],
   "source": [
    "def most_similar_items(item_id, n_similar=10):\n",
    "    '''computes the most similar items'''\n",
    "    \n",
    "    with open(model_path, 'rb') as pickle_in:\n",
    "        model = pickle.load(pickle_in)\n",
    "\n",
    "    similar, score = zip(*model.similar_items(item_id, n_similar)[1:])\n",
    "\n",
    "    return similar"
   ]
  },
  {
   "cell_type": "code",
   "execution_count": 271,
   "id": "63b7fd6c",
   "metadata": {},
   "outputs": [],
   "source": [
    "a = recommend(299228)"
   ]
  },
  {
   "cell_type": "code",
   "execution_count": 272,
   "id": "774208ec",
   "metadata": {},
   "outputs": [
    {
     "data": {
      "text/plain": [
       "[100360623,\n",
       " 100332323,\n",
       " 100332323,\n",
       " 100332323,\n",
       " 125801,\n",
       " 100332323,\n",
       " 100332323,\n",
       " 146501,\n",
       " 100332323,\n",
       " 100332323]"
      ]
     },
     "execution_count": 272,
     "metadata": {},
     "output_type": "execute_result"
    }
   ],
   "source": [
    "[offer_cat[item] for item in a[0]]"
   ]
  },
  {
   "cell_type": "code",
   "execution_count": 273,
   "id": "113b9b77",
   "metadata": {},
   "outputs": [
    {
     "data": {
      "text/plain": [
       "[100334223, 117001, 100332323]"
      ]
     },
     "execution_count": 273,
     "metadata": {},
     "output_type": "execute_result"
    }
   ],
   "source": [
    "[offer_cat[item] for item in a[1]]"
   ]
  },
  {
   "cell_type": "code",
   "execution_count": 241,
   "id": "a336a3b9",
   "metadata": {},
   "outputs": [
    {
     "data": {
      "text/plain": [
       "array([118613, 150977, 162387, 167336, 245902, 299228, 300016, 312634,\n",
       "       319826, 340386], dtype=int32)"
      ]
     },
     "execution_count": 241,
     "metadata": {},
     "output_type": "execute_result"
    }
   ],
   "source": [
    "sparse_item_user.indices[20:30]"
   ]
  },
  {
   "cell_type": "code",
   "execution_count": 43,
   "id": "f6564aab",
   "metadata": {},
   "outputs": [],
   "source": [
    "def most_similar_users(user_id, n_similar=10):\n",
    "    '''computes the most similar users'''\n",
    "    sparse_user_item = load_npz(os.getcwd()+\"/.npz/sparse_user_item.npz\")\n",
    "    \n",
    "    with open(model_path, 'rb') as pickle_in:\n",
    "        model = pickle.load(pickle_in)\n",
    "\n",
    "    similar, _ = zip(*model.similar_users(user_id, n_similar)[1:])\n",
    "\n",
    "    # original users items\n",
    "    original_user_items = list(sparse_user_item[user_id].indices)\n",
    "    \n",
    "    common_items_users = {}\n",
    "\n",
    "    # now we want to add the items that a similar user has rated\n",
    "    for user in similar:\n",
    "        # Verifica em cada usuário considerado similar quais são os itens que estes\n",
    "        # tem em comum com o usuário selecionado\n",
    "        common_items_users[user] = set(list(sparse_user_item[user].indices)) & set(original_user_items)\n",
    "    \n",
    "    # retorna usuários similares, e quais são os itens comuns correspondentes a cada um desses usuários\n",
    "    return similar, common_items_users"
   ]
  },
  {
   "cell_type": "code",
   "execution_count": null,
   "id": "774a8bc5",
   "metadata": {},
   "outputs": [],
   "source": [
    "def recalculate_user(user_ratings):\n",
    "    '''adds new user and its liked items to sparse matrix and returns recalculated recommendations\n",
    "       Receives the user clicked products vector (user_ratings)''' \n",
    "\n",
    "    m = load_npz('sparse_user_item.npz')\n",
    "    n_users, n_movies = m.shape\n",
    "\n",
    "    ratings = [alpha for i in range(len(user_ratings))]\n",
    "\n",
    "    m.data = np.hstack((m.data, ratings))\n",
    "    m.indices = np.hstack((m.indices, user_ratings))\n",
    "    m.indptr = np.hstack((m.indptr, len(m.data)))\n",
    "    m._shape = (n_users+1, n_movies)\n",
    "\n",
    "    # recommend N items to new user\n",
    "    with open(model_path, 'rb') as pickle_in:\n",
    "        model = pickle.load(pickle_in)\n",
    "        \n",
    "    recommended, _ =  zip(*model.recommend(n_users, m, recalculate_user=True))\n",
    "    \n",
    "    return recommended"
   ]
  },
  {
   "cell_type": "markdown",
   "id": "b6137bda",
   "metadata": {},
   "source": [
    "* A matriz m passa a ser a matriz com o novo usuário atualizado e é levada em consideração no para o cálculo de novos vetores."
   ]
  },
  {
   "cell_type": "markdown",
   "id": "55335738",
   "metadata": {},
   "source": [
    "Nota: \n",
    "* Após os ajustes na organização das matrizes esparsas, o modelo parece não mais repetir recomendações de itens que já foram clicados pelo usuário\n",
    "* O modelo parece também não mais necessitar de tradução dos códigos de ofertas e usuário adotados na matriz esparsa para os códigos da matriz original"
   ]
  },
  {
   "cell_type": "markdown",
   "id": "fd996198",
   "metadata": {},
   "source": [
    "### Criação e armazenamento do dicionário código-titulo de oferta (carregado na parte de cima do código)."
   ]
  },
  {
   "cell_type": "code",
   "execution_count": 156,
   "id": "1f0e06a3",
   "metadata": {},
   "outputs": [],
   "source": [
    "df_temp = clicks_de[['Offer','OfferTitle']]"
   ]
  },
  {
   "cell_type": "code",
   "execution_count": 161,
   "id": "34425af8",
   "metadata": {},
   "outputs": [],
   "source": [
    "df_temp = df_temp.drop_duplicates(['Offer','OfferTitle'])"
   ]
  },
  {
   "cell_type": "code",
   "execution_count": 169,
   "id": "3ad01a11",
   "metadata": {},
   "outputs": [],
   "source": [
    "teste_dicio = dict(zip(df_temp['Offer'], df_temp['OfferTitle']))"
   ]
  },
  {
   "cell_type": "code",
   "execution_count": 95,
   "id": "1b791962",
   "metadata": {},
   "outputs": [],
   "source": [
    "dic = pd.read_csv('de_traduzido.csv')\n",
    "dic['Offer2'] = dic['OfferTitle'].map(dict(zip(clicks_de.OfferTitle, clicks_de.Offer)))"
   ]
  },
  {
   "cell_type": "code",
   "execution_count": 115,
   "id": "b5f2df4c",
   "metadata": {},
   "outputs": [],
   "source": [
    "pickle.dump(offers, open('.pkl/offers.pkl', 'wb'))"
   ]
  },
  {
   "cell_type": "markdown",
   "id": "a0a52c8e",
   "metadata": {},
   "source": [
    "### Criação e armazenamento do dicionário código_oferta -> Categoria_1 (carregado na parte de cima do código)."
   ]
  },
  {
   "cell_type": "code",
   "execution_count": 268,
   "id": "bf521e3b",
   "metadata": {},
   "outputs": [],
   "source": [
    "df_temp = clicks_de[['Offer','Category']]"
   ]
  },
  {
   "cell_type": "code",
   "execution_count": 269,
   "id": "e22f3466",
   "metadata": {},
   "outputs": [],
   "source": [
    "df_temp = df_temp.drop_duplicates(['Offer','Category'])"
   ]
  },
  {
   "cell_type": "code",
   "execution_count": 270,
   "id": "efc88984",
   "metadata": {},
   "outputs": [],
   "source": [
    "offer_cat = dict(zip(df_temp['Offer'], df_temp['Category']))"
   ]
  },
  {
   "cell_type": "markdown",
   "id": "9b7f9ada",
   "metadata": {},
   "source": [
    "### Tunagem de hiperparametros"
   ]
  },
  {
   "cell_type": "code",
   "execution_count": 214,
   "id": "7362f7fb",
   "metadata": {},
   "outputs": [],
   "source": [
    "grid = {'factors': [10,50,100,200],\n",
    "       'regularization':[1,0.5, 0.1, 0.01],\n",
    "        'iterations':[10,30,50, 100], \n",
    "        'alphas':[1,15,40,60, 100]}"
   ]
  },
  {
   "cell_type": "code",
   "execution_count": 215,
   "id": "5fe02770",
   "metadata": {},
   "outputs": [],
   "source": [
    "model = implicit.als.AlternatingLeastSquares()"
   ]
  },
  {
   "cell_type": "code",
   "execution_count": 246,
   "id": "96441975",
   "metadata": {},
   "outputs": [],
   "source": [
    "def gridsearch_als(grid):\n",
    "    results = []\n",
    "    for factor in grid['factors']:\n",
    "        for regularization in grid['regularization']:\n",
    "            for iteration in grid['iterations']:\n",
    "                for alpha in grid['alphas']:\n",
    "            \n",
    "                    model = implicit.als.AlternatingLeastSquares(factors = factor, \n",
    "                                                                 regularization = regularization, \n",
    "                                                                 iterations = iteration)\n",
    "                    model.fit(train*alpha)\n",
    "\n",
    "                    partial = model_evaluation(train, test, model, )\n",
    "                    results.append([factor, regularization, iteration, alpha, partial['p@K'],partial['map@K'], partial['ndcg@K'], partial['auc@K']])\n",
    "                \n",
    "    final = pd.DataFrame(results, columns = ['Factors','Regularization','Iteration','alpha','P@K','MAP@K','NDCG@K','AUC@K'])\n",
    "    return final\n",
    "                "
   ]
  },
  {
   "cell_type": "code",
   "execution_count": null,
   "id": "e9cb5c72",
   "metadata": {
    "scrolled": true
   },
   "outputs": [],
   "source": [
    "grid_results = gridsearch_als(grid)"
   ]
  },
  {
   "cell_type": "code",
   "execution_count": 248,
   "id": "be0f2c6b",
   "metadata": {},
   "outputs": [],
   "source": [
    "grid_results.to_csv('params.csv')"
   ]
  },
  {
   "cell_type": "code",
   "execution_count": 249,
   "id": "f29120f6",
   "metadata": {
    "scrolled": true
   },
   "outputs": [
    {
     "data": {
      "text/html": [
       "<div>\n",
       "<style scoped>\n",
       "    .dataframe tbody tr th:only-of-type {\n",
       "        vertical-align: middle;\n",
       "    }\n",
       "\n",
       "    .dataframe tbody tr th {\n",
       "        vertical-align: top;\n",
       "    }\n",
       "\n",
       "    .dataframe thead th {\n",
       "        text-align: right;\n",
       "    }\n",
       "</style>\n",
       "<table border=\"1\" class=\"dataframe\">\n",
       "  <thead>\n",
       "    <tr style=\"text-align: right;\">\n",
       "      <th></th>\n",
       "      <th>Factors</th>\n",
       "      <th>Regularization</th>\n",
       "      <th>Iteration</th>\n",
       "      <th>alpha</th>\n",
       "      <th>P@K</th>\n",
       "      <th>MAP@K</th>\n",
       "      <th>NDCG@K</th>\n",
       "      <th>AUC@K</th>\n",
       "    </tr>\n",
       "  </thead>\n",
       "  <tbody>\n",
       "    <tr>\n",
       "      <th>10</th>\n",
       "      <td>10</td>\n",
       "      <td>1.00</td>\n",
       "      <td>50</td>\n",
       "      <td>1</td>\n",
       "      <td>0.277019</td>\n",
       "      <td>0.118268</td>\n",
       "      <td>0.161464</td>\n",
       "      <td>0.625906</td>\n",
       "    </tr>\n",
       "    <tr>\n",
       "      <th>75</th>\n",
       "      <td>10</td>\n",
       "      <td>0.01</td>\n",
       "      <td>100</td>\n",
       "      <td>1</td>\n",
       "      <td>0.277019</td>\n",
       "      <td>0.112387</td>\n",
       "      <td>0.157666</td>\n",
       "      <td>0.626029</td>\n",
       "    </tr>\n",
       "    <tr>\n",
       "      <th>30</th>\n",
       "      <td>10</td>\n",
       "      <td>0.50</td>\n",
       "      <td>50</td>\n",
       "      <td>1</td>\n",
       "      <td>0.276451</td>\n",
       "      <td>0.115258</td>\n",
       "      <td>0.158532</td>\n",
       "      <td>0.624036</td>\n",
       "    </tr>\n",
       "    <tr>\n",
       "      <th>50</th>\n",
       "      <td>10</td>\n",
       "      <td>0.10</td>\n",
       "      <td>50</td>\n",
       "      <td>1</td>\n",
       "      <td>0.275882</td>\n",
       "      <td>0.117437</td>\n",
       "      <td>0.161001</td>\n",
       "      <td>0.626247</td>\n",
       "    </tr>\n",
       "    <tr>\n",
       "      <th>55</th>\n",
       "      <td>10</td>\n",
       "      <td>0.10</td>\n",
       "      <td>100</td>\n",
       "      <td>1</td>\n",
       "      <td>0.270762</td>\n",
       "      <td>0.113639</td>\n",
       "      <td>0.156124</td>\n",
       "      <td>0.623370</td>\n",
       "    </tr>\n",
       "    <tr>\n",
       "      <th>...</th>\n",
       "      <td>...</td>\n",
       "      <td>...</td>\n",
       "      <td>...</td>\n",
       "      <td>...</td>\n",
       "      <td>...</td>\n",
       "      <td>...</td>\n",
       "      <td>...</td>\n",
       "      <td>...</td>\n",
       "    </tr>\n",
       "    <tr>\n",
       "      <th>4</th>\n",
       "      <td>10</td>\n",
       "      <td>1.00</td>\n",
       "      <td>10</td>\n",
       "      <td>100</td>\n",
       "      <td>0.088168</td>\n",
       "      <td>0.017550</td>\n",
       "      <td>0.035890</td>\n",
       "      <td>0.538423</td>\n",
       "    </tr>\n",
       "    <tr>\n",
       "      <th>304</th>\n",
       "      <td>200</td>\n",
       "      <td>0.01</td>\n",
       "      <td>10</td>\n",
       "      <td>100</td>\n",
       "      <td>0.072241</td>\n",
       "      <td>0.019690</td>\n",
       "      <td>0.034520</td>\n",
       "      <td>0.530543</td>\n",
       "    </tr>\n",
       "    <tr>\n",
       "      <th>64</th>\n",
       "      <td>10</td>\n",
       "      <td>0.01</td>\n",
       "      <td>10</td>\n",
       "      <td>100</td>\n",
       "      <td>0.072241</td>\n",
       "      <td>0.010721</td>\n",
       "      <td>0.025446</td>\n",
       "      <td>0.530581</td>\n",
       "    </tr>\n",
       "    <tr>\n",
       "      <th>144</th>\n",
       "      <td>50</td>\n",
       "      <td>0.01</td>\n",
       "      <td>10</td>\n",
       "      <td>100</td>\n",
       "      <td>0.070535</td>\n",
       "      <td>0.020357</td>\n",
       "      <td>0.033903</td>\n",
       "      <td>0.528062</td>\n",
       "    </tr>\n",
       "    <tr>\n",
       "      <th>44</th>\n",
       "      <td>10</td>\n",
       "      <td>0.10</td>\n",
       "      <td>10</td>\n",
       "      <td>100</td>\n",
       "      <td>0.060865</td>\n",
       "      <td>0.013594</td>\n",
       "      <td>0.026320</td>\n",
       "      <td>0.527140</td>\n",
       "    </tr>\n",
       "  </tbody>\n",
       "</table>\n",
       "<p>320 rows × 8 columns</p>\n",
       "</div>"
      ],
      "text/plain": [
       "     Factors  Regularization  Iteration  alpha       P@K     MAP@K    NDCG@K  \\\n",
       "10        10            1.00         50      1  0.277019  0.118268  0.161464   \n",
       "75        10            0.01        100      1  0.277019  0.112387  0.157666   \n",
       "30        10            0.50         50      1  0.276451  0.115258  0.158532   \n",
       "50        10            0.10         50      1  0.275882  0.117437  0.161001   \n",
       "55        10            0.10        100      1  0.270762  0.113639  0.156124   \n",
       "..       ...             ...        ...    ...       ...       ...       ...   \n",
       "4         10            1.00         10    100  0.088168  0.017550  0.035890   \n",
       "304      200            0.01         10    100  0.072241  0.019690  0.034520   \n",
       "64        10            0.01         10    100  0.072241  0.010721  0.025446   \n",
       "144       50            0.01         10    100  0.070535  0.020357  0.033903   \n",
       "44        10            0.10         10    100  0.060865  0.013594  0.026320   \n",
       "\n",
       "        AUC@K  \n",
       "10   0.625906  \n",
       "75   0.626029  \n",
       "30   0.624036  \n",
       "50   0.626247  \n",
       "55   0.623370  \n",
       "..        ...  \n",
       "4    0.538423  \n",
       "304  0.530543  \n",
       "64   0.530581  \n",
       "144  0.528062  \n",
       "44   0.527140  \n",
       "\n",
       "[320 rows x 8 columns]"
      ]
     },
     "execution_count": 249,
     "metadata": {},
     "output_type": "execute_result"
    }
   ],
   "source": [
    "grid_results.sort_values(by=['P@K','NDCG@K'], ascending = False)"
   ]
  }
 ],
 "metadata": {
  "kernelspec": {
   "display_name": "Python 3 (ipykernel)",
   "language": "python",
   "name": "python3"
  },
  "language_info": {
   "codemirror_mode": {
    "name": "ipython",
    "version": 3
   },
   "file_extension": ".py",
   "mimetype": "text/x-python",
   "name": "python",
   "nbconvert_exporter": "python",
   "pygments_lexer": "ipython3",
   "version": "3.9.9"
  }
 },
 "nbformat": 4,
 "nbformat_minor": 5
}
