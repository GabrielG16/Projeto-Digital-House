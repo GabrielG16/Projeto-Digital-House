{
 "cells": [
  {
   "cell_type": "code",
   "execution_count": 87,
   "id": "d7510700",
   "metadata": {},
   "outputs": [],
   "source": [
    "#IMPORT DE BIBLIOTECAS\n",
    "\n",
    "from collections import defaultdict\n",
    "import pandas as pd\n",
    "import numpy as np\n",
    "import os\n",
    "\n",
    "from scipy.sparse import csr_matrix\n",
    "\n",
    "from matplotlib import pyplot as plt\n",
    "import seaborn as sns\n",
    "\n",
    "from surprise import Dataset, Reader, SVD, SVDpp\n",
    "from surprise.model_selection import train_test_split, cross_validate\n",
    "from surprise import accuracy\n",
    "from surprise.model_selection import cross_validate\n",
    "\n",
    "import pickle\n",
    "import flask"
   ]
  },
  {
   "cell_type": "code",
   "execution_count": 84,
   "id": "6f293073",
   "metadata": {},
   "outputs": [],
   "source": [
    "df_de_cat = pd.read_csv('category_de.txt') # DataFrame Informativo das categorias"
   ]
  },
  {
   "cell_type": "code",
   "execution_count": 3,
   "id": "787dba91",
   "metadata": {},
   "outputs": [],
   "source": [
    "clicks_de = pd.read_csv('clicks_de_sample_2.txt', sep = ',', header=0) # df de clicks"
   ]
  },
  {
   "cell_type": "code",
   "execution_count": 95,
   "id": "7b22dc99",
   "metadata": {},
   "outputs": [
    {
     "data": {
      "text/html": [
       "<div>\n",
       "<style scoped>\n",
       "    .dataframe tbody tr th:only-of-type {\n",
       "        vertical-align: middle;\n",
       "    }\n",
       "\n",
       "    .dataframe tbody tr th {\n",
       "        vertical-align: top;\n",
       "    }\n",
       "\n",
       "    .dataframe thead th {\n",
       "        text-align: right;\n",
       "    }\n",
       "</style>\n",
       "<table border=\"1\" class=\"dataframe\">\n",
       "  <thead>\n",
       "    <tr style=\"text-align: right;\">\n",
       "      <th></th>\n",
       "      <th>UserId</th>\n",
       "      <th>OfferId</th>\n",
       "      <th>OfferViewId</th>\n",
       "      <th>CountryCode</th>\n",
       "      <th>Category</th>\n",
       "      <th>Source</th>\n",
       "      <th>UtcDate</th>\n",
       "      <th>OfferTitle</th>\n",
       "      <th>Cat_clicks</th>\n",
       "      <th>User</th>\n",
       "      <th>Offer</th>\n",
       "      <th>Ancestor_ID</th>\n",
       "      <th>Name</th>\n",
       "      <th>UserClicks</th>\n",
       "    </tr>\n",
       "  </thead>\n",
       "  <tbody>\n",
       "    <tr>\n",
       "      <th>0</th>\n",
       "      <td>d37a4e15a65cb9e6b2a5c3bd6b109c2cbb8ea28ea0e249...</td>\n",
       "      <td>874006e61139f2b56ba21a46fe554753</td>\n",
       "      <td>874006e61139f2b56ba21a46fe554753-1076982502353...</td>\n",
       "      <td>de</td>\n",
       "      <td>128101</td>\n",
       "      <td>f7151fb3a6269230dcaa048646568c53ad69ab3b3d24ae...</td>\n",
       "      <td>2016-06-01 13:24:13.0</td>\n",
       "      <td>Buch - Süßer die Glocken...</td>\n",
       "      <td>3</td>\n",
       "      <td>0</td>\n",
       "      <td>0</td>\n",
       "      <td>128101 128001 100346123 601</td>\n",
       "      <td>Erotikliteratur</td>\n",
       "      <td>1</td>\n",
       "    </tr>\n",
       "    <tr>\n",
       "      <th>1</th>\n",
       "      <td>67d65125918799e0cb955526f8245b633c13729f20644d...</td>\n",
       "      <td>568777b0316aafe2b858d9a10e9ead28</td>\n",
       "      <td>568777b0316aafe2b858d9a10e9ead28-1076982502353...</td>\n",
       "      <td>de</td>\n",
       "      <td>128101</td>\n",
       "      <td>f7151fb3a6269230dcaa048646568c53ad69ab3b3d24ae...</td>\n",
       "      <td>2016-06-01 03:32:14.0</td>\n",
       "      <td>Buch - Shades of Grey 1 - Geheimes Verlangen</td>\n",
       "      <td>3</td>\n",
       "      <td>1</td>\n",
       "      <td>1</td>\n",
       "      <td>128101 128001 100346123 601</td>\n",
       "      <td>Erotikliteratur</td>\n",
       "      <td>1</td>\n",
       "    </tr>\n",
       "    <tr>\n",
       "      <th>2</th>\n",
       "      <td>7ff9936d1bc8fd24ff1e7333e0ff0b70b5214a949f3aa3...</td>\n",
       "      <td>874006e61139f2b56ba21a46fe554753</td>\n",
       "      <td>874006e61139f2b56ba21a46fe554753-1076982502353...</td>\n",
       "      <td>de</td>\n",
       "      <td>128101</td>\n",
       "      <td>f7151fb3a6269230dcaa048646568c53ad69ab3b3d24ae...</td>\n",
       "      <td>2016-06-01 07:58:40.0</td>\n",
       "      <td>Buch - Süßer die Glocken...</td>\n",
       "      <td>3</td>\n",
       "      <td>2</td>\n",
       "      <td>0</td>\n",
       "      <td>128101 128001 100346123 601</td>\n",
       "      <td>Erotikliteratur</td>\n",
       "      <td>1</td>\n",
       "    </tr>\n",
       "    <tr>\n",
       "      <th>3</th>\n",
       "      <td>e94d7bb5f915bcc3a5968f6454d9dcd7fbec5885e09286...</td>\n",
       "      <td>e30f11660b6d8559e66bb00b9847324f</td>\n",
       "      <td>e30f11660b6d8559e66bb00b9847324f-1076982042286...</td>\n",
       "      <td>de</td>\n",
       "      <td>100270123</td>\n",
       "      <td>7ffbeedfb14f46f259001cefc4d79048ccef25b9e87207...</td>\n",
       "      <td>2016-06-02 02:26:14.0</td>\n",
       "      <td>Masturbator Mood Pleasure Stroker UR3 Thick Ri...</td>\n",
       "      <td>7</td>\n",
       "      <td>3</td>\n",
       "      <td>2</td>\n",
       "      <td>100270123 128001 100346123 601</td>\n",
       "      <td>Sex Gags</td>\n",
       "      <td>1</td>\n",
       "    </tr>\n",
       "    <tr>\n",
       "      <th>4</th>\n",
       "      <td>515408cbdab92663d58bc03e6d14bcb298250f89052d99...</td>\n",
       "      <td>7e38a7b5c2881d5b38fada633fc36507</td>\n",
       "      <td>7e38a7b5c2881d5b38fada633fc36507-1076982511973...</td>\n",
       "      <td>de</td>\n",
       "      <td>100270123</td>\n",
       "      <td>978f3cfa5eec8581696bf86dfd458583ad718be08831ba...</td>\n",
       "      <td>2016-06-01 21:51:30.0</td>\n",
       "      <td>Masturbator Hustler Porn Star Pussy and Ass St...</td>\n",
       "      <td>7</td>\n",
       "      <td>4</td>\n",
       "      <td>3</td>\n",
       "      <td>100270123 128001 100346123 601</td>\n",
       "      <td>Sex Gags</td>\n",
       "      <td>8</td>\n",
       "    </tr>\n",
       "  </tbody>\n",
       "</table>\n",
       "</div>"
      ],
      "text/plain": [
       "                                              UserId  \\\n",
       "0  d37a4e15a65cb9e6b2a5c3bd6b109c2cbb8ea28ea0e249...   \n",
       "1  67d65125918799e0cb955526f8245b633c13729f20644d...   \n",
       "2  7ff9936d1bc8fd24ff1e7333e0ff0b70b5214a949f3aa3...   \n",
       "3  e94d7bb5f915bcc3a5968f6454d9dcd7fbec5885e09286...   \n",
       "4  515408cbdab92663d58bc03e6d14bcb298250f89052d99...   \n",
       "\n",
       "                            OfferId  \\\n",
       "0  874006e61139f2b56ba21a46fe554753   \n",
       "1  568777b0316aafe2b858d9a10e9ead28   \n",
       "2  874006e61139f2b56ba21a46fe554753   \n",
       "3  e30f11660b6d8559e66bb00b9847324f   \n",
       "4  7e38a7b5c2881d5b38fada633fc36507   \n",
       "\n",
       "                                         OfferViewId CountryCode   Category  \\\n",
       "0  874006e61139f2b56ba21a46fe554753-1076982502353...          de     128101   \n",
       "1  568777b0316aafe2b858d9a10e9ead28-1076982502353...          de     128101   \n",
       "2  874006e61139f2b56ba21a46fe554753-1076982502353...          de     128101   \n",
       "3  e30f11660b6d8559e66bb00b9847324f-1076982042286...          de  100270123   \n",
       "4  7e38a7b5c2881d5b38fada633fc36507-1076982511973...          de  100270123   \n",
       "\n",
       "                                              Source                UtcDate  \\\n",
       "0  f7151fb3a6269230dcaa048646568c53ad69ab3b3d24ae...  2016-06-01 13:24:13.0   \n",
       "1  f7151fb3a6269230dcaa048646568c53ad69ab3b3d24ae...  2016-06-01 03:32:14.0   \n",
       "2  f7151fb3a6269230dcaa048646568c53ad69ab3b3d24ae...  2016-06-01 07:58:40.0   \n",
       "3  7ffbeedfb14f46f259001cefc4d79048ccef25b9e87207...  2016-06-02 02:26:14.0   \n",
       "4  978f3cfa5eec8581696bf86dfd458583ad718be08831ba...  2016-06-01 21:51:30.0   \n",
       "\n",
       "                                          OfferTitle  Cat_clicks  User  Offer  \\\n",
       "0                        Buch - Süßer die Glocken...           3     0      0   \n",
       "1       Buch - Shades of Grey 1 - Geheimes Verlangen           3     1      1   \n",
       "2                        Buch - Süßer die Glocken...           3     2      0   \n",
       "3  Masturbator Mood Pleasure Stroker UR3 Thick Ri...           7     3      2   \n",
       "4  Masturbator Hustler Porn Star Pussy and Ass St...           7     4      3   \n",
       "\n",
       "                      Ancestor_ID             Name  UserClicks  \n",
       "0     128101 128001 100346123 601  Erotikliteratur           1  \n",
       "1     128101 128001 100346123 601  Erotikliteratur           1  \n",
       "2     128101 128001 100346123 601  Erotikliteratur           1  \n",
       "3  100270123 128001 100346123 601         Sex Gags           1  \n",
       "4  100270123 128001 100346123 601         Sex Gags           8  "
      ]
     },
     "execution_count": 95,
     "metadata": {},
     "output_type": "execute_result"
    }
   ],
   "source": [
    "clicks_de.head()"
   ]
  },
  {
   "cell_type": "code",
   "execution_count": 4,
   "id": "cae1636a",
   "metadata": {},
   "outputs": [],
   "source": [
    "# CRIAÇÃO DE COLUNA DE CLICKS POR CATEGORIA\n",
    "clicks_de.drop(columns = ['Keywords'], axis = 1, inplace=True)\n",
    "#clicks_de['Category'] = clicks_de['Category'].astype(str)\n",
    "\n",
    "pontuacao_de = pd.DataFrame(clicks_de['Category'].value_counts()).reset_index()\n",
    "pontuacao_de.columns = ['Category', 'Pontuacao']\n",
    "dici = dict(zip(pontuacao_de.Category, pontuacao_de.Pontuacao))\n",
    "\n",
    "clicks_de['Cat_clicks'] = clicks_de['Category'].map(dici)\n",
    "clicks_de.sort_values(by='Cat_clicks', inplace = True)"
   ]
  },
  {
   "cell_type": "code",
   "execution_count": 5,
   "id": "79a7321d",
   "metadata": {},
   "outputs": [],
   "source": [
    "## RENOMEANDO OFERTAS E USUÁRIOS\n",
    "clicks_de['User'] = clicks_de['UserId'].map(dict(zip(clicks_de['UserId'].unique(), \n",
    "                                                                        range(len(clicks_de['UserId']))))) # Redefinindo indices para usuário apenas como numérico\n",
    "\n",
    "clicks_de['Offer'] = clicks_de['OfferTitle'].map(dict(zip(clicks_de['OfferTitle'].unique(), \n",
    "                                                                        range(len(clicks_de['OfferTitle']))))) #  Redefinindo indices para ofertas apenas como numérico considerando o OfferTitle"
   ]
  },
  {
   "cell_type": "code",
   "execution_count": 6,
   "id": "85e21438",
   "metadata": {},
   "outputs": [],
   "source": [
    "clicks_de = clicks_de.merge(df_de_cat, left_on = 'Category', right_on = 'ID').drop('ID', axis = 1) "
   ]
  },
  {
   "cell_type": "code",
   "execution_count": 7,
   "id": "b3168432",
   "metadata": {},
   "outputs": [],
   "source": [
    "clicks_per_user_product = clicks_de.groupby(by=['UserId','OfferId']).count()[['Name']].reset_index()"
   ]
  },
  {
   "cell_type": "code",
   "execution_count": 8,
   "id": "574d1c7f",
   "metadata": {},
   "outputs": [],
   "source": [
    "clicks_per_user_product['User'] = clicks_per_user_product['UserId'].map(dict(zip(clicks_per_user_product['UserId'].unique(), \n",
    "                                                                        range(len(clicks_per_user_product['UserId']))))) # Redefinindo indices para usuário apenas como numérico\n",
    "\n",
    "\n",
    "clicks_per_user_product['Offer'] = clicks_per_user_product['OfferId'].map(dict(zip(clicks_per_user_product['OfferId'].unique(), \n",
    "                                                                        range(len(clicks_per_user_product['OfferId']))))) #  Redefinindo indices para ofertas apenas como numérico considerando o OfferTitle"
   ]
  },
  {
   "cell_type": "code",
   "execution_count": 9,
   "id": "e29b8067",
   "metadata": {},
   "outputs": [],
   "source": [
    "clicks_de['UserClicks'] = clicks_de['UserId'].map(dict(zip(clicks_de['UserId'].value_counts().index,\n",
    "                                                           clicks_de['UserId'].value_counts().values))) #Criação de coluna com nº total de cliques do usuário"
   ]
  },
  {
   "cell_type": "code",
   "execution_count": 10,
   "id": "270cf5a2",
   "metadata": {},
   "outputs": [],
   "source": [
    "#Cap minimo de clicks para integrar o sistema de recomendação\n",
    "clicks_de_filtered = clicks_de[(clicks_de.UserClicks > 40)]\n",
    "\n",
    "#DataFrame de base para utilização no Surprise\n",
    "user_item_clicks = clicks_de_filtered[['User','Offer','UserClicks']]"
   ]
  },
  {
   "cell_type": "code",
   "execution_count": 11,
   "id": "98fca288",
   "metadata": {},
   "outputs": [
    {
     "data": {
      "text/html": [
       "<div>\n",
       "<style scoped>\n",
       "    .dataframe tbody tr th:only-of-type {\n",
       "        vertical-align: middle;\n",
       "    }\n",
       "\n",
       "    .dataframe tbody tr th {\n",
       "        vertical-align: top;\n",
       "    }\n",
       "\n",
       "    .dataframe thead th {\n",
       "        text-align: right;\n",
       "    }\n",
       "</style>\n",
       "<table border=\"1\" class=\"dataframe\">\n",
       "  <thead>\n",
       "    <tr style=\"text-align: right;\">\n",
       "      <th></th>\n",
       "      <th>User</th>\n",
       "      <th>Offer</th>\n",
       "      <th>UserClicks</th>\n",
       "    </tr>\n",
       "  </thead>\n",
       "  <tbody>\n",
       "    <tr>\n",
       "      <th>0</th>\n",
       "      <td>249</td>\n",
       "      <td>83</td>\n",
       "      <td>1</td>\n",
       "    </tr>\n",
       "    <tr>\n",
       "      <th>1</th>\n",
       "      <td>249</td>\n",
       "      <td>3481</td>\n",
       "      <td>1</td>\n",
       "    </tr>\n",
       "    <tr>\n",
       "      <th>2</th>\n",
       "      <td>249</td>\n",
       "      <td>7628</td>\n",
       "      <td>1</td>\n",
       "    </tr>\n",
       "    <tr>\n",
       "      <th>3</th>\n",
       "      <td>249</td>\n",
       "      <td>7708</td>\n",
       "      <td>1</td>\n",
       "    </tr>\n",
       "    <tr>\n",
       "      <th>4</th>\n",
       "      <td>249</td>\n",
       "      <td>9575</td>\n",
       "      <td>1</td>\n",
       "    </tr>\n",
       "  </tbody>\n",
       "</table>\n",
       "</div>"
      ],
      "text/plain": [
       "   User  Offer  UserClicks\n",
       "0   249     83           1\n",
       "1   249   3481           1\n",
       "2   249   7628           1\n",
       "3   249   7708           1\n",
       "4   249   9575           1"
      ]
     },
     "metadata": {},
     "output_type": "display_data"
    }
   ],
   "source": [
    "log = user_item_clicks.groupby(by=['User','Offer']).count().reset_index()\n",
    "log['UserClicks'] = 1\n",
    "display(log.head())"
   ]
  },
  {
   "cell_type": "code",
   "execution_count": 12,
   "id": "f1a59048",
   "metadata": {},
   "outputs": [],
   "source": [
    "#Matriz esparsa\n",
    "pivo_log = log.pivot_table(columns = 'Offer', index = 'User', values = 'UserClicks').fillna(0)"
   ]
  },
  {
   "cell_type": "code",
   "execution_count": 13,
   "id": "2f152d02",
   "metadata": {},
   "outputs": [],
   "source": [
    "#Nova relação de clicks em cada produto por usuário a partir da matriz esparsa para uso no Surprise\n",
    "pivo_log_melted = pd.melt(frame = pivo_log, var_name = 'Products', value_name = 'Clicked?', ignore_index = False).reset_index()"
   ]
  },
  {
   "cell_type": "markdown",
   "id": "e19fca67",
   "metadata": {},
   "source": [
    "## TESTES SURPRISE"
   ]
  },
  {
   "cell_type": "code",
   "execution_count": 15,
   "id": "999b7a84",
   "metadata": {},
   "outputs": [],
   "source": [
    "#Escala de avaliação\n",
    "reader = Reader(rating_scale = (0,1))\n",
    "\n",
    "#Criação de objeto Dataset do Surprise\n",
    "data = Dataset.load_from_df(df = pivo_log_melted, reader=reader)"
   ]
  },
  {
   "cell_type": "code",
   "execution_count": 79,
   "id": "157e3cab",
   "metadata": {},
   "outputs": [],
   "source": [
    "#Criação do modelo e teste por validação cruzada\n",
    "svd = SVD() # Falta otimização de parametros e testagem de outros modelos\n",
    "cross_validate(svd, data, measures = ['RMSE','MAE'], cv = 5)"
   ]
  },
  {
   "cell_type": "code",
   "execution_count": 80,
   "id": "fc99c8e8",
   "metadata": {
    "scrolled": true,
    "tags": []
   },
   "outputs": [
    {
     "data": {
      "text/plain": [
       "{'test_rmse': array([0.13410884, 0.13147261, 0.13026821, 0.13226135, 0.13404056]),\n",
       " 'test_mae': array([0.03655328, 0.03604339, 0.03574242, 0.03631242, 0.03567607]),\n",
       " 'fit_time': (10.09976577758789,\n",
       "  10.098920106887817,\n",
       "  10.156632900238037,\n",
       "  10.116280794143677,\n",
       "  10.137130498886108),\n",
       " 'test_time': (0.3370988368988037,\n",
       "  0.4418525695800781,\n",
       "  0.4474148750305176,\n",
       "  0.44689202308654785,\n",
       "  0.32556772232055664)}"
      ]
     },
     "execution_count": 80,
     "metadata": {},
     "output_type": "execute_result"
    }
   ],
   "source": [
    "svdpp = SVDpp() # Falta otimização de parametros e testagem de outros modelos\n",
    "cross_validate(svd, data, measures = ['RMSE','MAE'], cv = 5)"
   ]
  },
  {
   "cell_type": "code",
   "execution_count": 85,
   "id": "60c4ad52",
   "metadata": {},
   "outputs": [
    {
     "data": {
      "text/plain": [
       "<surprise.prediction_algorithms.matrix_factorization.SVD at 0x1b3581cfb50>"
      ]
     },
     "execution_count": 85,
     "metadata": {},
     "output_type": "execute_result"
    }
   ],
   "source": [
    "#Criação do set de treino com o dataset completo\n",
    "trainsetfull = data.build_full_trainset()\n",
    "\n",
    "#Fit do modelo com o set de treino\n",
    "svd.fit(trainsetfull)\n",
    "svdpp.fit(trainsetfull)"
   ]
  },
  {
   "cell_type": "code",
   "execution_count": 86,
   "id": "63a8617e",
   "metadata": {},
   "outputs": [
    {
     "data": {
      "text/plain": [
       "<surprise.prediction_algorithms.matrix_factorization.SVDpp at 0x1b3581cd570>"
      ]
     },
     "execution_count": 86,
     "metadata": {},
     "output_type": "execute_result"
    }
   ],
   "source": [
    "svdpp.fit(trainsetfull)"
   ]
  },
  {
   "cell_type": "code",
   "execution_count": 147,
   "id": "f5b580f8",
   "metadata": {},
   "outputs": [
    {
     "data": {
      "text/html": [
       "<div>\n",
       "<style scoped>\n",
       "    .dataframe tbody tr th:only-of-type {\n",
       "        vertical-align: middle;\n",
       "    }\n",
       "\n",
       "    .dataframe tbody tr th {\n",
       "        vertical-align: top;\n",
       "    }\n",
       "\n",
       "    .dataframe thead th {\n",
       "        text-align: right;\n",
       "    }\n",
       "</style>\n",
       "<table border=\"1\" class=\"dataframe\">\n",
       "  <thead>\n",
       "    <tr style=\"text-align: right;\">\n",
       "      <th></th>\n",
       "      <th>User</th>\n",
       "      <th>Products</th>\n",
       "      <th>Clicked?</th>\n",
       "    </tr>\n",
       "  </thead>\n",
       "  <tbody>\n",
       "    <tr>\n",
       "      <th>0</th>\n",
       "      <td>249</td>\n",
       "      <td>83</td>\n",
       "      <td>1.0</td>\n",
       "    </tr>\n",
       "    <tr>\n",
       "      <th>1</th>\n",
       "      <td>362</td>\n",
       "      <td>83</td>\n",
       "      <td>0.0</td>\n",
       "    </tr>\n",
       "    <tr>\n",
       "      <th>2</th>\n",
       "      <td>567</td>\n",
       "      <td>83</td>\n",
       "      <td>0.0</td>\n",
       "    </tr>\n",
       "    <tr>\n",
       "      <th>3</th>\n",
       "      <td>815</td>\n",
       "      <td>83</td>\n",
       "      <td>0.0</td>\n",
       "    </tr>\n",
       "    <tr>\n",
       "      <th>4</th>\n",
       "      <td>919</td>\n",
       "      <td>83</td>\n",
       "      <td>0.0</td>\n",
       "    </tr>\n",
       "    <tr>\n",
       "      <th>...</th>\n",
       "      <td>...</td>\n",
       "      <td>...</td>\n",
       "      <td>...</td>\n",
       "    </tr>\n",
       "    <tr>\n",
       "      <th>195635</th>\n",
       "      <td>293680</td>\n",
       "      <td>292597</td>\n",
       "      <td>0.0</td>\n",
       "    </tr>\n",
       "    <tr>\n",
       "      <th>195636</th>\n",
       "      <td>342625</td>\n",
       "      <td>292597</td>\n",
       "      <td>0.0</td>\n",
       "    </tr>\n",
       "    <tr>\n",
       "      <th>195637</th>\n",
       "      <td>398935</td>\n",
       "      <td>292597</td>\n",
       "      <td>1.0</td>\n",
       "    </tr>\n",
       "    <tr>\n",
       "      <th>195638</th>\n",
       "      <td>398983</td>\n",
       "      <td>292597</td>\n",
       "      <td>0.0</td>\n",
       "    </tr>\n",
       "    <tr>\n",
       "      <th>195639</th>\n",
       "      <td>399566</td>\n",
       "      <td>292597</td>\n",
       "      <td>0.0</td>\n",
       "    </tr>\n",
       "  </tbody>\n",
       "</table>\n",
       "<p>195640 rows × 3 columns</p>\n",
       "</div>"
      ],
      "text/plain": [
       "          User  Products  Clicked?\n",
       "0          249        83       1.0\n",
       "1          362        83       0.0\n",
       "2          567        83       0.0\n",
       "3          815        83       0.0\n",
       "4          919        83       0.0\n",
       "...        ...       ...       ...\n",
       "195635  293680    292597       0.0\n",
       "195636  342625    292597       0.0\n",
       "195637  398935    292597       1.0\n",
       "195638  398983    292597       0.0\n",
       "195639  399566    292597       0.0\n",
       "\n",
       "[195640 rows x 3 columns]"
      ]
     },
     "execution_count": 147,
     "metadata": {},
     "output_type": "execute_result"
    }
   ],
   "source": [
    "#Fetch de informação de usuários pra teste\n",
    "pivo_log_melted"
   ]
  },
  {
   "cell_type": "code",
   "execution_count": 90,
   "id": "450cb885",
   "metadata": {},
   "outputs": [],
   "source": [
    "#Teste de predição com usuário específico frente a um produto específico\n",
    "prediction = svdpp.predict(uid = 815, iid = 282283)"
   ]
  },
  {
   "cell_type": "code",
   "execution_count": 91,
   "id": "754dac18",
   "metadata": {},
   "outputs": [
    {
     "data": {
      "text/plain": [
       "Prediction(uid=815, iid=282283, r_ui=None, est=0.15451328087152685, details={'was_impossible': False})"
      ]
     },
     "execution_count": 91,
     "metadata": {},
     "output_type": "execute_result"
    }
   ],
   "source": [
    "prediction"
   ]
  },
  {
   "cell_type": "markdown",
   "id": "f41e74f1",
   "metadata": {},
   "source": [
    "# FUNÇÃO DE RECOMENDAÇÕES"
   ]
  },
  {
   "cell_type": "code",
   "execution_count": 181,
   "id": "fa256ca6",
   "metadata": {},
   "outputs": [],
   "source": [
    "###########TESTES###############\n",
    "#np.nonzero(pivo_log_melted[pivo_log_melted['User']==user_id]['Clicked?'].to_numpy() == 0)\n",
    "list_of_unclicked_items = pivo_log_melted[(pivo_log_melted['User']==293680) & (pivo_log_melted['Clicked?']==0)]['Products']\n",
    "#user_set = [[249, item_id, 0] for item_id in list_of_unclicked_items]"
   ]
  },
  {
   "cell_type": "code",
   "execution_count": 183,
   "id": "28e1387b",
   "metadata": {},
   "outputs": [
    {
     "data": {
      "text/plain": [
       "68        Black Magic Design - Intensity Pro Video PCIe ...\n",
       "141       BIOMARIS GmbH & Co. KG BIOMARIS SUPER RICH M PARF\n",
       "214           X4-TECH Kinder CD-Player Bobby Joey inkl. MP3\n",
       "287       X4-TECH Kinder CD-Player Bobby Joey mit Anti-S...\n",
       "360               Happy Lola Sexy Pasties Mix Pack - 8 Stk.\n",
       "                                ...                        \n",
       "195343    Opel Zafira Tourer 1.8 SELECTION - Business Paket\n",
       "195416    Volkswagen Golf V Tour ALU BRE ZAHNr KD TÜV NE...\n",
       "195489    Opel Insignia 1.4 T ST XENON KAMERA NAVI AGR O...\n",
       "195562      Ford Granada 2.8 Ghia *Klimaanlage - AutomatiK*\n",
       "195635    Mercedes-Benz CLS 500 Shooting Brake 4M BE AMG...\n",
       "Name: Products, Length: 2652, dtype: object"
      ]
     },
     "execution_count": 183,
     "metadata": {},
     "output_type": "execute_result"
    }
   ],
   "source": [
    "list_of_unclicked_items.map(offer_title)"
   ]
  },
  {
   "cell_type": "code",
   "execution_count": 235,
   "id": "e17e071a",
   "metadata": {},
   "outputs": [],
   "source": [
    "##Função que retorna as top-N recomendações para cada usuário de um conjunto de predições\n",
    "\n",
    "def recommendations_from_SVDpp(user_id, pivo_log, algo, n_recommendations):\n",
    "    \n",
    "    # determine list of unseen itemns by user_id\n",
    "    list_of_unclicked_items = pivo_log[(pivo_log['User']==user_id) & (pivo_log['Clicked?']==0)]['Products']\n",
    "    \n",
    "    # set up user set with unrated movies\n",
    "    user_set = [[user_id, item_id, 0] for item_id in list_of_unclicked_items]\n",
    "    \n",
    "    # generate predictions\n",
    "    predictions = algo.test(user_set)\n",
    "\n",
    "    top_n_recommendations = defaultdict(list)\n",
    "    \n",
    "    for user_id, item_id, _, est, _ in predictions:\n",
    "\n",
    "        top_n_recommendations[user_id].append((item_id, est))\n",
    "\n",
    "        \n",
    "    for user_id, ratings in top_n_recommendations.items():\n",
    "\n",
    "        ratings.sort(key=lambda x: x[1], reverse=True)\n",
    "\n",
    "        top_n_recommendations[user_id] = ratings[:n_recommendations]\n",
    "\n",
    "\n",
    "    count = 0\n",
    "\n",
    "    print(\"Recommendations for user with id {}: \".format(user_id))\n",
    "\n",
    "    message = ''\n",
    "\n",
    "    for item_index, score in top_n_recommendations[user_id]: \n",
    "\n",
    "        count +=1\n",
    "\n",
    "        message += (str(count)+'. '+str(offer_title[item_index])+' predicted rating = '+str(round(score,3)))\n",
    "        message +='\\n'\n",
    "\n",
    "    return message"
   ]
  },
  {
   "cell_type": "code",
   "execution_count": 236,
   "id": "441ddb91",
   "metadata": {},
   "outputs": [
    {
     "name": "stdout",
     "output_type": "stream",
     "text": [
      "Recommendations for user with id 293680: \n"
     ]
    },
    {
     "data": {
      "text/plain": [
       "'1. Renault Laguna II Exception predicted rating = 0.209\\n2. Seat Leon Cupra R 2.0 T FSI Navi predicted rating = 0.195\\n3. Audi Q5 2.0 TDI QUATTRO LEDER NAVI+ XENON+ predicted rating = 0.195\\n4. Subaru WRX STI Sport TOP neuwertig predicted rating = 0.194\\n5. Mercedes-Benz A 140 KLIMAANLAGE predicted rating = 0.19\\n'"
      ]
     },
     "execution_count": 236,
     "metadata": {},
     "output_type": "execute_result"
    }
   ],
   "source": [
    "recommendations_from_SVDpp(293680, pivo_log_melted, svdpp, 5)"
   ]
  },
  {
   "cell_type": "code",
   "execution_count": 188,
   "id": "27ceda5c",
   "metadata": {},
   "outputs": [
    {
     "name": "stdout",
     "output_type": "stream",
     "text": [
      "Recommendations for user with id 293680: \n",
      "1. Renault Laguna II Exception, predicted rating = 0.212\n",
      "2. Seat Leon Cupra R 2.0 T FSI Navi, predicted rating = 0.198\n",
      "3. Audi Q5 2.0 TDI QUATTRO LEDER NAVI+ XENON+, predicted rating = 0.196\n",
      "4. Mercedes-Benz A 140 KLIMAANLAGE, predicted rating = 0.192\n",
      "5. Subaru WRX STI Sport TOP neuwertig, predicted rating = 0.188\n"
     ]
    }
   ],
   "source": [
    "recommendations_from_SVDpp(293680, pivo_log_melted, svd, 5)"
   ]
  },
  {
   "cell_type": "code",
   "execution_count": 180,
   "id": "f2eef758",
   "metadata": {
    "scrolled": true,
    "tags": []
   },
   "outputs": [
    {
     "data": {
      "text/plain": [
       "array(['Samsung Galaxy S5 mini blau', 'Samsung Galaxy S III Neo blau',\n",
       "       'Samsung Galaxy S6 edge Schwarz 64 GB',\n",
       "       'Samsung Galaxy S3 Neo I9301 Onyx Black',\n",
       "       'Samsung Galaxy S5 mini weiÃŸ', 'Samsung Galaxy S III Neo weiÃŸ',\n",
       "       'Samsung Galaxy S5 Weiß 16GB', 'Samsung Galaxy S5 mini schwarz',\n",
       "       'Samsung Galaxy Note 4 N910F 32GB Charcoal Black',\n",
       "       'Samsung Galaxy A5 WeiÃŸ', 'Huawei P8lite schwarz',\n",
       "       'Samsung Galaxy S7 Edge 32 GB Schwarz',\n",
       "       'Apple iPhone 5s 32 GB Silber', 'Samsung Galaxy S5 neo Schwarz',\n",
       "       'Samsung Galaxy S5 mini SM-G800F Shimmery-White',\n",
       "       'Samsung Galaxy S3 Neo I9301 Metallic Blue',\n",
       "       'simvalley Mobile Premium-Notruf-Handy XL-959 mit Dual-SIM Vertragsfrei',\n",
       "       'Samsung Galaxy S5 Neo gold', 'Nokia 215 Dual SIM White',\n",
       "       'Samsung Galaxy S5 mini SM-G800F Charcoal-Black',\n",
       "       'Samsung Galaxy S7 Edge SM-G935F 32GB Black Onyx',\n",
       "       'iPhone 5s gebraucht - simlockfrei Gold 16GB Zustand C',\n",
       "       'Samsung Galaxy S3 Neo ceramic white',\n",
       "       'iPhone 5s 32gb gold Gold 32GB Zustand B',\n",
       "       'iPhone 5s gebraucht - simlockfrei Silber 16GB Zustand C',\n",
       "       'iPhone 5s 16gb gold Gold 16GB Zustand A',\n",
       "       'Sony Xperia Z3 Compact weiß',\n",
       "       'iPhone 5c 32gb weiss Weiss 32GB Zustand A'], dtype=object)"
      ]
     },
     "execution_count": 180,
     "metadata": {},
     "output_type": "execute_result"
    }
   ],
   "source": [
    "pivo_log_melted[(pivo_log_melted['User']==293680) & pivo_log_melted['Clicked?']==1]['Products'].map(offer_title).values"
   ]
  },
  {
   "cell_type": "code",
   "execution_count": null,
   "id": "a025ba18",
   "metadata": {},
   "outputs": [],
   "source": [
    "# Than predict ratings for all pairs (u, i) that are NOT in the training set.\n",
    "testset = trainset.build_anti_testset()\n",
    "predictions = algo.test(testset)\n",
    "\n",
    "top_n = get_top_n(predictions, n=10)\n",
    "\n",
    "# Print the recommended items for each user\n",
    "for uid, user_ratings in top_n.items():\n",
    "    print(uid, [iid for (iid, _) in user_ratings])\n"
   ]
  },
  {
   "cell_type": "markdown",
   "id": "67251a24",
   "metadata": {},
   "source": [
    "An item is considered relevant if its true rating rui is greater than a given threshold. An item is considered recommended if its estimated rating r^ui is greater than the threshold, and if it is among the k highest estimated ratings."
   ]
  },
  {
   "cell_type": "code",
   "execution_count": null,
   "id": "4a9adc6d",
   "metadata": {},
   "outputs": [],
   "source": [
    "def precision_recall_at_k(predictions, k=10, threshold=0.5):\n",
    "    \"\"\"Return precision and recall at k metrics for each user\"\"\"\n",
    "\n",
    "    # First map the predictions to each user.\n",
    "    user_est_true = defaultdict(list)\n",
    "    for uid, _, true_r, est, _ in predictions:\n",
    "        user_est_true[uid].append((est, true_r))\n",
    "\n",
    "    precisions = dict()\n",
    "    recalls = dict()\n",
    "    for uid, user_ratings in user_est_true.items():\n",
    "\n",
    "        # Sort user ratings by estimated value\n",
    "        user_ratings.sort(key=lambda x: x[0], reverse=True)\n",
    "\n",
    "        # Number of relevant items\n",
    "        n_rel = sum((true_r >= threshold) for (_, true_r) in user_ratings)\n",
    "\n",
    "        # Number of recommended items in top k\n",
    "        n_rec_k = sum((est >= threshold) for (est, _) in user_ratings[:k])\n",
    "\n",
    "        # Number of relevant and recommended items in top k\n",
    "        n_rel_and_rec_k = sum(((true_r >= threshold) and (est >= threshold))\n",
    "                              for (est, true_r) in user_ratings[:k])\n",
    "\n",
    "        # Precision@K: Proportion of recommended items that are relevant\n",
    "        # When n_rec_k is 0, Precision is undefined. We here set it to 0.\n",
    "\n",
    "        precisions[uid] = n_rel_and_rec_k / n_rec_k if n_rec_k != 0 else 0\n",
    "\n",
    "        # Recall@K: Proportion of relevant items that are recommended\n",
    "        # When n_rel is 0, Recall is undefined. We here set it to 0.\n",
    "\n",
    "        recalls[uid] = n_rel_and_rec_k / n_rel if n_rel != 0 else 0\n",
    "\n",
    "    return precisions, recalls"
   ]
  },
  {
   "cell_type": "code",
   "execution_count": 159,
   "id": "8cc27455",
   "metadata": {},
   "outputs": [],
   "source": [
    "#Dicionário de ofertas\n",
    "offer_title = dict(zip(clicks_de_filtered['Offer'].unique(), clicks_de_filtered['OfferTitle'].unique())) #Criação do dicionário que relaciona o nome da oferta (OfferTitle) com o código #Offer para tradução da recomendação dada"
   ]
  },
  {
   "cell_type": "markdown",
   "id": "d792e54c",
   "metadata": {},
   "source": [
    "### Salvar os modelos"
   ]
  },
  {
   "cell_type": "code",
   "execution_count": 89,
   "id": "b4990f81",
   "metadata": {},
   "outputs": [],
   "source": [
    "pickle.dump(svd, open('svd.pkl', 'wb'))\n",
    "pickle.dump(svdpp, open('svdpp.pkl', 'wb'))"
   ]
  },
  {
   "cell_type": "code",
   "execution_count": 192,
   "id": "d36a40be",
   "metadata": {},
   "outputs": [],
   "source": [
    "pivo_log_melted.to_csv('sparse_melt.csv', index = False)"
   ]
  },
  {
   "cell_type": "code",
   "execution_count": 197,
   "id": "82a04d3a",
   "metadata": {},
   "outputs": [],
   "source": [
    "model = pickle.load(open('C:/Users/gabri/Desktop/DH/PI/svdpp.pkl', \n",
    "                         'rb'))"
   ]
  },
  {
   "cell_type": "code",
   "execution_count": 198,
   "id": "137bbcc5",
   "metadata": {},
   "outputs": [],
   "source": [
    "import json"
   ]
  },
  {
   "cell_type": "code",
   "execution_count": 206,
   "id": "71397bcf",
   "metadata": {},
   "outputs": [],
   "source": [
    "#json.dump(offer_title, open('Ofertas.json', 'w'))\n",
    "d = {int(k): v for k, v in offer_title.items()}"
   ]
  },
  {
   "cell_type": "code",
   "execution_count": 219,
   "id": "5c855b1e",
   "metadata": {},
   "outputs": [],
   "source": [
    "pickle.dump(offer_title, open(\"offers.pkl\", \"wb\"))"
   ]
  },
  {
   "cell_type": "code",
   "execution_count": 220,
   "id": "52b1e4a8",
   "metadata": {},
   "outputs": [],
   "source": [
    "output = pickle.load(open('offers.pkl', 'rb'))"
   ]
  },
  {
   "cell_type": "code",
   "execution_count": 229,
   "id": "c50b233e",
   "metadata": {},
   "outputs": [
    {
     "data": {
      "text/plain": [
       "'0. Black Magic Design - Intensity Pro Video PCIe Card predicted rating = 20.34'"
      ]
     },
     "execution_count": 232,
     "metadata": {},
     "output_type": "execute_result"
    }
   ],
   "source": [
    "(str(count)+'. '+str(offer_title[item_index])+' predicted rating = '+str(round(score,3)))"
   ]
  },
  {
   "cell_type": "code",
   "execution_count": 228,
   "id": "4e58b497",
   "metadata": {},
   "outputs": [
    {
     "data": {
      "text/plain": [
       "'0'"
      ]
     },
     "execution_count": 228,
     "metadata": {},
     "output_type": "execute_result"
    }
   ],
   "source": [
    "count=0\n",
    "str(count)"
   ]
  },
  {
   "cell_type": "code",
   "execution_count": null,
   "id": "36a15f46",
   "metadata": {},
   "outputs": [],
   "source": []
  }
 ],
 "metadata": {
  "kernelspec": {
   "display_name": "Python 3 (ipykernel)",
   "language": "python",
   "name": "python3"
  },
  "language_info": {
   "codemirror_mode": {
    "name": "ipython",
    "version": 3
   },
   "file_extension": ".py",
   "mimetype": "text/x-python",
   "name": "python",
   "nbconvert_exporter": "python",
   "pygments_lexer": "ipython3",
   "version": "3.9.9"
  }
 },
 "nbformat": 4,
 "nbformat_minor": 5
}
