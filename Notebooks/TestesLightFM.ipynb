{
 "cells": [
  {
   "cell_type": "code",
   "execution_count": 4,
   "id": "3228bb0c",
   "metadata": {},
   "outputs": [],
   "source": [
    "import numpy as np\n",
    "\n",
    "from lightfm.datasets import fetch_movielens\n",
    "import implicit\n",
    "import implicit.evaluation\n",
    "lightfm.cross_validation\n",
    "\n",
    "movielens = fetch_movielens()"
   ]
  },
  {
   "cell_type": "code",
   "execution_count": 5,
   "id": "4fbcc46c",
   "metadata": {},
   "outputs": [
    {
     "name": "stdout",
     "output_type": "stream",
     "text": [
      "train <class 'scipy.sparse.coo.coo_matrix'> (943, 1682)\n",
      "test <class 'scipy.sparse.coo.coo_matrix'> (943, 1682)\n",
      "item_features <class 'scipy.sparse.csr.csr_matrix'> (1682, 1682)\n",
      "item_feature_labels <class 'numpy.ndarray'> (1682,)\n",
      "item_labels <class 'numpy.ndarray'> (1682,)\n"
     ]
    }
   ],
   "source": [
    "for key, value in movielens.items():\n",
    "    print(key, type(value), value.shape)"
   ]
  },
  {
   "cell_type": "code",
   "execution_count": 19,
   "id": "21876992",
   "metadata": {},
   "outputs": [
    {
     "data": {
      "text/plain": [
       "(943, 1682)"
      ]
     },
     "execution_count": 19,
     "metadata": {},
     "output_type": "execute_result"
    }
   ],
   "source": [
    "train = movielens['train']\n",
    "test = movielens['test']\n",
    "train.shape"
   ]
  },
  {
   "cell_type": "code",
   "execution_count": 7,
   "id": "4b6ac4e8",
   "metadata": {},
   "outputs": [
    {
     "data": {
      "text/plain": [
       "0.9428986095682184"
      ]
     },
     "execution_count": 7,
     "metadata": {},
     "output_type": "execute_result"
    }
   ],
   "source": [
    "possible_interactions = train.shape[0]*train.shape[1]\n",
    "interacted = len(train.nonzero()[0])\n",
    "sparsity = 1 - interacted/possible_interactions\n",
    "sparsitya"
   ]
  },
  {
   "cell_type": "code",
   "execution_count": 7,
   "id": "b90558d9",
   "metadata": {},
   "outputs": [
    {
     "data": {
      "application/vnd.jupyter.widget-view+json": {
       "model_id": "bd595cc0ddb74f89a54bfad37cec592f",
       "version_major": 2,
       "version_minor": 0
      },
      "text/plain": [
       "  0%|          | 0/15 [00:00<?, ?it/s]"
      ]
     },
     "metadata": {},
     "output_type": "display_data"
    }
   ],
   "source": [
    "model = implicit.als.AlternatingLeastSquares()\n",
    "model.fit(train)"
   ]
  },
  {
   "cell_type": "code",
   "execution_count": 18,
   "id": "bd08c38d",
   "metadata": {},
   "outputs": [
    {
     "name": "stdout",
     "output_type": "stream",
     "text": [
      "P@K 0.7254506892895016\n",
      "NDCG@K 0.44311603648316505\n",
      "AUC@K 0.8275031141069679\n",
      "MAP@K 0.1803858599327022\n"
     ]
    }
   ],
   "source": [
    "k=200\n",
    "print(\"P@K\",implicit.evaluation.precision_at_k(model, train, test, show_progress = False, K=k))\n",
    "print(\"NDCG@K\",implicit.evaluation.ndcg_at_k(model, train, test, show_progress = False, K=k))\n",
    "print(\"AUC@K\",implicit.evaluation.AUC_at_k(model, train, test, show_progress = False, K=k))\n",
    "print(\"MAP@K\",implicit.evaluation.mean_average_precision_at_k(model, train, test, show_progress = False, K=k))"
   ]
  },
  {
   "cell_type": "code",
   "execution_count": 4,
   "id": "97ab36a9",
   "metadata": {},
   "outputs": [
    {
     "name": "stdout",
     "output_type": "stream",
     "text": [
      "Precision: train 0.59, test 0.20.\n",
      "AUC: train 0.90, test 0.88.\n"
     ]
    }
   ],
   "source": [
    "from lightfm import LightFM\n",
    "from lightfm.evaluation import precision_at_k\n",
    "from lightfm.evaluation import auc_score\n",
    "\n",
    "model = LightFM(learning_rate=0.05, loss='bpr')\n",
    "model.fit(train, epochs=10)\n",
    "\n",
    "train_precision = precision_at_k(model, train, k=10).mean()\n",
    "test_precision = precision_at_k(model, test, k=10, train_interactions=train).mean()\n",
    "\n",
    "train_auc = auc_score(model, train).mean()\n",
    "test_auc = auc_score(model, test, train_interactions=train).mean()\n",
    "\n",
    "print('Precision: train %.2f, test %.2f.' % (train_precision, test_precision))\n",
    "print('AUC: train %.2f, test %.2f.' % (train_auc, test_auc))"
   ]
  },
  {
   "cell_type": "code",
   "execution_count": 5,
   "id": "e4d32c41",
   "metadata": {},
   "outputs": [
    {
     "name": "stdout",
     "output_type": "stream",
     "text": [
      "Precision: train 0.61, test 0.22.\n",
      "AUC: train 0.94, test 0.93.\n"
     ]
    }
   ],
   "source": [
    "model = LightFM(learning_rate=0.05, loss='warp')\n",
    "\n",
    "model.fit_partial(train, epochs=10)\n",
    "\n",
    "train_precision = precision_at_k(model, train, k=10).mean()\n",
    "test_precision = precision_at_k(model, test, k=10, train_interactions=train).mean()\n",
    "\n",
    "train_auc = auc_score(model, train).mean()\n",
    "test_auc = auc_score(model, test, train_interactions=train).mean()\n",
    "\n",
    "print('Precision: train %.2f, test %.2f.' % (train_precision, test_precision))\n",
    "print('AUC: train %.2f, test %.2f.' % (train_auc, test_auc))"
   ]
  },
  {
   "cell_type": "code",
   "execution_count": null,
   "id": "8f32ad07",
   "metadata": {},
   "outputs": [],
   "source": []
  }
 ],
 "metadata": {
  "kernelspec": {
   "display_name": "Python 3 (ipykernel)",
   "language": "python",
   "name": "python3"
  },
  "language_info": {
   "codemirror_mode": {
    "name": "ipython",
    "version": 3
   },
   "file_extension": ".py",
   "mimetype": "text/x-python",
   "name": "python",
   "nbconvert_exporter": "python",
   "pygments_lexer": "ipython3",
   "version": "3.9.9"
  }
 },
 "nbformat": 4,
 "nbformat_minor": 5
}
