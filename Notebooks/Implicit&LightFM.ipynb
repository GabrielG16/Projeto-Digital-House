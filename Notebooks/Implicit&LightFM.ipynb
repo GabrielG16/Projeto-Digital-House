{
 "cells": [
  {
   "cell_type": "markdown",
   "id": "4a84922a",
   "metadata": {},
   "source": [
    "### IMPORT DE BIBLIOTECAS"
   ]
  },
  {
   "cell_type": "code",
   "execution_count": 2,
   "id": "a65d6027",
   "metadata": {},
   "outputs": [],
   "source": [
    "from collections import defaultdict\n",
    "import pandas as pd\n",
    "import numpy as np\n",
    "import os\n",
    "\n",
    "import implicit\n",
    "\n",
    "from implicit.evaluation import (train_test_split, \n",
    "                                 ndcg_at_k, AUC_at_k, \n",
    "                                 mean_average_precision_at_k, \n",
    "                                 precision_at_k)\n",
    "\n",
    "from implicit.nearest_neighbours import (bm25_weight, \n",
    "                                         CosineRecommender, \n",
    "                                         TFIDFRecommender, \n",
    "                                         BM25Recommender, \n",
    "                                         ItemItemRecommender)\n",
    "\n",
    "from scipy.sparse import (csr_matrix, \n",
    "                          save_npz, \n",
    "                          load_npz)\n",
    "import scipy.stats\n",
    "\n",
    "from matplotlib import pyplot as plt\n",
    "import seaborn as sns\n",
    "\n",
    "import pickle\n",
    "from tqdm import tqdm\n",
    "import warnings"
   ]
  },
  {
   "cell_type": "code",
   "execution_count": 3,
   "id": "9117e0e0",
   "metadata": {},
   "outputs": [],
   "source": [
    "warnings.filterwarnings('ignore')"
   ]
  },
  {
   "cell_type": "markdown",
   "id": "f117fecd",
   "metadata": {},
   "source": [
    "### Carregamento de dados de categorias e histórico de clicks"
   ]
  },
  {
   "cell_type": "code",
   "execution_count": 4,
   "id": "6fa1b069",
   "metadata": {},
   "outputs": [],
   "source": [
    "df_de_cat = pd.read_csv(os.getcwd()+'/new_category_sample.csv') # DataFrame Informativo das categorias"
   ]
  },
  {
   "cell_type": "code",
   "execution_count": 5,
   "id": "aca5a2e6",
   "metadata": {},
   "outputs": [
    {
     "data": {
      "text/plain": [
       "Index(['UserId', 'OfferId', 'OfferViewId', 'CountryCode', 'Category', 'Source',\n",
       "       'UtcDate', 'Keywords', 'OfferTitle'],\n",
       "      dtype='object')"
      ]
     },
     "execution_count": 5,
     "metadata": {},
     "output_type": "execute_result"
    }
   ],
   "source": [
    "clicks_de = pd.read_csv(os.getcwd()+'/.txt/clicks_de_sample_2.txt', sep = ',', header=0) # df de histórico de clicks\n",
    "clicks_de.columns"
   ]
  },
  {
   "cell_type": "code",
   "execution_count": 6,
   "id": "723171ce",
   "metadata": {},
   "outputs": [],
   "source": [
    "clicks_de.columns = ['UserId', 'OfferId', 'OfferViewId', 'CountryCode', 'Category', 'Source',\n",
    "       'UtcDate', 'Keywords', 'OfferTitle']"
   ]
  },
  {
   "cell_type": "markdown",
   "id": "5e81bd71",
   "metadata": {},
   "source": [
    "Valores missing na coluna de OfferTitle que serão excluídos."
   ]
  },
  {
   "cell_type": "code",
   "execution_count": 7,
   "id": "ae9cbd1e",
   "metadata": {},
   "outputs": [],
   "source": [
    "clicks_de = clicks_de[clicks_de.OfferTitle.isna() == False]"
   ]
  },
  {
   "cell_type": "markdown",
   "id": "70e7f31a",
   "metadata": {},
   "source": [
    "### Merge do Dataframe de categorias com o dataframe de clicks "
   ]
  },
  {
   "cell_type": "code",
   "execution_count": 8,
   "id": "d0700c60",
   "metadata": {},
   "outputs": [],
   "source": [
    "clicks_de = clicks_de.merge(df_de_cat, on = 'Category')"
   ]
  },
  {
   "cell_type": "markdown",
   "id": "3951be0b",
   "metadata": {},
   "source": [
    "### CRIAÇÃO DE COLUNA DE CLICKS POR CATEGORIA"
   ]
  },
  {
   "cell_type": "code",
   "execution_count": 9,
   "id": "aff1d714",
   "metadata": {},
   "outputs": [
    {
     "ename": "KeyError",
     "evalue": "\"['Unnamed: 0'] not found in axis\"",
     "output_type": "error",
     "traceback": [
      "\u001b[1;31m---------------------------------------------------------------------------\u001b[0m",
      "\u001b[1;31mKeyError\u001b[0m                                  Traceback (most recent call last)",
      "Input \u001b[1;32mIn [9]\u001b[0m, in \u001b[0;36m<module>\u001b[1;34m\u001b[0m\n\u001b[0;32m      1\u001b[0m clicks_de\u001b[38;5;241m.\u001b[39mdrop(columns \u001b[38;5;241m=\u001b[39m [\u001b[38;5;124m'\u001b[39m\u001b[38;5;124mKeywords\u001b[39m\u001b[38;5;124m'\u001b[39m], axis \u001b[38;5;241m=\u001b[39m \u001b[38;5;241m1\u001b[39m, inplace\u001b[38;5;241m=\u001b[39m\u001b[38;5;28;01mTrue\u001b[39;00m)  \u001b[38;5;66;03m# DROP DAS KEYWORDS\u001b[39;00m\n\u001b[0;32m      3\u001b[0m df_de_cat\u001b[38;5;241m.\u001b[39mrename({\u001b[38;5;124m'\u001b[39m\u001b[38;5;124mAncertor_ID\u001b[39m\u001b[38;5;124m'\u001b[39m:\u001b[38;5;124m'\u001b[39m\u001b[38;5;124mAncestor_ID\u001b[39m\u001b[38;5;124m'\u001b[39m}, axis \u001b[38;5;241m=\u001b[39m \u001b[38;5;241m1\u001b[39m, inplace \u001b[38;5;241m=\u001b[39m \u001b[38;5;28;01mTrue\u001b[39;00m) \u001b[38;5;66;03m# RENAME DO ANCESTOR_ID\u001b[39;00m\n\u001b[1;32m----> 5\u001b[0m \u001b[43mdf_de_cat\u001b[49m\u001b[38;5;241;43m.\u001b[39;49m\u001b[43mdrop\u001b[49m\u001b[43m(\u001b[49m\u001b[38;5;124;43m'\u001b[39;49m\u001b[38;5;124;43mUnnamed: 0\u001b[39;49m\u001b[38;5;124;43m'\u001b[39;49m\u001b[43m,\u001b[49m\u001b[43m \u001b[49m\u001b[43maxis\u001b[49m\u001b[43m \u001b[49m\u001b[38;5;241;43m=\u001b[39;49m\u001b[38;5;241;43m1\u001b[39;49m\u001b[43m,\u001b[49m\u001b[43m \u001b[49m\u001b[43minplace\u001b[49m\u001b[43m \u001b[49m\u001b[38;5;241;43m=\u001b[39;49m\u001b[43m \u001b[49m\u001b[38;5;28;43;01mTrue\u001b[39;49;00m\u001b[43m)\u001b[49m \u001b[38;5;66;03m# Remoção de coluna Unnamed\u001b[39;00m\n\u001b[0;32m      7\u001b[0m clicks_de[\u001b[38;5;124m'\u001b[39m\u001b[38;5;124mCat_clicks\u001b[39m\u001b[38;5;124m'\u001b[39m] \u001b[38;5;241m=\u001b[39m clicks_de\u001b[38;5;241m.\u001b[39mgroupby(\u001b[38;5;124m'\u001b[39m\u001b[38;5;124mCategory\u001b[39m\u001b[38;5;124m'\u001b[39m)[\u001b[38;5;124m'\u001b[39m\u001b[38;5;124mOfferId\u001b[39m\u001b[38;5;124m'\u001b[39m]\u001b[38;5;241m.\u001b[39mtransform(\u001b[38;5;124m'\u001b[39m\u001b[38;5;124mcount\u001b[39m\u001b[38;5;124m'\u001b[39m)\n",
      "File \u001b[1;32m~\\anaconda3\\envs\\implicit_env\\lib\\site-packages\\pandas\\util\\_decorators.py:311\u001b[0m, in \u001b[0;36mdeprecate_nonkeyword_arguments.<locals>.decorate.<locals>.wrapper\u001b[1;34m(*args, **kwargs)\u001b[0m\n\u001b[0;32m    305\u001b[0m \u001b[38;5;28;01mif\u001b[39;00m \u001b[38;5;28mlen\u001b[39m(args) \u001b[38;5;241m>\u001b[39m num_allow_args:\n\u001b[0;32m    306\u001b[0m     warnings\u001b[38;5;241m.\u001b[39mwarn(\n\u001b[0;32m    307\u001b[0m         msg\u001b[38;5;241m.\u001b[39mformat(arguments\u001b[38;5;241m=\u001b[39marguments),\n\u001b[0;32m    308\u001b[0m         \u001b[38;5;167;01mFutureWarning\u001b[39;00m,\n\u001b[0;32m    309\u001b[0m         stacklevel\u001b[38;5;241m=\u001b[39mstacklevel,\n\u001b[0;32m    310\u001b[0m     )\n\u001b[1;32m--> 311\u001b[0m \u001b[38;5;28;01mreturn\u001b[39;00m func(\u001b[38;5;241m*\u001b[39margs, \u001b[38;5;241m*\u001b[39m\u001b[38;5;241m*\u001b[39mkwargs)\n",
      "File \u001b[1;32m~\\anaconda3\\envs\\implicit_env\\lib\\site-packages\\pandas\\core\\frame.py:4956\u001b[0m, in \u001b[0;36mDataFrame.drop\u001b[1;34m(self, labels, axis, index, columns, level, inplace, errors)\u001b[0m\n\u001b[0;32m   4808\u001b[0m \u001b[38;5;129m@deprecate_nonkeyword_arguments\u001b[39m(version\u001b[38;5;241m=\u001b[39m\u001b[38;5;28;01mNone\u001b[39;00m, allowed_args\u001b[38;5;241m=\u001b[39m[\u001b[38;5;124m\"\u001b[39m\u001b[38;5;124mself\u001b[39m\u001b[38;5;124m\"\u001b[39m, \u001b[38;5;124m\"\u001b[39m\u001b[38;5;124mlabels\u001b[39m\u001b[38;5;124m\"\u001b[39m])\n\u001b[0;32m   4809\u001b[0m \u001b[38;5;28;01mdef\u001b[39;00m \u001b[38;5;21mdrop\u001b[39m(\n\u001b[0;32m   4810\u001b[0m     \u001b[38;5;28mself\u001b[39m,\n\u001b[1;32m   (...)\u001b[0m\n\u001b[0;32m   4817\u001b[0m     errors: \u001b[38;5;28mstr\u001b[39m \u001b[38;5;241m=\u001b[39m \u001b[38;5;124m\"\u001b[39m\u001b[38;5;124mraise\u001b[39m\u001b[38;5;124m\"\u001b[39m,\n\u001b[0;32m   4818\u001b[0m ):\n\u001b[0;32m   4819\u001b[0m     \u001b[38;5;124;03m\"\"\"\u001b[39;00m\n\u001b[0;32m   4820\u001b[0m \u001b[38;5;124;03m    Drop specified labels from rows or columns.\u001b[39;00m\n\u001b[0;32m   4821\u001b[0m \n\u001b[1;32m   (...)\u001b[0m\n\u001b[0;32m   4954\u001b[0m \u001b[38;5;124;03m            weight  1.0     0.8\u001b[39;00m\n\u001b[0;32m   4955\u001b[0m \u001b[38;5;124;03m    \"\"\"\u001b[39;00m\n\u001b[1;32m-> 4956\u001b[0m     \u001b[38;5;28;01mreturn\u001b[39;00m \u001b[38;5;28;43msuper\u001b[39;49m\u001b[43m(\u001b[49m\u001b[43m)\u001b[49m\u001b[38;5;241;43m.\u001b[39;49m\u001b[43mdrop\u001b[49m\u001b[43m(\u001b[49m\n\u001b[0;32m   4957\u001b[0m \u001b[43m        \u001b[49m\u001b[43mlabels\u001b[49m\u001b[38;5;241;43m=\u001b[39;49m\u001b[43mlabels\u001b[49m\u001b[43m,\u001b[49m\n\u001b[0;32m   4958\u001b[0m \u001b[43m        \u001b[49m\u001b[43maxis\u001b[49m\u001b[38;5;241;43m=\u001b[39;49m\u001b[43maxis\u001b[49m\u001b[43m,\u001b[49m\n\u001b[0;32m   4959\u001b[0m \u001b[43m        \u001b[49m\u001b[43mindex\u001b[49m\u001b[38;5;241;43m=\u001b[39;49m\u001b[43mindex\u001b[49m\u001b[43m,\u001b[49m\n\u001b[0;32m   4960\u001b[0m \u001b[43m        \u001b[49m\u001b[43mcolumns\u001b[49m\u001b[38;5;241;43m=\u001b[39;49m\u001b[43mcolumns\u001b[49m\u001b[43m,\u001b[49m\n\u001b[0;32m   4961\u001b[0m \u001b[43m        \u001b[49m\u001b[43mlevel\u001b[49m\u001b[38;5;241;43m=\u001b[39;49m\u001b[43mlevel\u001b[49m\u001b[43m,\u001b[49m\n\u001b[0;32m   4962\u001b[0m \u001b[43m        \u001b[49m\u001b[43minplace\u001b[49m\u001b[38;5;241;43m=\u001b[39;49m\u001b[43minplace\u001b[49m\u001b[43m,\u001b[49m\n\u001b[0;32m   4963\u001b[0m \u001b[43m        \u001b[49m\u001b[43merrors\u001b[49m\u001b[38;5;241;43m=\u001b[39;49m\u001b[43merrors\u001b[49m\u001b[43m,\u001b[49m\n\u001b[0;32m   4964\u001b[0m \u001b[43m    \u001b[49m\u001b[43m)\u001b[49m\n",
      "File \u001b[1;32m~\\anaconda3\\envs\\implicit_env\\lib\\site-packages\\pandas\\core\\generic.py:4279\u001b[0m, in \u001b[0;36mNDFrame.drop\u001b[1;34m(self, labels, axis, index, columns, level, inplace, errors)\u001b[0m\n\u001b[0;32m   4277\u001b[0m \u001b[38;5;28;01mfor\u001b[39;00m axis, labels \u001b[38;5;129;01min\u001b[39;00m axes\u001b[38;5;241m.\u001b[39mitems():\n\u001b[0;32m   4278\u001b[0m     \u001b[38;5;28;01mif\u001b[39;00m labels \u001b[38;5;129;01mis\u001b[39;00m \u001b[38;5;129;01mnot\u001b[39;00m \u001b[38;5;28;01mNone\u001b[39;00m:\n\u001b[1;32m-> 4279\u001b[0m         obj \u001b[38;5;241m=\u001b[39m \u001b[43mobj\u001b[49m\u001b[38;5;241;43m.\u001b[39;49m\u001b[43m_drop_axis\u001b[49m\u001b[43m(\u001b[49m\u001b[43mlabels\u001b[49m\u001b[43m,\u001b[49m\u001b[43m \u001b[49m\u001b[43maxis\u001b[49m\u001b[43m,\u001b[49m\u001b[43m \u001b[49m\u001b[43mlevel\u001b[49m\u001b[38;5;241;43m=\u001b[39;49m\u001b[43mlevel\u001b[49m\u001b[43m,\u001b[49m\u001b[43m \u001b[49m\u001b[43merrors\u001b[49m\u001b[38;5;241;43m=\u001b[39;49m\u001b[43merrors\u001b[49m\u001b[43m)\u001b[49m\n\u001b[0;32m   4281\u001b[0m \u001b[38;5;28;01mif\u001b[39;00m inplace:\n\u001b[0;32m   4282\u001b[0m     \u001b[38;5;28mself\u001b[39m\u001b[38;5;241m.\u001b[39m_update_inplace(obj)\n",
      "File \u001b[1;32m~\\anaconda3\\envs\\implicit_env\\lib\\site-packages\\pandas\\core\\generic.py:4323\u001b[0m, in \u001b[0;36mNDFrame._drop_axis\u001b[1;34m(self, labels, axis, level, errors, consolidate, only_slice)\u001b[0m\n\u001b[0;32m   4321\u001b[0m         new_axis \u001b[38;5;241m=\u001b[39m axis\u001b[38;5;241m.\u001b[39mdrop(labels, level\u001b[38;5;241m=\u001b[39mlevel, errors\u001b[38;5;241m=\u001b[39merrors)\n\u001b[0;32m   4322\u001b[0m     \u001b[38;5;28;01melse\u001b[39;00m:\n\u001b[1;32m-> 4323\u001b[0m         new_axis \u001b[38;5;241m=\u001b[39m \u001b[43maxis\u001b[49m\u001b[38;5;241;43m.\u001b[39;49m\u001b[43mdrop\u001b[49m\u001b[43m(\u001b[49m\u001b[43mlabels\u001b[49m\u001b[43m,\u001b[49m\u001b[43m \u001b[49m\u001b[43merrors\u001b[49m\u001b[38;5;241;43m=\u001b[39;49m\u001b[43merrors\u001b[49m\u001b[43m)\u001b[49m\n\u001b[0;32m   4324\u001b[0m     indexer \u001b[38;5;241m=\u001b[39m axis\u001b[38;5;241m.\u001b[39mget_indexer(new_axis)\n\u001b[0;32m   4326\u001b[0m \u001b[38;5;66;03m# Case for non-unique axis\u001b[39;00m\n\u001b[0;32m   4327\u001b[0m \u001b[38;5;28;01melse\u001b[39;00m:\n",
      "File \u001b[1;32m~\\anaconda3\\envs\\implicit_env\\lib\\site-packages\\pandas\\core\\indexes\\base.py:6644\u001b[0m, in \u001b[0;36mIndex.drop\u001b[1;34m(self, labels, errors)\u001b[0m\n\u001b[0;32m   6642\u001b[0m \u001b[38;5;28;01mif\u001b[39;00m mask\u001b[38;5;241m.\u001b[39many():\n\u001b[0;32m   6643\u001b[0m     \u001b[38;5;28;01mif\u001b[39;00m errors \u001b[38;5;241m!=\u001b[39m \u001b[38;5;124m\"\u001b[39m\u001b[38;5;124mignore\u001b[39m\u001b[38;5;124m\"\u001b[39m:\n\u001b[1;32m-> 6644\u001b[0m         \u001b[38;5;28;01mraise\u001b[39;00m \u001b[38;5;167;01mKeyError\u001b[39;00m(\u001b[38;5;124mf\u001b[39m\u001b[38;5;124m\"\u001b[39m\u001b[38;5;132;01m{\u001b[39;00m\u001b[38;5;28mlist\u001b[39m(labels[mask])\u001b[38;5;132;01m}\u001b[39;00m\u001b[38;5;124m not found in axis\u001b[39m\u001b[38;5;124m\"\u001b[39m)\n\u001b[0;32m   6645\u001b[0m     indexer \u001b[38;5;241m=\u001b[39m indexer[\u001b[38;5;241m~\u001b[39mmask]\n\u001b[0;32m   6646\u001b[0m \u001b[38;5;28;01mreturn\u001b[39;00m \u001b[38;5;28mself\u001b[39m\u001b[38;5;241m.\u001b[39mdelete(indexer)\n",
      "\u001b[1;31mKeyError\u001b[0m: \"['Unnamed: 0'] not found in axis\""
     ]
    }
   ],
   "source": [
    "clicks_de.drop(columns = ['Keywords'], axis = 1, inplace=True)  # DROP DAS KEYWORDS\n",
    "\n",
    "df_de_cat.rename({'Ancertor_ID':'Ancestor_ID'}, axis = 1, inplace = True) # RENAME DO ANCESTOR_ID\n",
    "\n",
    "#df_de_cat.drop('Unnamed: 0', axis =1, inplace = True) # Remoção de coluna Unnamed\n",
    "\n",
    "clicks_de['Cat_clicks'] = clicks_de.groupby('Category')['OfferId'].transform('count') # Criação de coluna de clicks por categoria"
   ]
  },
  {
   "cell_type": "markdown",
   "id": "951c3976",
   "metadata": {},
   "source": [
    "### Criação de coluna com o nº total de clicks do usuário e nº total de clicks do produto"
   ]
  },
  {
   "cell_type": "code",
   "execution_count": 10,
   "id": "359795d4",
   "metadata": {},
   "outputs": [],
   "source": [
    "clicks_de['UserTotalClicks'] = clicks_de.groupby(by=['UserId'])['OfferId'].transform('count')"
   ]
  },
  {
   "cell_type": "code",
   "execution_count": 11,
   "id": "c75efb5a",
   "metadata": {},
   "outputs": [],
   "source": [
    "clicks_de['ProductClicks'] = clicks_de.groupby(by=['OfferId'])['UserId'].transform('count')"
   ]
  },
  {
   "cell_type": "code",
   "execution_count": 12,
   "id": "e65b26be",
   "metadata": {},
   "outputs": [],
   "source": [
    "#clicks_de = clicks_de[clicks_de.ProductClicks < clicks_de.ProductClicks.mean() + 1.5*scipy.stats.iqr(clicks_de.ProductClicks)]"
   ]
  },
  {
   "cell_type": "code",
   "execution_count": 13,
   "id": "d2b08131",
   "metadata": {},
   "outputs": [],
   "source": [
    "#clicks_de = clicks_de_filtered[(clicks_de_filtered.ProductClicks < clicks_de_filtered.ProductClicks.mean() + 3*clicks_de_filtered.ProductClicks.std())]"
   ]
  },
  {
   "cell_type": "code",
   "execution_count": 57,
   "id": "845754b1",
   "metadata": {},
   "outputs": [
    {
     "data": {
      "text/plain": [
       "892.0176355399199"
      ]
     },
     "execution_count": 57,
     "metadata": {},
     "output_type": "execute_result"
    }
   ],
   "source": [
    "clicks_de_filtered.ProductClicks.mean() + 3*clicks_de_filtered.ProductClicks.std()"
   ]
  },
  {
   "cell_type": "code",
   "execution_count": 58,
   "id": "4df762fc",
   "metadata": {},
   "outputs": [
    {
     "data": {
      "text/plain": [
       "130.02519928116436"
      ]
     },
     "execution_count": 58,
     "metadata": {},
     "output_type": "execute_result"
    }
   ],
   "source": [
    "clicks_de.ProductClicks.mean() + 1.5*scipy.stats.iqr(clicks_de.ProductClicks)"
   ]
  },
  {
   "cell_type": "code",
   "execution_count": 38,
   "id": "b7d7a646",
   "metadata": {},
   "outputs": [],
   "source": [
    "#Cap minimo de clicks para integrar o sistema de recomendação\n",
    "clicks_de_filtered = clicks_de[(clicks_de.UserTotalClicks > 30)]"
   ]
  },
  {
   "cell_type": "markdown",
   "id": "aea6409a",
   "metadata": {},
   "source": [
    "### Conversão das colunas de usuário e oferta em categórica e criando novas colunas com os códigos adotados "
   ]
  },
  {
   "cell_type": "code",
   "execution_count": 36,
   "id": "37aa8390",
   "metadata": {},
   "outputs": [],
   "source": [
    "clicks_de.UserId = clicks_de.UserId.astype('category')\n",
    "clicks_de.OfferId = clicks_de.OfferId.astype('category')\n",
    "clicks_de.Category = clicks_de.Category.astype('category')"
   ]
  },
  {
   "cell_type": "code",
   "execution_count": 37,
   "id": "419335d8",
   "metadata": {},
   "outputs": [],
   "source": [
    "clicks_de['User'] = clicks_de.UserId.cat.codes\n",
    "clicks_de['Offer'] = clicks_de.OfferId.cat.codes\n",
    "clicks_de['Catcode'] = clicks_de.Category.cat.codes"
   ]
  },
  {
   "cell_type": "code",
   "execution_count": 16,
   "id": "d81d7c44",
   "metadata": {},
   "outputs": [],
   "source": [
    "clicks_de_filtered.UserId = clicks_de_filtered.UserId.astype('category')\n",
    "clicks_de_filtered.OfferId = clicks_de_filtered.OfferId.astype('category')\n",
    "\n",
    "\n",
    "clicks_de_filtered['User'] = clicks_de_filtered.UserId.cat.codes\n",
    "clicks_de_filtered['Offer'] = clicks_de_filtered.OfferId.cat.codes"
   ]
  },
  {
   "cell_type": "code",
   "execution_count": 17,
   "id": "0752cc8d",
   "metadata": {},
   "outputs": [
    {
     "data": {
      "text/plain": [
       "<AxesSubplot:ylabel='ProductClicks'>"
      ]
     },
     "execution_count": 17,
     "metadata": {},
     "output_type": "execute_result"
    },
    {
     "data": {
      "image/png": "[encoded data removed]",
      "text/plain": [
       "<Figure size 432x288 with 1 Axes>"
      ]
     },
     "metadata": {
      "needs_background": "light"
     },
     "output_type": "display_data"
    }
   ],
   "source": [
    "sns.boxplot(y = clicks_de.ProductClicks)"
   ]
  },
  {
   "cell_type": "markdown",
   "id": "dc3cdc5f",
   "metadata": {},
   "source": [
    "\n",
    "### Agrupamento de dos clicks de usuário em ofertas únicas para termos a quantidade de cada usuário em cada oferta.\n"
   ]
  },
  {
   "cell_type": "code",
   "execution_count": 39,
   "id": "d85cbb4a",
   "metadata": {},
   "outputs": [],
   "source": [
    "clicks_de_filtered['UserClicks'] = clicks_de_filtered.groupby(by=['User','Offer']).transform('count')['UserTotalClicks']"
   ]
  },
  {
   "cell_type": "code",
   "execution_count": 40,
   "id": "58da3fde",
   "metadata": {},
   "outputs": [],
   "source": [
    "clicks_de_filtered['UserCatClicks'] = clicks_de_filtered.groupby(by=['User','Category']).transform('count')['Category_Name']"
   ]
  },
  {
   "cell_type": "code",
   "execution_count": 41,
   "id": "07d38217",
   "metadata": {},
   "outputs": [],
   "source": [
    "clicks_de_filtered['filha_1'] = clicks_de_filtered['filha_1'].astype('int32')"
   ]
  },
  {
   "cell_type": "code",
   "execution_count": 42,
   "id": "b0c7e956",
   "metadata": {},
   "outputs": [],
   "source": [
    "clicks_de_filtered['filha_1'] = clicks_de_filtered['filha_1'].astype('category')\n",
    "clicks_de_filtered['Sub1'] = clicks_de_filtered['filha_1'].cat.codes"
   ]
  },
  {
   "cell_type": "code",
   "execution_count": 43,
   "id": "2927c53d",
   "metadata": {},
   "outputs": [],
   "source": [
    "clicks_per_user_product = clicks_de_filtered.groupby(by=['User','Offer']).count()[['UserTotalClicks']].reset_index().rename({'UserTotalClicks':'UserClicks'}, axis = 1)"
   ]
  },
  {
   "cell_type": "code",
   "execution_count": 44,
   "id": "80ae848d",
   "metadata": {},
   "outputs": [],
   "source": [
    "clicks_per_user_product['Sub1'] = clicks_per_user_product.Offer.map(dict(zip(clicks_de_filtered.Offer, clicks_de_filtered.Sub1)))"
   ]
  },
  {
   "cell_type": "code",
   "execution_count": 45,
   "id": "42694a43",
   "metadata": {
    "scrolled": true
   },
   "outputs": [
    {
     "data": {
      "text/html": [
       "<div>\n",
       "<style scoped>\n",
       "    .dataframe tbody tr th:only-of-type {\n",
       "        vertical-align: middle;\n",
       "    }\n",
       "\n",
       "    .dataframe tbody tr th {\n",
       "        vertical-align: top;\n",
       "    }\n",
       "\n",
       "    .dataframe thead th {\n",
       "        text-align: right;\n",
       "    }\n",
       "</style>\n",
       "<table border=\"1\" class=\"dataframe\">\n",
       "  <thead>\n",
       "    <tr style=\"text-align: right;\">\n",
       "      <th></th>\n",
       "      <th>User</th>\n",
       "      <th>Offer</th>\n",
       "      <th>UserClicks</th>\n",
       "      <th>Sub1</th>\n",
       "    </tr>\n",
       "  </thead>\n",
       "  <tbody>\n",
       "    <tr>\n",
       "      <th>0</th>\n",
       "      <td>8</td>\n",
       "      <td>11060</td>\n",
       "      <td>3</td>\n",
       "      <td>2</td>\n",
       "    </tr>\n",
       "    <tr>\n",
       "      <th>1</th>\n",
       "      <td>8</td>\n",
       "      <td>42527</td>\n",
       "      <td>3</td>\n",
       "      <td>7</td>\n",
       "    </tr>\n",
       "    <tr>\n",
       "      <th>2</th>\n",
       "      <td>8</td>\n",
       "      <td>60910</td>\n",
       "      <td>3</td>\n",
       "      <td>16</td>\n",
       "    </tr>\n",
       "    <tr>\n",
       "      <th>3</th>\n",
       "      <td>8</td>\n",
       "      <td>68986</td>\n",
       "      <td>1</td>\n",
       "      <td>12</td>\n",
       "    </tr>\n",
       "    <tr>\n",
       "      <th>4</th>\n",
       "      <td>8</td>\n",
       "      <td>124373</td>\n",
       "      <td>3</td>\n",
       "      <td>20</td>\n",
       "    </tr>\n",
       "    <tr>\n",
       "      <th>...</th>\n",
       "      <td>...</td>\n",
       "      <td>...</td>\n",
       "      <td>...</td>\n",
       "      <td>...</td>\n",
       "    </tr>\n",
       "    <tr>\n",
       "      <th>64721</th>\n",
       "      <td>415539</td>\n",
       "      <td>204720</td>\n",
       "      <td>3</td>\n",
       "      <td>16</td>\n",
       "    </tr>\n",
       "    <tr>\n",
       "      <th>64722</th>\n",
       "      <td>415539</td>\n",
       "      <td>227339</td>\n",
       "      <td>3</td>\n",
       "      <td>13</td>\n",
       "    </tr>\n",
       "    <tr>\n",
       "      <th>64723</th>\n",
       "      <td>415539</td>\n",
       "      <td>238740</td>\n",
       "      <td>2</td>\n",
       "      <td>8</td>\n",
       "    </tr>\n",
       "    <tr>\n",
       "      <th>64724</th>\n",
       "      <td>415539</td>\n",
       "      <td>293000</td>\n",
       "      <td>3</td>\n",
       "      <td>7</td>\n",
       "    </tr>\n",
       "    <tr>\n",
       "      <th>64725</th>\n",
       "      <td>415539</td>\n",
       "      <td>303901</td>\n",
       "      <td>3</td>\n",
       "      <td>15</td>\n",
       "    </tr>\n",
       "  </tbody>\n",
       "</table>\n",
       "<p>64726 rows × 4 columns</p>\n",
       "</div>"
      ],
      "text/plain": [
       "         User   Offer  UserClicks  Sub1\n",
       "0           8   11060           3     2\n",
       "1           8   42527           3     7\n",
       "2           8   60910           3    16\n",
       "3           8   68986           1    12\n",
       "4           8  124373           3    20\n",
       "...       ...     ...         ...   ...\n",
       "64721  415539  204720           3    16\n",
       "64722  415539  227339           3    13\n",
       "64723  415539  238740           2     8\n",
       "64724  415539  293000           3     7\n",
       "64725  415539  303901           3    15\n",
       "\n",
       "[64726 rows x 4 columns]"
      ]
     },
     "execution_count": 45,
     "metadata": {},
     "output_type": "execute_result"
    }
   ],
   "source": [
    "clicks_per_user_product"
   ]
  },
  {
   "cell_type": "code",
   "execution_count": 46,
   "id": "72c872a7",
   "metadata": {},
   "outputs": [
    {
     "ename": "NameError",
     "evalue": "name 'uf' is not defined",
     "output_type": "error",
     "traceback": [
      "\u001b[1;31m---------------------------------------------------------------------------\u001b[0m",
      "\u001b[1;31mNameError\u001b[0m                                 Traceback (most recent call last)",
      "Input \u001b[1;32mIn [46]\u001b[0m, in \u001b[0;36m<module>\u001b[1;34m\u001b[0m\n\u001b[0;32m      4\u001b[0m \u001b[38;5;28;01mfrom\u001b[39;00m \u001b[38;5;21;01mlightfm\u001b[39;00m\u001b[38;5;21;01m.\u001b[39;00m\u001b[38;5;21;01mcross_validation\u001b[39;00m \u001b[38;5;28;01mimport\u001b[39;00m random_train_test_split\n\u001b[0;32m      6\u001b[0m dataset \u001b[38;5;241m=\u001b[39m Dataset()\n\u001b[1;32m----> 7\u001b[0m dataset\u001b[38;5;241m.\u001b[39mfit(clicks_per_user_product\u001b[38;5;241m.\u001b[39mUser\u001b[38;5;241m.\u001b[39munique(), clicks_per_user_product\u001b[38;5;241m.\u001b[39mOffer\u001b[38;5;241m.\u001b[39munique(), item_features \u001b[38;5;241m=\u001b[39m \u001b[43muf\u001b[49m)\n\u001b[0;32m      8\u001b[0m (interactions, weights) \u001b[38;5;241m=\u001b[39m dataset\u001b[38;5;241m.\u001b[39mbuild_interactions(\u001b[38;5;28mzip\u001b[39m(clicks_per_user_product\u001b[38;5;241m.\u001b[39mUser, clicks_per_user_product\u001b[38;5;241m.\u001b[39mOffer, clicks_per_user_product\u001b[38;5;241m.\u001b[39mSub1))\n",
      "\u001b[1;31mNameError\u001b[0m: name 'uf' is not defined"
     ]
    }
   ],
   "source": [
    "from lightfm.data import Dataset\n",
    "from lightfm import LightFM\n",
    "from lightfm.evaluation import precision_at_k, auc_score, recall_at_k\n",
    "from lightfm.cross_validation import random_train_test_split\n",
    "\n",
    "dataset = Dataset()\n",
    "dataset.fit(clicks_per_user_product.User.unique(), clicks_per_user_product.Offer.unique(), item_features = uf)\n",
    "(interactions, weights) = dataset.build_interactions(zip(clicks_per_user_product.User, clicks_per_user_product.Offer, clicks_per_user_product.Sub1))\n"
   ]
  },
  {
   "cell_type": "code",
   "execution_count": null,
   "id": "28e47ce4",
   "metadata": {},
   "outputs": [],
   "source": [
    "train, test = random_train_test_split(interactions, test_percentage = 0.2)"
   ]
  },
  {
   "cell_type": "code",
   "execution_count": null,
   "id": "83c1ff03",
   "metadata": {},
   "outputs": [],
   "source": [
    "uf = []\n",
    "col = ['Sub1']*len(clicks_per_user_product.Sub1.unique())\n",
    "unique_f1 = list(clicks_per_user_product.Sub1.unique())\n",
    "#print('f1:', unique_f1)\n",
    "for x,y in zip(col, unique_f1):\n",
    "    res = str(x)+ \":\" +str(y)\n",
    "    uf.append(res)\n",
    "    print(res)"
   ]
  },
  {
   "cell_type": "code",
   "execution_count": 71,
   "id": "8a814a86",
   "metadata": {},
   "outputs": [],
   "source": [
    "def feature_colon_value(my_list):\n",
    "    \"\"\"\n",
    "    Takes as input a list and prepends the columns names to respective values in the list.\n",
    "    For example: if my_list = [1,1,0,'del'],\n",
    "    resultant output = ['f1:1', 'f2:1', 'f3:0', 'loc:del']\n",
    "   \n",
    "    \"\"\"\n",
    "    result = []\n",
    "    ll = ['Sub1:']\n",
    "    aa = my_list\n",
    "    for x,y in zip(ll,aa):\n",
    "        res = str(x) +\"\"+ str(y)\n",
    "        result.append(res)\n",
    "    return result"
   ]
  },
  {
   "cell_type": "code",
   "execution_count": null,
   "id": "e77e53ec",
   "metadata": {},
   "outputs": [],
   "source": [
    "ad_subset = clicks_per_user_product[[\"Sub1\"]]\n",
    "ad_list = [list(x) for x in ad_subset.values]\n",
    "feature_list = []\n",
    "for item in ad_list:\n",
    "    feature_list.append(feature_colon_value(item))\n",
    "print(f'Final output: {feature_list}')"
   ]
  },
  {
   "cell_type": "code",
   "execution_count": 82,
   "id": "7ef0fc93",
   "metadata": {},
   "outputs": [],
   "source": [
    "item_tuple = list(zip(clicks_per_user_product.User, feature_list))"
   ]
  },
  {
   "cell_type": "code",
   "execution_count": 83,
   "id": "d5f0c3f9",
   "metadata": {},
   "outputs": [],
   "source": [
    "item_features = dataset.build_item_features(item_tuple, normalize = False)"
   ]
  },
  {
   "cell_type": "code",
   "execution_count": 88,
   "id": "14ea95a2",
   "metadata": {},
   "outputs": [],
   "source": [
    "model = LightFM(loss='warp')"
   ]
  },
  {
   "cell_type": "code",
   "execution_count": 89,
   "id": "aa87858e",
   "metadata": {},
   "outputs": [
    {
     "data": {
      "text/plain": [
       "<lightfm.lightfm.LightFM at 0x15f9ff02fd0>"
      ]
     },
     "execution_count": 89,
     "metadata": {},
     "output_type": "execute_result"
    }
   ],
   "source": [
    "model.fit(interactions, item_features=item_features, sample_weight = weights, epochs = 10)"
   ]
  },
  {
   "cell_type": "code",
   "execution_count": 90,
   "id": "5aff33ef",
   "metadata": {
    "scrolled": true
   },
   "outputs": [
    {
     "name": "stdout",
     "output_type": "stream",
     "text": [
      "Hybrid training set AUC: 0.9052516\n"
     ]
    }
   ],
   "source": [
    "from lightfm.evaluation import auc_score\n",
    "train_auc = auc_score(model,\n",
    "                      interactions,\n",
    "                      item_features=user_features\n",
    "                     ).mean()\n",
    "\n",
    "print('Hybrid training set AUC: %s' % train_auc)"
   ]
  },
  {
   "cell_type": "code",
   "execution_count": 91,
   "id": "d0f04e71",
   "metadata": {},
   "outputs": [
    {
     "name": "stdout",
     "output_type": "stream",
     "text": [
      "Hybrid training set AUC: 0.005611527\n"
     ]
    }
   ],
   "source": [
    "from lightfm.evaluation import precision_at_k\n",
    "\n",
    "train_precision = precision_at_k(model,\n",
    "                      interactions,\n",
    "                      item_features=user_features\n",
    "                     ).mean()\n",
    "\n",
    "print('Hybrid training set Precision: %s' % train_precision)"
   ]
  },
  {
   "cell_type": "markdown",
   "id": "335f11cf",
   "metadata": {},
   "source": [
    "### Criação de matrizes esparsas Usuário-item e item-usuário"
   ]
  },
  {
   "cell_type": "code",
   "execution_count": 47,
   "id": "c32a803e",
   "metadata": {},
   "outputs": [],
   "source": [
    "alpha = 40 ### (dado, (linhas, colunas))\n",
    "sparse_item_user = csr_matrix((clicks_per_user_product['UserClicks'], (clicks_per_user_product['Offer'], clicks_per_user_product['User'])))\n",
    "sparse_user_item = csr_matrix((clicks_per_user_product['UserClicks'], (clicks_per_user_product['User'], clicks_per_user_product['Offer'])))\n",
    "\n",
    "sparse_user_item = (sparse_user_item*alpha).astype('double') # Conversão de tipo para que o modelo ALS funcione corretamente\n",
    "#data = (sparse_item_user*alpha).astype('double') # Conversão de tipo para que o modelo ALS funcione corretamente"
   ]
  },
  {
   "cell_type": "code",
   "execution_count": 48,
   "id": "5ee0ba67",
   "metadata": {},
   "outputs": [],
   "source": [
    "# weight the matrix, both to reduce impact of users that have played the same artist thousands of times\n",
    "# and to reduce the weight given to popular items\n",
    "# item_user_clicks = bm25_weight(data, K1=100, B=0.8)\n",
    "# get the transpose since the most of the functions in implicit expect (user, item) sparse matrices instead of (item, user)\n",
    "# user_clicks = item_user_clicks.T.tocsr()"
   ]
  },
  {
   "cell_type": "code",
   "execution_count": 49,
   "id": "d2eb85c0",
   "metadata": {},
   "outputs": [
    {
     "data": {
      "text/plain": [
       "0.9999995215444863"
      ]
     },
     "execution_count": 49,
     "metadata": {},
     "output_type": "execute_result"
    }
   ],
   "source": [
    "#Esparsidade de matriz\n",
    "possible_interactions = sparse_item_user.shape[0]*sparse_item_user.shape[1]\n",
    "interacted = len(sparse_item_user.nonzero()[0])\n",
    "sparsity = 1 - interacted/possible_interactions\n",
    "sparsity"
   ]
  },
  {
   "cell_type": "markdown",
   "id": "d473e54e",
   "metadata": {},
   "source": [
    " Mais de 99.99% das interações possíveis entre usuários e produtos na atual base dados não foi ainda realizada. Segundo artigo: For collaborative filtering to work, the maximum sparsity you could get away with would probably be about 99.5% or so. Devemos reavaliar a matriz?"
   ]
  },
  {
   "cell_type": "code",
   "execution_count": 50,
   "id": "1b0f97fe",
   "metadata": {},
   "outputs": [],
   "source": [
    "save_npz(os.getcwd()+\"/.npz/sparse_user_item.npz\", sparse_user_item)\n",
    "save_npz(os.getcwd()+\"/.npz/sparse_item_user.npz\", sparse_item_user)"
   ]
  },
  {
   "cell_type": "code",
   "execution_count": 51,
   "id": "75aec5e4",
   "metadata": {},
   "outputs": [],
   "source": [
    "model_path = os.getcwd()+'/.pkl/de_als_model.pkl'"
   ]
  },
  {
   "cell_type": "markdown",
   "id": "5dca19d6",
   "metadata": {},
   "source": [
    "* Criação de diferentes matrizes esparsas para operar com o algoritmo. Usuário-item e item-usuário. Cada uma deve ser usada no momento preciso\n",
    "* O alfa é o coeficiente de confiabilidade da interação do usuário com um item específico. Valor utilizado fi adotado com base no artigo: https://towardsdatascience.com/alternating-least-square-for-implicit-dataset-with-code-8e7999277f4b. Mas, podemos testar outros valores na validação do modelo.\n",
    "* Outro artigo de base pra elaboração do modelo: https://medium.com/analytics-vidhya/implementation-of-a-movies-recommender-from-implicit-feedback-6a810de173ac"
   ]
  },
  {
   "cell_type": "code",
   "execution_count": 52,
   "id": "b62ecbdf",
   "metadata": {},
   "outputs": [],
   "source": [
    "offers = pickle.load(open(os.getcwd()+\"/.pkl/offers.pkl\", \"rb\"))"
   ]
  },
  {
   "cell_type": "markdown",
   "id": "68a14055",
   "metadata": {},
   "source": [
    "# FUNÇÃO DE RECOMENDAÇÕES - IMPLICIT"
   ]
  },
  {
   "cell_type": "markdown",
   "id": "15c9c3b5",
   "metadata": {},
   "source": [
    "## Treinamento de modelos"
   ]
  },
  {
   "cell_type": "markdown",
   "id": "776884e3",
   "metadata": {},
   "source": [
    "Carregamentodo dicionário que converte os códigos de ofertas para o seu título de oferta. Ainda falta traduzir do alemão para o inglês para tirar mais significado dos resultados"
   ]
  },
  {
   "cell_type": "code",
   "execution_count": 53,
   "id": "21d10102",
   "metadata": {},
   "outputs": [],
   "source": [
    "def als_model():\n",
    "    \n",
    "    '''computes p@k and map@k evaluation metrics and saves model'''\n",
    "    \n",
    "    #sparse_item_user = load_npz(os.getcwd()+\"/.npz/sparse_item_user.npz\")\n",
    "      \n",
    "    train, test = implicit.evaluation.train_test_split(sparse_user_item, train_percentage=0.8)\n",
    "\n",
    "    model = implicit.als.AlternatingLeastSquares()\n",
    "    \n",
    "    model.fit(train)\n",
    "\n",
    "    #with open(model_path, 'wb') as pickle_out:\n",
    "   #     pickle.dump(model, pickle_out)\n",
    "    \n",
    "    return train, test, model"
   ]
  },
  {
   "cell_type": "code",
   "execution_count": 54,
   "id": "da0aa8e4",
   "metadata": {},
   "outputs": [
    {
     "data": {
      "application/vnd.jupyter.widget-view+json": {
       "model_id": "4de70d2659a140239bdb44d7f9083373",
       "version_major": 2,
       "version_minor": 0
      },
      "text/plain": [
       "  0%|          | 0/15 [00:00<?, ?it/s]"
      ]
     },
     "metadata": {},
     "output_type": "display_data"
    }
   ],
   "source": [
    "train, test, model = als_model()"
   ]
  },
  {
   "cell_type": "code",
   "execution_count": 55,
   "id": "58a34440",
   "metadata": {},
   "outputs": [
    {
     "data": {
      "application/vnd.jupyter.widget-view+json": {
       "model_id": "a50f102c80f946dda349d3b1e8779f47",
       "version_major": 2,
       "version_minor": 0
      },
      "text/plain": [
       "  0%|          | 0/3723 [00:00<?, ?it/s]"
      ]
     },
     "metadata": {},
     "output_type": "display_data"
    },
    {
     "data": {
      "text/plain": [
       "0.0435980168411112"
      ]
     },
     "execution_count": 55,
     "metadata": {},
     "output_type": "execute_result"
    }
   ],
   "source": [
    "implicit.evaluation.precision_at_k(model, train, test, K = 10)"
   ]
  },
  {
   "cell_type": "code",
   "execution_count": 24,
   "id": "89bc41df",
   "metadata": {},
   "outputs": [],
   "source": [
    "from implicit.als import AlternatingLeastSquares\n",
    "from implicit.approximate_als import (\n",
    "    AnnoyAlternatingLeastSquares,\n",
    "    FaissAlternatingLeastSquares,\n",
    "    NMSLibAlternatingLeastSquares,\n",
    ")\n",
    "from implicit.bpr import BayesianPersonalizedRanking\n",
    "from implicit.datasets.lastfm import get_lastfm\n",
    "from implicit.lmf import LogisticMatrixFactorization\n",
    "from implicit.nearest_neighbours import (\n",
    "    BM25Recommender,\n",
    "    CosineRecommender,\n",
    "    TFIDFRecommender,\n",
    "    bm25_weight,\n",
    ")\n",
    "\n",
    "# maps command line model argument to class name\n",
    "MODELS = {\n",
    "    \"als\": AlternatingLeastSquares,\n",
    "    \"nmslib_als\": NMSLibAlternatingLeastSquares,\n",
    "    \"annoy_als\": AnnoyAlternatingLeastSquares,\n",
    "    \"faiss_als\": FaissAlternatingLeastSquares,\n",
    "    \"tfidf\": TFIDFRecommender,\n",
    "    \"cosine\": CosineRecommender,\n",
    "    \"bpr\": BayesianPersonalizedRanking,\n",
    "    \"lmf\": LogisticMatrixFactorization, \n",
    "    \"bm25\": BM25Recommender,\n",
    "}"
   ]
  },
  {
   "cell_type": "code",
   "execution_count": 25,
   "id": "bf92ff27",
   "metadata": {},
   "outputs": [],
   "source": [
    "def get_model(model_name):\n",
    "    print(f\"getting model {model_name}\")\n",
    "    model_class = MODELS.get(model_name)\n",
    "    if not model_class:\n",
    "        raise ValueError(f\"Unknown Model '{model_name}'\")\n",
    "\n",
    "    # some default params\n",
    "    if model_name.endswith(\"als\"):\n",
    "        params = {\"factors\": 128, \"dtype\": np.float32}\n",
    "    elif model_name == \"bm25\":\n",
    "        params = {\"K1\": 100, \"B\": 0.5}\n",
    "    elif model_name == \"bpr\":\n",
    "        params = {\"factors\": 63}\n",
    "    elif model_name == \"lmf\":\n",
    "        params = {\"factors\": 30, \"iterations\": 40, \"regularization\": 1.5}\n",
    "    else:\n",
    "        params = {}\n",
    "\n",
    "    return model_class(**params)"
   ]
  },
  {
   "cell_type": "code",
   "execution_count": 73,
   "id": "a4f3a012",
   "metadata": {},
   "outputs": [],
   "source": [
    "def model_testing():    \n",
    "    results = []\n",
    "    for model in MODELS.keys():\n",
    "\n",
    "        curr_model = get_model(model)\n",
    "        #logging.debug(\"training model %s\", model)\n",
    "\n",
    "        curr_model.fit(train)\n",
    "        partial = model_evaluation(train, test, curr_model)\n",
    "        #logging.debug(\"trained model '%s' in %0.2fs\", model_name, time.time() - start)\n",
    "        results.append([model, partial['p@K'],partial['map@K'], partial['ndcg@K'], partial['auc@K']])\n",
    "\n",
    "    final = pd.DataFrame(results, columns = ['Model','P@K','MAP@K','NDCG@K','AUC@K'])\n",
    "    \n",
    "    return final\n",
    "    "
   ]
  },
  {
   "cell_type": "code",
   "execution_count": 74,
   "id": "ade23928",
   "metadata": {},
   "outputs": [
    {
     "ename": "NameError",
     "evalue": "name 'MODELS' is not defined",
     "output_type": "error",
     "traceback": [
      "\u001b[1;31m---------------------------------------------------------------------------\u001b[0m",
      "\u001b[1;31mNameError\u001b[0m                                 Traceback (most recent call last)",
      "Input \u001b[1;32mIn [74]\u001b[0m, in \u001b[0;36m<module>\u001b[1;34m\u001b[0m\n\u001b[1;32m----> 1\u001b[0m models_performance \u001b[38;5;241m=\u001b[39m \u001b[43mmodel_testing\u001b[49m\u001b[43m(\u001b[49m\u001b[43m)\u001b[49m\n",
      "Input \u001b[1;32mIn [73]\u001b[0m, in \u001b[0;36mmodel_testing\u001b[1;34m()\u001b[0m\n\u001b[0;32m      1\u001b[0m \u001b[38;5;28;01mdef\u001b[39;00m \u001b[38;5;21mmodel_testing\u001b[39m():    \n\u001b[0;32m      2\u001b[0m     results \u001b[38;5;241m=\u001b[39m []\n\u001b[1;32m----> 3\u001b[0m     \u001b[38;5;28;01mfor\u001b[39;00m model \u001b[38;5;129;01min\u001b[39;00m \u001b[43mMODELS\u001b[49m\u001b[38;5;241m.\u001b[39mkeys():\n\u001b[0;32m      5\u001b[0m         curr_model \u001b[38;5;241m=\u001b[39m get_model(model)\n\u001b[0;32m      6\u001b[0m         \u001b[38;5;66;03m#logging.debug(\"training model %s\", model)\u001b[39;00m\n",
      "\u001b[1;31mNameError\u001b[0m: name 'MODELS' is not defined"
     ]
    }
   ],
   "source": [
    "models_performance = model_testing()"
   ]
  },
  {
   "cell_type": "code",
   "execution_count": 50,
   "id": "b5ed35fc",
   "metadata": {},
   "outputs": [
    {
     "data": {
      "text/html": [
       "<div>\n",
       "<style scoped>\n",
       "    .dataframe tbody tr th:only-of-type {\n",
       "        vertical-align: middle;\n",
       "    }\n",
       "\n",
       "    .dataframe tbody tr th {\n",
       "        vertical-align: top;\n",
       "    }\n",
       "\n",
       "    .dataframe thead th {\n",
       "        text-align: right;\n",
       "    }\n",
       "</style>\n",
       "<table border=\"1\" class=\"dataframe\">\n",
       "  <thead>\n",
       "    <tr style=\"text-align: right;\">\n",
       "      <th></th>\n",
       "      <th>Model</th>\n",
       "      <th>P@K</th>\n",
       "      <th>MAP@K</th>\n",
       "      <th>NDCG@K</th>\n",
       "      <th>AUC@K</th>\n",
       "    </tr>\n",
       "  </thead>\n",
       "  <tbody>\n",
       "    <tr>\n",
       "      <th>0</th>\n",
       "      <td>als</td>\n",
       "      <td>0.185381</td>\n",
       "      <td>0.042413</td>\n",
       "      <td>0.085241</td>\n",
       "      <td>0.592645</td>\n",
       "    </tr>\n",
       "    <tr>\n",
       "      <th>1</th>\n",
       "      <td>nmslib_als</td>\n",
       "      <td>0.079222</td>\n",
       "      <td>0.014352</td>\n",
       "      <td>0.034785</td>\n",
       "      <td>0.537999</td>\n",
       "    </tr>\n",
       "    <tr>\n",
       "      <th>2</th>\n",
       "      <td>annoy_als</td>\n",
       "      <td>0.031114</td>\n",
       "      <td>0.014516</td>\n",
       "      <td>0.024354</td>\n",
       "      <td>0.515218</td>\n",
       "    </tr>\n",
       "    <tr>\n",
       "      <th>3</th>\n",
       "      <td>faiss_als</td>\n",
       "      <td>0.176005</td>\n",
       "      <td>0.042882</td>\n",
       "      <td>0.083899</td>\n",
       "      <td>0.587948</td>\n",
       "    </tr>\n",
       "    <tr>\n",
       "      <th>4</th>\n",
       "      <td>tfidf</td>\n",
       "      <td>0.096556</td>\n",
       "      <td>0.003812</td>\n",
       "      <td>0.025463</td>\n",
       "      <td>0.548564</td>\n",
       "    </tr>\n",
       "    <tr>\n",
       "      <th>5</th>\n",
       "      <td>cosine</td>\n",
       "      <td>0.088654</td>\n",
       "      <td>0.003340</td>\n",
       "      <td>0.023343</td>\n",
       "      <td>0.544808</td>\n",
       "    </tr>\n",
       "    <tr>\n",
       "      <th>6</th>\n",
       "      <td>bpr</td>\n",
       "      <td>0.130543</td>\n",
       "      <td>0.022395</td>\n",
       "      <td>0.052753</td>\n",
       "      <td>0.563562</td>\n",
       "    </tr>\n",
       "    <tr>\n",
       "      <th>7</th>\n",
       "      <td>lmf</td>\n",
       "      <td>0.124835</td>\n",
       "      <td>0.027512</td>\n",
       "      <td>0.055101</td>\n",
       "      <td>0.562234</td>\n",
       "    </tr>\n",
       "    <tr>\n",
       "      <th>8</th>\n",
       "      <td>bm25</td>\n",
       "      <td>0.026388</td>\n",
       "      <td>0.001718</td>\n",
       "      <td>0.009489</td>\n",
       "      <td>0.517869</td>\n",
       "    </tr>\n",
       "  </tbody>\n",
       "</table>\n",
       "</div>"
      ],
      "text/plain": [
       "        Model       P@K     MAP@K    NDCG@K     AUC@K\n",
       "0         als  0.185381  0.042413  0.085241  0.592645\n",
       "1  nmslib_als  0.079222  0.014352  0.034785  0.537999\n",
       "2   annoy_als  0.031114  0.014516  0.024354  0.515218\n",
       "3   faiss_als  0.176005  0.042882  0.083899  0.587948\n",
       "4       tfidf  0.096556  0.003812  0.025463  0.548564\n",
       "5      cosine  0.088654  0.003340  0.023343  0.544808\n",
       "6         bpr  0.130543  0.022395  0.052753  0.563562\n",
       "7         lmf  0.124835  0.027512  0.055101  0.562234\n",
       "8        bm25  0.026388  0.001718  0.009489  0.517869"
      ]
     },
     "execution_count": 50,
     "metadata": {},
     "output_type": "execute_result"
    }
   ],
   "source": [
    "models_performance"
   ]
  },
  {
   "cell_type": "markdown",
   "id": "56cc83dd",
   "metadata": {},
   "source": [
    "# Avaliação Baseline"
   ]
  },
  {
   "cell_type": "code",
   "execution_count": 24,
   "id": "c2370d02",
   "metadata": {},
   "outputs": [],
   "source": [
    "def get_k_most_popular(sparse_item_user, k):\n",
    "    \n",
    "    \"\"\"Retorna um array com os códigos dos itens clicados por mais clientes da base de dados\"\"\"\n",
    "    \n",
    "    new_sparse = sparse_item_user.copy() # Nova esparsa para não modificar a original\n",
    "    interaction = np.ones_like(new_sparse.data) # Altera os valores da matriz esparsa para '1' se houve interação para que não sejam contadas múltiplas interações do mesmo cliente com o mesmo produto\n",
    "    new_sparse.data = interaction # Assimila o array de interações de 1's aos dados da matriz esparsa\n",
    "    pop_items = np.array((new_sparse).sum(axis = 1)).reshape(-1) # Aqui é feita a soma de interações que ocorreram em cada uma das linhas, que correspondem a cada um dos produtos\n",
    "    most_popular = pd.Series(pop_items).sort_values(ascending = False)[:k] # Os itens são convertidos em série para que possam ser ordenados e então captados os deus com maior incidência para que sejam retornados seus indices(código do produto)\n",
    "    \n",
    "    return most_popular.index"
   ]
  },
  {
   "cell_type": "markdown",
   "id": "ab64880b",
   "metadata": {},
   "source": [
    " O modelo de baseline considerará como sugestão os produtos mais populares de todo o dataframe como recomendação para todos os clientes"
   ]
  },
  {
   "cell_type": "code",
   "execution_count": 25,
   "id": "a68485de",
   "metadata": {},
   "outputs": [],
   "source": [
    "def get_user_top_k(userid, sparse_user_item, k=10):\n",
    "    \n",
    "    '''Retorna os top-K produtos clicados por um usuário de acordo \n",
    "    com o nível de confiança obtido através das suas interações'''\n",
    "\n",
    "    top_K =pd.Series(sparse_user_item[userid].data, index = sparse_user_item[userid].indices).sort_values(ascending = False)[:k]\n",
    "    return top_K.index.values"
   ]
  },
  {
   "cell_type": "markdown",
   "id": "5f46c3ff",
   "metadata": {},
   "source": [
    "### Avaliação do modelo"
   ]
  },
  {
   "cell_type": "code",
   "execution_count": 27,
   "id": "44c98e18",
   "metadata": {},
   "outputs": [
    {
     "data": {
      "text/plain": [
       "0.016250902827934736"
      ]
     },
     "execution_count": 27,
     "metadata": {},
     "output_type": "execute_result"
    }
   ],
   "source": [
    "precision_at_k(sparse_item_user, func = model.recommend, k=10,  popularity = True)"
   ]
  },
  {
   "cell_type": "code",
   "execution_count": 75,
   "id": "ad27f3d8",
   "metadata": {},
   "outputs": [],
   "source": [
    "def model_evaluation(train, test, model, k=10): \n",
    "    \n",
    "    '''Avaliação do modelo treinado com as funções da biblioteca Implicit.\n",
    "    Retorna dicionário com p@k, map@k, ndcg@k e auc@k.'''\n",
    "\n",
    "    \n",
    "    p_at_k = implicit.evaluation.precision_at_k(model, train_user_items=train, \n",
    "                                                test_user_items=test,\n",
    "                                                K=k, \n",
    "                                                show_progress = False)\n",
    "    \n",
    "    m_at_k = implicit.evaluation.mean_average_precision_at_k(model, \n",
    "                                                             train_user_items = train, \n",
    "                                                             test_user_items = test, \n",
    "                                                             K=k, \n",
    "                                                             show_progress = False)\n",
    "\n",
    "    ndcg_at_k = implicit.evaluation.ndcg_at_k(model, \n",
    "                                              train_user_items = train,\n",
    "                                              test_user_items = test, \n",
    "                                              K=k, \n",
    "                                              show_progress = False)\n",
    "\n",
    "    auc_at_k = implicit.evaluation.AUC_at_k(model, \n",
    "                                            train_user_items = train, \n",
    "                                            test_user_items = test, \n",
    "                                            K=k, \n",
    "                                            show_progress = False)\n",
    "    metrics = {'p@K':p_at_k, \n",
    "               'map@K': m_at_k, \n",
    "               'ndcg@K':ndcg_at_k, \n",
    "               'auc@K':auc_at_k}\n",
    "    \n",
    "    return metrics"
   ]
  },
  {
   "cell_type": "code",
   "execution_count": 76,
   "id": "d1dec5be",
   "metadata": {},
   "outputs": [],
   "source": [
    "metrics = model_evaluation(train, test, model)"
   ]
  },
  {
   "cell_type": "code",
   "execution_count": 77,
   "id": "7e2bacc3",
   "metadata": {},
   "outputs": [
    {
     "data": {
      "text/plain": [
       "{'p@K': 0.15521628498727735,\n",
       " 'map@K': 0.05056217652455384,\n",
       " 'ndcg@K': 0.09026699013093022,\n",
       " 'auc@K': 0.5513669142406108}"
      ]
     },
     "execution_count": 77,
     "metadata": {},
     "output_type": "execute_result"
    }
   ],
   "source": [
    "metrics"
   ]
  },
  {
   "cell_type": "markdown",
   "id": "5b37fbe1",
   "metadata": {},
   "source": [
    "* Sobre metricas de precisão @k: https://medium.com/@m_n_malaeb/recall-and-precision-at-k-for-recommender-systems-618483226c54\n",
    "* Sobre NDCG: https://towardsdatascience.com/evaluate-your-recommendation-engine-using-ndcg-759a851452d1\n",
    "* Sobre Mean Average Precision: https://towardsdatascience.com/breaking-down-mean-average-precision-map-ae462f623a52"
   ]
  },
  {
   "cell_type": "markdown",
   "id": "8ace9ba0",
   "metadata": {},
   "source": [
    "Ainda não foi realizada qualquer tunagem de hiperaparâmetros. Podemos pegar alguns valores de referencia para rodar um gridsearch"
   ]
  },
  {
   "cell_type": "markdown",
   "id": "3d9ac72c",
   "metadata": {},
   "source": [
    "## Funções de recomendações"
   ]
  },
  {
   "cell_type": "code",
   "execution_count": 43,
   "id": "d99f99b7",
   "metadata": {
    "scrolled": true
   },
   "outputs": [],
   "source": [
    "def recommend(user):\n",
    "    \n",
    "    ''' Retorna uma lista de itens recomendados para o usuário dado de acordo com a biblioteca Implicit.\n",
    "        Também é retornado uma lista com os itens já clicados por esse usuário'''\n",
    "    \n",
    "    sparse_user_item = load_npz(\"/.npz/sparse_user_item.npz\")\n",
    "    \n",
    "    with open(model_path, 'rb') as pickle_in:\n",
    "        model = pickle.load(pickle_in)\n",
    "        \n",
    "    recommended, _ = (model.recommend(user, sparse_user_item[user]))\n",
    "\n",
    "    original_user_items = list(sparse_user_item[user].indices)\n",
    "\n",
    "    return recommended, original_user_items"
   ]
  },
  {
   "cell_type": "code",
   "execution_count": 47,
   "id": "d00824ee",
   "metadata": {},
   "outputs": [],
   "source": [
    "def most_similar_items(item_id, n_similar=10):\n",
    "    '''computes the most similar items'''\n",
    "    \n",
    "    with open(model_path, 'rb') as pickle_in:\n",
    "        model = pickle.load(pickle_in)\n",
    "\n",
    "    similar, score = zip(*model.similar_items(item_id, n_similar)[1:])\n",
    "\n",
    "    return similar"
   ]
  },
  {
   "cell_type": "code",
   "execution_count": 218,
   "id": "c25fb56e",
   "metadata": {},
   "outputs": [],
   "source": [
    "a, b = recommend(208398)"
   ]
  },
  {
   "cell_type": "code",
   "execution_count": 219,
   "id": "dccbc02d",
   "metadata": {},
   "outputs": [
    {
     "data": {
      "text/plain": [
       "array([292786, 201083,  54819, 115844, 163506, 136425,  89779, 246680,\n",
       "       109613, 219449])"
      ]
     },
     "execution_count": 219,
     "metadata": {},
     "output_type": "execute_result"
    }
   ],
   "source": [
    "a"
   ]
  },
  {
   "cell_type": "code",
   "execution_count": 220,
   "id": "03573226",
   "metadata": {},
   "outputs": [
    {
     "data": {
      "text/plain": [
       "['Hasbro Monopoly Classic Reissue',\n",
       " \"Marmot Sling shot women's ski jacket in black\",\n",
       " 'Alpinestars WEB GTX touring boots',\n",
       " \"CasaModa men's shirt Slim Line poplin light blue\",\n",
       " 'Zimtstern Cover snowboard jacket men multicolored',\n",
       " 'Trekstor SurfTab duo W1 LTE',\n",
       " 'Tipard YouTube Converter',\n",
       " 'Samsung SL-C480fw 4-in-1 Color Laser Printer',\n",
       " 'apple 9',\n",
       " 'Mercedes-Benz Viano 3.0 CDI compact Autom Trend DPF-Comand-Hitch']"
      ]
     },
     "execution_count": 220,
     "metadata": {},
     "output_type": "execute_result"
    }
   ],
   "source": [
    "[offers[item] for item in a]"
   ]
  },
  {
   "cell_type": "code",
   "execution_count": null,
   "id": "180359ae",
   "metadata": {},
   "outputs": [],
   "source": [
    "[offers[item] for item in b]"
   ]
  },
  {
   "cell_type": "code",
   "execution_count": 210,
   "id": "6a9c9a31",
   "metadata": {},
   "outputs": [
    {
     "data": {
      "text/plain": [
       "array([357401, 233326,   1941, ..., 208398, 264961, 372104], dtype=int32)"
      ]
     },
     "execution_count": 210,
     "metadata": {},
     "output_type": "execute_result"
    }
   ],
   "source": [
    "sparse_item_user.indices"
   ]
  },
  {
   "cell_type": "code",
   "execution_count": 43,
   "id": "bf039315",
   "metadata": {},
   "outputs": [],
   "source": [
    "def most_similar_users(user_id, n_similar=10):\n",
    "    '''computes the most similar users'''\n",
    "    sparse_user_item = load_npz(os.getcwd()+\"/.npz/sparse_user_item.npz\")\n",
    "    \n",
    "    with open(model_path, 'rb') as pickle_in:\n",
    "        model = pickle.load(pickle_in)\n",
    "\n",
    "    similar, _ = zip(*model.similar_users(user_id, n_similar)[1:])\n",
    "\n",
    "    # original users items\n",
    "    original_user_items = list(sparse_user_item[user_id].indices)\n",
    "    \n",
    "    common_items_users = {}\n",
    "\n",
    "    # now we want to add the items that a similar user has rated\n",
    "    for user in similar:\n",
    "        # Verifica em cada usuário considerado similar quais são os itens que estes\n",
    "        # tem em comum com o usuário selecionado\n",
    "        common_items_users[user] = set(list(sparse_user_item[user].indices)) & set(original_user_items)\n",
    "    \n",
    "    # retorna usuários similares, e quais são os itens comuns correspondentes a cada um desses usuários\n",
    "    return similar, common_items_users"
   ]
  },
  {
   "cell_type": "code",
   "execution_count": null,
   "id": "6fdac2e0",
   "metadata": {},
   "outputs": [],
   "source": [
    "def recalculate_user(user_ratings):\n",
    "    '''adds new user and its liked items to sparse matrix and returns recalculated recommendations\n",
    "       Receives the user clicked products vector (user_ratings)''' \n",
    "\n",
    "    m = load_npz('sparse_user_item.npz')\n",
    "    n_users, n_movies = m.shape\n",
    "\n",
    "    ratings = [alpha for i in range(len(user_ratings))]\n",
    "\n",
    "    m.data = np.hstack((m.data, ratings))\n",
    "    m.indices = np.hstack((m.indices, user_ratings))\n",
    "    m.indptr = np.hstack((m.indptr, len(m.data)))\n",
    "    m._shape = (n_users+1, n_movies)\n",
    "\n",
    "    # recommend N items to new user\n",
    "    with open(model_path, 'rb') as pickle_in:\n",
    "        model = pickle.load(pickle_in)\n",
    "        \n",
    "    recommended, _ =  zip(*model.recommend(n_users, m, recalculate_user=True))\n",
    "    \n",
    "    return recommended"
   ]
  },
  {
   "cell_type": "markdown",
   "id": "a994773a",
   "metadata": {},
   "source": [
    "* A matriz m passa a ser a matriz com o novo usuário atualizado e é levada em consideração no para o cálculo de novos vetores."
   ]
  },
  {
   "cell_type": "markdown",
   "id": "ac8e6158",
   "metadata": {},
   "source": [
    "Nota: \n",
    "* Após os ajustes na organização das matrizes esparsas, o modelo parece não mais repetir recomendações de itens que já foram clicados pelo usuário\n",
    "* O modelo parece também não mais necessitar de tradução dos códigos de ofertas e usuário adotados na matriz esparsa para os códigos da matriz original"
   ]
  },
  {
   "cell_type": "markdown",
   "id": "ee2c9dd0",
   "metadata": {},
   "source": [
    "### Criação e armazenamento do dicionário código-titulo de oferta (carregado na parte de cima do código)."
   ]
  },
  {
   "cell_type": "code",
   "execution_count": 156,
   "id": "396ba5b2",
   "metadata": {},
   "outputs": [],
   "source": [
    "df_temp = clicks_de[['Offer','OfferTitle']]"
   ]
  },
  {
   "cell_type": "code",
   "execution_count": 161,
   "id": "070bd2b0",
   "metadata": {},
   "outputs": [],
   "source": [
    "df_temp = df_temp.drop_duplicates(['Offer','OfferTitle'])"
   ]
  },
  {
   "cell_type": "code",
   "execution_count": 169,
   "id": "fbeabeec",
   "metadata": {},
   "outputs": [],
   "source": [
    "teste_dicio = dict(zip(df_temp['Offer'], df_temp['OfferTitle']))"
   ]
  },
  {
   "cell_type": "code",
   "execution_count": 95,
   "id": "2988c8ee",
   "metadata": {},
   "outputs": [],
   "source": [
    "dic = pd.read_csv('de_traduzido.csv')\n",
    "dic['Offer2'] = dic['OfferTitle'].map(dict(zip(clicks_de.OfferTitle, clicks_de.Offer)))"
   ]
  },
  {
   "cell_type": "code",
   "execution_count": 115,
   "id": "5153d3cf",
   "metadata": {},
   "outputs": [],
   "source": [
    "pickle.dump(offers, open('.pkl/offers.pkl', 'wb'))"
   ]
  },
  {
   "cell_type": "markdown",
   "id": "e36f79f5",
   "metadata": {},
   "source": [
    "### Tunagem de hiperparametros"
   ]
  },
  {
   "cell_type": "code",
   "execution_count": 26,
   "id": "143b7291",
   "metadata": {},
   "outputs": [],
   "source": [
    "grid = {'factors': [10,100,200],\n",
    "       'regularization':[1, 0.1, 0.01],\n",
    "        'iterations':[10,30,50], \n",
    "        'alphas':[1,15,40,60]}"
   ]
  },
  {
   "cell_type": "code",
   "execution_count": 130,
   "id": "5ebe7d5d",
   "metadata": {},
   "outputs": [],
   "source": [
    "model = implicit.als.AlternatingLeastSquares()"
   ]
  },
  {
   "cell_type": "code",
   "execution_count": 39,
   "id": "49436f41",
   "metadata": {},
   "outputs": [],
   "source": [
    "    def gridsearch_als(grid):\n",
    "        results = []\n",
    "        for factor in grid['factors']:\n",
    "            for regularization in grid['regularization']:\n",
    "                for iteration in grid['iterations']:\n",
    "                    for alpha in grid['alphas']:\n",
    "\n",
    "                        model = implicit.als.AlternatingLeastSquares(factors = factor, \n",
    "                                                                     regularization = regularization, \n",
    "                                                                     iterations = iteration)\n",
    "                        model.fit(train*alpha)\n",
    "\n",
    "                        partial = model_evaluation(train, test, model, )\n",
    "                        results.append([factor, regularization, iteration, alpha, partial['p@K'],partial['map@K'], partial['ndcg@K'], partial['auc@K']])\n",
    "\n",
    "        final = pd.DataFrame(results, columns = ['Factors','Regularization','Iteration','alpha','P@K','MAP@K','NDCG@K','AUC@K'])\n",
    "        return final\n",
    "                "
   ]
  },
  {
   "cell_type": "code",
   "execution_count": null,
   "id": "13cf764b",
   "metadata": {
    "scrolled": true
   },
   "outputs": [],
   "source": [
    "grid_results = gridsearch_als(grid)"
   ]
  },
  {
   "cell_type": "code",
   "execution_count": 68,
   "id": "7ac3c4ac",
   "metadata": {},
   "outputs": [],
   "source": [
    "grid_results.to_csv('params.csv')"
   ]
  },
  {
   "cell_type": "code",
   "execution_count": 43,
   "id": "d0294d3a",
   "metadata": {
    "scrolled": true
   },
   "outputs": [
    {
     "data": {
      "text/html": [
       "<div>\n",
       "<style scoped>\n",
       "    .dataframe tbody tr th:only-of-type {\n",
       "        vertical-align: middle;\n",
       "    }\n",
       "\n",
       "    .dataframe tbody tr th {\n",
       "        vertical-align: top;\n",
       "    }\n",
       "\n",
       "    .dataframe thead th {\n",
       "        text-align: right;\n",
       "    }\n",
       "</style>\n",
       "<table border=\"1\" class=\"dataframe\">\n",
       "  <thead>\n",
       "    <tr style=\"text-align: right;\">\n",
       "      <th></th>\n",
       "      <th>Factors</th>\n",
       "      <th>Regularization</th>\n",
       "      <th>Iteration</th>\n",
       "      <th>alpha</th>\n",
       "      <th>P@K</th>\n",
       "      <th>MAP@K</th>\n",
       "      <th>NDCG@K</th>\n",
       "      <th>AUC@K</th>\n",
       "    </tr>\n",
       "  </thead>\n",
       "  <tbody>\n",
       "    <tr>\n",
       "      <th>37</th>\n",
       "      <td>100</td>\n",
       "      <td>1.00</td>\n",
       "      <td>10</td>\n",
       "      <td>15</td>\n",
       "      <td>0.158265</td>\n",
       "      <td>0.056878</td>\n",
       "      <td>0.081968</td>\n",
       "      <td>0.560005</td>\n",
       "    </tr>\n",
       "    <tr>\n",
       "      <th>53</th>\n",
       "      <td>100</td>\n",
       "      <td>0.10</td>\n",
       "      <td>30</td>\n",
       "      <td>15</td>\n",
       "      <td>0.158265</td>\n",
       "      <td>0.056236</td>\n",
       "      <td>0.081127</td>\n",
       "      <td>0.559982</td>\n",
       "    </tr>\n",
       "    <tr>\n",
       "      <th>45</th>\n",
       "      <td>100</td>\n",
       "      <td>1.00</td>\n",
       "      <td>50</td>\n",
       "      <td>15</td>\n",
       "      <td>0.155841</td>\n",
       "      <td>0.056002</td>\n",
       "      <td>0.080831</td>\n",
       "      <td>0.559306</td>\n",
       "    </tr>\n",
       "    <tr>\n",
       "      <th>49</th>\n",
       "      <td>100</td>\n",
       "      <td>0.10</td>\n",
       "      <td>10</td>\n",
       "      <td>15</td>\n",
       "      <td>0.159234</td>\n",
       "      <td>0.056657</td>\n",
       "      <td>0.081350</td>\n",
       "      <td>0.559191</td>\n",
       "    </tr>\n",
       "    <tr>\n",
       "      <th>46</th>\n",
       "      <td>100</td>\n",
       "      <td>1.00</td>\n",
       "      <td>50</td>\n",
       "      <td>40</td>\n",
       "      <td>0.155841</td>\n",
       "      <td>0.053499</td>\n",
       "      <td>0.078452</td>\n",
       "      <td>0.559166</td>\n",
       "    </tr>\n",
       "    <tr>\n",
       "      <th>...</th>\n",
       "      <td>...</td>\n",
       "      <td>...</td>\n",
       "      <td>...</td>\n",
       "      <td>...</td>\n",
       "      <td>...</td>\n",
       "      <td>...</td>\n",
       "      <td>...</td>\n",
       "      <td>...</td>\n",
       "    </tr>\n",
       "    <tr>\n",
       "      <th>96</th>\n",
       "      <td>200</td>\n",
       "      <td>0.01</td>\n",
       "      <td>10</td>\n",
       "      <td>1</td>\n",
       "      <td>0.105671</td>\n",
       "      <td>0.039097</td>\n",
       "      <td>0.056663</td>\n",
       "      <td>0.540850</td>\n",
       "    </tr>\n",
       "    <tr>\n",
       "      <th>100</th>\n",
       "      <td>200</td>\n",
       "      <td>0.01</td>\n",
       "      <td>30</td>\n",
       "      <td>1</td>\n",
       "      <td>0.103248</td>\n",
       "      <td>0.037794</td>\n",
       "      <td>0.055045</td>\n",
       "      <td>0.539358</td>\n",
       "    </tr>\n",
       "    <tr>\n",
       "      <th>92</th>\n",
       "      <td>200</td>\n",
       "      <td>0.10</td>\n",
       "      <td>50</td>\n",
       "      <td>1</td>\n",
       "      <td>0.102763</td>\n",
       "      <td>0.037104</td>\n",
       "      <td>0.054335</td>\n",
       "      <td>0.539280</td>\n",
       "    </tr>\n",
       "    <tr>\n",
       "      <th>88</th>\n",
       "      <td>200</td>\n",
       "      <td>0.10</td>\n",
       "      <td>30</td>\n",
       "      <td>1</td>\n",
       "      <td>0.101309</td>\n",
       "      <td>0.037504</td>\n",
       "      <td>0.054455</td>\n",
       "      <td>0.539047</td>\n",
       "    </tr>\n",
       "    <tr>\n",
       "      <th>104</th>\n",
       "      <td>200</td>\n",
       "      <td>0.01</td>\n",
       "      <td>50</td>\n",
       "      <td>1</td>\n",
       "      <td>0.101794</td>\n",
       "      <td>0.037318</td>\n",
       "      <td>0.054309</td>\n",
       "      <td>0.538996</td>\n",
       "    </tr>\n",
       "  </tbody>\n",
       "</table>\n",
       "<p>108 rows × 8 columns</p>\n",
       "</div>"
      ],
      "text/plain": [
       "     Factors  Regularization  Iteration  alpha       P@K     MAP@K    NDCG@K  \\\n",
       "37       100            1.00         10     15  0.158265  0.056878  0.081968   \n",
       "53       100            0.10         30     15  0.158265  0.056236  0.081127   \n",
       "45       100            1.00         50     15  0.155841  0.056002  0.080831   \n",
       "49       100            0.10         10     15  0.159234  0.056657  0.081350   \n",
       "46       100            1.00         50     40  0.155841  0.053499  0.078452   \n",
       "..       ...             ...        ...    ...       ...       ...       ...   \n",
       "96       200            0.01         10      1  0.105671  0.039097  0.056663   \n",
       "100      200            0.01         30      1  0.103248  0.037794  0.055045   \n",
       "92       200            0.10         50      1  0.102763  0.037104  0.054335   \n",
       "88       200            0.10         30      1  0.101309  0.037504  0.054455   \n",
       "104      200            0.01         50      1  0.101794  0.037318  0.054309   \n",
       "\n",
       "        AUC@K  \n",
       "37   0.560005  \n",
       "53   0.559982  \n",
       "45   0.559306  \n",
       "49   0.559191  \n",
       "46   0.559166  \n",
       "..        ...  \n",
       "96   0.540850  \n",
       "100  0.539358  \n",
       "92   0.539280  \n",
       "88   0.539047  \n",
       "104  0.538996  \n",
       "\n",
       "[108 rows x 8 columns]"
      ]
     },
     "execution_count": 43,
     "metadata": {},
     "output_type": "execute_result"
    }
   ],
   "source": [
    "grid_results.sort_values(by=['AUC@K', 'P@K'], ascending = False)"
   ]
  },
  {
   "cell_type": "code",
   "execution_count": 18,
   "id": "209b63b3",
   "metadata": {},
   "outputs": [],
   "source": [
    "from implicit.datasets.lastfm import get_lastfm"
   ]
  },
  {
   "cell_type": "code",
   "execution_count": 19,
   "id": "f255a804",
   "metadata": {},
   "outputs": [],
   "source": [
    "artists, users, artist_user_plays = get_lastfm()"
   ]
  },
  {
   "cell_type": "code",
   "execution_count": 56,
   "id": "fe45a8cb",
   "metadata": {},
   "outputs": [],
   "source": [
    "artist_plays = load_npz('user_plays.npz')"
   ]
  },
  {
   "cell_type": "code",
   "execution_count": 80,
   "id": "968302b3",
   "metadata": {},
   "outputs": [],
   "source": [
    "def calc_mean_auc(training_set, altered_users, predictions, test_set):\n",
    "    '''\n",
    "    This function will calculate the mean AUC by user for any user that had their user-item matrix altered. \n",
    "    \n",
    "    parameters:\n",
    "    \n",
    "    training_set - The training set resulting from make_train, where a certain percentage of the original\n",
    "    user/item interactions are reset to zero to hide them from the model \n",
    "    \n",
    "    predictions - The matrix of your predicted ratings for each user/item pair as output from the implicit MF.\n",
    "    These should be stored in a list, with user vectors as item zero and item vectors as item one. \n",
    "    \n",
    "    altered_users - The indices of the users where at least one user/item pair was altered from make_train function\n",
    "    \n",
    "    test_set - The test set constucted earlier from make_train function\n",
    "    \n",
    "    \n",
    "    \n",
    "    returns:\n",
    "    \n",
    "    The mean AUC (area under the Receiver Operator Characteristic curve) of the test set only on user-item interactions\n",
    "    there were originally zero to test ranking ability in addition to the most popular items as a benchmark.\n",
    "    '''\n",
    "    \n",
    "    \n",
    "    store_auc = [] # An empty list to store the AUC for each user that had an item removed from the training set\n",
    "    popularity_auc = [] # To store popular AUC scores\n",
    "    pop_items = np.array(test_set.sum(axis = 0)).reshape(-1) # Get sum of item iteractions to find most popular\n",
    "    item_vecs = predictions[1]\n",
    "    for user in altered_users: # Iterate through each user that had an item altered\n",
    "        training_row = training_set[user,:].toarray().reshape(-1) # Get the training set row\n",
    "        zero_inds = np.where(training_row == 0) # Find where the interaction had not yet occurred\n",
    "        # Get the predicted values based on our user/item vectors\n",
    "        user_vec = predictions[0][user,:]\n",
    "        pred = user_vec.dot(item_vecs).toarray()[0,zero_inds].reshape(-1)\n",
    "        # Get only the items that were originally zero\n",
    "        # Select all ratings from the MF prediction for this user that originally had no iteraction\n",
    "        actual = test_set[user,:].toarray()[0,zero_inds].reshape(-1) \n",
    "        # Select the binarized yes/no interaction pairs from the original full data\n",
    "        # that align with the same pairs in training \n",
    "        pop = pop_items[zero_inds] # Get the item popularity for our chosen items\n",
    "        store_auc.append(auc_score(pred, actual)) # Calculate AUC for the given user and store\n",
    "        popularity_auc.append(auc_score(pop, actual)) # Calculate AUC using most popular and score\n",
    "    # End users iteration\n",
    "    \n",
    "    return float('%.3f'%np.mean(store_auc)), float('%.3f'%np.mean(popularity_auc))  \n",
    "   # Return the mean AUC rounded to three decimal places for both test and popularity benchmark"
   ]
  },
  {
   "cell_type": "code",
   "execution_count": 90,
   "id": "0e0306c1",
   "metadata": {},
   "outputs": [],
   "source": [
    "def make_train(ratings, pct_test = 0.2):\n",
    "    '''\n",
    "    This function will take in the original user-item matrix and \"mask\" a percentage of the original ratings where a\n",
    "    user-item interaction has taken place for use as a test set. The test set will contain all of the original ratings, \n",
    "    while the training set replaces the specified percentage of them with a zero in the original ratings matrix. \n",
    "    \n",
    "    parameters: \n",
    "    \n",
    "    ratings - the original ratings matrix from which you want to generate a train/test set. Test is just a complete\n",
    "    copy of the original set. This is in the form of a sparse csr_matrix. \n",
    "    \n",
    "    pct_test - The percentage of user-item interactions where an interaction took place that you want to mask in the \n",
    "    training set for later comparison to the test set, which contains all of the original ratings. \n",
    "    \n",
    "    returns:\n",
    "    \n",
    "    training_set - The altered version of the original data with a certain percentage of the user-item pairs \n",
    "    that originally had interaction set back to zero.\n",
    "    \n",
    "    test_set - A copy of the original ratings matrix, unaltered, so it can be used to see how the rank order \n",
    "    compares with the actual interactions.\n",
    "    \n",
    "    user_inds - From the randomly selected user-item indices, which user rows were altered in the training data.\n",
    "    This will be necessary later when evaluating the performance via AUC.\n",
    "    '''\n",
    "    test_set = ratings.copy() # Make a copy of the original set to be the test set. \n",
    "    test_set[test_set != 0] = 1 # Store the test set as a binary preference matrix\n",
    "    training_set = ratings.copy() # Make a copy of the original data we can alter as our training set. \n",
    "    nonzero_inds = training_set.nonzero() # Find the indices in the ratings data where an interaction exists\n",
    "    nonzero_pairs = list(zip(nonzero_inds[0], nonzero_inds[1])) # Zip these pairs together of user,item index into list\n",
    "    random.seed(0) # Set the random seed to zero for reproducibility\n",
    "    num_samples = int(np.ceil(pct_test*len(nonzero_pairs))) # Round the number of samples needed to the nearest integer\n",
    "    samples = random.sample(nonzero_pairs, num_samples) # Sample a random number of user-item pairs without replacement\n",
    "    user_inds = [index[0] for index in samples] # Get the user row indices\n",
    "    item_inds = [index[1] for index in samples] # Get the item column indices\n",
    "    training_set[user_inds, item_inds] = 0 # Assign all of the randomly chosen user-item pairs to zero\n",
    "    training_set.eliminate_zeros() # Get rid of zeros in sparse array storage after update to save space\n",
    "    \n",
    "    return training_set, test_set, list(set(user_inds)) # Output the unique list of user rows that were altered  "
   ]
  },
  {
   "cell_type": "code",
   "execution_count": 135,
   "id": "cb2c317f",
   "metadata": {},
   "outputs": [],
   "source": [
    "from sklearn import metrics\n",
    "\n",
    "def auc_score(predictions, test):\n",
    "    '''\n",
    "    This simple function will output the area under the curve using sklearn's metrics. \n",
    "    \n",
    "    parameters:\n",
    "    \n",
    "    - predictions: your prediction output\n",
    "    \n",
    "    - test: the actual target result you are comparing to\n",
    "    \n",
    "    returns:\n",
    "    \n",
    "    - AUC (area under the Receiver Operating Characterisic curve)\n",
    "    '''\n",
    "    fpr, tpr, thresholds = metrics.roc_curve(test, predictions)\n",
    "    return metrics.auc(fpr, tpr) "
   ]
  },
  {
   "cell_type": "code",
   "execution_count": 97,
   "id": "ef503712",
   "metadata": {},
   "outputs": [],
   "source": [
    "import random\n",
    "train, test, altered = make_train(sparse_user_item)"
   ]
  },
  {
   "cell_type": "code",
   "execution_count": 120,
   "id": "2ca2c654",
   "metadata": {},
   "outputs": [],
   "source": [
    "model = implicit.als.AlternatingLeastSquares()"
   ]
  },
  {
   "cell_type": "code",
   "execution_count": 121,
   "id": "ef6b84db",
   "metadata": {},
   "outputs": [
    {
     "data": {
      "application/vnd.jupyter.widget-view+json": {
       "model_id": "bb82d212ec2a43fdac25fc85a2df8c01",
       "version_major": 2,
       "version_minor": 0
      },
      "text/plain": [
       "  0%|          | 0/15 [00:00<?, ?it/s]"
      ]
     },
     "metadata": {},
     "output_type": "display_data"
    }
   ],
   "source": [
    "model.fit(train)"
   ]
  },
  {
   "cell_type": "code",
   "execution_count": 128,
   "id": "ba4f2795",
   "metadata": {},
   "outputs": [],
   "source": [
    "recommends = (model.recommend(altered, sparse_user_item[altered]))"
   ]
  },
  {
   "cell_type": "code",
   "execution_count": 59,
   "id": "e822bdd8",
   "metadata": {},
   "outputs": [
    {
     "ename": "NameError",
     "evalue": "name 'altered' is not defined",
     "output_type": "error",
     "traceback": [
      "\u001b[1;31m---------------------------------------------------------------------------\u001b[0m",
      "\u001b[1;31mNameError\u001b[0m                                 Traceback (most recent call last)",
      "Input \u001b[1;32mIn [59]\u001b[0m, in \u001b[0;36m<module>\u001b[1;34m\u001b[0m\n\u001b[1;32m----> 1\u001b[0m \u001b[43maltered\u001b[49m\n",
      "\u001b[1;31mNameError\u001b[0m: name 'altered' is not defined"
     ]
    }
   ],
   "source": [
    "altered"
   ]
  },
  {
   "cell_type": "code",
   "execution_count": 138,
   "id": "04ede269",
   "metadata": {},
   "outputs": [
    {
     "data": {
      "text/plain": [
       "(0.624, 0.695)"
      ]
     },
     "execution_count": 138,
     "metadata": {},
     "output_type": "execute_result"
    }
   ],
   "source": [
    "calc_mean_auc(train,altered,[csr_matrix(model.user_factors), csr_matrix(model.item_factors.T)], test)"
   ]
  },
  {
   "cell_type": "code",
   "execution_count": 131,
   "id": "c131b404",
   "metadata": {},
   "outputs": [
    {
     "data": {
      "text/plain": [
       "<131x518 sparse matrix of type '<class 'numpy.float64'>'\n",
       "\twith 1464 stored elements in Compressed Sparse Row format>"
      ]
     },
     "execution_count": 131,
     "metadata": {},
     "output_type": "execute_result"
    }
   ],
   "source": [
    "train[altered]"
   ]
  },
  {
   "cell_type": "code",
   "execution_count": 132,
   "id": "80015b1b",
   "metadata": {},
   "outputs": [
    {
     "data": {
      "text/plain": [
       "array([[445, 308, 266, ..., 312, 406, 282],\n",
       "       [135, 247, 288, ..., 158, 365, 209],\n",
       "       [ 27, 346, 297, ..., 485, 279, 334],\n",
       "       ...,\n",
       "       [143, 134, 252, ...,  51, 310,   4],\n",
       "       [ 86, 423, 133, ...,  56, 334, 154],\n",
       "       [307,  83, 423, ..., 364, 341, 129]])"
      ]
     },
     "execution_count": 132,
     "metadata": {},
     "output_type": "execute_result"
    }
   ],
   "source": [
    "recommends[0]"
   ]
  },
  {
   "cell_type": "code",
   "execution_count": null,
   "id": "f9fe4d69",
   "metadata": {},
   "outputs": [],
   "source": []
  }
 ],
 "metadata": {
  "kernelspec": {
   "display_name": "Python 3 (ipykernel)",
   "language": "python",
   "name": "python3"
  },
  "language_info": {
   "codemirror_mode": {
    "name": "ipython",
    "version": 3
   },
   "file_extension": ".py",
   "mimetype": "text/x-python",
   "name": "python",
   "nbconvert_exporter": "python",
   "pygments_lexer": "ipython3",
   "version": "3.9.9"
  }
 },
 "nbformat": 4,
 "nbformat_minor": 5
}
