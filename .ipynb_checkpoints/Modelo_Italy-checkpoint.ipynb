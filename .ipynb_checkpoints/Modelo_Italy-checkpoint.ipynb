{
 "cells": [
  {
   "cell_type": "markdown",
   "id": "c9e1e724",
   "metadata": {},
   "source": [
    "### IMPORT DE BIBLIOTECAS"
   ]
  },
  {
   "cell_type": "code",
   "execution_count": 1,
   "id": "bf50b14b",
   "metadata": {},
   "outputs": [],
   "source": [
    "from collections import defaultdict\n",
    "import pandas as pd\n",
    "import numpy as np\n",
    "import os\n",
    "\n",
    "import implicit\n",
    "from implicit.evaluation import (train_test_split, \n",
    "                                 ndcg_at_k, \n",
    "                                 AUC_at_k,\n",
    "                                 mean_average_precision_at_k, \n",
    "                                 precision_at_k)\n",
    "\n",
    "import recometrics\n",
    "from cmfrec import MostPopular\n",
    "from lightfm import LightFM\n",
    "\n",
    "from scipy.sparse import (csr_matrix, \n",
    "                          save_npz, \n",
    "                          load_npz)\n",
    "import scipy\n",
    "\n",
    "from matplotlib import pyplot as plt\n",
    "import seaborn as sns\n",
    "\n",
    "import pickle\n",
    "from tqdm import tqdm\n",
    "import warnings\n"
   ]
  },
  {
   "cell_type": "code",
   "execution_count": 2,
   "id": "48b0f1c6",
   "metadata": {},
   "outputs": [],
   "source": [
    "warnings.filterwarnings('ignore')"
   ]
  },
  {
   "cell_type": "markdown",
   "id": "6946daa7",
   "metadata": {},
   "source": [
    "### Carregamento de dados de categorias e histórico de clicks"
   ]
  },
  {
   "cell_type": "code",
   "execution_count": 3,
   "id": "f2f631be",
   "metadata": {},
   "outputs": [],
   "source": [
    "df_fr_cat = pd.read_csv(os.getcwd()+'/.csv/new_category_sample.csv') # DataFrame Informativo das categorias"
   ]
  },
  {
   "cell_type": "code",
   "execution_count": 4,
   "id": "466b3c34",
   "metadata": {},
   "outputs": [],
   "source": [
    "clicks_fr = pd.read_csv(os.getcwd()+'/.txt/clicks_fr_sample.txt', sep = ',', header=0) # df de histórico de clicks"
   ]
  },
  {
   "cell_type": "markdown",
   "id": "90be66d9",
   "metadata": {},
   "source": [
    "Valores missing na coluna de OfferTitle que serão excluídos."
   ]
  },
  {
   "cell_type": "code",
   "execution_count": 5,
   "id": "8fa77091",
   "metadata": {},
   "outputs": [],
   "source": [
    "clicks_fr = clicks_fr[clicks_fr.OfferTitle.isna() == False]"
   ]
  },
  {
   "cell_type": "markdown",
   "id": "728a1808",
   "metadata": {},
   "source": [
    "### Conversão das colunas de usuário e oferta em categórica e criando novas colunas com os códigos adotados "
   ]
  },
  {
   "cell_type": "code",
   "execution_count": 6,
   "id": "4a4fc42a",
   "metadata": {},
   "outputs": [],
   "source": [
    "clicks_fr.UserId = clicks_fr.UserId.astype('category')\n",
    "clicks_fr.OfferId = clicks_fr.OfferId.astype('category')"
   ]
  },
  {
   "cell_type": "code",
   "execution_count": 7,
   "id": "958dad9a",
   "metadata": {},
   "outputs": [],
   "source": [
    "clicks_fr['User'] = clicks_fr.UserId.cat.codes\n",
    "clicks_fr['Offer'] = clicks_fr.OfferId.cat.codes"
   ]
  },
  {
   "cell_type": "markdown",
   "id": "fc1a37c5",
   "metadata": {},
   "source": [
    "### CRIAÇÃO DE COLUNA DE CLICKS POR CATEGORIA"
   ]
  },
  {
   "cell_type": "code",
   "execution_count": 8,
   "id": "ad0167a2",
   "metadata": {},
   "outputs": [],
   "source": [
    "clicks_fr.drop(columns = ['Keywords'], axis = 1, inplace=True)  # DROP DAS KEYWORDS\n",
    "\n",
    "#df_fr_cat.rename({'Ancertor_ID':'Ancestor_ID'}, axis = 1, inplace = True) # RENAME DO ANCESTOR_ID\n",
    "\n",
    "#df_fr_cat.drop('Unnamed: 0', axis =1, inplace = True) # Remoção de coluna Unnamed\n",
    "\n",
    "clicks_fr['Cat_clicks'] = clicks_fr.groupby('Category')['OfferId'].transform('count') # Criação de coluna de clicks por categoria"
   ]
  },
  {
   "cell_type": "code",
   "execution_count": 9,
   "id": "58a97890",
   "metadata": {},
   "outputs": [],
   "source": [
    "df_fr_cat = df_fr_cat[df_fr_cat.Country == 'fr'].drop('Country',axis =1)"
   ]
  },
  {
   "cell_type": "markdown",
   "id": "f74043ab",
   "metadata": {},
   "source": [
    "### Merge do Dataframe de categorias com o dataframe de clicks "
   ]
  },
  {
   "cell_type": "code",
   "execution_count": 10,
   "id": "e35c21ba",
   "metadata": {},
   "outputs": [],
   "source": [
    "clicks_fr = clicks_fr.merge(df_fr_cat, on = 'Category')"
   ]
  },
  {
   "cell_type": "markdown",
   "id": "4353c078",
   "metadata": {},
   "source": [
    "### Criação de coluna com o nº total de clicks do usuário e nº total de clicks do produto"
   ]
  },
  {
   "cell_type": "code",
   "execution_count": 11,
   "id": "a2bcc254",
   "metadata": {},
   "outputs": [],
   "source": [
    "clicks_fr['UserTotalClicks'] = clicks_fr.groupby(by=['UserId'])['OfferId'].transform('count')"
   ]
  },
  {
   "cell_type": "code",
   "execution_count": 12,
   "id": "a46594d8",
   "metadata": {},
   "outputs": [],
   "source": [
    "clicks_fr['ProductClicks'] = clicks_fr.groupby(by='OfferId')['UserId'].transform('count')"
   ]
  },
  {
   "cell_type": "code",
   "execution_count": 13,
   "id": "bf013bd9",
   "metadata": {},
   "outputs": [],
   "source": [
    "def set_params():\n",
    "    params = []\n",
    "    for min_product in [20,25, 30, 40, 45, 50]:\n",
    "        for max_product in [0, 1]:\n",
    "            for min_users in [5,7, 9, 11]:\n",
    "                clicks_fr_filtered = clicks_fr[(clicks_fr.ProductClicks > min_product) & (clicks_fr.ProductClicks < (clicks_fr.ProductClicks.mean() + max_product*clicks_fr.ProductClicks.std()))]\n",
    "\n",
    "                clicks_fr_filtered['UserTotalClicks'] = clicks_fr_filtered.groupby(by=['UserId'])['OfferId'].transform('count')\n",
    "                clicks_fr_filtered = clicks_fr_filtered[((clicks_fr_filtered.UserTotalClicks > min_users))]\n",
    "\n",
    "                clicks_fr_filtered.UserId = clicks_fr_filtered.UserId.astype('category')\n",
    "                clicks_fr_filtered.OfferId = clicks_fr_filtered.OfferId.astype('category')\n",
    "\n",
    "\n",
    "                clicks_fr_filtered['User'] = clicks_fr_filtered.UserId.cat.codes\n",
    "                clicks_fr_filtered['Offer'] = clicks_fr_filtered.OfferId.cat.codes\n",
    "\n",
    "                clicks_per_user_product = clicks_fr_filtered.groupby(by=['User','Offer']).count()['UserTotalClicks'].reset_index().rename({'UserTotalClicks':'UserClicks'}, axis = 1)\n",
    "                sparse_user_item = csr_matrix((clicks_per_user_product['UserClicks'], \n",
    "                                               (clicks_per_user_product['User'], \n",
    "                                                clicks_per_user_product['Offer'])))\n",
    "\n",
    "                sparse_user_item = (sparse_user_item).astype('double')\n",
    "                kfold = []\n",
    "                for i in range(3):\n",
    "                    train, test, model = als_model(sparse_user_item)\n",
    "                    kfold.append(implicit.evaluation.precision_at_k(model, train, test))\n",
    "                    precision = np.array(kfold).mean()\n",
    "                params.append([min_product, max_product, min_users, precision])\n",
    "                \n",
    "    full_params = pd.DataFrame(params, columns = ['min_product','max_product', 'min_users', 'precision'])\n",
    "    return full_params"
   ]
  },
  {
   "cell_type": "code",
   "execution_count": null,
   "id": "8b0f91d0",
   "metadata": {
    "scrolled": true
   },
   "outputs": [],
   "source": [
    "#full = set_params()"
   ]
  },
  {
   "cell_type": "code",
   "execution_count": null,
   "id": "bb943f59",
   "metadata": {},
   "outputs": [],
   "source": [
    "full.sort_values(by = 'precision', ascending = False)[:10]"
   ]
  },
  {
   "cell_type": "code",
   "execution_count": 14,
   "id": "6f46edd8",
   "metadata": {},
   "outputs": [],
   "source": [
    "#clicks_fr_filtered.UserId = clicks_fr_filtered.UserId.astype('category')\n",
    "# clicks_fr_filtered.OfferId = clicks_fr_filtered.OfferId.astype('category')\n",
    "\n",
    "\n",
    "# clicks_fr_filtered['User'] = clicks_fr_filtered.UserId.cat.codes\n",
    "# clicks_fr_filtered['Offer'] = clicks_fr_filtered.OfferId.cat.codes#Cap minimo de clicks para integrar o sistema de recomendação\n",
    "clicks_fr_filtered = clicks_fr[(clicks_fr.ProductClicks > 40) & (clicks_fr.ProductClicks < (clicks_fr.ProductClicks.mean() + 0.5*clicks_fr.ProductClicks.std()))]"
   ]
  },
  {
   "cell_type": "code",
   "execution_count": 15,
   "id": "1c548623",
   "metadata": {},
   "outputs": [],
   "source": [
    "clicks_fr_filtered['UserTotalClicks'] = clicks_fr_filtered.groupby(by=['UserId'])['OfferId'].transform('count')\n",
    "clicks_fr_filtered = clicks_fr_filtered[(clicks_fr_filtered.UserTotalClicks > 7)]"
   ]
  },
  {
   "cell_type": "code",
   "execution_count": 16,
   "id": "e9ab8049",
   "metadata": {},
   "outputs": [],
   "source": [
    "clicks_fr_filtered.to_csv('fr_model_sample.csv')"
   ]
  },
  {
   "cell_type": "markdown",
   "id": "764a5213",
   "metadata": {},
   "source": [
    "\n",
    "### Agrupamento de dos clicks de usuário em ofertas únicas para termos a quantidade de cada usuário em cada oferta.\n"
   ]
  },
  {
   "cell_type": "code",
   "execution_count": 17,
   "id": "e028a52e",
   "metadata": {},
   "outputs": [],
   "source": [
    "clicks_per_user_product = clicks_fr_filtered.groupby(by=['User','Offer']).count()['UserTotalClicks'].reset_index().rename({'UserTotalClicks':'UserClicks'}, axis = 1)"
   ]
  },
  {
   "cell_type": "code",
   "execution_count": 18,
   "id": "f61dbed3",
   "metadata": {},
   "outputs": [
    {
     "data": {
      "text/plain": [
       "(788, 1454)"
      ]
     },
     "execution_count": 18,
     "metadata": {},
     "output_type": "execute_result"
    }
   ],
   "source": [
    "len(clicks_per_user_product.User.unique()), len(clicks_per_user_product.Offer.unique())"
   ]
  },
  {
   "cell_type": "markdown",
   "id": "1125ea92",
   "metadata": {},
   "source": [
    "### Criação de matrizes esparsas Usuário-item e item-usuário"
   ]
  },
  {
   "cell_type": "code",
   "execution_count": 19,
   "id": "f3b7008b",
   "metadata": {},
   "outputs": [],
   "source": [
    "alpha = 15\n",
    "sparse_user_item = csr_matrix((clicks_per_user_product['UserClicks'], (clicks_per_user_product['User'], clicks_per_user_product['Offer'])))\n",
    "\n",
    "sparse_user_item = (sparse_user_item).astype('double') # Conversão de tipo para que o modelo ALS funcione corretamente\n",
    "data = (sparse_user_item).astype('double') # Conversão de tipo para que o modelo ALS funcione corretamente"
   ]
  },
  {
   "cell_type": "code",
   "execution_count": 20,
   "id": "b28f4fbf",
   "metadata": {},
   "outputs": [
    {
     "data": {
      "text/plain": [
       "0.9999999608725247"
      ]
     },
     "execution_count": 20,
     "metadata": {},
     "output_type": "execute_result"
    }
   ],
   "source": [
    "#Esparsidade de matriz\n",
    "possible_interactions = sparse_user_item.shape[0]*sparse_user_item.shape[1]\n",
    "interacted = len(sparse_user_item.nonzero()[0])\n",
    "sparsity = 1 - interacted/possible_interactions\n",
    "sparsity"
   ]
  },
  {
   "cell_type": "markdown",
   "id": "5ba45c30",
   "metadata": {},
   "source": [
    " Mais de 99.99% das interações possíveis entre usuários e produtos na atual base dados não foi ainda realizada. Segundo artigo: For collaborative filtering to work, the maximum sparsity you could get away with would probably be about 99.5% or so. Devemos reavaliar a matriz?"
   ]
  },
  {
   "cell_type": "code",
   "execution_count": 21,
   "id": "318d7c63",
   "metadata": {},
   "outputs": [],
   "source": [
    "save_npz(os.getcwd()+\"/.npz/fr/sparse_user_item.npz\", sparse_user_item)"
   ]
  },
  {
   "cell_type": "code",
   "execution_count": 22,
   "id": "6ecdbb1a",
   "metadata": {},
   "outputs": [],
   "source": [
    "model_path = os.getcwd()+'/.pkl/fr/fr_als_model.pkl'"
   ]
  },
  {
   "cell_type": "markdown",
   "id": "a22d4388",
   "metadata": {},
   "source": [
    "* Criação de diferentes matrizes esparsas para operar com o algoritmo. Usuário-item e item-usuário. Cada uma deve ser usada no momento preciso\n",
    "* O alfa é o coeficiente de confiabilidade da interação do usuário com um item específico. Valor utilizado fi adotado com base no artigo: https://towardsdatascience.com/alternating-least-square-for-implicit-dataset-with-code-8e7999277f4b. Mas, podemos testar outros valores na validação do modelo.\n",
    "* Outro artigo de base pra elaboração do modelo: https://medium.com/analytics-vidhya/implementation-of-a-movies-recommender-from-implicit-feedback-6a810de173ac"
   ]
  },
  {
   "cell_type": "markdown",
   "id": "0bfb1f73",
   "metadata": {},
   "source": [
    "# FUNÇÃO DE RECOMENDAÇÕES - IMPLICIT"
   ]
  },
  {
   "cell_type": "markdown",
   "id": "8f8e6e7e",
   "metadata": {},
   "source": [
    "## Treinamento de modelos"
   ]
  },
  {
   "cell_type": "code",
   "execution_count": 23,
   "id": "60a450a6",
   "metadata": {},
   "outputs": [],
   "source": [
    "offers = pickle.load(open(os.getcwd()+\"/.pkl/fr/offers.pkl\", \"rb\"))"
   ]
  },
  {
   "cell_type": "markdown",
   "id": "7c17795f",
   "metadata": {},
   "source": [
    "Carregamentodo dicionário que converte os códigos de ofertas para o seu título de oferta. Ainda falta traduzir do alemão para o inglês para tirar mais significado dos resultados"
   ]
  },
  {
   "cell_type": "code",
   "execution_count": 24,
   "id": "5a5cd163",
   "metadata": {},
   "outputs": [],
   "source": [
    "def als_model(sparse_user_item):\n",
    "    \n",
    "    '''computes p@k and map@k evaluation metrics and saves model'''\n",
    "    \n",
    "    #sparse_item_user = load_npz(os.getcwd()+\"/.npz/sparse_item_user.npz\")\n",
    "      \n",
    "    train, test = implicit.evaluation.train_test_split(sparse_user_item, train_percentage=0.8)\n",
    "\n",
    "    model = implicit.als.AlternatingLeastSquares(factors=10, \n",
    "                                                 regularization=0.1, \n",
    "                                                 iterations=75,\n",
    "                                                 calculate_training_loss=False)\n",
    "    alpha=60\n",
    "    model.fit(train*alpha)\n",
    "\n",
    "    with open(model_path, 'wb') as pickle_out:\n",
    "        pickle.dump(model, pickle_out)\n",
    "    \n",
    "    return train, test, model"
   ]
  },
  {
   "cell_type": "code",
   "execution_count": 25,
   "id": "8e34c850",
   "metadata": {},
   "outputs": [
    {
     "data": {
      "application/vnd.jupyter.widget-view+json": {
       "model_id": "18b44e942a1a4c18af4ee80ab748147b",
       "version_major": 2,
       "version_minor": 0
      },
      "text/plain": [
       "  0%|          | 0/75 [00:00<?, ?it/s]"
      ]
     },
     "metadata": {},
     "output_type": "display_data"
    },
    {
     "data": {
      "application/vnd.jupyter.widget-view+json": {
       "model_id": "7a2ce5d920e440819de60d96dfb4b8b5",
       "version_major": 2,
       "version_minor": 0
      },
      "text/plain": [
       "  0%|          | 0/653 [00:00<?, ?it/s]"
      ]
     },
     "metadata": {},
     "output_type": "display_data"
    },
    {
     "data": {
      "text/plain": [
       "0.15876923076923077"
      ]
     },
     "execution_count": 25,
     "metadata": {},
     "output_type": "execute_result"
    }
   ],
   "source": [
    "train, test, model = als_model(sparse_user_item)\n",
    "implicit.evaluation.precision_at_k(model,train,test)"
   ]
  },
  {
   "cell_type": "code",
   "execution_count": 138,
   "id": "21ca3c6b",
   "metadata": {},
   "outputs": [
    {
     "data": {
      "text/plain": [
       "0.07713675213675197"
      ]
     },
     "execution_count": 138,
     "metadata": {},
     "output_type": "execute_result"
    }
   ],
   "source": [
    "baseline_precision_at_k(sparse_user_item.T.tocsr())"
   ]
  },
  {
   "cell_type": "markdown",
   "id": "e3107c07",
   "metadata": {},
   "source": [
    "### Avaliação do modelo"
   ]
  },
  {
   "cell_type": "code",
   "execution_count": 26,
   "id": "49ce7fb6",
   "metadata": {},
   "outputs": [],
   "source": [
    "def model_evaluation(train, test, model, k=10): \n",
    "    \n",
    "    '''Avaliação do modelo treinado com as funções da biblioteca Implicit.\n",
    "    Retorna dicionário com p@k, map@k, ndcg@k e auc@k.'''\n",
    "\n",
    "    \n",
    "    p_at_k = implicit.evaluation.precision_at_k(model, train_user_items=train, \n",
    "                                                test_user_items=test,\n",
    "                                                K=k, \n",
    "                                                show_progress = False)\n",
    "    \n",
    "    m_at_k = implicit.evaluation.mean_average_precision_at_k(model, \n",
    "                                                             train_user_items = train, \n",
    "                                                             test_user_items = test, \n",
    "                                                             K=k, \n",
    "                                                             show_progress = False)\n",
    "\n",
    "    ndcg_at_k = implicit.evaluation.ndcg_at_k(model, \n",
    "                                              train_user_items = train,\n",
    "                                              test_user_items = test, \n",
    "                                              K=k, \n",
    "                                              show_progress = False)\n",
    "\n",
    "    auc_at_k = implicit.evaluation.AUC_at_k(model, \n",
    "                                            train_user_items = train, \n",
    "                                            test_user_items = test, \n",
    "                                            K=k, \n",
    "                                            show_progress = False)\n",
    "    metrics = {'p@K':p_at_k, \n",
    "               'map@K': m_at_k, \n",
    "               'ndcg@K':ndcg_at_k, \n",
    "               'auc@K':auc_at_k}\n",
    "    \n",
    "    return metrics"
   ]
  },
  {
   "cell_type": "code",
   "execution_count": 27,
   "id": "a325e50a",
   "metadata": {},
   "outputs": [
    {
     "data": {
      "text/plain": [
       "{'p@K': 0.15876923076923077,\n",
       " 'map@K': 0.052084692691097216,\n",
       " 'ndcg@K': 0.0944138268820112,\n",
       " 'auc@K': 0.5809906988178057}"
      ]
     },
     "execution_count": 27,
     "metadata": {},
     "output_type": "execute_result"
    }
   ],
   "source": [
    "metrics = model_evaluation(train, test, model, k=10)\n",
    "metrics"
   ]
  },
  {
   "cell_type": "markdown",
   "id": "28396c91",
   "metadata": {},
   "source": [
    "## Avaliação Recometrics"
   ]
  },
  {
   "cell_type": "code",
   "execution_count": 28,
   "id": "c00bbaae",
   "metadata": {},
   "outputs": [],
   "source": [
    "X_train, X_test, users_test = \\\n",
    "    recometrics.split_reco_train_test(\n",
    "        sparse_user_item, split_type=\"joined\",\n",
    "        users_test_fraction = None,\n",
    "        max_test_users = 10000,\n",
    "        items_test_fraction = 0.3\n",
    "    )"
   ]
  },
  {
   "cell_type": "code",
   "execution_count": 29,
   "id": "127aa092",
   "metadata": {},
   "outputs": [
    {
     "data": {
      "text/plain": [
       "array([0.0000000e+00, 0.0000000e+00, 0.0000000e+00, ..., 0.0000000e+00,\n",
       "       0.0000000e+00, 3.5333572e-05])"
      ]
     },
     "execution_count": 29,
     "metadata": {},
     "output_type": "execute_result"
    }
   ],
   "source": [
    "### Random recommendations (random latent factors)\n",
    "rng = np.random.default_rng(seed=1)\n",
    "UserFactors_random = rng.standard_normal(size=(X_test.shape[0], 5))\n",
    "ItemFactors_random = rng.standard_normal(size=(X_test.shape[1], 5))\n",
    "\n",
    "### Non-personalized recommendations\n",
    "model_baseline = MostPopular(implicit=True, user_bias=False).fit(X_train.tocoo())\n",
    "item_biases = model_baseline.item_bias_\n",
    "item_biases"
   ]
  },
  {
   "cell_type": "code",
   "execution_count": 35,
   "id": "446edf40",
   "metadata": {},
   "outputs": [
    {
     "data": {
      "application/vnd.jupyter.widget-view+json": {
       "model_id": "4edba397e73b4026a8f05d376002fcd0",
       "version_major": 2,
       "version_minor": 0
      },
      "text/plain": [
       "  0%|          | 0/75 [00:00<?, ?it/s]"
      ]
     },
     "metadata": {},
     "output_type": "display_data"
    },
    {
     "data": {
      "text/plain": [
       "<lightfm.lightfm.LightFM at 0x7f284a4ba460>"
      ]
     },
     "execution_count": 35,
     "metadata": {},
     "output_type": "execute_result"
    }
   ],
   "source": [
    "### Fitting WRMF model\n",
    "wrmf = implicit.als.AlternatingLeastSquares(factors=10, regularization=0.1, iterations = 75, random_state=123)\n",
    "wrmf.fit(X_train*60)\n",
    "\n",
    "### Fitting BPR model with WARP loss\n",
    "bpr_warp = LightFM(no_components=50, loss=\"warp\", random_state=123)\n",
    "bpr_warp.fit((X_train*60).tocoo())"
   ]
  },
  {
   "cell_type": "code",
   "execution_count": 43,
   "id": "35dd8db4",
   "metadata": {},
   "outputs": [],
   "source": [
    "k = 5 ## Top-K recommendations to evaluate\n",
    "\n",
    "metrics_random = recometrics.calc_reco_metrics(\n",
    "    X_train[:X_test.shape[0]], X_test,\n",
    "    UserFactors_random, ItemFactors_random,\n",
    "    k=k, all_metrics=True\n",
    ")\n",
    "\n",
    "metrics_baseline = recometrics.calc_reco_metrics(\n",
    "    X_train[:X_test.shape[0]], X_test,\n",
    "    None, None, item_biases=item_biases,\n",
    "    k=k, all_metrics=True\n",
    ")\n",
    "\n",
    "metrics_wrmf = recometrics.calc_reco_metrics(\n",
    "    X_train[:X_test.shape[0]], X_test,\n",
    "    wrmf.user_factors[:X_test.shape[0]], wrmf.item_factors,\n",
    "    k=k, all_metrics=True\n",
    ")\n",
    "\n",
    "metrics_bpr_warp = recometrics.calc_reco_metrics(\n",
    "    X_train[:X_test.shape[0]], X_test,\n",
    "    bpr_warp.user_embeddings[:X_test.shape[0]], bpr_warp.item_embeddings,\n",
    "    item_biases=bpr_warp.item_biases,\n",
    "    k=k, all_metrics=True\n",
    ")"
   ]
  },
  {
   "cell_type": "code",
   "execution_count": 44,
   "id": "d67631d8",
   "metadata": {},
   "outputs": [
    {
     "data": {
      "text/html": [
       "<div>\n",
       "<style scoped>\n",
       "    .dataframe tbody tr th:only-of-type {\n",
       "        vertical-align: middle;\n",
       "    }\n",
       "\n",
       "    .dataframe tbody tr th {\n",
       "        vertical-align: top;\n",
       "    }\n",
       "\n",
       "    .dataframe thead th {\n",
       "        text-align: right;\n",
       "    }\n",
       "</style>\n",
       "<table border=\"1\" class=\"dataframe\">\n",
       "  <thead>\n",
       "    <tr style=\"text-align: right;\">\n",
       "      <th></th>\n",
       "      <th>P@5</th>\n",
       "      <th>TP@5</th>\n",
       "      <th>R@5</th>\n",
       "      <th>AP@5</th>\n",
       "      <th>TAP@5</th>\n",
       "      <th>NDCG@5</th>\n",
       "      <th>Hit@5</th>\n",
       "      <th>RR@5</th>\n",
       "      <th>ROC_AUC</th>\n",
       "      <th>PR_AUC</th>\n",
       "    </tr>\n",
       "  </thead>\n",
       "  <tbody>\n",
       "    <tr>\n",
       "      <th>Random</th>\n",
       "      <td>0.000000</td>\n",
       "      <td>0.000000</td>\n",
       "      <td>0.000000</td>\n",
       "      <td>0.000000</td>\n",
       "      <td>0.000000</td>\n",
       "      <td>0.000000</td>\n",
       "      <td>0.000000</td>\n",
       "      <td>0.000000</td>\n",
       "      <td>0.504914</td>\n",
       "      <td>0.000045</td>\n",
       "    </tr>\n",
       "    <tr>\n",
       "      <th>Non-personalized</th>\n",
       "      <td>0.010236</td>\n",
       "      <td>0.015376</td>\n",
       "      <td>0.014849</td>\n",
       "      <td>0.005273</td>\n",
       "      <td>0.005435</td>\n",
       "      <td>0.011350</td>\n",
       "      <td>0.048556</td>\n",
       "      <td>0.017367</td>\n",
       "      <td>0.962788</td>\n",
       "      <td>0.017306</td>\n",
       "    </tr>\n",
       "    <tr>\n",
       "      <th>WRMF (a.k.a. iALS)</th>\n",
       "      <td>0.055381</td>\n",
       "      <td>0.095429</td>\n",
       "      <td>0.093407</td>\n",
       "      <td>0.051506</td>\n",
       "      <td>0.052581</td>\n",
       "      <td>0.079411</td>\n",
       "      <td>0.236220</td>\n",
       "      <td>0.126422</td>\n",
       "      <td>0.904198</td>\n",
       "      <td>0.095503</td>\n",
       "    </tr>\n",
       "    <tr>\n",
       "      <th>BPR-WARP</th>\n",
       "      <td>0.012073</td>\n",
       "      <td>0.018263</td>\n",
       "      <td>0.017682</td>\n",
       "      <td>0.008142</td>\n",
       "      <td>0.008462</td>\n",
       "      <td>0.015450</td>\n",
       "      <td>0.057743</td>\n",
       "      <td>0.027625</td>\n",
       "      <td>0.963917</td>\n",
       "      <td>0.022720</td>\n",
       "    </tr>\n",
       "  </tbody>\n",
       "</table>\n",
       "</div>"
      ],
      "text/plain": [
       "                         P@5      TP@5       R@5      AP@5     TAP@5  \\\n",
       "Random              0.000000  0.000000  0.000000  0.000000  0.000000   \n",
       "Non-personalized    0.010236  0.015376  0.014849  0.005273  0.005435   \n",
       "WRMF (a.k.a. iALS)  0.055381  0.095429  0.093407  0.051506  0.052581   \n",
       "BPR-WARP            0.012073  0.018263  0.017682  0.008142  0.008462   \n",
       "\n",
       "                      NDCG@5     Hit@5      RR@5   ROC_AUC    PR_AUC  \n",
       "Random              0.000000  0.000000  0.000000  0.504914  0.000045  \n",
       "Non-personalized    0.011350  0.048556  0.017367  0.962788  0.017306  \n",
       "WRMF (a.k.a. iALS)  0.079411  0.236220  0.126422  0.904198  0.095503  \n",
       "BPR-WARP            0.015450  0.057743  0.027625  0.963917  0.022720  "
      ]
     },
     "execution_count": 44,
     "metadata": {},
     "output_type": "execute_result"
    }
   ],
   "source": [
    "all_metrics = [\n",
    "    metrics_random,\n",
    "    metrics_baseline,\n",
    "    metrics_wrmf,\n",
    "    metrics_bpr_warp\n",
    "]\n",
    "all_metrics = pd.concat([m.mean(axis=0).to_frame().T for m in all_metrics], axis=0)\n",
    "all_metrics.index = [\n",
    "    \"Random\",\n",
    "    \"Non-personalized\",\n",
    "    \"WRMF (a.k.a. iALS)\",\n",
    "    \"BPR-WARP\"\n",
    "]\n",
    "all_metrics"
   ]
  },
  {
   "cell_type": "code",
   "execution_count": 45,
   "id": "1e177db6",
   "metadata": {},
   "outputs": [],
   "source": [
    "all_metrics.to_csv('.csv/fr/fr_all_metrics_5.csv')"
   ]
  },
  {
   "cell_type": "code",
   "execution_count": null,
   "id": "8c37ea2c",
   "metadata": {},
   "outputs": [],
   "source": [
    "all_metrics"
   ]
  },
  {
   "cell_type": "markdown",
   "id": "d7047e93",
   "metadata": {},
   "source": [
    "Fonte: https://nb.recohut.com/implicit/music/evaluation/2021/07/13/evaluation-recometrics-lightfm.html"
   ]
  },
  {
   "cell_type": "markdown",
   "id": "2edbfacf",
   "metadata": {},
   "source": [
    "* Sobre metricas de precisão @k: https://medium.com/@m_n_malaeb/recall-and-precision-at-k-for-recommender-systems-618483226c54\n",
    "* Sobre NDCG: https://towardsdatascience.com/evaluate-your-recommendation-engine-using-ndcg-759a851452d1\n",
    "* Sobre Mean Average Precision: https://towardsdatascience.com/breaking-down-mean-average-precision-map-ae462f623a52"
   ]
  },
  {
   "cell_type": "markdown",
   "id": "2509f9a7",
   "metadata": {},
   "source": [
    "Ainda não foi realizada qualquer tunagem de hiperaparâmetros. Podemos pegar alguns valores de referencia para rodar um gridsearch"
   ]
  },
  {
   "cell_type": "markdown",
   "id": "c3ed7264",
   "metadata": {},
   "source": [
    "## Funções de recomendações"
   ]
  },
  {
   "cell_type": "code",
   "execution_count": 143,
   "id": "07f8a50a",
   "metadata": {
    "scrolled": true
   },
   "outputs": [],
   "source": [
    "def recommend(user, K=10):\n",
    "    \n",
    "    ''' Retorna uma lista de itens recomendados para o usuário dado de acordo com a biblioteca Implicit.\n",
    "        Também é retornado uma lista com os itens já clicados por esse usuário'''\n",
    "    \n",
    "    #sparse_user_item = load_npz(\"/.npz/sparse_user_item.npz\")\n",
    "    \n",
    "    with open(model_path, 'rb') as pickle_in:\n",
    "        model = pickle.load(pickle_in)\n",
    "    \n",
    "    if user not in sparse_user_item.T.tocsr().indices:\n",
    "        return \"Invalid User\"\n",
    "        \n",
    "    recommended, scores = (model.recommend(user, sparse_user_item[user], K))\n",
    "\n",
    "    original_user_items = list(sparse_user_item[user].indices)\n",
    "\n",
    "    return recommended, original_user_items"
   ]
  },
  {
   "cell_type": "markdown",
   "id": "1a394d29",
   "metadata": {},
   "source": [
    "* A matriz m passa a ser a matriz com o novo usuário atualizado e é levada em consideração no para o cálculo de novos vetores."
   ]
  },
  {
   "cell_type": "markdown",
   "id": "9bfeb1b6",
   "metadata": {},
   "source": [
    "Nota: \n",
    "* Após os ajustes na organização das matrizes esparsas, o modelo parece não mais repetir recomendações de itens que já foram clicados pelo usuário\n",
    "* O modelo parece também não mais necessitar de tradução dos códigos de ofertas e usuário adotados na matriz esparsa para os códigos da matriz original"
   ]
  },
  {
   "cell_type": "markdown",
   "id": "390c410c",
   "metadata": {},
   "source": [
    "### Criação e armazenamento do dicionário código-titulo de oferta (carregado na parte de cima do código)."
   ]
  },
  {
   "cell_type": "code",
   "execution_count": 186,
   "id": "62be1a96",
   "metadata": {},
   "outputs": [],
   "source": [
    "df_temp = clicks_fr[['Offer','OfferTitle']]"
   ]
  },
  {
   "cell_type": "code",
   "execution_count": 187,
   "id": "4fc09b69",
   "metadata": {},
   "outputs": [],
   "source": [
    "df_temp = df_temp.drop_duplicates(['Offer','OfferTitle'])"
   ]
  },
  {
   "cell_type": "code",
   "execution_count": 191,
   "id": "1647fdc0",
   "metadata": {},
   "outputs": [],
   "source": [
    "offers = dict(zip(df_temp['Offer'], df_temp['OfferTitle']))"
   ]
  },
  {
   "cell_type": "code",
   "execution_count": 192,
   "id": "dd3472e5",
   "metadata": {},
   "outputs": [],
   "source": [
    "#dic = pd.read_csv('de_traduzido.csv')\n",
    "#dic['Offer2'] = dic['OfferTitle'].map(dict(zip(clicks_fr.OfferTitle, clicks_fr.Offer)))"
   ]
  },
  {
   "cell_type": "code",
   "execution_count": 193,
   "id": "e61e1b33",
   "metadata": {},
   "outputs": [],
   "source": [
    "pickle.dump(offers, open('.pkl/fr/offers.pkl', 'wb'))"
   ]
  },
  {
   "cell_type": "markdown",
   "id": "1ab85112",
   "metadata": {},
   "source": [
    "### Criação e armazenamento do dicionário código_oferta -> Filha_1 e código_oferta -> Categoria (carregado na parte de cima do código)."
   ]
  },
  {
   "cell_type": "code",
   "execution_count": 194,
   "id": "b7e15e24",
   "metadata": {},
   "outputs": [],
   "source": [
    "clicks_fr.filha_1 = clicks_fr.filha_1.astype('int32')"
   ]
  },
  {
   "cell_type": "code",
   "execution_count": 195,
   "id": "0eaa7501",
   "metadata": {},
   "outputs": [],
   "source": [
    "df_temp = clicks_fr[['Offer','filha_1', 'Category']]"
   ]
  },
  {
   "cell_type": "code",
   "execution_count": 196,
   "id": "c39152c3",
   "metadata": {},
   "outputs": [],
   "source": [
    "df_temp = df_temp.drop_duplicates(['Offer','filha_1', 'Category'])"
   ]
  },
  {
   "cell_type": "code",
   "execution_count": 201,
   "id": "4deac0cf",
   "metadata": {},
   "outputs": [],
   "source": [
    "offer_filha1 = dict(zip(df_temp['Offer'], df_temp['filha_1']))\n",
    "pickle.dump(offer_filha1, open('.pkl/fr/offer_sub1.pkl', 'wb'))"
   ]
  },
  {
   "cell_type": "code",
   "execution_count": 202,
   "id": "ed9811f1",
   "metadata": {},
   "outputs": [],
   "source": [
    "offer_cat = dict(zip(df_temp['Offer'], df_temp['Category']))\n",
    "pickle.dump(offer_cat, open('.pkl/fr/offer_cat.pkl', 'wb'))"
   ]
  },
  {
   "cell_type": "markdown",
   "id": "2661b42a",
   "metadata": {},
   "source": [
    "### Tabela de info dos produtos"
   ]
  },
  {
   "cell_type": "code",
   "execution_count": 203,
   "id": "fd501062",
   "metadata": {},
   "outputs": [],
   "source": [
    "products_info = clicks_fr[['Offer','Category','filha_1', 'ProductClicks']]"
   ]
  },
  {
   "cell_type": "code",
   "execution_count": 204,
   "id": "a8b2afe9",
   "metadata": {},
   "outputs": [],
   "source": [
    "products_info.filha_1 = products_info.filha_1.astype('int32')"
   ]
  },
  {
   "cell_type": "code",
   "execution_count": 205,
   "id": "057210fb",
   "metadata": {},
   "outputs": [],
   "source": [
    "products_info = products_info.drop_duplicates().reset_index().drop('index', axis = 1)"
   ]
  },
  {
   "cell_type": "code",
   "execution_count": 206,
   "id": "0938578a",
   "metadata": {},
   "outputs": [],
   "source": [
    "products_info.rename({'filha_1':'SuperCat'}, axis = 1, inplace = True)"
   ]
  },
  {
   "cell_type": "code",
   "execution_count": 207,
   "id": "1f78e449",
   "metadata": {
    "scrolled": true
   },
   "outputs": [],
   "source": [
    "products_info.sort_values(by=['SuperCat','ProductClicks'], ascending = False, inplace = True)"
   ]
  },
  {
   "cell_type": "code",
   "execution_count": 222,
   "id": "49a2f852",
   "metadata": {},
   "outputs": [],
   "source": [
    "products_info.to_csv('.csv/fr/products_info.csv')"
   ]
  },
  {
   "cell_type": "code",
   "execution_count": 209,
   "id": "4e30d460",
   "metadata": {},
   "outputs": [
    {
     "data": {
      "text/html": [
       "<div>\n",
       "<style scoped>\n",
       "    .dataframe tbody tr th:only-of-type {\n",
       "        vertical-align: middle;\n",
       "    }\n",
       "\n",
       "    .dataframe tbody tr th {\n",
       "        vertical-align: top;\n",
       "    }\n",
       "\n",
       "    .dataframe thead th {\n",
       "        text-align: right;\n",
       "    }\n",
       "</style>\n",
       "<table border=\"1\" class=\"dataframe\">\n",
       "  <thead>\n",
       "    <tr style=\"text-align: right;\">\n",
       "      <th></th>\n",
       "      <th>Offer</th>\n",
       "      <th>Category</th>\n",
       "      <th>SuperCat</th>\n",
       "      <th>ProductClicks</th>\n",
       "    </tr>\n",
       "  </thead>\n",
       "  <tbody>\n",
       "    <tr>\n",
       "      <th>119765</th>\n",
       "      <td>197556</td>\n",
       "      <td>100513123</td>\n",
       "      <td>100450123</td>\n",
       "      <td>406</td>\n",
       "    </tr>\n",
       "    <tr>\n",
       "      <th>305519</th>\n",
       "      <td>44911</td>\n",
       "      <td>100508723</td>\n",
       "      <td>100450123</td>\n",
       "      <td>391</td>\n",
       "    </tr>\n",
       "    <tr>\n",
       "      <th>127018</th>\n",
       "      <td>45255</td>\n",
       "      <td>100334923</td>\n",
       "      <td>100450123</td>\n",
       "      <td>373</td>\n",
       "    </tr>\n",
       "    <tr>\n",
       "      <th>126916</th>\n",
       "      <td>70579</td>\n",
       "      <td>100334923</td>\n",
       "      <td>100450123</td>\n",
       "      <td>333</td>\n",
       "    </tr>\n",
       "    <tr>\n",
       "      <th>238397</th>\n",
       "      <td>225605</td>\n",
       "      <td>100450223</td>\n",
       "      <td>100450123</td>\n",
       "      <td>284</td>\n",
       "    </tr>\n",
       "  </tbody>\n",
       "</table>\n",
       "</div>"
      ],
      "text/plain": [
       "         Offer   Category   SuperCat  ProductClicks\n",
       "119765  197556  100513123  100450123            406\n",
       "305519   44911  100508723  100450123            391\n",
       "127018   45255  100334923  100450123            373\n",
       "126916   70579  100334923  100450123            333\n",
       "238397  225605  100450223  100450123            284"
      ]
     },
     "execution_count": 209,
     "metadata": {},
     "output_type": "execute_result"
    }
   ],
   "source": [
    "products_info.head()"
   ]
  },
  {
   "cell_type": "markdown",
   "id": "b88d9dce",
   "metadata": {},
   "source": [
    "### Dicionário Nome Sub1"
   ]
  },
  {
   "cell_type": "code",
   "execution_count": 211,
   "id": "a43cfd8a",
   "metadata": {},
   "outputs": [],
   "source": [
    "df = clicks_fr[['filha_1','filha_1_name']].drop_duplicates()\n",
    "sub1_name = dict(zip(df.filha_1, df.filha_1_name))\n",
    "pickle.dump(sub1_name, open('.pkl/fr/sub1_name.pkl', 'wb'))"
   ]
  },
  {
   "cell_type": "markdown",
   "id": "3c0b00ad",
   "metadata": {},
   "source": [
    "### Dicionário Nome Cat"
   ]
  },
  {
   "cell_type": "code",
   "execution_count": 213,
   "id": "68d12d56",
   "metadata": {},
   "outputs": [],
   "source": [
    "df = clicks_fr[['Category','Translate']].drop_duplicates()\n",
    "cat_name = dict(zip(df.Category, df.Translate))\n",
    "pickle.dump(cat_name, open('.pkl/fr/cat_name.pkl', 'wb'))\n"
   ]
  },
  {
   "cell_type": "markdown",
   "id": "efac73df",
   "metadata": {},
   "source": [
    "## Tunagem de hiperparametros"
   ]
  },
  {
   "cell_type": "code",
   "execution_count": 223,
   "id": "fecae20a",
   "metadata": {},
   "outputs": [],
   "source": [
    "grid = {'factors': [10,50,75,100],\n",
    "       'regularization':[0.1, 0.01],\n",
    "        'iterations':[50, 75, 100], \n",
    "        'alphas':[40,60,80]}"
   ]
  },
  {
   "cell_type": "code",
   "execution_count": 224,
   "id": "42748382",
   "metadata": {},
   "outputs": [],
   "source": [
    "model = implicit.als.AlternatingLeastSquares()"
   ]
  },
  {
   "cell_type": "code",
   "execution_count": 225,
   "id": "69812110",
   "metadata": {},
   "outputs": [],
   "source": [
    "def gridsearch_als(grid):\n",
    "    results = []\n",
    "    for factor in grid['factors']:\n",
    "        for regularization in grid['regularization']:\n",
    "            for iteration in grid['iterations']:\n",
    "                for alpha in grid['alphas']:\n",
    "            \n",
    "                    model = implicit.als.AlternatingLeastSquares(factors = factor, \n",
    "                                                                 regularization = regularization, \n",
    "                                                                 iterations = iteration)\n",
    "                    model.fit(train*alpha)\n",
    "\n",
    "                    partial = model_evaluation(train, test, model, )\n",
    "                    results.append([factor, regularization, iteration, alpha, partial['p@K'],partial['map@K'], partial['ndcg@K'], partial['auc@K']])\n",
    "                \n",
    "    final = pd.DataFrame(results, columns = ['Factors','Regularization','Iteration','alpha','P@K','MAP@K','NDCG@K','AUC@K'])\n",
    "    return final\n",
    "                "
   ]
  },
  {
   "cell_type": "code",
   "execution_count": null,
   "id": "fe4dbaaa",
   "metadata": {
    "scrolled": true
   },
   "outputs": [
    {
     "data": {
      "application/vnd.jupyter.widget-view+json": {
       "model_id": "53f42639915f48fd9c745e744b4538a4",
       "version_major": 2,
       "version_minor": 0
      },
      "text/plain": [
       "  0%|          | 0/50 [00:00<?, ?it/s]"
      ]
     },
     "metadata": {},
     "output_type": "display_data"
    },
    {
     "data": {
      "application/vnd.jupyter.widget-view+json": {
       "model_id": "f6096dedc579460ea84e580687fa8f82",
       "version_major": 2,
       "version_minor": 0
      },
      "text/plain": [
       "  0%|          | 0/50 [00:00<?, ?it/s]"
      ]
     },
     "metadata": {},
     "output_type": "display_data"
    },
    {
     "data": {
      "application/vnd.jupyter.widget-view+json": {
       "model_id": "fc7022d662cd4bc6af64ac295ba10c11",
       "version_major": 2,
       "version_minor": 0
      },
      "text/plain": [
       "  0%|          | 0/50 [00:00<?, ?it/s]"
      ]
     },
     "metadata": {},
     "output_type": "display_data"
    },
    {
     "data": {
      "application/vnd.jupyter.widget-view+json": {
       "model_id": "843e4fa17a684b8cb7981827e81a44fb",
       "version_major": 2,
       "version_minor": 0
      },
      "text/plain": [
       "  0%|          | 0/75 [00:00<?, ?it/s]"
      ]
     },
     "metadata": {},
     "output_type": "display_data"
    },
    {
     "data": {
      "application/vnd.jupyter.widget-view+json": {
       "model_id": "02e7ad00b70b4b8f9749c70954f16743",
       "version_major": 2,
       "version_minor": 0
      },
      "text/plain": [
       "  0%|          | 0/75 [00:00<?, ?it/s]"
      ]
     },
     "metadata": {},
     "output_type": "display_data"
    },
    {
     "data": {
      "application/vnd.jupyter.widget-view+json": {
       "model_id": "eb5cc3b3b916492690db881dc3eab6af",
       "version_major": 2,
       "version_minor": 0
      },
      "text/plain": [
       "  0%|          | 0/75 [00:00<?, ?it/s]"
      ]
     },
     "metadata": {},
     "output_type": "display_data"
    },
    {
     "data": {
      "application/vnd.jupyter.widget-view+json": {
       "model_id": "dc50273367434a4e8c45295747e837c7",
       "version_major": 2,
       "version_minor": 0
      },
      "text/plain": [
       "  0%|          | 0/100 [00:00<?, ?it/s]"
      ]
     },
     "metadata": {},
     "output_type": "display_data"
    },
    {
     "data": {
      "application/vnd.jupyter.widget-view+json": {
       "model_id": "c28b84a9edd8430faf0e334c1edf62c0",
       "version_major": 2,
       "version_minor": 0
      },
      "text/plain": [
       "  0%|          | 0/100 [00:00<?, ?it/s]"
      ]
     },
     "metadata": {},
     "output_type": "display_data"
    },
    {
     "data": {
      "application/vnd.jupyter.widget-view+json": {
       "model_id": "d12ff22e55cf4c2b84c50c1c37b44f97",
       "version_major": 2,
       "version_minor": 0
      },
      "text/plain": [
       "  0%|          | 0/100 [00:00<?, ?it/s]"
      ]
     },
     "metadata": {},
     "output_type": "display_data"
    },
    {
     "data": {
      "application/vnd.jupyter.widget-view+json": {
       "model_id": "bd49092bf7b14de4aa4f3537cd439498",
       "version_major": 2,
       "version_minor": 0
      },
      "text/plain": [
       "  0%|          | 0/50 [00:00<?, ?it/s]"
      ]
     },
     "metadata": {},
     "output_type": "display_data"
    },
    {
     "data": {
      "application/vnd.jupyter.widget-view+json": {
       "model_id": "e92094b90af64e7eaba91b8dea53992d",
       "version_major": 2,
       "version_minor": 0
      },
      "text/plain": [
       "  0%|          | 0/50 [00:00<?, ?it/s]"
      ]
     },
     "metadata": {},
     "output_type": "display_data"
    },
    {
     "data": {
      "application/vnd.jupyter.widget-view+json": {
       "model_id": "3327994e3378406dbe318358d0ea930d",
       "version_major": 2,
       "version_minor": 0
      },
      "text/plain": [
       "  0%|          | 0/50 [00:00<?, ?it/s]"
      ]
     },
     "metadata": {},
     "output_type": "display_data"
    },
    {
     "data": {
      "application/vnd.jupyter.widget-view+json": {
       "model_id": "024806f06df4417181de37c0f7566650",
       "version_major": 2,
       "version_minor": 0
      },
      "text/plain": [
       "  0%|          | 0/75 [00:00<?, ?it/s]"
      ]
     },
     "metadata": {},
     "output_type": "display_data"
    },
    {
     "data": {
      "application/vnd.jupyter.widget-view+json": {
       "model_id": "d2cd0e487f9e42a6893e6ccb1e7fc79d",
       "version_major": 2,
       "version_minor": 0
      },
      "text/plain": [
       "  0%|          | 0/75 [00:00<?, ?it/s]"
      ]
     },
     "metadata": {},
     "output_type": "display_data"
    },
    {
     "data": {
      "application/vnd.jupyter.widget-view+json": {
       "model_id": "48b41eee8e004b81bdc0aacbedd981c1",
       "version_major": 2,
       "version_minor": 0
      },
      "text/plain": [
       "  0%|          | 0/75 [00:00<?, ?it/s]"
      ]
     },
     "metadata": {},
     "output_type": "display_data"
    },
    {
     "data": {
      "application/vnd.jupyter.widget-view+json": {
       "model_id": "80ea9b6866734448a08e6f046b532b75",
       "version_major": 2,
       "version_minor": 0
      },
      "text/plain": [
       "  0%|          | 0/100 [00:00<?, ?it/s]"
      ]
     },
     "metadata": {},
     "output_type": "display_data"
    },
    {
     "data": {
      "application/vnd.jupyter.widget-view+json": {
       "model_id": "b7a144352db2459f9919b9b9991792ec",
       "version_major": 2,
       "version_minor": 0
      },
      "text/plain": [
       "  0%|          | 0/100 [00:00<?, ?it/s]"
      ]
     },
     "metadata": {},
     "output_type": "display_data"
    },
    {
     "data": {
      "application/vnd.jupyter.widget-view+json": {
       "model_id": "0d11ad7d9df546d0b66546667a9eafb4",
       "version_major": 2,
       "version_minor": 0
      },
      "text/plain": [
       "  0%|          | 0/100 [00:00<?, ?it/s]"
      ]
     },
     "metadata": {},
     "output_type": "display_data"
    },
    {
     "data": {
      "application/vnd.jupyter.widget-view+json": {
       "model_id": "ee935866ed8945828e4504bd873176f7",
       "version_major": 2,
       "version_minor": 0
      },
      "text/plain": [
       "  0%|          | 0/50 [00:00<?, ?it/s]"
      ]
     },
     "metadata": {},
     "output_type": "display_data"
    },
    {
     "data": {
      "application/vnd.jupyter.widget-view+json": {
       "model_id": "5fab153d970d4e8e934e58f1d12baeb1",
       "version_major": 2,
       "version_minor": 0
      },
      "text/plain": [
       "  0%|          | 0/50 [00:00<?, ?it/s]"
      ]
     },
     "metadata": {},
     "output_type": "display_data"
    },
    {
     "data": {
      "application/vnd.jupyter.widget-view+json": {
       "model_id": "cab9d4f022624ca4991f00c2d1d61983",
       "version_major": 2,
       "version_minor": 0
      },
      "text/plain": [
       "  0%|          | 0/50 [00:00<?, ?it/s]"
      ]
     },
     "metadata": {},
     "output_type": "display_data"
    },
    {
     "data": {
      "application/vnd.jupyter.widget-view+json": {
       "model_id": "3c089bcca8c14e649e2f51420f225896",
       "version_major": 2,
       "version_minor": 0
      },
      "text/plain": [
       "  0%|          | 0/75 [00:00<?, ?it/s]"
      ]
     },
     "metadata": {},
     "output_type": "display_data"
    },
    {
     "data": {
      "application/vnd.jupyter.widget-view+json": {
       "model_id": "f13b26158ca141e0ad95cc21bf46f042",
       "version_major": 2,
       "version_minor": 0
      },
      "text/plain": [
       "  0%|          | 0/75 [00:00<?, ?it/s]"
      ]
     },
     "metadata": {},
     "output_type": "display_data"
    },
    {
     "data": {
      "application/vnd.jupyter.widget-view+json": {
       "model_id": "1440ef8433c74892ac9876c6d38302e6",
       "version_major": 2,
       "version_minor": 0
      },
      "text/plain": [
       "  0%|          | 0/75 [00:00<?, ?it/s]"
      ]
     },
     "metadata": {},
     "output_type": "display_data"
    },
    {
     "data": {
      "application/vnd.jupyter.widget-view+json": {
       "model_id": "b0f9e09043784684ac4f2e54c72f0d87",
       "version_major": 2,
       "version_minor": 0
      },
      "text/plain": [
       "  0%|          | 0/100 [00:00<?, ?it/s]"
      ]
     },
     "metadata": {},
     "output_type": "display_data"
    },
    {
     "data": {
      "application/vnd.jupyter.widget-view+json": {
       "model_id": "84108ff6819c49f6a680791c7d502f6a",
       "version_major": 2,
       "version_minor": 0
      },
      "text/plain": [
       "  0%|          | 0/100 [00:00<?, ?it/s]"
      ]
     },
     "metadata": {},
     "output_type": "display_data"
    },
    {
     "data": {
      "application/vnd.jupyter.widget-view+json": {
       "model_id": "0d44ba64e4274a1397bd6dd89a2940db",
       "version_major": 2,
       "version_minor": 0
      },
      "text/plain": [
       "  0%|          | 0/100 [00:00<?, ?it/s]"
      ]
     },
     "metadata": {},
     "output_type": "display_data"
    },
    {
     "data": {
      "application/vnd.jupyter.widget-view+json": {
       "model_id": "d39f734d76cb488f80a14a763dd903fb",
       "version_major": 2,
       "version_minor": 0
      },
      "text/plain": [
       "  0%|          | 0/50 [00:00<?, ?it/s]"
      ]
     },
     "metadata": {},
     "output_type": "display_data"
    },
    {
     "data": {
      "application/vnd.jupyter.widget-view+json": {
       "model_id": "de1f43a4f806409b9a6a7c0c5fdfb77e",
       "version_major": 2,
       "version_minor": 0
      },
      "text/plain": [
       "  0%|          | 0/50 [00:00<?, ?it/s]"
      ]
     },
     "metadata": {},
     "output_type": "display_data"
    },
    {
     "data": {
      "application/vnd.jupyter.widget-view+json": {
       "model_id": "83e4256c34b841a08e5a35bc102147d0",
       "version_major": 2,
       "version_minor": 0
      },
      "text/plain": [
       "  0%|          | 0/50 [00:00<?, ?it/s]"
      ]
     },
     "metadata": {},
     "output_type": "display_data"
    },
    {
     "data": {
      "application/vnd.jupyter.widget-view+json": {
       "model_id": "81cdf0558f604ea290aecbe788677b7d",
       "version_major": 2,
       "version_minor": 0
      },
      "text/plain": [
       "  0%|          | 0/75 [00:00<?, ?it/s]"
      ]
     },
     "metadata": {},
     "output_type": "display_data"
    },
    {
     "data": {
      "application/vnd.jupyter.widget-view+json": {
       "model_id": "23bf9d3bffbc47c6a596e5406d8852a6",
       "version_major": 2,
       "version_minor": 0
      },
      "text/plain": [
       "  0%|          | 0/75 [00:00<?, ?it/s]"
      ]
     },
     "metadata": {},
     "output_type": "display_data"
    },
    {
     "data": {
      "application/vnd.jupyter.widget-view+json": {
       "model_id": "2522ff00cc57462eb7222bf0ff8e0e63",
       "version_major": 2,
       "version_minor": 0
      },
      "text/plain": [
       "  0%|          | 0/75 [00:00<?, ?it/s]"
      ]
     },
     "metadata": {},
     "output_type": "display_data"
    },
    {
     "data": {
      "application/vnd.jupyter.widget-view+json": {
       "model_id": "5cafad81222e4f2ca35cc67f82f3a319",
       "version_major": 2,
       "version_minor": 0
      },
      "text/plain": [
       "  0%|          | 0/100 [00:00<?, ?it/s]"
      ]
     },
     "metadata": {},
     "output_type": "display_data"
    },
    {
     "data": {
      "application/vnd.jupyter.widget-view+json": {
       "model_id": "f99623e505ce4fafb4a19ddcbb56d5d9",
       "version_major": 2,
       "version_minor": 0
      },
      "text/plain": [
       "  0%|          | 0/100 [00:00<?, ?it/s]"
      ]
     },
     "metadata": {},
     "output_type": "display_data"
    },
    {
     "data": {
      "application/vnd.jupyter.widget-view+json": {
       "model_id": "bdce62ab8b6f4644971b1c6521ef8719",
       "version_major": 2,
       "version_minor": 0
      },
      "text/plain": [
       "  0%|          | 0/100 [00:00<?, ?it/s]"
      ]
     },
     "metadata": {},
     "output_type": "display_data"
    },
    {
     "data": {
      "application/vnd.jupyter.widget-view+json": {
       "model_id": "7fbd50ea82c140cfb4900451efc2bd28",
       "version_major": 2,
       "version_minor": 0
      },
      "text/plain": [
       "  0%|          | 0/50 [00:00<?, ?it/s]"
      ]
     },
     "metadata": {},
     "output_type": "display_data"
    },
    {
     "data": {
      "application/vnd.jupyter.widget-view+json": {
       "model_id": "d41589061c544823923965939efca5cc",
       "version_major": 2,
       "version_minor": 0
      },
      "text/plain": [
       "  0%|          | 0/50 [00:00<?, ?it/s]"
      ]
     },
     "metadata": {},
     "output_type": "display_data"
    },
    {
     "data": {
      "application/vnd.jupyter.widget-view+json": {
       "model_id": "67b04eb4cf534bccb08ab7fa12bc5de1",
       "version_major": 2,
       "version_minor": 0
      },
      "text/plain": [
       "  0%|          | 0/50 [00:00<?, ?it/s]"
      ]
     },
     "metadata": {},
     "output_type": "display_data"
    },
    {
     "data": {
      "application/vnd.jupyter.widget-view+json": {
       "model_id": "381bd0f34b3e42e7bc8a6b85dce5d846",
       "version_major": 2,
       "version_minor": 0
      },
      "text/plain": [
       "  0%|          | 0/75 [00:00<?, ?it/s]"
      ]
     },
     "metadata": {},
     "output_type": "display_data"
    },
    {
     "data": {
      "application/vnd.jupyter.widget-view+json": {
       "model_id": "0f3205ef03524d3a8c779ca9924a01c6",
       "version_major": 2,
       "version_minor": 0
      },
      "text/plain": [
       "  0%|          | 0/75 [00:00<?, ?it/s]"
      ]
     },
     "metadata": {},
     "output_type": "display_data"
    },
    {
     "data": {
      "application/vnd.jupyter.widget-view+json": {
       "model_id": "d7b3423413054cc1966dbbf687869d02",
       "version_major": 2,
       "version_minor": 0
      },
      "text/plain": [
       "  0%|          | 0/75 [00:00<?, ?it/s]"
      ]
     },
     "metadata": {},
     "output_type": "display_data"
    },
    {
     "data": {
      "application/vnd.jupyter.widget-view+json": {
       "model_id": "47e9901915824a94978ed4fdcd015796",
       "version_major": 2,
       "version_minor": 0
      },
      "text/plain": [
       "  0%|          | 0/100 [00:00<?, ?it/s]"
      ]
     },
     "metadata": {},
     "output_type": "display_data"
    },
    {
     "data": {
      "application/vnd.jupyter.widget-view+json": {
       "model_id": "6bc61f0256904a50a298f12b483b5e36",
       "version_major": 2,
       "version_minor": 0
      },
      "text/plain": [
       "  0%|          | 0/100 [00:00<?, ?it/s]"
      ]
     },
     "metadata": {},
     "output_type": "display_data"
    },
    {
     "data": {
      "application/vnd.jupyter.widget-view+json": {
       "model_id": "123a0570d687430595bedf6b66162d8c",
       "version_major": 2,
       "version_minor": 0
      },
      "text/plain": [
       "  0%|          | 0/100 [00:00<?, ?it/s]"
      ]
     },
     "metadata": {},
     "output_type": "display_data"
    },
    {
     "data": {
      "application/vnd.jupyter.widget-view+json": {
       "model_id": "aca1c357fbfe443ea22fe81e2106019b",
       "version_major": 2,
       "version_minor": 0
      },
      "text/plain": [
       "  0%|          | 0/50 [00:00<?, ?it/s]"
      ]
     },
     "metadata": {},
     "output_type": "display_data"
    },
    {
     "data": {
      "application/vnd.jupyter.widget-view+json": {
       "model_id": "95b78bfbb05542b3b7b5a3e87d9ec759",
       "version_major": 2,
       "version_minor": 0
      },
      "text/plain": [
       "  0%|          | 0/50 [00:00<?, ?it/s]"
      ]
     },
     "metadata": {},
     "output_type": "display_data"
    },
    {
     "data": {
      "application/vnd.jupyter.widget-view+json": {
       "model_id": "8ca70d70ae7146638807033406388cb2",
       "version_major": 2,
       "version_minor": 0
      },
      "text/plain": [
       "  0%|          | 0/50 [00:00<?, ?it/s]"
      ]
     },
     "metadata": {},
     "output_type": "display_data"
    },
    {
     "data": {
      "application/vnd.jupyter.widget-view+json": {
       "model_id": "9cc73d6e477d49ec808ce60e53d69b0c",
       "version_major": 2,
       "version_minor": 0
      },
      "text/plain": [
       "  0%|          | 0/75 [00:00<?, ?it/s]"
      ]
     },
     "metadata": {},
     "output_type": "display_data"
    },
    {
     "data": {
      "application/vnd.jupyter.widget-view+json": {
       "model_id": "9448903defd5474c88abb0e9ef4cbc22",
       "version_major": 2,
       "version_minor": 0
      },
      "text/plain": [
       "  0%|          | 0/75 [00:00<?, ?it/s]"
      ]
     },
     "metadata": {},
     "output_type": "display_data"
    },
    {
     "data": {
      "application/vnd.jupyter.widget-view+json": {
       "model_id": "7d134721b564490db89b6cb30f83a093",
       "version_major": 2,
       "version_minor": 0
      },
      "text/plain": [
       "  0%|          | 0/75 [00:00<?, ?it/s]"
      ]
     },
     "metadata": {},
     "output_type": "display_data"
    }
   ],
   "source": [
    "grid_results = gridsearch_als(grid)"
   ]
  },
  {
   "cell_type": "code",
   "execution_count": 248,
   "id": "1047f4e5",
   "metadata": {},
   "outputs": [],
   "source": [
    "grid_results.to_csv('params.csv')"
   ]
  },
  {
   "cell_type": "code",
   "execution_count": 221,
   "id": "4e5329b4",
   "metadata": {
    "scrolled": true
   },
   "outputs": [
    {
     "data": {
      "text/html": [
       "<div>\n",
       "<style scoped>\n",
       "    .dataframe tbody tr th:only-of-type {\n",
       "        vertical-align: middle;\n",
       "    }\n",
       "\n",
       "    .dataframe tbody tr th {\n",
       "        vertical-align: top;\n",
       "    }\n",
       "\n",
       "    .dataframe thead th {\n",
       "        text-align: right;\n",
       "    }\n",
       "</style>\n",
       "<table border=\"1\" class=\"dataframe\">\n",
       "  <thead>\n",
       "    <tr style=\"text-align: right;\">\n",
       "      <th></th>\n",
       "      <th>Factors</th>\n",
       "      <th>Regularization</th>\n",
       "      <th>Iteration</th>\n",
       "      <th>alpha</th>\n",
       "      <th>P@K</th>\n",
       "      <th>MAP@K</th>\n",
       "      <th>NDCG@K</th>\n",
       "      <th>AUC@K</th>\n",
       "    </tr>\n",
       "  </thead>\n",
       "  <tbody>\n",
       "    <tr>\n",
       "      <th>47</th>\n",
       "      <td>10</td>\n",
       "      <td>0.10</td>\n",
       "      <td>75</td>\n",
       "      <td>60</td>\n",
       "      <td>0.165091</td>\n",
       "      <td>0.052673</td>\n",
       "      <td>0.096149</td>\n",
       "      <td>0.582294</td>\n",
       "    </tr>\n",
       "    <tr>\n",
       "      <th>63</th>\n",
       "      <td>10</td>\n",
       "      <td>0.01</td>\n",
       "      <td>75</td>\n",
       "      <td>60</td>\n",
       "      <td>0.161941</td>\n",
       "      <td>0.051783</td>\n",
       "      <td>0.094654</td>\n",
       "      <td>0.579990</td>\n",
       "    </tr>\n",
       "    <tr>\n",
       "      <th>50</th>\n",
       "      <td>10</td>\n",
       "      <td>0.01</td>\n",
       "      <td>10</td>\n",
       "      <td>40</td>\n",
       "      <td>0.161311</td>\n",
       "      <td>0.058867</td>\n",
       "      <td>0.101609</td>\n",
       "      <td>0.582347</td>\n",
       "    </tr>\n",
       "    <tr>\n",
       "      <th>14</th>\n",
       "      <td>10</td>\n",
       "      <td>1.00</td>\n",
       "      <td>75</td>\n",
       "      <td>40</td>\n",
       "      <td>0.160681</td>\n",
       "      <td>0.053831</td>\n",
       "      <td>0.096934</td>\n",
       "      <td>0.581091</td>\n",
       "    </tr>\n",
       "    <tr>\n",
       "      <th>1</th>\n",
       "      <td>10</td>\n",
       "      <td>1.00</td>\n",
       "      <td>10</td>\n",
       "      <td>15</td>\n",
       "      <td>0.160681</td>\n",
       "      <td>0.051685</td>\n",
       "      <td>0.094968</td>\n",
       "      <td>0.578882</td>\n",
       "    </tr>\n",
       "    <tr>\n",
       "      <th>...</th>\n",
       "      <td>...</td>\n",
       "      <td>...</td>\n",
       "      <td>...</td>\n",
       "      <td>...</td>\n",
       "      <td>...</td>\n",
       "      <td>...</td>\n",
       "      <td>...</td>\n",
       "      <td>...</td>\n",
       "    </tr>\n",
       "    <tr>\n",
       "      <th>235</th>\n",
       "      <td>100</td>\n",
       "      <td>0.10</td>\n",
       "      <td>50</td>\n",
       "      <td>60</td>\n",
       "      <td>0.129805</td>\n",
       "      <td>0.057763</td>\n",
       "      <td>0.091432</td>\n",
       "      <td>0.566779</td>\n",
       "    </tr>\n",
       "    <tr>\n",
       "      <th>206</th>\n",
       "      <td>100</td>\n",
       "      <td>1.00</td>\n",
       "      <td>75</td>\n",
       "      <td>40</td>\n",
       "      <td>0.128544</td>\n",
       "      <td>0.056881</td>\n",
       "      <td>0.091341</td>\n",
       "      <td>0.567603</td>\n",
       "    </tr>\n",
       "    <tr>\n",
       "      <th>255</th>\n",
       "      <td>100</td>\n",
       "      <td>0.01</td>\n",
       "      <td>75</td>\n",
       "      <td>60</td>\n",
       "      <td>0.127914</td>\n",
       "      <td>0.058619</td>\n",
       "      <td>0.091542</td>\n",
       "      <td>0.566146</td>\n",
       "    </tr>\n",
       "    <tr>\n",
       "      <th>207</th>\n",
       "      <td>100</td>\n",
       "      <td>1.00</td>\n",
       "      <td>75</td>\n",
       "      <td>60</td>\n",
       "      <td>0.126024</td>\n",
       "      <td>0.059046</td>\n",
       "      <td>0.091733</td>\n",
       "      <td>0.565739</td>\n",
       "    </tr>\n",
       "    <tr>\n",
       "      <th>254</th>\n",
       "      <td>100</td>\n",
       "      <td>0.01</td>\n",
       "      <td>75</td>\n",
       "      <td>40</td>\n",
       "      <td>0.126024</td>\n",
       "      <td>0.056990</td>\n",
       "      <td>0.090042</td>\n",
       "      <td>0.565601</td>\n",
       "    </tr>\n",
       "  </tbody>\n",
       "</table>\n",
       "<p>256 rows × 8 columns</p>\n",
       "</div>"
      ],
      "text/plain": [
       "     Factors  Regularization  Iteration  alpha       P@K     MAP@K    NDCG@K  \\\n",
       "47        10            0.10         75     60  0.165091  0.052673  0.096149   \n",
       "63        10            0.01         75     60  0.161941  0.051783  0.094654   \n",
       "50        10            0.01         10     40  0.161311  0.058867  0.101609   \n",
       "14        10            1.00         75     40  0.160681  0.053831  0.096934   \n",
       "1         10            1.00         10     15  0.160681  0.051685  0.094968   \n",
       "..       ...             ...        ...    ...       ...       ...       ...   \n",
       "235      100            0.10         50     60  0.129805  0.057763  0.091432   \n",
       "206      100            1.00         75     40  0.128544  0.056881  0.091341   \n",
       "255      100            0.01         75     60  0.127914  0.058619  0.091542   \n",
       "207      100            1.00         75     60  0.126024  0.059046  0.091733   \n",
       "254      100            0.01         75     40  0.126024  0.056990  0.090042   \n",
       "\n",
       "        AUC@K  \n",
       "47   0.582294  \n",
       "63   0.579990  \n",
       "50   0.582347  \n",
       "14   0.581091  \n",
       "1    0.578882  \n",
       "..        ...  \n",
       "235  0.566779  \n",
       "206  0.567603  \n",
       "255  0.566146  \n",
       "207  0.565739  \n",
       "254  0.565601  \n",
       "\n",
       "[256 rows x 8 columns]"
      ]
     },
     "execution_count": 221,
     "metadata": {},
     "output_type": "execute_result"
    }
   ],
   "source": [
    "grid_results.sort_values(by=['P@K','NDCG@K'], ascending = False)"
   ]
  },
  {
   "cell_type": "code",
   "execution_count": null,
   "id": "35a33378",
   "metadata": {},
   "outputs": [],
   "source": []
  }
 ],
 "metadata": {
  "kernelspec": {
   "display_name": "Python 3",
   "language": "python",
   "name": "python3"
  },
  "language_info": {
   "codemirror_mode": {
    "name": "ipython",
    "version": 3
   },
   "file_extension": ".py",
   "mimetype": "text/x-python",
   "name": "python",
   "nbconvert_exporter": "python",
   "pygments_lexer": "ipython3",
   "version": "3.9.7"
  },
  "toc": {
   "base_numbering": 1,
   "nav_menu": {
    "height": "315.996px",
    "width": "597.988px"
   },
   "number_sections": true,
   "sideBar": true,
   "skip_h1_title": false,
   "title_cell": "Table of Contents",
   "title_sidebar": "Contents",
   "toc_cell": false,
   "toc_position": {},
   "toc_section_display": true,
   "toc_window_display": false
  }
 },
 "nbformat": 4,
 "nbformat_minor": 5
}
