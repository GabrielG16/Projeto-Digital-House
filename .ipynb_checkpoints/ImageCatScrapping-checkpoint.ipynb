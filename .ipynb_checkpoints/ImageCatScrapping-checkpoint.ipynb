{
 "cells": [
  {
   "cell_type": "code",
   "execution_count": 13,
   "id": "e162923e",
   "metadata": {},
   "outputs": [],
   "source": [
    "import requests\n",
    "import os\n",
    "from selenium import webdriver\n",
    "from bs4 import BeautifulSoup\n",
    "import pandas as pd\n",
    "import time"
   ]
  },
  {
   "cell_type": "code",
   "execution_count": 3,
   "id": "41898e67",
   "metadata": {},
   "outputs": [],
   "source": [
    "chromedriver_path = r'/home/gabriel/Downloads/chromedriver_linux64_98/chromedriver'\n",
    "driver = webdriver.Chrome(chromedriver_path)"
   ]
  },
  {
   "cell_type": "code",
   "execution_count": 7,
   "id": "53892fb8",
   "metadata": {},
   "outputs": [],
   "source": [
    "cats = pd.read_csv(os.getcwd()+'/.csv/new_category_sample.csv') # DataFrame Informativo das categorias"
   ]
  },
  {
   "cell_type": "code",
   "execution_count": 9,
   "id": "89ccd355",
   "metadata": {},
   "outputs": [
    {
     "name": "stdout",
     "output_type": "stream",
     "text": [
      "steamers\n",
      "Ice Cream Makers\n",
      "Ice Cream Makers\n",
      "Home page\n",
      "Home page\n",
      "Home page\n",
      "Hoods\n",
      "kettle\n",
      "kettle\n",
      "Books & Audio Books\n"
     ]
    }
   ],
   "source": [
    "for i in cats.Translate[:10]:\n",
    "    print(i)"
   ]
  },
  {
   "cell_type": "code",
   "execution_count": 11,
   "id": "e604f021",
   "metadata": {},
   "outputs": [],
   "source": [
    "lista = []\n",
    "driver = webdriver.Chrome(chromedriver_path)\n",
    "for cat in cats.Translate:\n",
    "    search_url = 'https://www.google.com.br/search?q='+cat+'&tbm=isch&ved=2ahUKEwjLponF-JH2AhVTOLkGHSoQDNYQ2-cCegQIABAA&oq=abc&gs_lcp=CgNpbWcQAzIICAAQgAQQsQMyCAgAEIAEELEDMggIABCABBCxAzIICAAQgAQQsQMyBQgAEIAEMggIABCABBCxAzIICAAQgAQQsQMyBQgAEIAEMgUIABCABDILCAAQgAQQsQMQgwE6BwgjEO8DECc6BggAEAcQHjoGCAAQCBAeOggIABCxAxCDAToECAAQQ1CVI1ilJWCpJ2gAcAB4AIABigGIAe0DkgEDMC40mAEAoAEBqgELZ3dzLXdpei1pbWfAAQE&sclient=img&ei=Kx8UYovlMdPw5OUPqqCwsA0&bih=602&biw=1294'\n",
    "    driver.get(search_url)\n",
    "    driver.execute_script(\"window.scrollTo(0,0);\")\n",
    "    image_element = driver.find_element_by_xpath('//*[@id=\"islrg\"]/div[1]/div[1]/a[1]/div[1]/img')\n",
    "    previewing = image_element.get_attribute(\"src\")\n",
    "    time.sleep(3)\n",
    "    lista.append(previewing)\n",
    "\n",
    "# page_html = driver.page_source\n",
    "# pageSoup = BeautifulSoup(page_html, 'html_parser')\n",
    "\n",
    "# containers = pageSoup.findAll('div', {'class':'isv-r PNCib MSM1fd BUooTd'})\n",
    "\n",
    "# len_containers = len(container)"
   ]
  },
  {
   "cell_type": "code",
   "execution_count": 12,
   "id": "44e17bbc",
   "metadata": {},
   "outputs": [
    {
     "data": {
      "text/plain": [
       "[]"
      ]
     },
     "execution_count": 12,
     "metadata": {},
     "output_type": "execute_result"
    }
   ],
   "source": []
  },
  {
   "cell_type": "code",
   "execution_count": null,
   "id": "982c9bb3",
   "metadata": {},
   "outputs": [],
   "source": [
    "driver = webdriver.Chrome(chromedriver_path)\n",
    "\n",
    "search_url = 'https://www.google.com.br/search?q='+cat+'&tbm=isch&ved=2ahUKEwjLponF-JH2AhVTOLkGHSoQDNYQ2-cCegQIABAA&oq=abc&gs_lcp=CgNpbWcQAzIICAAQgAQQsQMyCAgAEIAEELEDMggIABCABBCxAzIICAAQgAQQsQMyBQgAEIAEMggIABCABBCxAzIICAAQgAQQsQMyBQgAEIAEMgUIABCABDILCAAQgAQQsQMQgwE6BwgjEO8DECc6BggAEAcQHjoGCAAQCBAeOggIABCxAxCDAToECAAQQ1CVI1ilJWCpJ2gAcAB4AIABigGIAe0DkgEDMC40mAEAoAEBqgELZ3dzLXdpei1pbWfAAQE&sclient=img&ei=Kx8UYovlMdPw5OUPqqCwsA0&bih=602&biw=1294'\n",
    "driver.get(search_url)\n",
    "image_element = driver.find_element_by_xpath('//*[@id=\"islrg\"]/div[1]/div[1]/a[1]/div[1]/img')\n",
    "previewimg = image_element.get_attribute(\"src\")"
   ]
  }
 ],
 "metadata": {
  "kernelspec": {
   "display_name": "Python 3",
   "language": "python",
   "name": "python3"
  },
  "language_info": {
   "codemirror_mode": {
    "name": "ipython",
    "version": 3
   },
   "file_extension": ".py",
   "mimetype": "text/x-python",
   "name": "python",
   "nbconvert_exporter": "python",
   "pygments_lexer": "ipython3",
   "version": "3.9.7"
  }
 },
 "nbformat": 4,
 "nbformat_minor": 5
}
