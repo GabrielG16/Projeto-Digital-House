{
 "cells": [
  {
   "cell_type": "markdown",
   "id": "a5d8b48b-ad73-4af9-827b-555021d2fc1d",
   "metadata": {},
   "source": [
    "# KASSANDR - GRUPO 5\n",
    "- Participantes:\n",
    "    - Elias Tolentino\n",
    "    - Gabriel Guedes"
   ]
  },
  {
   "cell_type": "markdown",
   "id": "4ffc4f3c-9f59-41c7-aa13-a98350761cfb",
   "metadata": {},
   "source": [
    "+ KASANDR é uma coleção de dados para sistema de recomendações que recorda o comportamento dos clientes do site de e-commerce Kelkoo na Europa nos países: Alemanha, França e Itália.\n",
    "+ Foi usado um sample de 1mi de linhas dos clientes da alemanha para modelagem e analise desta apresentação"
   ]
  },
  {
   "cell_type": "code",
   "execution_count": null,
   "id": "9a9a28e8-0e05-45c9-8ff9-f0c9e5914293",
   "metadata": {},
   "outputs": [],
   "source": [
    "#IMPORT DE BIBLIOTECAS\n",
    "\n",
    "import pandas as pd\n",
    "import numpy as np\n",
    "from matplotlib import pyplot as plt\n",
    "import seaborn as sns\n",
    "from scipy.sparse import csr_matrix"
   ]
  },
  {
   "cell_type": "code",
   "execution_count": null,
   "id": "2399fecf-e60e-42b6-9e1f-d7f5de66c9a7",
   "metadata": {},
   "outputs": [],
   "source": [
    "df_de_cat = pd.read_csv('category_de.txt') # DataFrame Informativo das categorias"
   ]
  },
  {
   "cell_type": "code",
   "execution_count": null,
   "id": "c5e76baf-dc3f-4aef-9e59-d787ffb08df5",
   "metadata": {},
   "outputs": [],
   "source": [
    "df_de_cat.head()"
   ]
  },
  {
   "cell_type": "markdown",
   "id": "6755957d-a87a-46fe-8f5f-8b5f96e35df5",
   "metadata": {},
   "source": [
    "#### O ANCESTOR ID REÚNE, DA ESQUERDA PARA A DIREITA, ID DO PRODUTO -> HIERARQUIA DE MACROCATEGORIAS"
   ]
  },
  {
   "cell_type": "markdown",
   "id": "64dbe010-1f63-4d3a-bf0d-537627cf3e14",
   "metadata": {},
   "source": [
    "## Tratamento de clicks"
   ]
  },
  {
   "cell_type": "code",
   "execution_count": null,
   "id": "76615b0b-8a89-45a4-9cc9-ebb0f1c67224",
   "metadata": {},
   "outputs": [],
   "source": [
    "clicks_de = pd.read_csv('clicks_de_sample_2.txt', sep = ',', header=0) # df de clicks"
   ]
  },
  {
   "cell_type": "code",
   "execution_count": null,
   "id": "441d765f-d038-4387-9779-4cc06424f542",
   "metadata": {},
   "outputs": [],
   "source": [
    "clicks_de.drop(columns = ['Keywords'], axis = 1, inplace=True)\n",
    "#clicks_de['Category'] = clicks_de['Category'].astype(str)\n",
    "pontuacao_de = pd.DataFrame(clicks_de['Category'].value_counts()).reset_index()\n",
    "pontuacao_de.columns = ['Category', 'Pontuacao']\n",
    "dici = dict(zip(pontuacao_de.Category, pontuacao_de.Pontuacao))\n",
    "clicks_de['Cat_clicks'] = clicks_de['Category'].map(dici)\n",
    "clicks_de.sort_values(by='Cat_clicks', inplace = True)"
   ]
  },
  {
   "cell_type": "code",
   "execution_count": null,
   "id": "f0ed8cf7-47b0-49c4-8517-970ecb2e2899",
   "metadata": {
    "scrolled": true,
    "tags": []
   },
   "outputs": [],
   "source": [
    "## RENOMEANDO OFERTAS E USUÁRIOS\n",
    "clicks_de['#User'] = clicks_de['UserId'].map(dict(zip(clicks_de['UserId'].unique(), \n",
    "                                                                        range(len(clicks_de['UserId']))))) # Redefinindo indices para usuário apenas como numérico\n",
    "\n",
    "clicks_de['#Offer'] = clicks_de['OfferTitle'].map(dict(zip(clicks_de['OfferTitle'].unique(), \n",
    "                                                                        range(len(clicks_de['OfferTitle']))))) #  Redefinindo indices para ofertas apenas como numérico considerando o OfferTitle"
   ]
  },
  {
   "cell_type": "code",
   "execution_count": null,
   "id": "0b369b53-6d15-491f-88b8-d688a8796d07",
   "metadata": {
    "scrolled": true,
    "tags": []
   },
   "outputs": [],
   "source": [
    "clicks_de = clicks_de.merge(df_de_cat, left_on = 'Category', right_on = 'ID').drop('ID', axis = 1) # Adicionar "
   ]
  },
  {
   "cell_type": "markdown",
   "id": "6e2ee9a7-67bf-4e66-8f58-122dbea95a0b",
   "metadata": {},
   "source": [
    "## Classificação das categorias e ofertas mais buscadas"
   ]
  },
  {
   "cell_type": "code",
   "execution_count": null,
   "id": "b89a8b0e-985f-4ee1-b55d-03a1af986b76",
   "metadata": {},
   "outputs": [],
   "source": [
    "categoria_buscas = clicks_de.groupby('Name')['Name'].count() \n",
    "categoria_buscas.sort_values(ascending = False) # Categorias mais buscadas"
   ]
  },
  {
   "cell_type": "code",
   "execution_count": null,
   "id": "c11a48af-910a-41a3-a54d-e7c5e506015a",
   "metadata": {},
   "outputs": [],
   "source": [
    "produtos_buscas = clicks_de.groupby('OfferTitle')['Name'].count() \n",
    "produtos_buscas.sort_values(ascending = False) # Ofertas mais buscadas"
   ]
  },
  {
   "cell_type": "code",
   "execution_count": null,
   "id": "001430b8-a23d-40a2-82da-9915790c3a38",
   "metadata": {},
   "outputs": [],
   "source": [
    "clicks_de = clicks_de.merge(categoria_buscas, left_on = 'Name', right_index = True).drop('Name_x',axis = 1).rename({'Name_y': 'CategoryClicks'}, axis = 1) # Adição de coluna de Clicks por categoria\n",
    "clicks_de.drop(columns = 'Cat_clicks', inplace = True)"
   ]
  },
  {
   "cell_type": "code",
   "execution_count": null,
   "id": "b8cb461c-4b5e-4d70-9c8e-8da465d71fdc",
   "metadata": {
    "tags": []
   },
   "outputs": [],
   "source": [
    "clicks_de = clicks_de.merge(produtos_buscas, left_on = 'OfferTitle', right_index = True).drop('Name_x',axis = 1).rename({'Name_y': 'ProductClicks'}, axis = 1)  # Adição de coluna de clicks por produto/Offer"
   ]
  },
  {
   "cell_type": "code",
   "execution_count": null,
   "id": "d33f7788-c9a1-4a39-8012-678cf263e111",
   "metadata": {},
   "outputs": [],
   "source": [
    "clicks_de['UserClicks'] = clicks_de['UserId'].map(dict(zip(clicks_de['UserId'].value_counts().index,\n",
    "                                                           clicks_de['UserId'].value_counts().values))) #Criação de coluna com nº total de cliques do usuário"
   ]
  },
  {
   "cell_type": "code",
   "execution_count": null,
   "id": "a056a01a-748f-4bf2-a928-0044985ebb76",
   "metadata": {},
   "outputs": [],
   "source": [
    "clicks_de_filtered = clicks_de[(clicks_de.UserClicks > 10)] # Filtro de usuários com 10 ou mais Clicks"
   ]
  },
  {
   "cell_type": "code",
   "execution_count": null,
   "id": "dde76a16-b6c8-4b54-8269-8d05be41d35e",
   "metadata": {},
   "outputs": [],
   "source": [
    "clicks_de_filtered"
   ]
  },
  {
   "cell_type": "code",
   "execution_count": null,
   "id": "b0d04471-fb0c-4d17-be0b-ecddca16c608",
   "metadata": {},
   "outputs": [],
   "source": [
    "user_item_clicks = clicks_de_filtered[['#User','#Offer','UserClicks']]\n",
    "#user_item_clicks.UserClicks[user_item_clicks.UserClicks != 0] = 1\n",
    "user_item_clicks.to_csv('user_item_clicks', index = False, header = False)"
   ]
  },
  {
   "cell_type": "markdown",
   "id": "4df874c6-18fa-43db-9e65-d3b376ddccea",
   "metadata": {},
   "source": [
    "# Criação da matriz esparsa para avaliação da correlação entre usuários\n",
    "- Para o sistema de recomendação, optou-se por um sitema de filtragem colaborativa, inicialmente com a abordagem Memory-based e User-based\n",
    "- Matriz formada a partir dos usuarios nas colunas\n",
    "- Como o dataset conta apenas com os cliques do usuario, considerou-se que seria mais coerente uma analise de coerrelação avaliando a similaridade de cliques entre usuários"
   ]
  },
  {
   "cell_type": "code",
   "execution_count": null,
   "id": "c3795612-b8b6-4eb8-9964-3a9e38986bd2",
   "metadata": {
    "scrolled": true,
    "tags": []
   },
   "outputs": [],
   "source": [
    "sparse = clicks_de_filtered.pivot_table(index = '#Offer', columns = '#User', values = 'UserClicks') # Matriz criada considerando usuários nas colunas.\n",
    "sparse # Como o dataset conta apenas com os cliques dados pelo usuário, considerou-se que seria mais coerente uma análise de correlação avaliando a similaridade de clicks entre usuários"
   ]
  },
  {
   "cell_type": "code",
   "execution_count": null,
   "id": "411cabff-822e-4590-abfe-f818df9f2848",
   "metadata": {},
   "outputs": [],
   "source": [
    "sparse[sparse.isna()] = 0\n",
    "sparse[sparse != 0] = 1 # O número de clicks de um usuário em uma mesma oferta foi considerado irrelevante. Considerou-se apenas se o usuário clicou ou não na oferta."
   ]
  },
  {
   "cell_type": "code",
   "execution_count": null,
   "id": "f85b1733-b836-495f-b2d8-b0a9d081ffbc",
   "metadata": {},
   "outputs": [],
   "source": [
    "sparse.head()"
   ]
  },
  {
   "cell_type": "markdown",
   "id": "f30a3326-d9d8-47e4-bf70-cfb48f120029",
   "metadata": {},
   "source": [
    "## Dicionário de Ofertas"
   ]
  },
  {
   "cell_type": "code",
   "execution_count": null,
   "id": "38685fd9-457c-4fb4-83b8-8df894843e1c",
   "metadata": {
    "scrolled": true,
    "tags": []
   },
   "outputs": [],
   "source": [
    "clicks_de_filtered[['OfferTitle', '#Offer']] "
   ]
  },
  {
   "cell_type": "code",
   "execution_count": null,
   "id": "f0b5b0bf-c8cf-45ea-8760-31c75339a896",
   "metadata": {
    "scrolled": true,
    "tags": []
   },
   "outputs": [],
   "source": [
    "offer_title = dict(zip(clicks_de_filtered['#Offer'].unique(), clicks_de_filtered['OfferTitle'].unique())) #Criação do dicionário que relaciona o nome da oferta (OfferTitle) com o código #Offer para tradução da recomendação dada"
   ]
  },
  {
   "cell_type": "markdown",
   "id": "3ea0c62f-b4ef-4bb6-b17e-b17b3cfef2b7",
   "metadata": {},
   "source": [
    "# SELECAO DE USUARIOS PARECIDOS COM O USUARIO SELECIONADO E RECOMENDAÇÕES\n",
    "- Função que recebe o código das recomendações do usuário selecionado e retorna os nomes das ofertas (Parametro: clicks do usuário)\n",
    "- Função que calcula as recomendações para um usuário (user) qualquer e retorna o top5 de ofertas mais relevantes"
   ]
  },
  {
   "cell_type": "code",
   "execution_count": null,
   "id": "765b2391-ace2-45dd-b866-e8f9a824c700",
   "metadata": {},
   "outputs": [],
   "source": [
    "#Função que recebe o código das recomendações do usuário selecionado e retorna os nomes das ofertas, considerando os clicks do usuário (segundo parametro)\n",
    "def result_final(recom: pd.Series, clicks_selected_user): \n",
    "    print('Clicks do usuário: ')  #Função que complementa a função lista_recomendacoes()\n",
    "    for item in clicks_selected_user:\n",
    "        print(offer_title[item])\n",
    "    print(' ')\n",
    "    print('Recomendações: ')\n",
    "    for item in recom.index:\n",
    "        #print(item)\n",
    "        print(offer_title[item])"
   ]
  },
  {
   "cell_type": "code",
   "execution_count": null,
   "id": "83ce32b1-7239-4b2d-be43-cbb51eacf3d8",
   "metadata": {},
   "outputs": [],
   "source": [
    "def lista_recomendacoes(user): #Função que calcula as recomendações para um usuário user qualquer e retorna o top5 de ofertas mais relevantes\n",
    "    \n",
    "    # Seleção de usuários com maior correlação com o usuário selecionado\n",
    "    topmatch_users = (sparse.corrwith(sparse[user]).sort_values(ascending = False))[1:]\n",
    "    clicks_selected_user = clicks_de_filtered[clicks_de_filtered['#User']==user]['#Offer'].drop_duplicates().values\n",
    "    \n",
    "    # Os weights indica quanto aquele novo produto é relevante para o usuário em relação ao nível de correlação entre usuários\n",
    "    weights = topmatch_users.values\n",
    "    \n",
    "    recommendations = [] # Lista de possíveis indicações com base nos clicks dos usuários semelhantes\n",
    "    for user_id in range(len(topmatch_users[:5])): # Loop pelos usuários mais semelhantes\n",
    "        \n",
    "        if weights[user_id] < 0:\n",
    "            continue\n",
    "            \n",
    "        clicks_user = clicks_de_filtered[clicks_de_filtered['#User'] == topmatch_users.index[user_id]]['#Offer'] # Clicks de cada usuário da lista top5\n",
    "        for offer in clicks_user:  # Cliques do usuário\n",
    "            if offer in clicks_selected_user: # Se já foi um clique do usuário-alvo, não é considerado\n",
    "                pass\n",
    "            else:\n",
    "                recommendations.append((offer, weights[user_id], user_id))\n",
    "                \n",
    "    if len(recommendations) == 0: # Caso só existam correlações negativas\n",
    "        print(\"Recomendações não foram possíveis\")\n",
    "        return\n",
    "    \n",
    "    rec_set = pd.DataFrame(recommendations, columns = ['Offer', 'Weight', 'User']).drop_duplicates() # Dropar Duplicatas\n",
    "    top5_rec = rec_set.groupby('Offer')['Weight'].sum().sort_values(ascending = False).head() # Top5 Recomendações\n",
    "    result_final(top5_rec, clicks_selected_user)"
   ]
  },
  {
   "cell_type": "code",
   "execution_count": null,
   "id": "f3a91f3f-62b9-40cd-ad74-29caf2006bea",
   "metadata": {
    "scrolled": true,
    "tags": []
   },
   "outputs": [],
   "source": [
    "lista_recomendacoes(399566)"
   ]
  },
  {
   "cell_type": "code",
   "execution_count": null,
   "id": "f2bff92f-752f-4449-ab74-6358726e0f30",
   "metadata": {
    "scrolled": true,
    "tags": []
   },
   "outputs": [],
   "source": [
    "lista_recomendacoes(405012)"
   ]
  },
  {
   "cell_type": "code",
   "execution_count": null,
   "id": "39ffefa1-805c-4178-b9ba-5dcd6b7e4586",
   "metadata": {},
   "outputs": [],
   "source": [
    "sparse.columns"
   ]
  },
  {
   "cell_type": "markdown",
   "id": "f7dcb38d-b085-43d5-a61c-454c0803ee58",
   "metadata": {},
   "source": [
    "# Função com base na relação de cliques dos usuarios\n",
    "- Essa função usa como base a aula de Sistema de Recomendações que tivemos\n",
    "- Foi feita uma correlação de user_based para o usuario selecionado \"aleatoriamente\"\n",
    "- Passos seguidos nessa função:\n",
    "    - Dataset original foi carregado\n",
    "    - Renomeação dos usuarios e ofertas\n",
    "    - Quantificação dos cliques em categorias, usuarios e ofertas\n",
    "    - Corte minimo de numeros de cliques de categorias, usuarios e ofertas (reduzindo as linhas do dataset)\n",
    "    - Verificação quantos usuarios tem cliques parecidos com o usuario selecionado\n",
    "    - Comparação dos demais cliques desses usuarios com o usuario selecionado e recomendação de ofertas que esses usuarios clicaram que o selecionado não clicou"
   ]
  },
  {
   "cell_type": "code",
   "execution_count": null,
   "id": "4f5280a5-54f3-4717-8fd5-00461cf58650",
   "metadata": {},
   "outputs": [],
   "source": [
    "import pandas as pd\n",
    "import random\n",
    "\n",
    "def recomendacao_usuario(path, usuario = 'n',\n",
    "                         thr_pontuacao_categoria = 10000,\n",
    "                         thr_pontuacao_oferta = 20,\n",
    "                         thr_clicks_usuarios = 50,\n",
    "                        thr_comparacao_usuario_a_usuario = 20,\n",
    "                        random_seed = 42):\n",
    "    \n",
    "    clicks_de = pd.read_csv(path) #carregando o dataframe\n",
    "    clicks_de.drop(columns = ['Keywords'], axis = 1, inplace=True) #dropando coluna que não será utilizada agora\n",
    "    #clicks_de['Category'] = clicks_de['Category'].astype(str) #transformando o tipo da coluna em string\n",
    "    pontuacao_de = pd.DataFrame(clicks_de['Category'].value_counts()).reset_index() #fazendo a pontuação total das categorias\n",
    "    pontuacao_de.columns = ['Category', 'Pontuacao'] #renomeando as colunas da pontuação\n",
    "\n",
    "    dici = dict(zip(pontuacao_de.Category, pontuacao_de.Pontuacao)) #transformando em um dicionario para mapear em seguida\n",
    "    clicks_de['pontuacao'] = clicks_de['Category'].map(dici)\n",
    "    clicks_de.sort_values(by='pontuacao', inplace = True)\n",
    "\n",
    "    lista = []\n",
    "    count = 0\n",
    "    lista_ids = []\n",
    "\n",
    "\n",
    "    #renomeando os usuarios em user_1, user_2, etc...\n",
    "    for coluna in clicks_de.UserId.unique():\n",
    "        #print(coluna,'_',count)\n",
    "        #aux = 'user_' + str(count)\n",
    "        aux = count\n",
    "        #print(aux.strip())\n",
    "        lista_ids.append(coluna)\n",
    "        lista.append(aux)\n",
    "        count += 1\n",
    "\n",
    "    lista_offer = []\n",
    "    count = 0\n",
    "    lista_offer_ids = []\n",
    "\n",
    "        #renomeando as ofertas em oferta_1, oferta_2, etc...\n",
    "    for coluna in clicks_de.OfferId.unique():\n",
    "        #print(coluna,'_',count)\n",
    "        #aux = 'oferta_' + str(count)\n",
    "        aux = count\n",
    "        #print(aux.strip())\n",
    "        lista_offer_ids.append(coluna)\n",
    "        lista_offer.append(aux)\n",
    "        count += 1\n",
    "\n",
    "    #mapeando os usuarios + ofertas\n",
    "    dici_usuarios = dict(zip(lista_ids, lista))\n",
    "    dici_ofertas = dict(zip(lista_offer_ids, lista_offer))\n",
    "    clicks_de['usuarios'] = clicks_de['UserId'].map(dici_usuarios)\n",
    "    clicks_de['ofertas'] = clicks_de['OfferId'].map(dici_ofertas)\n",
    "    \n",
    "    clicks_reduzido = clicks_de.drop(columns = ['UserId','OfferId', 'CountryCode','Source','UtcDate', 'OfferViewId'])\n",
    "    clicks_reduzido = clicks_reduzido.loc[:, ['usuarios','ofertas','Category','pontuacao','OfferTitle']]\n",
    "    clicks_reduzido.columns = ['usuarios','ofertas','categoria','pontuacao_categoria','titulo_oferta']\n",
    "    \n",
    "    \n",
    "    #criando um esquema de pontuação para cada oferta, quantas vezes aquela oferta foi clicada no total\n",
    "    pontuacao_ofertas = pd.DataFrame(clicks_reduzido['ofertas'].value_counts()).reset_index()\n",
    "    pontuacao_ofertas.columns = ['ofertas','pontuacao']\n",
    "    pontuacao_ofertas = dict(zip(pontuacao_ofertas.ofertas, pontuacao_ofertas.pontuacao))\n",
    "    clicks_reduzido['pontuacao_ofertas'] = clicks_reduzido['ofertas'].map(pontuacao_ofertas)\n",
    "\n",
    "    #pontuando os clicks de usuario, quantos clicks cada usuario deu no site\n",
    "    clicks_usuario =  pd.DataFrame(clicks_reduzido.usuarios.value_counts()).reset_index()\n",
    "    clicks_usuario.columns = ['usuario','clicks']\n",
    "    clicks_usuario = dict(zip(clicks_usuario.usuario, clicks_usuario.clicks))\n",
    "    clicks_reduzido['clicks_usuario'] = clicks_reduzido['usuarios'].map(clicks_usuario)\n",
    "\n",
    "\n",
    "    #fazendo um corte de tudo, para facilitar a comparação\n",
    "\n",
    "    mask1 = clicks_reduzido.pontuacao_categoria > thr_pontuacao_categoria\n",
    "    clicks_reduzido = clicks_reduzido.loc[mask1, :]\n",
    "    mask2 = clicks_reduzido.pontuacao_ofertas > thr_pontuacao_oferta\n",
    "    clicks_reduzido = clicks_reduzido.loc[mask2,:]\n",
    "    mask3 = clicks_reduzido.clicks_usuario > thr_clicks_usuarios\n",
    "    clicks_reduzido = clicks_reduzido.loc[mask3, :]\n",
    "    \n",
    "    sparse = clicks_reduzido.pivot_table(values='clicks_usuario',index='usuarios',columns='ofertas').T\n",
    "\n",
    "    sparse[sparse.isna()] = 0\n",
    "    sparse[sparse != 0] = 1\n",
    "\n",
    "\n",
    "    sparse_user = sparse.T\n",
    "\n",
    "    random.seed(random_seed)\n",
    "    if usuario == 'n':\n",
    "        #usuario = random.choice(sparse_user.T.index)\n",
    "        usuario = random.choice(clicks_reduzido.usuarios.unique())\n",
    "\n",
    "    #mostrando os itens que o usuario selecionado clicou\n",
    "    items_users = clicks_reduzido.loc[clicks_reduzido.usuarios == int(usuario),'ofertas'].dropna()\n",
    "\n",
    "    #listando todos os usuarios e guardando em uma lista que será usada no looping\n",
    "    list_of_users = clicks_reduzido.usuarios.unique().tolist()\n",
    "\n",
    "    #variavel que vai selecionar só os usuarios que tiverem mais que o numero desejado de cliques iguais. Configurado como base em 20!\n",
    "    thr_comparable = thr_comparacao_usuario_a_usuario\n",
    "\n",
    "    comparable_users = []\n",
    "\n",
    "    for user_loop in list_of_users:\n",
    "        if clicks_reduzido.loc[clicks_reduzido.usuarios == user_loop,'ofertas'].dropna().isin(items_users).sum() > thr_comparable:\n",
    "            comparable_users.append(user_loop)\n",
    "\n",
    "            \n",
    "            \n",
    "    #selecionando os 5 usuarios mais similares ao nosso usuario target\n",
    "    top5_most_similar = sparse.loc[:,comparable_users].corrwith(sparse.loc[:,usuario]).sort_values(ascending=False).index[1:6]\n",
    "\n",
    "\n",
    "    suggested_user = pd.DataFrame()\n",
    "\n",
    "\n",
    "\n",
    "    #nesse loop adicionamos todos os clicks dos usuarios parecidos que nosso usuario selecionado não tenha clicado!\n",
    "    for user in top5_most_similar:\n",
    "        #print(user)\n",
    "        clicks_user = clicks_reduzido.loc[clicks_reduzido.usuarios == user, :].dropna()\n",
    "        clicks_user = clicks_user.loc[~clicks_user.ofertas.isin(items_users)]\n",
    "        #clicks_user = clicks_user.drop_duplicates(subset = 'ofertas')\n",
    "        suggested_user = pd.concat([suggested_user, clicks_user])\n",
    "        #print(suggested_user.shape)\n",
    "\n",
    "\n",
    "\n",
    "        #fazemos uma nova pontuação, com base só nos cliques dos usuarios parecidos e retornamos um dataframe ordenado por essa pontuacao\n",
    "\n",
    "    pt = suggested_user['ofertas'].value_counts().reset_index()\n",
    "    pt.columns = ['oferta','pontuacao_ofertas_usuarios']\n",
    "    nova_pontuacao = dict(zip(pt.oferta, pt.pontuacao_ofertas_usuarios))\n",
    "    suggested_user['nova_pontuacao'] = suggested_user.ofertas.map(nova_pontuacao)\n",
    "    suggested_user.drop(columns=['pontuacao_ofertas'], inplace = True)\n",
    "    suggested_user.drop_duplicates(subset='ofertas', inplace = True)\n",
    "    suggested_user.sort_values(by='nova_pontuacao', ascending = False, inplace = True)\n",
    "\n",
    "    dicionario_ofertas_titulos = dict(zip(clicks_reduzido.ofertas, clicks_reduzido.titulo_oferta))\n",
    "    items_users = pd.DataFrame(items_users)\n",
    "    items_users['titulo_oferta'] = items_users.ofertas.map(dicionario_ofertas_titulos)\n",
    "    items_users['usuarios'] = usuario\n",
    "    #items_users = items_users.loc[:,['usuario', 'ofertas','titulo_oferta']]\n",
    "           \n",
    "    return (usuario, items_users, suggested_user)"
   ]
  },
  {
   "cell_type": "code",
   "execution_count": null,
   "id": "e8d967ac-7400-4ca6-9634-da90e07a878f",
   "metadata": {},
   "outputs": [],
   "source": [
    "%%time\n",
    "path = 'clicks_de_sample_2.txt'\n",
    "usuario, item_do_usuario, sugestoes = recomendacao_usuario(path)"
   ]
  },
  {
   "cell_type": "code",
   "execution_count": null,
   "id": "23326d07-7a3b-4bc0-81e0-62edc9fce799",
   "metadata": {},
   "outputs": [],
   "source": [
    "print('usuario selecionado: ',usuario)\n",
    "item_do_usuario.head(10)"
   ]
  },
  {
   "cell_type": "code",
   "execution_count": null,
   "id": "59db5b0f-4af4-4242-a241-224b8c181504",
   "metadata": {},
   "outputs": [],
   "source": [
    "sugestoes.head(20)"
   ]
  },
  {
   "cell_type": "markdown",
   "id": "6555420d-e282-4e94-a936-8ce9b410643e",
   "metadata": {},
   "source": [
    "# Funções para obtenção da categoria do"
   ]
  },
  {
   "cell_type": "code",
   "execution_count": null,
   "id": "e19ed221-2d7b-4ca2-83ec-ba8160e32d94",
   "metadata": {},
   "outputs": [],
   "source": [
    "## 601 é a homepage, se aplica a todos\n",
    "## Primeira separação de categorias\n",
    "    \n",
    "def categories(df_cat):\n",
    "    listados = []\n",
    "    for item in df_cat.Ancestor_ID:\n",
    "        listados.append(item.split())\n",
    "    categories = list()\n",
    "    for cats in range(1,4):\n",
    "        category = list()\n",
    "        for item in listados:\n",
    "            if len(item) == cats+1:\n",
    "                category.append(item) \n",
    "        categories.append(category)\n",
    "    return categories\n",
    "\n",
    "categories = categories(df_de_cat)"
   ]
  },
  {
   "cell_type": "code",
   "execution_count": null,
   "id": "c11d075e-6faa-416e-aae5-61d3a003d7e5",
   "metadata": {
    "scrolled": true,
    "tags": []
   },
   "outputs": [],
   "source": [
    "macro4 = categories[2]\n",
    "macro4"
   ]
  },
  {
   "cell_type": "code",
   "execution_count": null,
   "id": "59bb89ed-bcd5-4711-860c-2f680b006082",
   "metadata": {},
   "outputs": [],
   "source": [
    "df4 = pd.DataFrame(macro4)#.drop(3, axis = 1)\n",
    "df4.head()"
   ]
  },
  {
   "cell_type": "code",
   "execution_count": null,
   "id": "7d6917a8-34e0-4053-a0c6-53b1120b3966",
   "metadata": {},
   "outputs": [],
   "source": [
    "macro3 = categories[1]\n",
    "df3 = pd.DataFrame(macro3, columns=(1,2,3))\n",
    "df3.head()"
   ]
  },
  {
   "cell_type": "code",
   "execution_count": null,
   "id": "b637e834-e397-49ab-adc1-bfafcf748e82",
   "metadata": {},
   "outputs": [],
   "source": [
    "macro2 = categories[0]\n",
    "df2 = pd.DataFrame(macro2, columns = (2,3))\n",
    "df2.head()"
   ]
  },
  {
   "cell_type": "code",
   "execution_count": null,
   "id": "08e5274c-c3b2-4373-982d-5cb1af6c5b5b",
   "metadata": {
    "scrolled": true,
    "tags": []
   },
   "outputs": [],
   "source": [
    "new_df = pd.concat((df4,df3,df2), axis = 0).reset_index(drop = True)\n",
    "new_df"
   ]
  },
  {
   "cell_type": "code",
   "execution_count": null,
   "id": "1f08699a-8b87-4b42-9f83-11ec1dec9c5f",
   "metadata": {
    "scrolled": true,
    "tags": []
   },
   "outputs": [],
   "source": [
    "grupos1 = list(new_df.dropna(axis = 0).groupby(1)[0])\n",
    "grupos1"
   ]
  },
  {
   "cell_type": "code",
   "execution_count": null,
   "id": "da3b5088-b96c-4725-ad49-e850024b7e6f",
   "metadata": {
    "scrolled": true,
    "tags": []
   },
   "outputs": [],
   "source": [
    "keys = [keys[0] for keys in grupos1]\n",
    "itens = [itens[1].tolist() for itens in grupos1]\n",
    "dicio_cat1 = dict(zip(keys, itens))\n",
    "dicio_cat1"
   ]
  },
  {
   "cell_type": "code",
   "execution_count": null,
   "id": "9ced1ff8-8fbe-4b5c-b8d9-43a3b2729dbc",
   "metadata": {},
   "outputs": [],
   "source": [
    "def getcat1(produto):\n",
    "    for key, value in dicio1.items():\n",
    "        if str(produto) in value:\n",
    "            return (\"categ0: \", produto, \" categ1: \", key)\n",
    "    return False"
   ]
  },
  {
   "cell_type": "code",
   "execution_count": null,
   "id": "1d732899-bfbe-4229-9c40-73d6efef1fce",
   "metadata": {},
   "outputs": [],
   "source": [
    "getcat1('125601')"
   ]
  },
  {
   "cell_type": "code",
   "execution_count": null,
   "id": "37aed048-6b5d-45b2-838e-72f68e6ca7d6",
   "metadata": {},
   "outputs": [],
   "source": [
    "grupos2 = list(new_df.drop(0, axis = 1).dropna(axis=0).groupby(2)[1])\n",
    "keys = [keys[0] for keys in grupos2]\n",
    "itens = [itens[1].unique().tolist() for itens in grupos2]\n",
    "dicio_cat2 = dict(zip(keys, itens))"
   ]
  },
  {
   "cell_type": "code",
   "execution_count": null,
   "id": "08fd930d-b6de-4a7e-9b5c-14db9a42c939",
   "metadata": {
    "scrolled": true,
    "tags": []
   },
   "outputs": [],
   "source": [
    "dicio_cat2"
   ]
  },
  {
   "cell_type": "code",
   "execution_count": null,
   "id": "d1b1fbcc-c5cb-439f-a77c-946859e53685",
   "metadata": {},
   "outputs": [],
   "source": [
    "def getcat2(produto):\n",
    "    categoria = getcat1(produto)\n",
    "    if categoria is not False:\n",
    "        for key, value in dicio_cat2.items():\n",
    "            if str(categoria) in value:\n",
    "                return key, categoria\n",
    "        return False\n",
    "    else:\n",
    "        for key, value in dicio_cat2.items():\n",
    "            if str(produto) in value:\n",
    "                return ('categ1: ', key,' categ2: ', produto)\n",
    "        return False\n"
   ]
  },
  {
   "cell_type": "code",
   "execution_count": null,
   "id": "c6213469-454b-435f-9fef-af6712206163",
   "metadata": {},
   "outputs": [],
   "source": [
    "getcat2('173801')"
   ]
  },
  {
   "cell_type": "code",
   "execution_count": null,
   "id": "0c4a6ee9-35f6-4015-ac18-639f75a013f2",
   "metadata": {
    "scrolled": true,
    "tags": []
   },
   "outputs": [],
   "source": [
    "tradu_cat = dict(zip(df_de_cat.Ancestor_ID.tolist(), df_de_cat.Name.tolist())) # Dicionário de Tradução de categorias\n",
    "tradu_cat"
   ]
  },
  {
   "cell_type": "markdown",
   "id": "c0db4a8d-bba4-4ff3-ab62-d617eb3ee8dd",
   "metadata": {},
   "source": [
    "## Considerações:\n",
    "\n",
    "- Problema de Cold Start\n",
    "- Limitação de recomendação apenas de itens já clicados por outros usuários\n",
    "- Limitação de atributos dos usuários e produtos\n",
    "\n",
    "## Próximos Passos:\n",
    "\n",
    "- Utilizar as categorias, supercategorias e subcategorias dos itens clicados para fazer novas recomendações com base nesses agrupamentos\n",
    "- Utilizar o horário e sequencia dos clicks para fazer novas recomendações\n",
    "- Agregar previsões/recomendações a partir de algoritmos de Machine Learning (KNN, etc) ***PRIORIZAR***\n",
    "- Avaliar a clusterização de usuários para definir personas dos clientes\n",
    "- Avaliar a implementação de Ensembles (Voting Classifier) utilizando diferentes estratégias para definição das recomendações\n",
    "- Simulação com usuários aleatórios.\n"
   ]
  },
  {
   "cell_type": "code",
   "execution_count": 1,
   "id": "1cd010c6-e338-423d-8269-1f7a3c9139ff",
   "metadata": {},
   "outputs": [],
   "source": [
    "from surprise import Dataset, Reader\n",
    "import os"
   ]
  },
  {
   "cell_type": "code",
   "execution_count": 2,
   "id": "01947f8e-f03e-453f-884c-eb1ad5bc2f06",
   "metadata": {},
   "outputs": [],
   "source": [
    "reader = Reader(line_format='user item rating', sep=',', rating_scale = (0,1))"
   ]
  },
  {
   "cell_type": "code",
   "execution_count": 3,
   "id": "47a0650f-9096-4cd7-8266-ff5e4a346bec",
   "metadata": {},
   "outputs": [],
   "source": [
    "data = Dataset.load_from_file(file_path ='user_item_clicks', reader=reader)"
   ]
  },
  {
   "cell_type": "code",
   "execution_count": null,
   "id": "b3e2b902-fbbd-4b6c-9fbb-0f3d08889e45",
   "metadata": {},
   "outputs": [],
   "source": []
  }
 ],
 "metadata": {
  "kernelspec": {
   "display_name": "Python 3 (ipykernel)",
   "language": "python",
   "name": "python3"
  },
  "language_info": {
   "codemirror_mode": {
    "name": "ipython",
    "version": 3
   },
   "file_extension": ".py",
   "mimetype": "text/x-python",
   "name": "python",
   "nbconvert_exporter": "python",
   "pygments_lexer": "ipython3",
   "version": "3.10.1"
  },
  "toc-autonumbering": true
 },
 "nbformat": 4,
 "nbformat_minor": 5
}
